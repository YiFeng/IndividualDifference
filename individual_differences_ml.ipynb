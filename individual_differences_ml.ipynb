{
  "cells": [
    {
      "cell_type": "code",
      "metadata": {
        "tags": [],
        "cell_id": "00000-99eb8be9-e965-44a1-b423-adf2b6bf803e",
        "deepnote_to_be_reexecuted": false,
        "source_hash": "dc004bb7",
        "execution_millis": 222,
        "execution_start": 1617175838539,
        "deepnote_cell_type": "code"
      },
      "source": "import os.path as path\nimport raw_data_preprocessing as rdp\nimport warnings\n\nwarnings.filterwarnings('ignore')\n\ngoogledrive_loc = '/datasets/googledrive'\ndata_folder_loc = 'Yi_UCI_research/GSR other works/2020 Summer_predict individual training/data/'\nfile_name = 'raw data/yi feng larger dataset.csv'\ndata_path = path.join(googledrive_loc, data_folder_loc, file_name)\nraw_data = rdp.read_raw_data(data_path)\nprint('Used Feature columns: {}'.format(rdp.feature_col_names))\ndata_no_missing = rdp.delete_missing_row(raw_data)\n",
      "execution_count": null,
      "outputs": [
        {
          "name": "stdout",
          "text": "Used Feature columns: ['Sleep', 'SES', 'VGQHoursSumPastYear', 'CFQ', 'TCA', 'Workmastery', 'Grit', 'Ambition', 'PSS', 'Competitiveness', 'MRpre', 'IC_pre', 'WM_pre', 'Updating_acc_zscore', 'Person_extraver', 'Person_agreeable', 'Person_conscien', 'Person_emot', 'Person_opennes']\nThe sample size of raw data is 281.\nThe sample size of no missing data is 262.\n",
          "output_type": "stream"
        }
      ]
    },
    {
      "cell_type": "code",
      "metadata": {
        "tags": [],
        "cell_id": "00001-0988e835-55eb-4bad-a244-3bb35ef34437",
        "deepnote_to_be_reexecuted": false,
        "source_hash": "b6f19157",
        "execution_millis": 5334,
        "execution_start": 1617175838771,
        "deepnote_cell_type": "code"
      },
      "source": "import regressor as reg\nimport cluster as clu\nimport intervention_data_preprocessing as idp\nint_test = idp.InterventionProcessor(data_no_missing)\nint_test.basic_analyze()\npiece_lin_reg = reg.PiecewiselinRegressor(['knot', 'slope1', 'slope2'])\nint_test.register_regressor(piece_lin_reg)\nint_test.fit()\n# int_test.mark_outlier(['max', 'std'])\nkmeans_3com = clu.Kmeans(3, ['knot', 'slope1', 'slope2'])\nem_3com = clu.EM(3, ['knot', 'slope1', 'slope2'])\nint_test.register_cluster_model(em_3com)\nint_test.cluster()",
      "execution_count": null,
      "outputs": [
        {
          "name": "stdout",
          "text": "The sample size before delete crazy sub: 262\nThe sample size after delete crazy sub: 243\nThe mean r2 for <class 'regressor.PiecewiselinRegressor'> is: 0.738\nThe silhouette score of GaussianMixture(n_components=3, random_state=0) is: 0.244\nSample of each cluster: label\n0     86\n1    104\n2     53\ndtype: int64\nThe mean of each mixture component: [[-1.08199669  0.74662378  0.12813143]\n [ 0.15102369 -0.23861044  0.02514202]\n [ 1.40739074 -0.69178856 -0.2561036 ]]\n",
          "output_type": "stream"
        }
      ]
    },
    {
      "cell_type": "code",
      "metadata": {
        "tags": [],
        "cell_id": "00003-4b9ae7bb-8a1b-4987-8f18-952876f6b219",
        "deepnote_to_be_reexecuted": false,
        "source_hash": "c74b26ea",
        "execution_millis": 294,
        "execution_start": 1617175844105,
        "deepnote_cell_type": "code"
      },
      "source": "int_test.data",
      "execution_count": null,
      "outputs": [
        {
          "output_type": "execute_result",
          "execution_count": 3,
          "data": {
            "application/vnd.deepnote.dataframe.v2+json": {
              "row_count": 243,
              "column_count": 20,
              "columns": [
                {
                  "name": "ID",
                  "dtype": "object",
                  "stats": {
                    "unique_count": 243,
                    "nan_count": 0,
                    "categories": [
                      {
                        "name": "RGTA104",
                        "count": 1
                      },
                      {
                        "name": "RGTA107",
                        "count": 1
                      },
                      {
                        "name": "241 others",
                        "count": 241
                      }
                    ]
                  }
                },
                {
                  "name": "WmeanN_1",
                  "dtype": "float64",
                  "stats": {
                    "unique_count": 238,
                    "nan_count": 0,
                    "min": 1,
                    "max": 6.437837838,
                    "histogram": [
                      {
                        "bin_start": 1,
                        "bin_end": 1.5437837838,
                        "count": 28
                      },
                      {
                        "bin_start": 1.5437837838,
                        "bin_end": 2.0875675676,
                        "count": 53
                      },
                      {
                        "bin_start": 2.0875675676,
                        "bin_end": 2.6313513514,
                        "count": 84
                      },
                      {
                        "bin_start": 2.6313513514,
                        "bin_end": 3.1751351352,
                        "count": 43
                      },
                      {
                        "bin_start": 3.1751351352,
                        "bin_end": 3.718918919,
                        "count": 17
                      },
                      {
                        "bin_start": 3.718918919,
                        "bin_end": 4.2627027028,
                        "count": 8
                      },
                      {
                        "bin_start": 4.2627027028,
                        "bin_end": 4.806486486600001,
                        "count": 4
                      },
                      {
                        "bin_start": 4.806486486600001,
                        "bin_end": 5.3502702704,
                        "count": 3
                      },
                      {
                        "bin_start": 5.3502702704,
                        "bin_end": 5.894054054200001,
                        "count": 2
                      },
                      {
                        "bin_start": 5.894054054200001,
                        "bin_end": 6.437837838,
                        "count": 1
                      }
                    ]
                  }
                },
                {
                  "name": "WmeanN_2",
                  "dtype": "float64",
                  "stats": {
                    "unique_count": 230,
                    "nan_count": 0,
                    "min": 1,
                    "max": 8.166917293,
                    "histogram": [
                      {
                        "bin_start": 1,
                        "bin_end": 1.7166917293,
                        "count": 6
                      },
                      {
                        "bin_start": 1.7166917293,
                        "bin_end": 2.4333834586,
                        "count": 53
                      },
                      {
                        "bin_start": 2.4333834586,
                        "bin_end": 3.1500751878999997,
                        "count": 97
                      },
                      {
                        "bin_start": 3.1500751878999997,
                        "bin_end": 3.8667669171999997,
                        "count": 53
                      },
                      {
                        "bin_start": 3.8667669171999997,
                        "bin_end": 4.5834586465,
                        "count": 19
                      },
                      {
                        "bin_start": 4.5834586465,
                        "bin_end": 5.3001503757999995,
                        "count": 5
                      },
                      {
                        "bin_start": 5.3001503757999995,
                        "bin_end": 6.016842105099999,
                        "count": 6
                      },
                      {
                        "bin_start": 6.016842105099999,
                        "bin_end": 6.733533834399999,
                        "count": 1
                      },
                      {
                        "bin_start": 6.733533834399999,
                        "bin_end": 7.450225563699999,
                        "count": 1
                      },
                      {
                        "bin_start": 7.450225563699999,
                        "bin_end": 8.166917293,
                        "count": 2
                      }
                    ]
                  }
                },
                {
                  "name": "WmeanN_3",
                  "dtype": "float64",
                  "stats": {
                    "unique_count": 233,
                    "nan_count": 0,
                    "min": 1.061452514,
                    "max": 9.920367534,
                    "histogram": [
                      {
                        "bin_start": 1.061452514,
                        "bin_end": 1.9473440160000002,
                        "count": 2
                      },
                      {
                        "bin_start": 1.9473440160000002,
                        "bin_end": 2.8332355180000004,
                        "count": 92
                      },
                      {
                        "bin_start": 2.8332355180000004,
                        "bin_end": 3.71912702,
                        "count": 83
                      },
                      {
                        "bin_start": 3.71912702,
                        "bin_end": 4.605018522,
                        "count": 41
                      },
                      {
                        "bin_start": 4.605018522,
                        "bin_end": 5.490910024000001,
                        "count": 11
                      },
                      {
                        "bin_start": 5.490910024000001,
                        "bin_end": 6.376801526,
                        "count": 10
                      },
                      {
                        "bin_start": 6.376801526,
                        "bin_end": 7.262693028000001,
                        "count": 1
                      },
                      {
                        "bin_start": 7.262693028000001,
                        "bin_end": 8.14858453,
                        "count": 1
                      },
                      {
                        "bin_start": 8.14858453,
                        "bin_end": 9.034476032,
                        "count": 0
                      },
                      {
                        "bin_start": 9.034476032,
                        "bin_end": 9.920367534,
                        "count": 2
                      }
                    ]
                  }
                },
                {
                  "name": "WmeanN_4",
                  "dtype": "float64",
                  "stats": {
                    "unique_count": 231,
                    "nan_count": 0,
                    "min": 1.230366492,
                    "max": 8.895125554,
                    "histogram": [
                      {
                        "bin_start": 1.230366492,
                        "bin_end": 1.9968423981999999,
                        "count": 1
                      },
                      {
                        "bin_start": 1.9968423981999999,
                        "bin_end": 2.7633183044,
                        "count": 68
                      },
                      {
                        "bin_start": 2.7633183044,
                        "bin_end": 3.5297942105999995,
                        "count": 68
                      },
                      {
                        "bin_start": 3.5297942105999995,
                        "bin_end": 4.2962701168,
                        "count": 51
                      },
                      {
                        "bin_start": 4.2962701168,
                        "bin_end": 5.062746023,
                        "count": 33
                      },
                      {
                        "bin_start": 5.062746023,
                        "bin_end": 5.829221929199999,
                        "count": 8
                      },
                      {
                        "bin_start": 5.829221929199999,
                        "bin_end": 6.595697835399999,
                        "count": 8
                      },
                      {
                        "bin_start": 6.595697835399999,
                        "bin_end": 7.3621737415999995,
                        "count": 2
                      },
                      {
                        "bin_start": 7.3621737415999995,
                        "bin_end": 8.1286496478,
                        "count": 2
                      },
                      {
                        "bin_start": 8.1286496478,
                        "bin_end": 8.895125554,
                        "count": 2
                      }
                    ]
                  }
                },
                {
                  "name": "WmeanN_5",
                  "dtype": "float64",
                  "stats": {
                    "unique_count": 234,
                    "nan_count": 0,
                    "min": 1,
                    "max": 9.908163265,
                    "histogram": [
                      {
                        "bin_start": 1,
                        "bin_end": 1.8908163265,
                        "count": 1
                      },
                      {
                        "bin_start": 1.8908163265,
                        "bin_end": 2.781632653,
                        "count": 68
                      },
                      {
                        "bin_start": 2.781632653,
                        "bin_end": 3.6724489795000004,
                        "count": 70
                      },
                      {
                        "bin_start": 3.6724489795000004,
                        "bin_end": 4.563265306,
                        "count": 56
                      },
                      {
                        "bin_start": 4.563265306,
                        "bin_end": 5.4540816325,
                        "count": 23
                      },
                      {
                        "bin_start": 5.4540816325,
                        "bin_end": 6.344897959000001,
                        "count": 14
                      },
                      {
                        "bin_start": 6.344897959000001,
                        "bin_end": 7.2357142855,
                        "count": 5
                      },
                      {
                        "bin_start": 7.2357142855,
                        "bin_end": 8.126530612,
                        "count": 3
                      },
                      {
                        "bin_start": 8.126530612,
                        "bin_end": 9.017346938500001,
                        "count": 2
                      },
                      {
                        "bin_start": 9.017346938500001,
                        "bin_end": 9.908163265,
                        "count": 1
                      }
                    ]
                  }
                },
                {
                  "name": "WmeanN_6",
                  "dtype": "float64",
                  "stats": {
                    "unique_count": 235,
                    "nan_count": 0,
                    "min": 1.173228346,
                    "max": 10.3373494,
                    "histogram": [
                      {
                        "bin_start": 1.173228346,
                        "bin_end": 2.0896404514,
                        "count": 11
                      },
                      {
                        "bin_start": 2.0896404514,
                        "bin_end": 3.0060525568000003,
                        "count": 71
                      },
                      {
                        "bin_start": 3.0060525568000003,
                        "bin_end": 3.9224646622000003,
                        "count": 68
                      },
                      {
                        "bin_start": 3.9224646622000003,
                        "bin_end": 4.8388767676,
                        "count": 43
                      },
                      {
                        "bin_start": 4.8388767676,
                        "bin_end": 5.7552888730000005,
                        "count": 30
                      },
                      {
                        "bin_start": 5.7552888730000005,
                        "bin_end": 6.6717009784000005,
                        "count": 9
                      },
                      {
                        "bin_start": 6.6717009784000005,
                        "bin_end": 7.588113083800001,
                        "count": 4
                      },
                      {
                        "bin_start": 7.588113083800001,
                        "bin_end": 8.5045251892,
                        "count": 4
                      },
                      {
                        "bin_start": 8.5045251892,
                        "bin_end": 9.4209372946,
                        "count": 1
                      },
                      {
                        "bin_start": 9.4209372946,
                        "bin_end": 10.3373494,
                        "count": 2
                      }
                    ]
                  }
                },
                {
                  "name": "WmeanN_7",
                  "dtype": "float64",
                  "stats": {
                    "unique_count": 235,
                    "nan_count": 0,
                    "min": 1,
                    "max": 10.08841843,
                    "histogram": [
                      {
                        "bin_start": 1,
                        "bin_end": 1.908841843,
                        "count": 1
                      },
                      {
                        "bin_start": 1.908841843,
                        "bin_end": 2.817683686,
                        "count": 59
                      },
                      {
                        "bin_start": 2.817683686,
                        "bin_end": 3.726525529,
                        "count": 73
                      },
                      {
                        "bin_start": 3.726525529,
                        "bin_end": 4.635367372,
                        "count": 53
                      },
                      {
                        "bin_start": 4.635367372,
                        "bin_end": 5.544209215,
                        "count": 31
                      },
                      {
                        "bin_start": 5.544209215,
                        "bin_end": 6.453051058,
                        "count": 13
                      },
                      {
                        "bin_start": 6.453051058,
                        "bin_end": 7.361892901,
                        "count": 7
                      },
                      {
                        "bin_start": 7.361892901,
                        "bin_end": 8.270734744,
                        "count": 4
                      },
                      {
                        "bin_start": 8.270734744,
                        "bin_end": 9.179576587,
                        "count": 1
                      },
                      {
                        "bin_start": 9.179576587,
                        "bin_end": 10.08841843,
                        "count": 1
                      }
                    ]
                  }
                },
                {
                  "name": "WmeanN_8",
                  "dtype": "float64",
                  "stats": {
                    "unique_count": 238,
                    "nan_count": 0,
                    "min": 1,
                    "max": 10.91437309,
                    "histogram": [
                      {
                        "bin_start": 1,
                        "bin_end": 1.991437309,
                        "count": 1
                      },
                      {
                        "bin_start": 1.991437309,
                        "bin_end": 2.982874618,
                        "count": 76
                      },
                      {
                        "bin_start": 2.982874618,
                        "bin_end": 3.9743119269999996,
                        "count": 60
                      },
                      {
                        "bin_start": 3.9743119269999996,
                        "bin_end": 4.965749236,
                        "count": 46
                      },
                      {
                        "bin_start": 4.965749236,
                        "bin_end": 5.957186545,
                        "count": 38
                      },
                      {
                        "bin_start": 5.957186545,
                        "bin_end": 6.948623853999999,
                        "count": 10
                      },
                      {
                        "bin_start": 6.948623853999999,
                        "bin_end": 7.940061162999999,
                        "count": 4
                      },
                      {
                        "bin_start": 7.940061162999999,
                        "bin_end": 8.931498472,
                        "count": 4
                      },
                      {
                        "bin_start": 8.931498472,
                        "bin_end": 9.922935781,
                        "count": 3
                      },
                      {
                        "bin_start": 9.922935781,
                        "bin_end": 10.91437309,
                        "count": 1
                      }
                    ]
                  }
                },
                {
                  "name": "WmeanN_9",
                  "dtype": "float64",
                  "stats": {
                    "unique_count": 236,
                    "nan_count": 1,
                    "min": 1.249307479,
                    "max": 11.0027972,
                    "histogram": [
                      {
                        "bin_start": 1.249307479,
                        "bin_end": 2.2246564511,
                        "count": 24
                      },
                      {
                        "bin_start": 2.2246564511,
                        "bin_end": 3.2000054232,
                        "count": 64
                      },
                      {
                        "bin_start": 3.2000054232,
                        "bin_end": 4.175354395299999,
                        "count": 44
                      },
                      {
                        "bin_start": 4.175354395299999,
                        "bin_end": 5.1507033674,
                        "count": 52
                      },
                      {
                        "bin_start": 5.1507033674,
                        "bin_end": 6.126052339499999,
                        "count": 41
                      },
                      {
                        "bin_start": 6.126052339499999,
                        "bin_end": 7.1014013116,
                        "count": 7
                      },
                      {
                        "bin_start": 7.1014013116,
                        "bin_end": 8.0767502837,
                        "count": 3
                      },
                      {
                        "bin_start": 8.0767502837,
                        "bin_end": 9.0520992558,
                        "count": 2
                      },
                      {
                        "bin_start": 9.0520992558,
                        "bin_end": 10.0274482279,
                        "count": 3
                      },
                      {
                        "bin_start": 10.0274482279,
                        "bin_end": 11.0027972,
                        "count": 2
                      }
                    ]
                  }
                },
                {
                  "name": "WmeanN_10",
                  "dtype": "float64",
                  "stats": {
                    "unique_count": 220,
                    "nan_count": 12,
                    "min": 1.122562674,
                    "max": 11.15013405,
                    "histogram": [
                      {
                        "bin_start": 1.122562674,
                        "bin_end": 2.1253198116000003,
                        "count": 22
                      },
                      {
                        "bin_start": 2.1253198116000003,
                        "bin_end": 3.1280769492000005,
                        "count": 60
                      },
                      {
                        "bin_start": 3.1280769492000005,
                        "bin_end": 4.1308340868,
                        "count": 50
                      },
                      {
                        "bin_start": 4.1308340868,
                        "bin_end": 5.133591224400001,
                        "count": 54
                      },
                      {
                        "bin_start": 5.133591224400001,
                        "bin_end": 6.1363483620000006,
                        "count": 19
                      },
                      {
                        "bin_start": 6.1363483620000006,
                        "bin_end": 7.139105499600001,
                        "count": 13
                      },
                      {
                        "bin_start": 7.139105499600001,
                        "bin_end": 8.141862637200003,
                        "count": 7
                      },
                      {
                        "bin_start": 8.141862637200003,
                        "bin_end": 9.144619774800002,
                        "count": 2
                      },
                      {
                        "bin_start": 9.144619774800002,
                        "bin_end": 10.147376912400002,
                        "count": 2
                      },
                      {
                        "bin_start": 10.147376912400002,
                        "bin_end": 11.15013405,
                        "count": 2
                      }
                    ]
                  }
                },
                {
                  "name": "max",
                  "dtype": "float64",
                  "stats": {
                    "unique_count": 241,
                    "nan_count": 0,
                    "min": 1.626702997,
                    "max": 11.15013405,
                    "histogram": [
                      {
                        "bin_start": 1.626702997,
                        "bin_end": 2.5790461023,
                        "count": 18
                      },
                      {
                        "bin_start": 2.5790461023,
                        "bin_end": 3.5313892076,
                        "count": 63
                      },
                      {
                        "bin_start": 3.5313892076,
                        "bin_end": 4.4837323129,
                        "count": 44
                      },
                      {
                        "bin_start": 4.4837323129,
                        "bin_end": 5.4360754182,
                        "count": 51
                      },
                      {
                        "bin_start": 5.4360754182,
                        "bin_end": 6.3884185234999995,
                        "count": 37
                      },
                      {
                        "bin_start": 6.3884185234999995,
                        "bin_end": 7.3407616288,
                        "count": 12
                      },
                      {
                        "bin_start": 7.3407616288,
                        "bin_end": 8.2931047341,
                        "count": 5
                      },
                      {
                        "bin_start": 8.2931047341,
                        "bin_end": 9.2454478394,
                        "count": 5
                      },
                      {
                        "bin_start": 9.2454478394,
                        "bin_end": 10.197790944700001,
                        "count": 3
                      },
                      {
                        "bin_start": 10.197790944700001,
                        "bin_end": 11.15013405,
                        "count": 5
                      }
                    ]
                  }
                },
                {
                  "name": "std",
                  "dtype": "float64",
                  "stats": {
                    "unique_count": 243,
                    "nan_count": 0,
                    "min": 0.09946647308274847,
                    "max": 2.7658729944434506,
                    "histogram": [
                      {
                        "bin_start": 0.09946647308274847,
                        "bin_end": 0.36610712521881866,
                        "count": 55
                      },
                      {
                        "bin_start": 0.36610712521881866,
                        "bin_end": 0.6327477773548889,
                        "count": 67
                      },
                      {
                        "bin_start": 0.6327477773548889,
                        "bin_end": 0.899388429490959,
                        "count": 59
                      },
                      {
                        "bin_start": 0.899388429490959,
                        "bin_end": 1.1660290816270291,
                        "count": 27
                      },
                      {
                        "bin_start": 1.1660290816270291,
                        "bin_end": 1.4326697337630994,
                        "count": 18
                      },
                      {
                        "bin_start": 1.4326697337630994,
                        "bin_end": 1.6993103858991696,
                        "count": 6
                      },
                      {
                        "bin_start": 1.6993103858991696,
                        "bin_end": 1.9659510380352399,
                        "count": 4
                      },
                      {
                        "bin_start": 1.9659510380352399,
                        "bin_end": 2.23259169017131,
                        "count": 3
                      },
                      {
                        "bin_start": 2.23259169017131,
                        "bin_end": 2.4992323423073803,
                        "count": 1
                      },
                      {
                        "bin_start": 2.4992323423073803,
                        "bin_end": 2.7658729944434506,
                        "count": 3
                      }
                    ]
                  }
                },
                {
                  "name": "knot",
                  "dtype": "float64",
                  "stats": {
                    "unique_count": 8,
                    "nan_count": 0,
                    "min": 2,
                    "max": 9,
                    "histogram": [
                      {
                        "bin_start": 2,
                        "bin_end": 2.7,
                        "count": 72
                      },
                      {
                        "bin_start": 2.7,
                        "bin_end": 3.4,
                        "count": 21
                      },
                      {
                        "bin_start": 3.4,
                        "bin_end": 4.1,
                        "count": 23
                      },
                      {
                        "bin_start": 4.1,
                        "bin_end": 4.8,
                        "count": 0
                      },
                      {
                        "bin_start": 4.8,
                        "bin_end": 5.5,
                        "count": 25
                      },
                      {
                        "bin_start": 5.5,
                        "bin_end": 6.199999999999999,
                        "count": 27
                      },
                      {
                        "bin_start": 6.199999999999999,
                        "bin_end": 6.8999999999999995,
                        "count": 0
                      },
                      {
                        "bin_start": 6.8999999999999995,
                        "bin_end": 7.6,
                        "count": 11
                      },
                      {
                        "bin_start": 7.6,
                        "bin_end": 8.3,
                        "count": 29
                      },
                      {
                        "bin_start": 8.3,
                        "bin_end": 9,
                        "count": 35
                      }
                    ]
                  }
                },
                {
                  "name": "slope1",
                  "dtype": "float64",
                  "stats": {
                    "unique_count": 243,
                    "nan_count": 0,
                    "min": -0.3873960257999962,
                    "max": 4.326568068044437,
                    "histogram": [
                      {
                        "bin_start": -0.3873960257999962,
                        "bin_end": 0.08400038358444711,
                        "count": 29
                      },
                      {
                        "bin_start": 0.08400038358444711,
                        "bin_end": 0.5553967929688904,
                        "count": 121
                      },
                      {
                        "bin_start": 0.5553967929688904,
                        "bin_end": 1.0267932023533337,
                        "count": 60
                      },
                      {
                        "bin_start": 1.0267932023533337,
                        "bin_end": 1.498189611737777,
                        "count": 22
                      },
                      {
                        "bin_start": 1.498189611737777,
                        "bin_end": 1.9695860211222205,
                        "count": 9
                      },
                      {
                        "bin_start": 1.9695860211222205,
                        "bin_end": 2.4409824305066636,
                        "count": 1
                      },
                      {
                        "bin_start": 2.4409824305066636,
                        "bin_end": 2.9123788398911072,
                        "count": 0
                      },
                      {
                        "bin_start": 2.9123788398911072,
                        "bin_end": 3.3837752492755504,
                        "count": 0
                      },
                      {
                        "bin_start": 3.3837752492755504,
                        "bin_end": 3.855171658659994,
                        "count": 0
                      },
                      {
                        "bin_start": 3.855171658659994,
                        "bin_end": 4.326568068044437,
                        "count": 1
                      }
                    ]
                  }
                },
                {
                  "name": "slope2",
                  "dtype": "float64",
                  "stats": {
                    "unique_count": 243,
                    "nan_count": 0,
                    "min": -2.726521359044444,
                    "max": 1.8988897989166666,
                    "histogram": [
                      {
                        "bin_start": -2.726521359044444,
                        "bin_end": -2.2639802432483327,
                        "count": 1
                      },
                      {
                        "bin_start": -2.2639802432483327,
                        "bin_end": -1.801439127452222,
                        "count": 1
                      },
                      {
                        "bin_start": -1.801439127452222,
                        "bin_end": -1.3388980116561107,
                        "count": 5
                      },
                      {
                        "bin_start": -1.3388980116561107,
                        "bin_end": -0.8763568958599997,
                        "count": 8
                      },
                      {
                        "bin_start": -0.8763568958599997,
                        "bin_end": -0.41381578006388864,
                        "count": 15
                      },
                      {
                        "bin_start": -0.41381578006388864,
                        "bin_end": 0.0487253357322226,
                        "count": 128
                      },
                      {
                        "bin_start": 0.0487253357322226,
                        "bin_end": 0.5112664515283334,
                        "count": 66
                      },
                      {
                        "bin_start": 0.5112664515283334,
                        "bin_end": 0.9738075673244446,
                        "count": 9
                      },
                      {
                        "bin_start": 0.9738075673244446,
                        "bin_end": 1.4363486831205554,
                        "count": 7
                      },
                      {
                        "bin_start": 1.4363486831205554,
                        "bin_end": 1.8988897989166666,
                        "count": 3
                      }
                    ]
                  }
                },
                {
                  "name": "label",
                  "dtype": "int64",
                  "stats": {
                    "unique_count": 3,
                    "nan_count": 0,
                    "min": 0,
                    "max": 2,
                    "histogram": [
                      {
                        "bin_start": 0,
                        "bin_end": 0.2,
                        "count": 86
                      },
                      {
                        "bin_start": 0.2,
                        "bin_end": 0.4,
                        "count": 0
                      },
                      {
                        "bin_start": 0.4,
                        "bin_end": 0.6000000000000001,
                        "count": 0
                      },
                      {
                        "bin_start": 0.6000000000000001,
                        "bin_end": 0.8,
                        "count": 0
                      },
                      {
                        "bin_start": 0.8,
                        "bin_end": 1,
                        "count": 0
                      },
                      {
                        "bin_start": 1,
                        "bin_end": 1.2000000000000002,
                        "count": 104
                      },
                      {
                        "bin_start": 1.2000000000000002,
                        "bin_end": 1.4000000000000001,
                        "count": 0
                      },
                      {
                        "bin_start": 1.4000000000000001,
                        "bin_end": 1.6,
                        "count": 0
                      },
                      {
                        "bin_start": 1.6,
                        "bin_end": 1.8,
                        "count": 0
                      },
                      {
                        "bin_start": 1.8,
                        "bin_end": 2,
                        "count": 53
                      }
                    ]
                  }
                },
                {
                  "name": "cluster_0",
                  "dtype": "float64",
                  "stats": {
                    "unique_count": 243,
                    "nan_count": 0,
                    "min": 9.26602369718338e-295,
                    "max": 1,
                    "histogram": [
                      {
                        "bin_start": 9.26602369718338e-295,
                        "bin_end": 0.1,
                        "count": 155
                      },
                      {
                        "bin_start": 0.1,
                        "bin_end": 0.2,
                        "count": 0
                      },
                      {
                        "bin_start": 0.2,
                        "bin_end": 0.30000000000000004,
                        "count": 1
                      },
                      {
                        "bin_start": 0.30000000000000004,
                        "bin_end": 0.4,
                        "count": 0
                      },
                      {
                        "bin_start": 0.4,
                        "bin_end": 0.5,
                        "count": 1
                      },
                      {
                        "bin_start": 0.5,
                        "bin_end": 0.6000000000000001,
                        "count": 5
                      },
                      {
                        "bin_start": 0.6000000000000001,
                        "bin_end": 0.7000000000000001,
                        "count": 2
                      },
                      {
                        "bin_start": 0.7000000000000001,
                        "bin_end": 0.8,
                        "count": 4
                      },
                      {
                        "bin_start": 0.8,
                        "bin_end": 0.9,
                        "count": 1
                      },
                      {
                        "bin_start": 0.9,
                        "bin_end": 1,
                        "count": 74
                      }
                    ]
                  }
                },
                {
                  "name": "cluster_1",
                  "dtype": "float64",
                  "stats": {
                    "unique_count": 240,
                    "nan_count": 0,
                    "min": 5.2563407621375486e-39,
                    "max": 1,
                    "histogram": [
                      {
                        "bin_start": 5.2563407621375486e-39,
                        "bin_end": 0.1,
                        "count": 112
                      },
                      {
                        "bin_start": 0.1,
                        "bin_end": 0.2,
                        "count": 9
                      },
                      {
                        "bin_start": 0.2,
                        "bin_end": 0.30000000000000004,
                        "count": 5
                      },
                      {
                        "bin_start": 0.30000000000000004,
                        "bin_end": 0.4,
                        "count": 3
                      },
                      {
                        "bin_start": 0.4,
                        "bin_end": 0.5,
                        "count": 10
                      },
                      {
                        "bin_start": 0.5,
                        "bin_end": 0.6000000000000001,
                        "count": 6
                      },
                      {
                        "bin_start": 0.6000000000000001,
                        "bin_end": 0.7000000000000001,
                        "count": 3
                      },
                      {
                        "bin_start": 0.7000000000000001,
                        "bin_end": 0.8,
                        "count": 1
                      },
                      {
                        "bin_start": 0.8,
                        "bin_end": 0.9,
                        "count": 0
                      },
                      {
                        "bin_start": 0.9,
                        "bin_end": 1,
                        "count": 94
                      }
                    ]
                  }
                },
                {
                  "name": "cluster_2",
                  "dtype": "float64",
                  "stats": {
                    "unique_count": 241,
                    "nan_count": 0,
                    "min": 3.3653794943160124e-182,
                    "max": 1,
                    "histogram": [
                      {
                        "bin_start": 3.3653794943160124e-182,
                        "bin_end": 0.1,
                        "count": 182
                      },
                      {
                        "bin_start": 0.1,
                        "bin_end": 0.2,
                        "count": 0
                      },
                      {
                        "bin_start": 0.2,
                        "bin_end": 0.30000000000000004,
                        "count": 0
                      },
                      {
                        "bin_start": 0.30000000000000004,
                        "bin_end": 0.4,
                        "count": 3
                      },
                      {
                        "bin_start": 0.4,
                        "bin_end": 0.5,
                        "count": 5
                      },
                      {
                        "bin_start": 0.5,
                        "bin_end": 0.6000000000000001,
                        "count": 5
                      },
                      {
                        "bin_start": 0.6000000000000001,
                        "bin_end": 0.7000000000000001,
                        "count": 1
                      },
                      {
                        "bin_start": 0.7000000000000001,
                        "bin_end": 0.8,
                        "count": 1
                      },
                      {
                        "bin_start": 0.8,
                        "bin_end": 0.9,
                        "count": 8
                      },
                      {
                        "bin_start": 0.9,
                        "bin_end": 1,
                        "count": 38
                      }
                    ]
                  }
                },
                {
                  "name": "_deepnote_index_column",
                  "dtype": "int64"
                }
              ],
              "rows_top": [
                {
                  "ID": "RGTA104",
                  "WmeanN_1": 2.532188841,
                  "WmeanN_2": 2.951219512,
                  "WmeanN_3": 3.981067126,
                  "WmeanN_4": 3.06969697,
                  "WmeanN_5": 6.489932886,
                  "WmeanN_6": 8.599343186,
                  "WmeanN_7": 3.490166415,
                  "WmeanN_8": 5.315955766,
                  "WmeanN_9": 6.595959596,
                  "WmeanN_10": 6.297113752,
                  "max": 8.599343186,
                  "std": 2.021830696260831,
                  "knot": 6,
                  "slope1": 0.8288842281529416,
                  "slope2": -0.13287478646470552,
                  "label": 1,
                  "cluster_0": 3.93176141094031e-23,
                  "cluster_1": 0.999999999972649,
                  "cluster_2": 2.7351270646438435e-11,
                  "_deepnote_index_column": 0
                },
                {
                  "ID": "RGTA107",
                  "WmeanN_1": 2.004137931,
                  "WmeanN_2": 2.490341753,
                  "WmeanN_3": 2.16407355,
                  "WmeanN_4": 2.579514825,
                  "WmeanN_5": 4.816541353,
                  "WmeanN_6": 4.362275449,
                  "WmeanN_7": 4.104225352,
                  "WmeanN_8": 2.912552891,
                  "WmeanN_9": 4.726726727,
                  "WmeanN_10": 4.812146893,
                  "max": 4.816541353,
                  "std": 1.169164018375926,
                  "knot": 5,
                  "slope1": 0.5447149701764709,
                  "slope2": 0.1121998941647063,
                  "label": 1,
                  "cluster_0": 2.181938705397827e-14,
                  "cluster_1": 0.9999999999999767,
                  "cluster_2": 1.4567486309110072e-15,
                  "_deepnote_index_column": 1
                },
                {
                  "ID": "RGTA110",
                  "WmeanN_1": 3.025449102,
                  "WmeanN_2": 3.758287293,
                  "WmeanN_3": 3.861799218,
                  "WmeanN_4": 3.580939948,
                  "WmeanN_5": 4.017241379,
                  "WmeanN_6": 5.250645995,
                  "WmeanN_7": 4.645780051,
                  "WmeanN_8": 5.345314506,
                  "WmeanN_9": 4.882198953,
                  "WmeanN_10": 4.956466069,
                  "max": 5.345314506,
                  "std": 0.7875647569948291,
                  "knot": 8,
                  "slope1": 0.2943131535736273,
                  "slope2": -0.16447223249230802,
                  "label": 1,
                  "cluster_0": 3.245068347498269e-54,
                  "cluster_1": 0.5413412651393814,
                  "cluster_2": 0.45865873486061864,
                  "_deepnote_index_column": 2
                },
                {
                  "ID": "RGTA113",
                  "WmeanN_1": 2.552136752,
                  "WmeanN_2": 2.75826087,
                  "WmeanN_3": 3.335548173,
                  "WmeanN_4": 3.615517241,
                  "WmeanN_5": 3.603839442,
                  "WmeanN_6": 4.394863563,
                  "WmeanN_7": 4.600334448,
                  "WmeanN_8": 4.544871795,
                  "WmeanN_9": 5.96557377,
                  "WmeanN_10": 5.74025974,
                  "max": 5.96557377,
                  "std": 1.1530732266479597,
                  "knot": 8,
                  "slope1": 0.3352222952895606,
                  "slope2": 0.5602107881384617,
                  "label": 2,
                  "cluster_0": 5.745221940860953e-76,
                  "cluster_1": 0.005348956183752314,
                  "cluster_2": 0.9946510438162479,
                  "_deepnote_index_column": 3
                },
                {
                  "ID": "RRTA101",
                  "WmeanN_1": 1.738197425,
                  "WmeanN_2": 2.528198074,
                  "WmeanN_3": 2.299089727,
                  "WmeanN_4": 2.566576087,
                  "WmeanN_5": 3.322916667,
                  "WmeanN_6": 3.460188934,
                  "WmeanN_7": 3.578313253,
                  "WmeanN_8": 3.400264201,
                  "WmeanN_9": 3.59767141,
                  "WmeanN_10": 2.701986755,
                  "max": 3.59767141,
                  "std": 0.6399256930787527,
                  "knot": 7,
                  "slope1": 0.30970981566504585,
                  "slope2": -0.2612324914595748,
                  "label": 1,
                  "cluster_0": 2.326918934625627e-37,
                  "cluster_1": 0.9984560323591081,
                  "cluster_2": 0.0015439676408918039,
                  "_deepnote_index_column": 4
                },
                {
                  "ID": "RRTA104",
                  "WmeanN_1": 2.052005944,
                  "WmeanN_2": 2.377963738,
                  "WmeanN_3": 2.499257058,
                  "WmeanN_4": 2.245566166,
                  "WmeanN_5": 2.391240876,
                  "WmeanN_6": 2.711811024,
                  "WmeanN_7": 2.479069767,
                  "WmeanN_8": 2.65832106,
                  "WmeanN_9": 2.690208668,
                  "WmeanN_10": 2.394658754,
                  "max": 2.711811024,
                  "std": 0.20677716424109155,
                  "knot": 9,
                  "slope1": 0.06366255230000023,
                  "slope2": -0.3161519330888889,
                  "label": 2,
                  "cluster_0": 2.6511705535244424e-74,
                  "cluster_1": 0.15124349203112472,
                  "cluster_2": 0.8487565079688753,
                  "_deepnote_index_column": 5
                },
                {
                  "ID": "Irt101",
                  "WmeanN_1": 2.344186047,
                  "WmeanN_2": 2.811965812,
                  "WmeanN_3": 3.226381462,
                  "WmeanN_4": 3.040350877,
                  "WmeanN_5": 3.18989547,
                  "WmeanN_6": 3.288770053,
                  "WmeanN_7": 3.329225352,
                  "WmeanN_8": 3.597539543,
                  "WmeanN_9": 3.2721202,
                  "WmeanN_10": 3.471502591,
                  "max": 3.597539543,
                  "std": 0.3578457462088182,
                  "knot": 3,
                  "slope1": 0.3845962440769244,
                  "slope2": 0.04695222802197753,
                  "label": 0,
                  "cluster_0": 0.5419941437933001,
                  "cluster_1": 0.4580058562066998,
                  "cluster_2": 3.5098447003543365e-32,
                  "_deepnote_index_column": 6
                },
                {
                  "ID": "Irt104",
                  "WmeanN_1": 1.8,
                  "WmeanN_2": 2.211538462,
                  "WmeanN_3": 2.224215247,
                  "WmeanN_4": 2.65571205,
                  "WmeanN_5": 3.483704974,
                  "WmeanN_6": 4.214776632,
                  "WmeanN_7": 3.560064935,
                  "WmeanN_8": 4.020725389,
                  "WmeanN_9": 2.104196816,
                  "WmeanN_10": 2.494814815,
                  "max": 4.214776632,
                  "std": 0.8662548594151426,
                  "knot": 6,
                  "slope1": 0.49402274076470587,
                  "slope2": -0.4143362505235294,
                  "label": 1,
                  "cluster_0": 5.148402988889783e-26,
                  "cluster_1": 0.9999999849443527,
                  "cluster_2": 1.5055647417589327e-8,
                  "_deepnote_index_column": 7
                },
                {
                  "ID": "Irt201",
                  "WmeanN_1": 2.656294201,
                  "WmeanN_2": 3.16572238,
                  "WmeanN_3": 2.833333333,
                  "WmeanN_4": 3.918918919,
                  "WmeanN_5": 4.406849315,
                  "WmeanN_6": 5.05952381,
                  "WmeanN_7": 4.868525896,
                  "WmeanN_8": 5.810322581,
                  "WmeanN_9": 4.350529101,
                  "WmeanN_10": 4.751004016,
                  "max": 5.810322581,
                  "std": 1.029791609364634,
                  "knot": 8,
                  "slope1": 0.42315220937307746,
                  "slope2": -0.5483532905692301,
                  "label": 1,
                  "cluster_0": 7.611878751492482e-58,
                  "cluster_1": 0.6243653333689494,
                  "cluster_2": 0.3756346666310505,
                  "_deepnote_index_column": 8
                },
                {
                  "ID": "RGTA143",
                  "WmeanN_1": 1.12,
                  "WmeanN_2": 2.013752456,
                  "WmeanN_3": 2.011272142,
                  "WmeanN_4": 2,
                  "WmeanN_5": 2,
                  "WmeanN_6": 2.02584493,
                  "WmeanN_7": 2.016339869,
                  "WmeanN_8": 2,
                  "WmeanN_9": 2.01814882,
                  "WmeanN_10": 2.06022187,
                  "max": 2.06022187,
                  "std": 0.2839542090215601,
                  "knot": 2,
                  "slope1": 0.881319061288889,
                  "slope2": 0.003714125983333594,
                  "label": 0,
                  "cluster_0": 0.9892034320108324,
                  "cluster_1": 0.01079656798916763,
                  "cluster_2": 6.425829742314552e-51,
                  "_deepnote_index_column": 9
                },
                {
                  "ID": "RGTA146",
                  "WmeanN_1": 1.247881356,
                  "WmeanN_2": 2.262008734,
                  "WmeanN_3": 2.3125,
                  "WmeanN_4": 3.115646259,
                  "WmeanN_5": 2.581005587,
                  "WmeanN_6": 2.716666667,
                  "WmeanN_7": 2.935323383,
                  "WmeanN_8": 3.104938272,
                  "WmeanN_9": 3.172413793,
                  "WmeanN_10": 2.094763092,
                  "max": 3.172413793,
                  "std": 0.5994846858134384,
                  "knot": 9,
                  "slope1": 0.18455975893333368,
                  "slope2": -1.2488519494,
                  "label": 2,
                  "cluster_0": 3.1116883372562263e-109,
                  "cluster_1": 0.0003370318138041042,
                  "cluster_2": 0.9996629681861958,
                  "_deepnote_index_column": 10
                },
                {
                  "ID": "RGTA152",
                  "WmeanN_1": 2.331125828,
                  "WmeanN_2": 3,
                  "WmeanN_3": 3.12992126,
                  "WmeanN_4": 3.568527919,
                  "WmeanN_5": 3.420091324,
                  "WmeanN_6": 3.658959538,
                  "WmeanN_7": 3.458167331,
                  "WmeanN_8": 3.591346154,
                  "WmeanN_9": 3.580952381,
                  "WmeanN_10": 3.651282051,
                  "max": 3.658959538,
                  "std": 0.4176679562075576,
                  "knot": 4,
                  "slope1": 0.3594932287234058,
                  "slope2": 0.013666345148936351,
                  "label": 1,
                  "cluster_0": 0.000021943460938417135,
                  "cluster_1": 0.9999780565390616,
                  "cluster_2": 3.7347466236712466e-22,
                  "_deepnote_index_column": 11
                },
                {
                  "ID": "RGTA155",
                  "WmeanN_1": 2.469565217,
                  "WmeanN_2": 3,
                  "WmeanN_3": 3,
                  "WmeanN_4": 3,
                  "WmeanN_5": 3,
                  "WmeanN_6": 3,
                  "WmeanN_7": 3.1,
                  "WmeanN_8": 3.197478992,
                  "WmeanN_9": 3,
                  "WmeanN_10": 3,
                  "max": 3.197478992,
                  "std": 0.19000940656292364,
                  "knot": 2,
                  "slope1": 0.5304908054000013,
                  "slope2": 0.008249299733333493,
                  "label": 0,
                  "cluster_0": 0.9895314406168167,
                  "cluster_1": 0.010468559383183359,
                  "cluster_2": 2.1042171544486566e-46,
                  "_deepnote_index_column": 12
                },
                {
                  "ID": "RGTA158",
                  "WmeanN_1": 2.631921824,
                  "WmeanN_2": 3,
                  "WmeanN_3": 3.034482759,
                  "WmeanN_4": 3,
                  "WmeanN_5": 3.034482759,
                  "WmeanN_6": 3,
                  "WmeanN_7": 3,
                  "WmeanN_8": 3,
                  "WmeanN_9": 3.246808511,
                  "WmeanN_10": 3.038461538,
                  "max": 3.246808511,
                  "std": 0.14915846689155832,
                  "knot": 2,
                  "slope1": 0.35701497351111344,
                  "slope2": 0.012605677483333466,
                  "label": 0,
                  "cluster_0": 0.9938169389997602,
                  "cluster_1": 0.006183061000239889,
                  "cluster_2": 9.325974624682339e-45,
                  "_deepnote_index_column": 13
                },
                {
                  "ID": "RGTA185",
                  "WmeanN_1": 1.585657371,
                  "WmeanN_2": 2.825,
                  "WmeanN_3": 2.865800866,
                  "WmeanN_4": 3.481308411,
                  "WmeanN_5": 3.887323944,
                  "WmeanN_6": 4.266666667,
                  "WmeanN_7": 4.634517766,
                  "WmeanN_8": 4.842105263,
                  "WmeanN_9": 4.704347826,
                  "WmeanN_10": 5.038461538,
                  "max": 5.038461538,
                  "std": 1.1148466789810618,
                  "knot": 6,
                  "slope1": 0.5026039085411769,
                  "slope2": 0.1457684820941183,
                  "label": 1,
                  "cluster_0": 3.5189895027064974e-26,
                  "cluster_1": 0.9999999904857457,
                  "cluster_2": 9.514254332671558e-9,
                  "_deepnote_index_column": 14
                },
                {
                  "ID": "IGTA143",
                  "WmeanN_1": 2.238938053,
                  "WmeanN_2": 2.543478261,
                  "WmeanN_3": 3.189349112,
                  "WmeanN_4": 3.275,
                  "WmeanN_5": 2.76056338,
                  "WmeanN_6": 3.737113402,
                  "WmeanN_7": 4.13368984,
                  "WmeanN_8": 3.686170213,
                  "WmeanN_9": 4.774774775,
                  "WmeanN_10": 4.25,
                  "max": 4.774774775,
                  "std": 0.8070671489508566,
                  "knot": 9,
                  "slope1": 0.26537029336666734,
                  "slope2": -0.18248973302222193,
                  "label": 2,
                  "cluster_0": 9.960814296799906e-75,
                  "cluster_1": 0.08843365136427789,
                  "cluster_2": 0.911566348635722,
                  "_deepnote_index_column": 15
                },
                {
                  "ID": "IGTA155",
                  "WmeanN_1": 2.685606061,
                  "WmeanN_2": 3.117073171,
                  "WmeanN_3": 3.083636364,
                  "WmeanN_4": 3.035,
                  "WmeanN_5": 3.066666667,
                  "WmeanN_6": 3.171597633,
                  "WmeanN_7": 2.962790698,
                  "WmeanN_8": 3.085365854,
                  "WmeanN_9": 3.253164557,
                  "WmeanN_10": 3.089041096,
                  "max": 3.253164557,
                  "std": 0.15096311146483488,
                  "knot": 2,
                  "slope1": 0.3842104755777789,
                  "slope2": 0.006555200300000175,
                  "label": 0,
                  "cluster_0": 0.9933111235377167,
                  "cluster_1": 0.006688876462283527,
                  "cluster_2": 5.498982351804529e-45,
                  "_deepnote_index_column": 16
                },
                {
                  "ID": "IGTA158",
                  "WmeanN_1": 2.788043478,
                  "WmeanN_2": 4.207865169,
                  "WmeanN_3": 4.138297872,
                  "WmeanN_4": 4.513392857,
                  "WmeanN_5": 4.389423077,
                  "WmeanN_6": 5.373786408,
                  "WmeanN_7": 5.47804878,
                  "WmeanN_8": 5.77593361,
                  "WmeanN_9": 7.004424779,
                  "WmeanN_10": 6.890295359,
                  "max": 7.004424779,
                  "std": 1.308192150135996,
                  "knot": 2,
                  "slope1": 0.9904434883333355,
                  "slope2": 0.3823634781666673,
                  "label": 1,
                  "cluster_0": 0.009534502332857788,
                  "cluster_1": 0.9904654976671423,
                  "cluster_2": 1.0107281134268591e-50,
                  "_deepnote_index_column": 17
                },
                {
                  "ID": "RRTA128",
                  "WmeanN_1": 1.418835192,
                  "WmeanN_2": 2.086614173,
                  "WmeanN_3": 2.35071708,
                  "WmeanN_4": 2.492038217,
                  "WmeanN_5": 2.505509642,
                  "WmeanN_6": 2.146938776,
                  "WmeanN_7": 2.138888889,
                  "WmeanN_8": 2.38483965,
                  "WmeanN_9": 2.30875576,
                  "WmeanN_10": 2.071618037,
                  "max": 2.505509642,
                  "std": 0.31491290701474856,
                  "knot": 3,
                  "slope1": 0.4908400865230771,
                  "slope2": -0.043488367493407294,
                  "label": 0,
                  "cluster_0": 0.6585079800601575,
                  "cluster_1": 0.3414920199398425,
                  "cluster_2": 3.8593311765968676e-33,
                  "_deepnote_index_column": 19
                },
                {
                  "ID": "RRTA131",
                  "WmeanN_1": 3.057951482,
                  "WmeanN_2": 3.233509235,
                  "WmeanN_3": 2.899061033,
                  "WmeanN_4": 3.151178918,
                  "WmeanN_5": 3.37037037,
                  "WmeanN_6": 3.144736842,
                  "WmeanN_7": 3.245657568,
                  "WmeanN_8": 3.684834123,
                  "WmeanN_9": 3.949519231,
                  "WmeanN_10": 3.313397129,
                  "max": 3.949519231,
                  "std": 0.30692378107086693,
                  "knot": 9,
                  "slope1": 0.09344994423333375,
                  "slope2": -0.36449362593333356,
                  "label": 2,
                  "cluster_0": 1.3258541082138853e-74,
                  "cluster_1": 0.14053087374210313,
                  "cluster_2": 0.859469126257897,
                  "_deepnote_index_column": 20
                },
                {
                  "ID": "RRTWA122",
                  "WmeanN_1": 2.509138381,
                  "WmeanN_2": 3.17615894,
                  "WmeanN_3": 3.430065359,
                  "WmeanN_4": 3.001633987,
                  "WmeanN_5": 2.90787717,
                  "WmeanN_6": 2.686827957,
                  "WmeanN_7": 3.0625,
                  "WmeanN_8": 2.841415465,
                  "WmeanN_9": 2.647129187,
                  "WmeanN_10": 2.783748362,
                  "max": 3.430065359,
                  "std": 0.27343900388845144,
                  "knot": 2,
                  "slope1": 0.7117411136888889,
                  "slope2": -0.06807108403333328,
                  "label": 0,
                  "cluster_0": 0.9811144721061975,
                  "cluster_1": 0.018885527893802673,
                  "cluster_2": 3.471692736905562e-48,
                  "_deepnote_index_column": 21
                },
                {
                  "ID": "RRTWA131",
                  "WmeanN_1": 1.885786802,
                  "WmeanN_2": 2.349740933,
                  "WmeanN_3": 2.604193971,
                  "WmeanN_4": 2.317585302,
                  "WmeanN_5": 2.724675325,
                  "WmeanN_6": 3.054987212,
                  "WmeanN_7": 3.350393701,
                  "WmeanN_8": 2.694103194,
                  "WmeanN_9": 2.420716113,
                  "WmeanN_10": 2.891246684,
                  "max": 3.350393701,
                  "std": 0.41571443625366594,
                  "knot": 7,
                  "slope1": 0.18189081847720398,
                  "slope2": -0.17871215221276623,
                  "label": 1,
                  "cluster_0": 4.360015734890772e-37,
                  "cluster_1": 0.9969415365534309,
                  "cluster_2": 0.0030584634465692802,
                  "_deepnote_index_column": 22
                },
                {
                  "ID": "RRTWA137",
                  "WmeanN_1": 1.595615104,
                  "WmeanN_2": 2.241545894,
                  "WmeanN_3": 2.341340076,
                  "WmeanN_4": 2.180124224,
                  "WmeanN_5": 2.265171504,
                  "WmeanN_6": 2.173803526,
                  "WmeanN_7": 2.471393035,
                  "WmeanN_8": 2.60794702,
                  "WmeanN_9": 2.3252149,
                  "WmeanN_10": 2.969253294,
                  "max": 2.969253294,
                  "std": 0.3500154527094274,
                  "knot": 2,
                  "slope1": 0.5400738688888895,
                  "slope2": 0.06540535325000013,
                  "label": 0,
                  "cluster_0": 0.9840792111441449,
                  "cluster_1": 0.015920788855855236,
                  "cluster_2": 1.8372242224178354e-46,
                  "_deepnote_index_column": 23
                },
                {
                  "ID": "RRTWA140",
                  "WmeanN_1": 2.570890841,
                  "WmeanN_2": 3.570048309,
                  "WmeanN_3": 4.460122699,
                  "WmeanN_4": 4.705811138,
                  "WmeanN_5": 4.726277372,
                  "WmeanN_6": 4.751798561,
                  "WmeanN_7": 4.832305795,
                  "WmeanN_8": 5.919950739,
                  "WmeanN_9": 6.079422383,
                  "WmeanN_10": 6.545565006,
                  "max": 6.545565006,
                  "std": 1.1808884050028043,
                  "knot": 3,
                  "slope1": 0.7978146077384614,
                  "slope2": 0.2935461869252742,
                  "label": 1,
                  "cluster_0": 0.0011334129918558625,
                  "cluster_1": 0.9988665870081441,
                  "cluster_2": 3.169646459774986e-36,
                  "_deepnote_index_column": 24
                },
                {
                  "ID": "RRTWA152",
                  "WmeanN_1": 1.748691099,
                  "WmeanN_2": 2.17254902,
                  "WmeanN_3": 2.471867008,
                  "WmeanN_4": 2.472568579,
                  "WmeanN_5": 2.244923858,
                  "WmeanN_6": 2.294936709,
                  "WmeanN_7": 2.893203883,
                  "WmeanN_8": 3.08616188,
                  "WmeanN_9": 3.268617021,
                  "WmeanN_10": 3.287417219,
                  "max": 3.287417219,
                  "std": 0.5164843641847404,
                  "knot": 6,
                  "slope1": 0.10880034444705919,
                  "slope2": 0.22240530696470606,
                  "label": 1,
                  "cluster_0": 2.5010344656916134e-28,
                  "cluster_1": 0.9999996023122817,
                  "cluster_2": 3.976877184806318e-7,
                  "_deepnote_index_column": 25
                }
              ],
              "rows_bottom": [
                {
                  "ID": "Rlb101",
                  "WmeanN_1": 2.50148368,
                  "WmeanN_2": 3.795,
                  "WmeanN_3": 5.066176471,
                  "WmeanN_4": 4.739454094,
                  "WmeanN_5": 5.287153652,
                  "WmeanN_6": 5.623115578,
                  "WmeanN_7": 5.772020725,
                  "WmeanN_8": 5.156769596,
                  "WmeanN_9": 5.324324324,
                  "WmeanN_10": "5.423357664",
                  "max": 5.772020725,
                  "std": 0.9983710793369047,
                  "knot": 3,
                  "slope1": 1.2905244465846155,
                  "slope2": 0.0616118028813177,
                  "label": 0,
                  "cluster_0": 0.955955799636028,
                  "cluster_1": 0.044044200363971914,
                  "cluster_2": 1.6801716841733078e-44,
                  "_deepnote_index_column": 239
                },
                {
                  "ID": "ILB258",
                  "WmeanN_1": 1,
                  "WmeanN_2": 1.626702997,
                  "WmeanN_3": 1.061452514,
                  "WmeanN_4": 1.230366492,
                  "WmeanN_5": 1,
                  "WmeanN_6": 1.173228346,
                  "WmeanN_7": 1,
                  "WmeanN_8": 1,
                  "WmeanN_9": 1.249307479,
                  "WmeanN_10": "1.122562674",
                  "max": 1.626702997,
                  "std": 0.19509745974081674,
                  "knot": 2,
                  "slope1": 0.29020645895555597,
                  "slope2": -0.03189548968333339,
                  "label": 0,
                  "cluster_0": 0.9960534621367494,
                  "cluster_1": 0.003946537863250648,
                  "cluster_2": 3.7412857596563434e-44,
                  "_deepnote_index_column": 240
                },
                {
                  "ID": "ILB259",
                  "WmeanN_1": 2.672727273,
                  "WmeanN_2": 2.677922078,
                  "WmeanN_3": 2.714285714,
                  "WmeanN_4": 2.335092348,
                  "WmeanN_5": 3.076530612,
                  "WmeanN_6": 3.805263158,
                  "WmeanN_7": 3.58,
                  "WmeanN_8": 2.180904523,
                  "WmeanN_9": 4.520408163,
                  "WmeanN_10": "3.383954155",
                  "max": 4.520408163,
                  "std": 0.727672374078698,
                  "knot": 9,
                  "slope1": 0.1516878379500003,
                  "slope2": -0.2853676266888887,
                  "label": 2,
                  "cluster_0": 2.0376034053628365e-74,
                  "cluster_1": 0.12135228135308722,
                  "cluster_2": 0.8786477186469127,
                  "_deepnote_index_column": 241
                },
                {
                  "ID": "ILB261",
                  "WmeanN_1": 2.609375,
                  "WmeanN_2": 3.515957447,
                  "WmeanN_3": 4.41025641,
                  "WmeanN_4": 3.744416873,
                  "WmeanN_5": 3.792079208,
                  "WmeanN_6": 4.044117647,
                  "WmeanN_7": 4.106493506,
                  "WmeanN_8": 4.057291667,
                  "WmeanN_9": 4.498721228,
                  "WmeanN_10": "4.535714286",
                  "max": 4.535714286,
                  "std": 0.5725459592836464,
                  "knot": 3,
                  "slope1": 0.6277803287538473,
                  "slope2": 0.05782383175109843,
                  "label": 1,
                  "cluster_0": 0.46564171150473954,
                  "cluster_1": 0.5343582884952606,
                  "cluster_2": 1.5708556189028476e-34,
                  "_deepnote_index_column": 242
                },
                {
                  "ID": "ILB262",
                  "WmeanN_1": 3.96119403,
                  "WmeanN_2": 5.412121212,
                  "WmeanN_3": 4.533527697,
                  "WmeanN_4": 4.885057471,
                  "WmeanN_5": 5.334346505,
                  "WmeanN_6": 4.329411765,
                  "WmeanN_7": 4.587209302,
                  "WmeanN_8": 4.804034582,
                  "WmeanN_9": 5.526610644,
                  "WmeanN_10": "6.041420118",
                  "max": 6.041420118,
                  "std": 0.6304926675146003,
                  "knot": 8,
                  "slope1": 0.022482262418681818,
                  "slope2": 0.6331999702153839,
                  "label": 2,
                  "cluster_0": 2.436875473045024e-81,
                  "cluster_1": 0.0034835233777361207,
                  "cluster_2": 0.9965164766222636,
                  "_deepnote_index_column": 243
                },
                {
                  "ID": "RLB223",
                  "WmeanN_1": 2.705882353,
                  "WmeanN_2": 2.889212828,
                  "WmeanN_3": 3.02173913,
                  "WmeanN_4": 3.810810811,
                  "WmeanN_5": 4.533527697,
                  "WmeanN_6": 4.734104046,
                  "WmeanN_7": 4.372434018,
                  "WmeanN_8": 4.029761905,
                  "WmeanN_9": 5.418181818,
                  "WmeanN_10": "4.438596491",
                  "max": 5.418181818,
                  "std": 0.886185720561722,
                  "knot": 5,
                  "slope1": 0.47587516717058875,
                  "slope2": 0.07275271910588241,
                  "label": 1,
                  "cluster_0": 6.042627714722824e-14,
                  "cluster_1": 0.9999999999999354,
                  "cluster_2": 4.225135263750772e-15,
                  "_deepnote_index_column": 244
                },
                {
                  "ID": "RLB225",
                  "WmeanN_1": 2.550913838,
                  "WmeanN_2": 3.318181818,
                  "WmeanN_3": 3.097560976,
                  "WmeanN_4": 3.155619597,
                  "WmeanN_5": 3.681690141,
                  "WmeanN_6": 2.918032787,
                  "WmeanN_7": 3.032608696,
                  "WmeanN_8": 2.236074271,
                  "WmeanN_9": 2.698701299,
                  "WmeanN_10": "1.757033248",
                  "max": 3.681690141,
                  "std": 0.5564874671472668,
                  "knot": 5,
                  "slope1": 0.1798602916411769,
                  "slope2": -0.3106487677882356,
                  "label": 1,
                  "cluster_0": 1.4790120246274006e-13,
                  "cluster_1": 0.999999999999106,
                  "cluster_2": 7.459807729087511e-13,
                  "_deepnote_index_column": 245
                },
                {
                  "ID": "ILB102",
                  "WmeanN_1": 2.122340426,
                  "WmeanN_2": 2.243386243,
                  "WmeanN_3": 2,
                  "WmeanN_4": 2.115577889,
                  "WmeanN_5": 2,
                  "WmeanN_6": 2,
                  "WmeanN_7": 2.303430079,
                  "WmeanN_8": 2.183023873,
                  "WmeanN_9": 2,
                  "WmeanN_10": "2.0",
                  "max": 2.303430079,
                  "std": 0.11521679521827877,
                  "knot": 8,
                  "slope1": 0.005003333145604749,
                  "slope2": -0.08106232961538518,
                  "label": 2,
                  "cluster_0": 8.582295652029542e-55,
                  "cluster_1": 0.45290543558940655,
                  "cluster_2": 0.5470945644105936,
                  "_deepnote_index_column": 247
                },
                {
                  "ID": "ILB129",
                  "WmeanN_1": 2.777777778,
                  "WmeanN_2": 2.604166667,
                  "WmeanN_3": 2.343283582,
                  "WmeanN_4": 3.253164557,
                  "WmeanN_5": 3.648379052,
                  "WmeanN_6": 3.613466334,
                  "WmeanN_7": 4.204134367,
                  "WmeanN_8": 2.730569948,
                  "WmeanN_9": 2.404466501,
                  "WmeanN_10": "2.691176471",
                  "max": 4.204134367,
                  "std": 0.6203417012829763,
                  "knot": 7,
                  "slope1": 0.21895238117325255,
                  "slope2": -0.5103960378829787,
                  "label": 1,
                  "cluster_0": 2.0477091947236875e-40,
                  "cluster_1": 0.9927797543785525,
                  "cluster_2": 0.0072202456214473295,
                  "_deepnote_index_column": 248
                },
                {
                  "ID": "ILB138",
                  "WmeanN_1": 2.115577889,
                  "WmeanN_2": 2.183023873,
                  "WmeanN_3": 2,
                  "WmeanN_4": 2.308707124,
                  "WmeanN_5": 2.427821522,
                  "WmeanN_6": 2.115577889,
                  "WmeanN_7": 2.788113695,
                  "WmeanN_8": 3.142493639,
                  "WmeanN_9": 3.615819209,
                  "WmeanN_10": "3.521276596",
                  "max": 3.615819209,
                  "std": 0.6076594997208782,
                  "knot": 6,
                  "slope1": 0.05326853110588292,
                  "slope2": 0.34941127907058855,
                  "label": 1,
                  "cluster_0": 3.258564602362311e-32,
                  "cluster_1": 0.9999991312232902,
                  "cluster_2": 8.687767095826479e-7,
                  "_deepnote_index_column": 249
                },
                {
                  "ID": "Ilb114",
                  "WmeanN_1": 2,
                  "WmeanN_2": 2.303430079,
                  "WmeanN_3": 2.303430079,
                  "WmeanN_4": 2.720207254,
                  "WmeanN_5": 2.540469974,
                  "WmeanN_6": 3.734491315,
                  "WmeanN_7": 5.352631579,
                  "WmeanN_8": 5.216931217,
                  "WmeanN_9": 5.153846154,
                  "WmeanN_10": "4.483375959",
                  "max": 5.352631579,
                  "std": 1.362768176653228,
                  "knot": 9,
                  "slope1": 0.4744762515166673,
                  "slope2": -0.8951332305111102,
                  "label": 2,
                  "cluster_0": 4.501240097775616e-89,
                  "cluster_1": 0.04668644274856884,
                  "cluster_2": 0.9533135572514313,
                  "_deepnote_index_column": 251
                },
                {
                  "ID": "Ilb116",
                  "WmeanN_1": 3.031198686,
                  "WmeanN_2": 3.43718593,
                  "WmeanN_3": 3.763157895,
                  "WmeanN_4": 3.811881188,
                  "WmeanN_5": 4.510204082,
                  "WmeanN_6": 4.41025641,
                  "WmeanN_7": 3.851485149,
                  "WmeanN_8": 4.959899749,
                  "WmeanN_9": 4.823677582,
                  "WmeanN_10": "4.889447236",
                  "max": 4.959899749,
                  "std": 0.6639051766579079,
                  "knot": 5,
                  "slope1": 0.28980169129411837,
                  "slope2": 0.1278540379411762,
                  "label": 1,
                  "cluster_0": 7.98186523593927e-15,
                  "cluster_1": 0.9999999999999349,
                  "cluster_2": 5.709923930720385e-14,
                  "_deepnote_index_column": 252
                },
                {
                  "ID": "ILB216",
                  "WmeanN_1": 6.437837838,
                  "WmeanN_2": 5.733333333,
                  "WmeanN_3": 5.94214876,
                  "WmeanN_4": 7.03988604,
                  "WmeanN_5": 6.315789474,
                  "WmeanN_6": 6.700288184,
                  "WmeanN_7": 6.656836461,
                  "WmeanN_8": 6.931428571,
                  "WmeanN_9": 7.24671916,
                  "WmeanN_10": "8.768115942",
                  "max": 8.768115942,
                  "std": 0.8440920351395463,
                  "knot": 9,
                  "slope1": 0.13199314246666694,
                  "slope2": 1.6841136142444437,
                  "label": 2,
                  "cluster_0": 1.1832759044910799e-213,
                  "cluster_1": 1.019416200977511e-15,
                  "cluster_2": 0.9999999999999991,
                  "_deepnote_index_column": 254
                },
                {
                  "ID": "RLB124",
                  "WmeanN_1": 2.303430079,
                  "WmeanN_2": 2.662337662,
                  "WmeanN_3": 3.599469496,
                  "WmeanN_4": 4.305882353,
                  "WmeanN_5": 5.226628895,
                  "WmeanN_6": 4.228650138,
                  "WmeanN_7": 4.821325648,
                  "WmeanN_8": 5.243626062,
                  "WmeanN_9": 5.586592179,
                  "WmeanN_10": "4.364383562",
                  "max": 5.586592179,
                  "std": 1.095503975279933,
                  "knot": 5,
                  "slope1": 0.6808009784764707,
                  "slope2": 0.0013834571647063144,
                  "label": 1,
                  "cluster_0": 4.584906985607864e-13,
                  "cluster_1": 0.9999999999995413,
                  "cluster_2": 1.1131541516084666e-16,
                  "_deepnote_index_column": 256
                },
                {
                  "ID": "RLB154",
                  "WmeanN_1": 2.243386243,
                  "WmeanN_2": 2.172932331,
                  "WmeanN_3": 2.183023873,
                  "WmeanN_4": 2.061333333,
                  "WmeanN_5": 2.793281654,
                  "WmeanN_6": 2.545691906,
                  "WmeanN_7": 2.248677249,
                  "WmeanN_8": 2.855670103,
                  "WmeanN_9": 2.422572178,
                  "WmeanN_10": "2.0",
                  "max": 2.855670103,
                  "std": 0.2948422468091182,
                  "knot": 8,
                  "slope1": 0.08007454184670358,
                  "slope2": -0.3190303986615386,
                  "label": 2,
                  "cluster_0": 2.927247077848974e-54,
                  "cluster_1": 0.4496234314349759,
                  "cluster_2": 0.5503765685650239,
                  "_deepnote_index_column": 257
                },
                {
                  "ID": "Rlb121",
                  "WmeanN_1": 3.286532951,
                  "WmeanN_2": 3.092485549,
                  "WmeanN_3": 3.728915663,
                  "WmeanN_4": 3.798798799,
                  "WmeanN_5": 4.438596491,
                  "WmeanN_6": 4.011904762,
                  "WmeanN_7": 3.682779456,
                  "WmeanN_8": 4.294117647,
                  "WmeanN_9": 4.366568915,
                  "WmeanN_10": "4.798270893",
                  "max": 4.798270893,
                  "std": 0.5346582723487507,
                  "knot": 5,
                  "slope1": 0.21664613437647096,
                  "slope2": 0.09905532416470582,
                  "label": 1,
                  "cluster_0": 2.3479961942457357e-14,
                  "cluster_1": 0.9999999999998468,
                  "cluster_2": 1.2985383853346026e-13,
                  "_deepnote_index_column": 258
                },
                {
                  "ID": "RLB207",
                  "WmeanN_1": 2.677922078,
                  "WmeanN_2": 4.219638243,
                  "WmeanN_3": 3.782178218,
                  "WmeanN_4": 4.273195876,
                  "WmeanN_5": 3.706467662,
                  "WmeanN_6": 4.198966408,
                  "WmeanN_7": 3.784210526,
                  "WmeanN_8": 4.782828283,
                  "WmeanN_9": 4.198966408,
                  "WmeanN_10": "4.510204082",
                  "max": 4.782828283,
                  "std": 0.5774880572627908,
                  "knot": 2,
                  "slope1": 1.2499528490666663,
                  "slope2": 0.05849392673333342,
                  "label": 0,
                  "cluster_0": 0.9980217932410361,
                  "cluster_1": 0.001978206758963723,
                  "cluster_2": 1.6007925275098067e-57,
                  "_deepnote_index_column": 259
                },
                {
                  "ID": "ILB152",
                  "WmeanN_1": 3.085333333,
                  "WmeanN_2": 5.089473684,
                  "WmeanN_3": 6.527272727,
                  "WmeanN_4": 5.801470588,
                  "WmeanN_5": 6.888586957,
                  "WmeanN_6": 5.812169312,
                  "WmeanN_7": 8.186528497,
                  "WmeanN_8": 5.788697789,
                  "WmeanN_9": 6.277922078,
                  "WmeanN_10": "7.987277354",
                  "max": 8.186528497,
                  "std": 1.457165431918075,
                  "knot": 3,
                  "slope1": 1.4938186020615398,
                  "slope2": 0.12483608062472358,
                  "label": 0,
                  "cluster_0": 0.990301368546514,
                  "cluster_1": 0.009698631453485845,
                  "cluster_2": 1.5579680398920826e-48,
                  "_deepnote_index_column": 260
                },
                {
                  "ID": "ILB153",
                  "WmeanN_1": 5.85,
                  "WmeanN_2": 5.958579882,
                  "WmeanN_3": 5.623100304,
                  "WmeanN_4": 6.3125,
                  "WmeanN_5": 3.71884984,
                  "WmeanN_6": 3.670068027,
                  "WmeanN_7": 3.111842105,
                  "WmeanN_8": 7.050632911,
                  "WmeanN_9": 2,
                  "WmeanN_10": "2.0",
                  "max": 7.050632911,
                  "std": 1.8475035020718902,
                  "knot": 8,
                  "slope1": -0.20951407608296627,
                  "slope2": -1.4216472394153852,
                  "label": 2,
                  "cluster_0": 1.3664625708657027e-102,
                  "cluster_1": 0.000006505704152614458,
                  "cluster_2": 0.9999934942958473,
                  "_deepnote_index_column": 261
                },
                {
                  "ID": "ILB248",
                  "WmeanN_1": 3.868852459,
                  "WmeanN_2": 3.812010444,
                  "WmeanN_3": 4.51344086,
                  "WmeanN_4": 4.396648045,
                  "WmeanN_5": 5.578666667,
                  "WmeanN_6": 7.539509537,
                  "WmeanN_7": 5.446753247,
                  "WmeanN_8": 5.456756757,
                  "WmeanN_9": 5.663911846,
                  "WmeanN_10": "5.065445026",
                  "max": 7.539509537,
                  "std": 1.092842028053551,
                  "knot": 6,
                  "slope1": 0.6025676370705889,
                  "slope2": -0.338336352052941,
                  "label": 1,
                  "cluster_0": 6.861567879608594e-25,
                  "cluster_1": 0.9999999979506744,
                  "cluster_2": 2.0493256798209205e-9,
                  "_deepnote_index_column": 262
                },
                {
                  "ID": "RLB103",
                  "WmeanN_1": 2.468144044,
                  "WmeanN_2": 3.242165242,
                  "WmeanN_3": 2.601648352,
                  "WmeanN_4": 2.430894309,
                  "WmeanN_5": 2.463190184,
                  "WmeanN_6": 2.468926554,
                  "WmeanN_7": 2.73993808,
                  "WmeanN_8": 2.109660574,
                  "WmeanN_9": 3.051987768,
                  "WmeanN_10": "3.321937322",
                  "max": 3.321937322,
                  "std": 0.39426891706944023,
                  "knot": 8,
                  "slope1": -0.05734060598021922,
                  "slope2": 0.5141404325692303,
                  "label": 2,
                  "cluster_0": 2.5118137541388622e-74,
                  "cluster_1": 0.021809350946557865,
                  "cluster_2": 0.978190649053442,
                  "_deepnote_index_column": 263
                },
                {
                  "ID": "RLB104",
                  "WmeanN_1": 5.124610592,
                  "WmeanN_2": 8.013245033,
                  "WmeanN_3": 4.577639752,
                  "WmeanN_4": 4.93968254,
                  "WmeanN_5": 4.714733542,
                  "WmeanN_6": 5.13190184,
                  "WmeanN_7": 5.109467456,
                  "WmeanN_8": 4.384393064,
                  "WmeanN_9": 4.742296919,
                  "WmeanN_10": "5.158045977",
                  "max": 8.013245033,
                  "std": 1.0273391382642478,
                  "knot": 5,
                  "slope1": -0.35352380554705753,
                  "slope2": 0.022223554329411144,
                  "label": 1,
                  "cluster_0": 4.590834552467627e-12,
                  "cluster_1": 0.9999999999913491,
                  "cluster_2": 4.060198685125598e-12,
                  "_deepnote_index_column": 264
                },
                {
                  "ID": "RLB115",
                  "WmeanN_1": 3.727272727,
                  "WmeanN_2": 3.825242718,
                  "WmeanN_3": 4.12962963,
                  "WmeanN_4": 3.869415808,
                  "WmeanN_5": 4.261146497,
                  "WmeanN_6": 4.506289308,
                  "WmeanN_7": 5.222929936,
                  "WmeanN_8": 5.200657895,
                  "WmeanN_9": 5.336507937,
                  "WmeanN_10": "nan",
                  "max": 5.336507937,
                  "std": 0.6459407794786381,
                  "knot": 4,
                  "slope1": 0.08215932058333426,
                  "slope2": 0.2935868517833338,
                  "label": 1,
                  "cluster_0": 6.81902375389568e-10,
                  "cluster_1": 0.9999999993180979,
                  "cluster_2": 1.3475093699279768e-20,
                  "_deepnote_index_column": 265
                },
                {
                  "ID": "RLB120",
                  "WmeanN_1": 4.619897959,
                  "WmeanN_2": 4.160526316,
                  "WmeanN_3": 5.081920904,
                  "WmeanN_4": 4.915343915,
                  "WmeanN_5": 5.580474934,
                  "WmeanN_6": 5.324324324,
                  "WmeanN_7": 3.19160105,
                  "WmeanN_8": 5.307086614,
                  "WmeanN_9": 4.853846154,
                  "WmeanN_10": "5.693877551",
                  "max": 5.693877551,
                  "std": 0.7461810245431967,
                  "knot": 7,
                  "slope1": -0.03838184338115506,
                  "slope2": 0.32141182394255274,
                  "label": 1,
                  "cluster_0": 3.2038550522198343e-46,
                  "cluster_1": 0.982555364402373,
                  "cluster_2": 0.017444635597627222,
                  "_deepnote_index_column": 266
                },
                {
                  "ID": "Rlb110",
                  "WmeanN_1": 3.630914826,
                  "WmeanN_2": 2.742038217,
                  "WmeanN_3": 2.996978852,
                  "WmeanN_4": 3.464968153,
                  "WmeanN_5": 3.581325301,
                  "WmeanN_6": 3.405405405,
                  "WmeanN_7": 3.982698962,
                  "WmeanN_8": 4.139534884,
                  "WmeanN_9": 3.119601329,
                  "WmeanN_10": "3.580756014",
                  "max": 4.139534884,
                  "std": 0.4271396128330888,
                  "knot": 8,
                  "slope1": 0.11224793360494559,
                  "slope2": -0.2573258215076928,
                  "label": 2,
                  "cluster_0": 4.420681753768895e-54,
                  "cluster_1": 0.4668668982098944,
                  "cluster_2": 0.5331331017901058,
                  "_deepnote_index_column": 269
                }
              ]
            },
            "text/plain": "          ID  WmeanN_1  WmeanN_2  WmeanN_3  WmeanN_4  WmeanN_5  WmeanN_6  \\\n0    RGTA104  2.532189  2.951220  3.981067  3.069697  6.489933  8.599343   \n1    RGTA107  2.004138  2.490342  2.164074  2.579515  4.816541  4.362275   \n2    RGTA110  3.025449  3.758287  3.861799  3.580940  4.017241  5.250646   \n3    RGTA113  2.552137  2.758261  3.335548  3.615517  3.603839  4.394864   \n4    RRTA101  1.738197  2.528198  2.299090  2.566576  3.322917  3.460189   \n..       ...       ...       ...       ...       ...       ...       ...   \n263   RLB103  2.468144  3.242165  2.601648  2.430894  2.463190  2.468927   \n264   RLB104  5.124611  8.013245  4.577640  4.939683  4.714734  5.131902   \n265   RLB115  3.727273  3.825243  4.129630  3.869416  4.261146  4.506289   \n266   RLB120  4.619898  4.160526  5.081921  4.915344  5.580475  5.324324   \n269   Rlb110  3.630915  2.742038  2.996979  3.464968  3.581325  3.405405   \n\n     WmeanN_7  WmeanN_8  WmeanN_9  WmeanN_10       max       std  knot  \\\n0    3.490166  5.315956  6.595960   6.297114  8.599343  2.021831   6.0   \n1    4.104225  2.912553  4.726727   4.812147  4.816541  1.169164   5.0   \n2    4.645780  5.345315  4.882199   4.956466  5.345315  0.787565   8.0   \n3    4.600334  4.544872  5.965574   5.740260  5.965574  1.153073   8.0   \n4    3.578313  3.400264  3.597671   2.701987  3.597671  0.639926   7.0   \n..        ...       ...       ...        ...       ...       ...   ...   \n263  2.739938  2.109661  3.051988   3.321937  3.321937  0.394269   8.0   \n264  5.109467  4.384393  4.742297   5.158046  8.013245  1.027339   5.0   \n265  5.222930  5.200658  5.336508        NaN  5.336508  0.645941   4.0   \n266  3.191601  5.307087  4.853846   5.693878  5.693878  0.746181   7.0   \n269  3.982699  4.139535  3.119601   3.580756  4.139535  0.427140   8.0   \n\n       slope1    slope2  label     cluster_0  cluster_1     cluster_2  \n0    0.828884 -0.132875      1  3.931761e-23   1.000000  2.735127e-11  \n1    0.544715  0.112200      1  2.181939e-14   1.000000  1.456749e-15  \n2    0.294313 -0.164472      1  3.245068e-54   0.541341  4.586587e-01  \n3    0.335222  0.560211      2  5.745222e-76   0.005349  9.946510e-01  \n4    0.309710 -0.261232      1  2.326919e-37   0.998456  1.543968e-03  \n..        ...       ...    ...           ...        ...           ...  \n263 -0.057341  0.514140      2  2.511814e-74   0.021809  9.781906e-01  \n264 -0.353524  0.022224      1  4.590835e-12   1.000000  4.060199e-12  \n265  0.082159  0.293587      1  6.819024e-10   1.000000  1.347509e-20  \n266 -0.038382  0.321412      1  3.203855e-46   0.982555  1.744464e-02  \n269  0.112248 -0.257326      2  4.420682e-54   0.466867  5.331331e-01  \n\n[243 rows x 20 columns]",
            "text/html": "<div>\n<style scoped>\n    .dataframe tbody tr th:only-of-type {\n        vertical-align: middle;\n    }\n\n    .dataframe tbody tr th {\n        vertical-align: top;\n    }\n\n    .dataframe thead th {\n        text-align: right;\n    }\n</style>\n<table border=\"1\" class=\"dataframe\">\n  <thead>\n    <tr style=\"text-align: right;\">\n      <th></th>\n      <th>ID</th>\n      <th>WmeanN_1</th>\n      <th>WmeanN_2</th>\n      <th>WmeanN_3</th>\n      <th>WmeanN_4</th>\n      <th>WmeanN_5</th>\n      <th>WmeanN_6</th>\n      <th>WmeanN_7</th>\n      <th>WmeanN_8</th>\n      <th>WmeanN_9</th>\n      <th>WmeanN_10</th>\n      <th>max</th>\n      <th>std</th>\n      <th>knot</th>\n      <th>slope1</th>\n      <th>slope2</th>\n      <th>label</th>\n      <th>cluster_0</th>\n      <th>cluster_1</th>\n      <th>cluster_2</th>\n    </tr>\n  </thead>\n  <tbody>\n    <tr>\n      <th>0</th>\n      <td>RGTA104</td>\n      <td>2.532189</td>\n      <td>2.951220</td>\n      <td>3.981067</td>\n      <td>3.069697</td>\n      <td>6.489933</td>\n      <td>8.599343</td>\n      <td>3.490166</td>\n      <td>5.315956</td>\n      <td>6.595960</td>\n      <td>6.297114</td>\n      <td>8.599343</td>\n      <td>2.021831</td>\n      <td>6.0</td>\n      <td>0.828884</td>\n      <td>-0.132875</td>\n      <td>1</td>\n      <td>3.931761e-23</td>\n      <td>1.000000</td>\n      <td>2.735127e-11</td>\n    </tr>\n    <tr>\n      <th>1</th>\n      <td>RGTA107</td>\n      <td>2.004138</td>\n      <td>2.490342</td>\n      <td>2.164074</td>\n      <td>2.579515</td>\n      <td>4.816541</td>\n      <td>4.362275</td>\n      <td>4.104225</td>\n      <td>2.912553</td>\n      <td>4.726727</td>\n      <td>4.812147</td>\n      <td>4.816541</td>\n      <td>1.169164</td>\n      <td>5.0</td>\n      <td>0.544715</td>\n      <td>0.112200</td>\n      <td>1</td>\n      <td>2.181939e-14</td>\n      <td>1.000000</td>\n      <td>1.456749e-15</td>\n    </tr>\n    <tr>\n      <th>2</th>\n      <td>RGTA110</td>\n      <td>3.025449</td>\n      <td>3.758287</td>\n      <td>3.861799</td>\n      <td>3.580940</td>\n      <td>4.017241</td>\n      <td>5.250646</td>\n      <td>4.645780</td>\n      <td>5.345315</td>\n      <td>4.882199</td>\n      <td>4.956466</td>\n      <td>5.345315</td>\n      <td>0.787565</td>\n      <td>8.0</td>\n      <td>0.294313</td>\n      <td>-0.164472</td>\n      <td>1</td>\n      <td>3.245068e-54</td>\n      <td>0.541341</td>\n      <td>4.586587e-01</td>\n    </tr>\n    <tr>\n      <th>3</th>\n      <td>RGTA113</td>\n      <td>2.552137</td>\n      <td>2.758261</td>\n      <td>3.335548</td>\n      <td>3.615517</td>\n      <td>3.603839</td>\n      <td>4.394864</td>\n      <td>4.600334</td>\n      <td>4.544872</td>\n      <td>5.965574</td>\n      <td>5.740260</td>\n      <td>5.965574</td>\n      <td>1.153073</td>\n      <td>8.0</td>\n      <td>0.335222</td>\n      <td>0.560211</td>\n      <td>2</td>\n      <td>5.745222e-76</td>\n      <td>0.005349</td>\n      <td>9.946510e-01</td>\n    </tr>\n    <tr>\n      <th>4</th>\n      <td>RRTA101</td>\n      <td>1.738197</td>\n      <td>2.528198</td>\n      <td>2.299090</td>\n      <td>2.566576</td>\n      <td>3.322917</td>\n      <td>3.460189</td>\n      <td>3.578313</td>\n      <td>3.400264</td>\n      <td>3.597671</td>\n      <td>2.701987</td>\n      <td>3.597671</td>\n      <td>0.639926</td>\n      <td>7.0</td>\n      <td>0.309710</td>\n      <td>-0.261232</td>\n      <td>1</td>\n      <td>2.326919e-37</td>\n      <td>0.998456</td>\n      <td>1.543968e-03</td>\n    </tr>\n    <tr>\n      <th>...</th>\n      <td>...</td>\n      <td>...</td>\n      <td>...</td>\n      <td>...</td>\n      <td>...</td>\n      <td>...</td>\n      <td>...</td>\n      <td>...</td>\n      <td>...</td>\n      <td>...</td>\n      <td>...</td>\n      <td>...</td>\n      <td>...</td>\n      <td>...</td>\n      <td>...</td>\n      <td>...</td>\n      <td>...</td>\n      <td>...</td>\n      <td>...</td>\n      <td>...</td>\n    </tr>\n    <tr>\n      <th>263</th>\n      <td>RLB103</td>\n      <td>2.468144</td>\n      <td>3.242165</td>\n      <td>2.601648</td>\n      <td>2.430894</td>\n      <td>2.463190</td>\n      <td>2.468927</td>\n      <td>2.739938</td>\n      <td>2.109661</td>\n      <td>3.051988</td>\n      <td>3.321937</td>\n      <td>3.321937</td>\n      <td>0.394269</td>\n      <td>8.0</td>\n      <td>-0.057341</td>\n      <td>0.514140</td>\n      <td>2</td>\n      <td>2.511814e-74</td>\n      <td>0.021809</td>\n      <td>9.781906e-01</td>\n    </tr>\n    <tr>\n      <th>264</th>\n      <td>RLB104</td>\n      <td>5.124611</td>\n      <td>8.013245</td>\n      <td>4.577640</td>\n      <td>4.939683</td>\n      <td>4.714734</td>\n      <td>5.131902</td>\n      <td>5.109467</td>\n      <td>4.384393</td>\n      <td>4.742297</td>\n      <td>5.158046</td>\n      <td>8.013245</td>\n      <td>1.027339</td>\n      <td>5.0</td>\n      <td>-0.353524</td>\n      <td>0.022224</td>\n      <td>1</td>\n      <td>4.590835e-12</td>\n      <td>1.000000</td>\n      <td>4.060199e-12</td>\n    </tr>\n    <tr>\n      <th>265</th>\n      <td>RLB115</td>\n      <td>3.727273</td>\n      <td>3.825243</td>\n      <td>4.129630</td>\n      <td>3.869416</td>\n      <td>4.261146</td>\n      <td>4.506289</td>\n      <td>5.222930</td>\n      <td>5.200658</td>\n      <td>5.336508</td>\n      <td>NaN</td>\n      <td>5.336508</td>\n      <td>0.645941</td>\n      <td>4.0</td>\n      <td>0.082159</td>\n      <td>0.293587</td>\n      <td>1</td>\n      <td>6.819024e-10</td>\n      <td>1.000000</td>\n      <td>1.347509e-20</td>\n    </tr>\n    <tr>\n      <th>266</th>\n      <td>RLB120</td>\n      <td>4.619898</td>\n      <td>4.160526</td>\n      <td>5.081921</td>\n      <td>4.915344</td>\n      <td>5.580475</td>\n      <td>5.324324</td>\n      <td>3.191601</td>\n      <td>5.307087</td>\n      <td>4.853846</td>\n      <td>5.693878</td>\n      <td>5.693878</td>\n      <td>0.746181</td>\n      <td>7.0</td>\n      <td>-0.038382</td>\n      <td>0.321412</td>\n      <td>1</td>\n      <td>3.203855e-46</td>\n      <td>0.982555</td>\n      <td>1.744464e-02</td>\n    </tr>\n    <tr>\n      <th>269</th>\n      <td>Rlb110</td>\n      <td>3.630915</td>\n      <td>2.742038</td>\n      <td>2.996979</td>\n      <td>3.464968</td>\n      <td>3.581325</td>\n      <td>3.405405</td>\n      <td>3.982699</td>\n      <td>4.139535</td>\n      <td>3.119601</td>\n      <td>3.580756</td>\n      <td>4.139535</td>\n      <td>0.427140</td>\n      <td>8.0</td>\n      <td>0.112248</td>\n      <td>-0.257326</td>\n      <td>2</td>\n      <td>4.420682e-54</td>\n      <td>0.466867</td>\n      <td>5.331331e-01</td>\n    </tr>\n  </tbody>\n</table>\n<p>243 rows × 20 columns</p>\n</div>"
          },
          "metadata": {}
        }
      ]
    },
    {
      "cell_type": "markdown",
      "source": "<a style='text-decoration:none;line-height:16px;display:flex;color:#5B5B62;padding:10px;justify-content:end;' href='https://deepnote.com?utm_source=created-in-deepnote-cell&projectId=6b8ead81-70bf-4d6b-bd50-8194f8f72b46' target=\"_blank\">\n<img style='display:inline;max-height:16px;margin:0px;margin-right:7.5px;' src='data:image/svg+xml;base64,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' > </img>\nCreated in <span style='font-weight:600;margin-left:4px;'>Deepnote</span></a>",
      "metadata": {
        "tags": [],
        "created_in_deepnote_cell": true,
        "deepnote_cell_type": "markdown"
      }
    }
  ],
  "nbformat": 4,
  "nbformat_minor": 2,
  "metadata": {
    "orig_nbformat": 2,
    "deepnote_notebook_id": "f10bae57-c069-44ff-8ccc-e9f3ba142891",
    "deepnote": {},
    "deepnote_execution_queue": []
  }
}