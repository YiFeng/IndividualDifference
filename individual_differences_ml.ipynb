{
  "cells": [
    {
      "cell_type": "code",
      "metadata": {
        "tags": [],
        "cell_id": "00000-99eb8be9-e965-44a1-b423-adf2b6bf803e",
        "deepnote_to_be_reexecuted": false,
        "source_hash": "2a02412d",
        "execution_millis": 10,
        "execution_start": 1616896545406,
        "deepnote_cell_type": "code"
      },
      "source": "import os.path as path\nimport raw_data_preprocessing as rdp\n\ngoogledrive_loc = '/datasets/googledrive'\ndata_folder_loc = 'Yi_UCI_research/GSR other works/2020 Summer_predict individual training/data/'\nfile_name = 'raw data/yi feng larger dataset.csv'\ndata_path = path.join(googledrive_loc, data_folder_loc, file_name)\nraw_data = rdp.read_raw_data(data_path)\nprint('Used Feature columns: {}'.format(rdp.feature_col_names))\ndata_no_missing = rdp.delete_missing_row(raw_data)\n",
      "execution_count": 1,
      "outputs": [
        {
          "name": "stdout",
          "text": "Used Feature columns: ['Sleep', 'SES', 'VGQHoursSumPastYear', 'CFQ', 'TCA', 'Workmastery', 'Grit', 'Ambition', 'PSS', 'Competitiveness', 'MRpre', 'IC_pre', 'WM_pre', 'Updating_acc_zscore', 'Person_extraver', 'Person_agreeable', 'Person_conscien', 'Person_emot', 'Person_opennes']\nThe sample size of raw data is 281.\nThe sample size of no missing data is 262.\n",
          "output_type": "stream"
        }
      ]
    },
    {
      "cell_type": "code",
      "source": "import intervention_data_preprocessing as idp\n\nx = range(1,10)\ny = [3,4,3,5,6,7,8,9,7]\nlog_reg = idp.LogRegressor(0)\nresult = log_reg.fit_row(x,y)\nprint(result)",
      "metadata": {
        "tags": [],
        "cell_id": "00001-0988e835-55eb-4bad-a244-3bb35ef34437",
        "deepnote_to_be_reexecuted": false,
        "source_hash": "433935bb",
        "execution_millis": 81,
        "execution_start": 1616896545408,
        "deepnote_cell_type": "code"
      },
      "outputs": [
        {
          "name": "stdout",
          "text": "{'parameters': array([2.63260125, 2.03309922]), 'r2': 0.7637657984889122}\n",
          "output_type": "stream"
        }
      ],
      "execution_count": 2
    },
    {
      "cell_type": "code",
      "source": "# piece_em_processor = raw_data_preprocessing.InterventionProcessor(intervention_data)\n# piece_em_processor.register_regressor(raw_data_preprocessing.LogRegressor(0))\n# piece_em_processor.fit()",
      "metadata": {
        "tags": [],
        "cell_id": "00003-b9c94475-ae6b-488e-8e3d-3c779dc2329f",
        "deepnote_to_be_reexecuted": false,
        "source_hash": "e807ff4c",
        "execution_millis": 2,
        "execution_start": 1616896545487,
        "deepnote_cell_type": "code"
      },
      "outputs": [],
      "execution_count": 3
    },
    {
      "cell_type": "code",
      "source": "intervention_data = idp.get_intervention_data(data_no_missing)\nlog_reg.fit(intervention_data)\nintervention_data",
      "metadata": {
        "tags": [],
        "cell_id": "00004-a3673654-c12d-4ab6-8e12-ffbfc0550a61",
        "deepnote_to_be_reexecuted": false,
        "source_hash": "7566a7d2",
        "execution_millis": 608,
        "execution_start": 1616896545533,
        "deepnote_cell_type": "code"
      },
      "outputs": [
        {
          "name": "stderr",
          "text": "/work/IndividualDifference/intervention_data_preprocessing.py:44: SettingWithCopyWarning: \nA value is trying to be set on a copy of a slice from a DataFrame.\nTry using .loc[row_indexer,col_indexer] = value instead\n\nSee the caveats in the documentation: https://pandas.pydata.org/pandas-docs/stable/user_guide/indexing.html#returning-a-view-versus-a-copy\n  data[pn] = np.nan\n/work/IndividualDifference/intervention_data_preprocessing.py:37: RuntimeWarning: divide by zero encountered in double_scalars\n  result['r2'] = 1-(ssreg/sstot)\n",
          "output_type": "stream"
        },
        {
          "output_type": "execute_result",
          "execution_count": 4,
          "data": {
            "application/vnd.deepnote.dataframe.v2+json": {
              "row_count": 262,
              "column_count": 12,
              "columns": [
                {
                  "name": "WmeanN_1",
                  "dtype": "float64",
                  "stats": {
                    "unique_count": 245,
                    "nan_count": 0,
                    "min": 1,
                    "max": 14.15915119,
                    "histogram": [
                      {
                        "bin_start": 1,
                        "bin_end": 2.315915119,
                        "count": 130
                      },
                      {
                        "bin_start": 2.315915119,
                        "bin_end": 3.631830238,
                        "count": 109
                      },
                      {
                        "bin_start": 3.631830238,
                        "bin_end": 4.9477453570000005,
                        "count": 15
                      },
                      {
                        "bin_start": 4.9477453570000005,
                        "bin_end": 6.263660476,
                        "count": 4
                      },
                      {
                        "bin_start": 6.263660476,
                        "bin_end": 7.579575595,
                        "count": 1
                      },
                      {
                        "bin_start": 7.579575595,
                        "bin_end": 8.895490714000001,
                        "count": 0
                      },
                      {
                        "bin_start": 8.895490714000001,
                        "bin_end": 10.211405833,
                        "count": 1
                      },
                      {
                        "bin_start": 10.211405833,
                        "bin_end": 11.527320952,
                        "count": 0
                      },
                      {
                        "bin_start": 11.527320952,
                        "bin_end": 12.843236071,
                        "count": 1
                      },
                      {
                        "bin_start": 12.843236071,
                        "bin_end": 14.15915119,
                        "count": 1
                      }
                    ]
                  }
                },
                {
                  "name": "WmeanN_2",
                  "dtype": "float64",
                  "stats": {
                    "unique_count": 238,
                    "nan_count": 0,
                    "min": 1,
                    "max": 35.43387471,
                    "histogram": [
                      {
                        "bin_start": 1,
                        "bin_end": 4.443387470999999,
                        "count": 238
                      },
                      {
                        "bin_start": 4.443387470999999,
                        "bin_end": 7.886774942,
                        "count": 18
                      },
                      {
                        "bin_start": 7.886774942,
                        "bin_end": 11.330162413,
                        "count": 3
                      },
                      {
                        "bin_start": 11.330162413,
                        "bin_end": 14.773549884,
                        "count": 1
                      },
                      {
                        "bin_start": 14.773549884,
                        "bin_end": 18.216937355,
                        "count": 0
                      },
                      {
                        "bin_start": 18.216937355,
                        "bin_end": 21.660324826,
                        "count": 0
                      },
                      {
                        "bin_start": 21.660324826,
                        "bin_end": 25.103712296999998,
                        "count": 1
                      },
                      {
                        "bin_start": 25.103712296999998,
                        "bin_end": 28.547099768,
                        "count": 0
                      },
                      {
                        "bin_start": 28.547099768,
                        "bin_end": 31.990487239,
                        "count": 0
                      },
                      {
                        "bin_start": 31.990487239,
                        "bin_end": 35.43387471,
                        "count": 1
                      }
                    ]
                  }
                },
                {
                  "name": "WmeanN_3",
                  "dtype": "float64",
                  "stats": {
                    "unique_count": 241,
                    "nan_count": 0,
                    "min": 1.061452514,
                    "max": 49.54830287,
                    "histogram": [
                      {
                        "bin_start": 1.061452514,
                        "bin_end": 5.9101375496,
                        "count": 251
                      },
                      {
                        "bin_start": 5.9101375496,
                        "bin_end": 10.7588225852,
                        "count": 8
                      },
                      {
                        "bin_start": 10.7588225852,
                        "bin_end": 15.6075076208,
                        "count": 1
                      },
                      {
                        "bin_start": 15.6075076208,
                        "bin_end": 20.4561926564,
                        "count": 0
                      },
                      {
                        "bin_start": 20.4561926564,
                        "bin_end": 25.304877691999998,
                        "count": 0
                      },
                      {
                        "bin_start": 25.304877691999998,
                        "bin_end": 30.1535627276,
                        "count": 1
                      },
                      {
                        "bin_start": 30.1535627276,
                        "bin_end": 35.0022477632,
                        "count": 0
                      },
                      {
                        "bin_start": 35.0022477632,
                        "bin_end": 39.8509327988,
                        "count": 0
                      },
                      {
                        "bin_start": 39.8509327988,
                        "bin_end": 44.6996178344,
                        "count": 0
                      },
                      {
                        "bin_start": 44.6996178344,
                        "bin_end": 49.54830287,
                        "count": 1
                      }
                    ]
                  }
                },
                {
                  "name": "WmeanN_4",
                  "dtype": "float64",
                  "stats": {
                    "unique_count": 239,
                    "nan_count": 0,
                    "min": 1.230366492,
                    "max": 60.69811321,
                    "histogram": [
                      {
                        "bin_start": 1.230366492,
                        "bin_end": 7.1771411638,
                        "count": 252
                      },
                      {
                        "bin_start": 7.1771411638,
                        "bin_end": 13.1239158356,
                        "count": 7
                      },
                      {
                        "bin_start": 13.1239158356,
                        "bin_end": 19.070690507400002,
                        "count": 1
                      },
                      {
                        "bin_start": 19.070690507400002,
                        "bin_end": 25.017465179200002,
                        "count": 0
                      },
                      {
                        "bin_start": 25.017465179200002,
                        "bin_end": 30.964239851000002,
                        "count": 0
                      },
                      {
                        "bin_start": 30.964239851000002,
                        "bin_end": 36.9110145228,
                        "count": 1
                      },
                      {
                        "bin_start": 36.9110145228,
                        "bin_end": 42.8577891946,
                        "count": 0
                      },
                      {
                        "bin_start": 42.8577891946,
                        "bin_end": 48.8045638664,
                        "count": 0
                      },
                      {
                        "bin_start": 48.8045638664,
                        "bin_end": 54.7513385382,
                        "count": 0
                      },
                      {
                        "bin_start": 54.7513385382,
                        "bin_end": 60.69811321,
                        "count": 1
                      }
                    ]
                  }
                },
                {
                  "name": "WmeanN_5",
                  "dtype": "float64",
                  "stats": {
                    "unique_count": 242,
                    "nan_count": 0,
                    "min": 1,
                    "max": 69.02238806,
                    "histogram": [
                      {
                        "bin_start": 1,
                        "bin_end": 7.802238806,
                        "count": 250
                      },
                      {
                        "bin_start": 7.802238806,
                        "bin_end": 14.604477612,
                        "count": 9
                      },
                      {
                        "bin_start": 14.604477612,
                        "bin_end": 21.406716418000002,
                        "count": 0
                      },
                      {
                        "bin_start": 21.406716418000002,
                        "bin_end": 28.208955224,
                        "count": 1
                      },
                      {
                        "bin_start": 28.208955224,
                        "bin_end": 35.01119403,
                        "count": 0
                      },
                      {
                        "bin_start": 35.01119403,
                        "bin_end": 41.813432836000004,
                        "count": 0
                      },
                      {
                        "bin_start": 41.813432836000004,
                        "bin_end": 48.615671642,
                        "count": 1
                      },
                      {
                        "bin_start": 48.615671642,
                        "bin_end": 55.417910448,
                        "count": 0
                      },
                      {
                        "bin_start": 55.417910448,
                        "bin_end": 62.220149254,
                        "count": 0
                      },
                      {
                        "bin_start": 62.220149254,
                        "bin_end": 69.02238806,
                        "count": 1
                      }
                    ]
                  }
                },
                {
                  "name": "WmeanN_6",
                  "dtype": "float64",
                  "stats": {
                    "unique_count": 243,
                    "nan_count": 0,
                    "min": 1.173228346,
                    "max": 67.02293578,
                    "histogram": [
                      {
                        "bin_start": 1.173228346,
                        "bin_end": 7.7581990894,
                        "count": 250
                      },
                      {
                        "bin_start": 7.7581990894,
                        "bin_end": 14.3431698328,
                        "count": 8
                      },
                      {
                        "bin_start": 14.3431698328,
                        "bin_end": 20.928140576199997,
                        "count": 1
                      },
                      {
                        "bin_start": 20.928140576199997,
                        "bin_end": 27.513111319599997,
                        "count": 1
                      },
                      {
                        "bin_start": 27.513111319599997,
                        "bin_end": 34.098082063,
                        "count": 0
                      },
                      {
                        "bin_start": 34.098082063,
                        "bin_end": 40.6830528064,
                        "count": 0
                      },
                      {
                        "bin_start": 40.6830528064,
                        "bin_end": 47.2680235498,
                        "count": 1
                      },
                      {
                        "bin_start": 47.2680235498,
                        "bin_end": 53.8529942932,
                        "count": 0
                      },
                      {
                        "bin_start": 53.8529942932,
                        "bin_end": 60.4379650366,
                        "count": 0
                      },
                      {
                        "bin_start": 60.4379650366,
                        "bin_end": 67.02293578,
                        "count": 1
                      }
                    ]
                  }
                },
                {
                  "name": "WmeanN_7",
                  "dtype": "float64",
                  "stats": {
                    "unique_count": 243,
                    "nan_count": 0,
                    "min": 1,
                    "max": 59.93129771,
                    "histogram": [
                      {
                        "bin_start": 1,
                        "bin_end": 6.893129771,
                        "count": 246
                      },
                      {
                        "bin_start": 6.893129771,
                        "bin_end": 12.786259542,
                        "count": 12
                      },
                      {
                        "bin_start": 12.786259542,
                        "bin_end": 18.679389313,
                        "count": 1
                      },
                      {
                        "bin_start": 18.679389313,
                        "bin_end": 24.572519084,
                        "count": 0
                      },
                      {
                        "bin_start": 24.572519084,
                        "bin_end": 30.465648854999998,
                        "count": 0
                      },
                      {
                        "bin_start": 30.465648854999998,
                        "bin_end": 36.358778626,
                        "count": 1
                      },
                      {
                        "bin_start": 36.358778626,
                        "bin_end": 42.251908397,
                        "count": 1
                      },
                      {
                        "bin_start": 42.251908397,
                        "bin_end": 48.145038168,
                        "count": 0
                      },
                      {
                        "bin_start": 48.145038168,
                        "bin_end": 54.038167939,
                        "count": 0
                      },
                      {
                        "bin_start": 54.038167939,
                        "bin_end": 59.93129771,
                        "count": 1
                      }
                    ]
                  }
                },
                {
                  "name": "WmeanN_8",
                  "dtype": "float64",
                  "stats": {
                    "unique_count": 246,
                    "nan_count": 0,
                    "min": 1,
                    "max": 54,
                    "histogram": [
                      {
                        "bin_start": 1,
                        "bin_end": 6.3,
                        "count": 238
                      },
                      {
                        "bin_start": 6.3,
                        "bin_end": 11.6,
                        "count": 18
                      },
                      {
                        "bin_start": 11.6,
                        "bin_end": 16.9,
                        "count": 1
                      },
                      {
                        "bin_start": 16.9,
                        "bin_end": 22.2,
                        "count": 1
                      },
                      {
                        "bin_start": 22.2,
                        "bin_end": 27.5,
                        "count": 1
                      },
                      {
                        "bin_start": 27.5,
                        "bin_end": 32.8,
                        "count": 0
                      },
                      {
                        "bin_start": 32.8,
                        "bin_end": 38.1,
                        "count": 0
                      },
                      {
                        "bin_start": 38.1,
                        "bin_end": 43.4,
                        "count": 1
                      },
                      {
                        "bin_start": 43.4,
                        "bin_end": 48.699999999999996,
                        "count": 1
                      },
                      {
                        "bin_start": 48.699999999999996,
                        "bin_end": 54,
                        "count": 1
                      }
                    ]
                  }
                },
                {
                  "name": "WmeanN_9",
                  "dtype": "float64",
                  "stats": {
                    "unique_count": 244,
                    "nan_count": 1,
                    "min": 1.249307479,
                    "max": 50.20474138,
                    "histogram": [
                      {
                        "bin_start": 1.249307479,
                        "bin_end": 6.144850869100001,
                        "count": 237
                      },
                      {
                        "bin_start": 6.144850869100001,
                        "bin_end": 11.040394259200001,
                        "count": 17
                      },
                      {
                        "bin_start": 11.040394259200001,
                        "bin_end": 15.935937649300001,
                        "count": 3
                      },
                      {
                        "bin_start": 15.935937649300001,
                        "bin_end": 20.8314810394,
                        "count": 0
                      },
                      {
                        "bin_start": 20.8314810394,
                        "bin_end": 25.727024429500002,
                        "count": 0
                      },
                      {
                        "bin_start": 25.727024429500002,
                        "bin_end": 30.6225678196,
                        "count": 1
                      },
                      {
                        "bin_start": 30.6225678196,
                        "bin_end": 35.5181112097,
                        "count": 0
                      },
                      {
                        "bin_start": 35.5181112097,
                        "bin_end": 40.413654599800005,
                        "count": 1
                      },
                      {
                        "bin_start": 40.413654599800005,
                        "bin_end": 45.30919798990001,
                        "count": 1
                      },
                      {
                        "bin_start": 45.30919798990001,
                        "bin_end": 50.20474138,
                        "count": 1
                      }
                    ]
                  }
                },
                {
                  "name": "WmeanN_10",
                  "dtype": "float64",
                  "stats": {
                    "unique_count": 228,
                    "nan_count": 13,
                    "min": 1.122562674,
                    "max": 45.57106599,
                    "histogram": [
                      {
                        "bin_start": 1.122562674,
                        "bin_end": 5.5674130056,
                        "count": 204
                      },
                      {
                        "bin_start": 5.5674130056,
                        "bin_end": 10.0122633372,
                        "count": 35
                      },
                      {
                        "bin_start": 10.0122633372,
                        "bin_end": 14.457113668799998,
                        "count": 3
                      },
                      {
                        "bin_start": 14.457113668799998,
                        "bin_end": 18.9019640004,
                        "count": 2
                      },
                      {
                        "bin_start": 18.9019640004,
                        "bin_end": 23.346814332,
                        "count": 1
                      },
                      {
                        "bin_start": 23.346814332,
                        "bin_end": 27.7916646636,
                        "count": 0
                      },
                      {
                        "bin_start": 27.7916646636,
                        "bin_end": 32.2365149952,
                        "count": 1
                      },
                      {
                        "bin_start": 32.2365149952,
                        "bin_end": 36.6813653268,
                        "count": 1
                      },
                      {
                        "bin_start": 36.6813653268,
                        "bin_end": 41.1262156584,
                        "count": 0
                      },
                      {
                        "bin_start": 41.1262156584,
                        "bin_end": 45.57106599,
                        "count": 2
                      }
                    ]
                  }
                },
                {
                  "name": "log_slope",
                  "dtype": "float64",
                  "stats": {
                    "unique_count": 253,
                    "nan_count": 0,
                    "min": -1.4640533141263625,
                    "max": 20.627476153801005,
                    "histogram": [
                      {
                        "bin_start": -1.4640533141263625,
                        "bin_end": 0.7450996326663746,
                        "count": 157
                      },
                      {
                        "bin_start": 0.7450996326663746,
                        "bin_end": 2.9542525794591117,
                        "count": 95
                      },
                      {
                        "bin_start": 2.9542525794591117,
                        "bin_end": 5.163405526251848,
                        "count": 6
                      },
                      {
                        "bin_start": 5.163405526251848,
                        "bin_end": 7.372558473044586,
                        "count": 0
                      },
                      {
                        "bin_start": 7.372558473044586,
                        "bin_end": 9.581711419837324,
                        "count": 0
                      },
                      {
                        "bin_start": 9.581711419837324,
                        "bin_end": 11.79086436663006,
                        "count": 1
                      },
                      {
                        "bin_start": 11.79086436663006,
                        "bin_end": 14.000017313422797,
                        "count": 1
                      },
                      {
                        "bin_start": 14.000017313422797,
                        "bin_end": 16.209170260215533,
                        "count": 1
                      },
                      {
                        "bin_start": 16.209170260215533,
                        "bin_end": 18.41832320700827,
                        "count": 0
                      },
                      {
                        "bin_start": 18.41832320700827,
                        "bin_end": 20.627476153801005,
                        "count": 1
                      }
                    ]
                  }
                },
                {
                  "name": "log_bias",
                  "dtype": "float64",
                  "stats": {
                    "unique_count": 253,
                    "nan_count": 0,
                    "min": -8.104713604856464,
                    "max": 27.46533719891181,
                    "histogram": [
                      {
                        "bin_start": -8.104713604856464,
                        "bin_end": -4.547708524479637,
                        "count": 1
                      },
                      {
                        "bin_start": -4.547708524479637,
                        "bin_end": -0.9907034441028086,
                        "count": 1
                      },
                      {
                        "bin_start": -0.9907034441028086,
                        "bin_end": 2.5663016362740194,
                        "count": 171
                      },
                      {
                        "bin_start": 2.5663016362740194,
                        "bin_end": 6.123306716650847,
                        "count": 84
                      },
                      {
                        "bin_start": 6.123306716650847,
                        "bin_end": 9.680311797027674,
                        "count": 3
                      },
                      {
                        "bin_start": 9.680311797027674,
                        "bin_end": 13.237316877404503,
                        "count": 0
                      },
                      {
                        "bin_start": 13.237316877404503,
                        "bin_end": 16.794321957781328,
                        "count": 1
                      },
                      {
                        "bin_start": 16.794321957781328,
                        "bin_end": 20.351327038158157,
                        "count": 0
                      },
                      {
                        "bin_start": 20.351327038158157,
                        "bin_end": 23.908332118534986,
                        "count": 0
                      },
                      {
                        "bin_start": 23.908332118534986,
                        "bin_end": 27.46533719891181,
                        "count": 1
                      }
                    ]
                  }
                },
                {
                  "name": "_deepnote_index_column",
                  "dtype": "int64"
                }
              ],
              "rows_top": [
                {
                  "WmeanN_1": 2.532188841,
                  "WmeanN_2": 2.951219512,
                  "WmeanN_3": 3.981067126,
                  "WmeanN_4": 3.06969697,
                  "WmeanN_5": 6.489932886,
                  "WmeanN_6": 8.599343186,
                  "WmeanN_7": 3.490166415,
                  "WmeanN_8": 5.315955766,
                  "WmeanN_9": 6.595959596,
                  "WmeanN_10": "6.297113752",
                  "log_slope": 1.8336006999164367,
                  "log_bias": 2.162718257388046,
                  "_deepnote_index_column": 0
                },
                {
                  "WmeanN_1": 2.004137931,
                  "WmeanN_2": 2.490341753,
                  "WmeanN_3": 2.16407355,
                  "WmeanN_4": 2.579514825,
                  "WmeanN_5": 4.816541353,
                  "WmeanN_6": 4.362275449,
                  "WmeanN_7": 4.104225352,
                  "WmeanN_8": 2.912552891,
                  "WmeanN_9": 4.726726727,
                  "WmeanN_10": "4.812146893",
                  "log_slope": 1.2268044880110214,
                  "log_bias": 1.6442375594544458,
                  "_deepnote_index_column": 1
                },
                {
                  "WmeanN_1": 3.025449102,
                  "WmeanN_2": 3.758287293,
                  "WmeanN_3": 3.861799218,
                  "WmeanN_4": 3.580939948,
                  "WmeanN_5": 4.017241379,
                  "WmeanN_6": 5.250645995,
                  "WmeanN_7": 4.645780051,
                  "WmeanN_8": 5.345314506,
                  "WmeanN_9": 4.882198953,
                  "WmeanN_10": "4.956466069",
                  "log_slope": 0.9392777885059111,
                  "log_bias": 2.913688326838593,
                  "_deepnote_index_column": 2
                },
                {
                  "WmeanN_1": 2.552136752,
                  "WmeanN_2": 2.75826087,
                  "WmeanN_3": 3.335548173,
                  "WmeanN_4": 3.615517241,
                  "WmeanN_5": 3.603839442,
                  "WmeanN_6": 4.394863563,
                  "WmeanN_7": 4.600334448,
                  "WmeanN_8": 4.544871795,
                  "WmeanN_9": 5.96557377,
                  "WmeanN_10": "5.74025974",
                  "log_slope": 1.425776149376671,
                  "log_bias": 1.9575694598161868,
                  "_deepnote_index_column": 3
                },
                {
                  "WmeanN_1": 1.738197425,
                  "WmeanN_2": 2.528198074,
                  "WmeanN_3": 2.299089727,
                  "WmeanN_4": 2.566576087,
                  "WmeanN_5": 3.322916667,
                  "WmeanN_6": 3.460188934,
                  "WmeanN_7": 3.578313253,
                  "WmeanN_8": 3.400264201,
                  "WmeanN_9": 3.59767141,
                  "WmeanN_10": "2.701986755",
                  "log_slope": 0.7132794541368519,
                  "log_bias": 1.841973537284434,
                  "_deepnote_index_column": 4
                },
                {
                  "WmeanN_1": 2.052005944,
                  "WmeanN_2": 2.377963738,
                  "WmeanN_3": 2.499257058,
                  "WmeanN_4": 2.245566166,
                  "WmeanN_5": 2.391240876,
                  "WmeanN_6": 2.711811024,
                  "WmeanN_7": 2.479069767,
                  "WmeanN_8": 2.65832106,
                  "WmeanN_9": 2.690208668,
                  "WmeanN_10": "2.394658754",
                  "log_slope": 0.20374172471312196,
                  "log_bias": 2.142270398658303,
                  "_deepnote_index_column": 5
                },
                {
                  "WmeanN_1": 2.344186047,
                  "WmeanN_2": 2.811965812,
                  "WmeanN_3": 3.226381462,
                  "WmeanN_4": 3.040350877,
                  "WmeanN_5": 3.18989547,
                  "WmeanN_6": 3.288770053,
                  "WmeanN_7": 3.329225352,
                  "WmeanN_8": 3.597539543,
                  "WmeanN_9": 3.2721202,
                  "WmeanN_10": "3.471502591",
                  "log_slope": 0.45281932073641984,
                  "log_bias": 2.4732367556040895,
                  "_deepnote_index_column": 6
                },
                {
                  "WmeanN_1": 1.8,
                  "WmeanN_2": 2.211538462,
                  "WmeanN_3": 2.224215247,
                  "WmeanN_4": 2.65571205,
                  "WmeanN_5": 3.483704974,
                  "WmeanN_6": 4.214776632,
                  "WmeanN_7": 3.560064935,
                  "WmeanN_8": 4.020725389,
                  "WmeanN_9": 2.104196816,
                  "WmeanN_10": "2.494814815",
                  "log_slope": 0.6240954672955572,
                  "log_bias": 1.9343153890455964,
                  "_deepnote_index_column": 7
                },
                {
                  "WmeanN_1": 2.656294201,
                  "WmeanN_2": 3.16572238,
                  "WmeanN_3": 2.833333333,
                  "WmeanN_4": 3.918918919,
                  "WmeanN_5": 4.406849315,
                  "WmeanN_6": 5.05952381,
                  "WmeanN_7": 4.868525896,
                  "WmeanN_8": 5.810322581,
                  "WmeanN_9": 4.350529101,
                  "WmeanN_10": "4.751004016",
                  "log_slope": 1.1961007838802984,
                  "log_bias": 2.3754623850463354,
                  "_deepnote_index_column": 8
                },
                {
                  "WmeanN_1": 1.12,
                  "WmeanN_2": 2.013752456,
                  "WmeanN_3": 2.011272142,
                  "WmeanN_4": 2,
                  "WmeanN_5": 2,
                  "WmeanN_6": 2.02584493,
                  "WmeanN_7": 2.016339869,
                  "WmeanN_8": 2,
                  "WmeanN_9": 2.01814882,
                  "WmeanN_10": "2.06022187",
                  "log_slope": 0.2869903427992193,
                  "log_bias": 1.4930759532466706,
                  "_deepnote_index_column": 9
                },
                {
                  "WmeanN_1": 1.247881356,
                  "WmeanN_2": 2.262008734,
                  "WmeanN_3": 2.3125,
                  "WmeanN_4": 3.115646259,
                  "WmeanN_5": 2.581005587,
                  "WmeanN_6": 2.716666667,
                  "WmeanN_7": 2.935323383,
                  "WmeanN_8": 3.104938272,
                  "WmeanN_9": 3.172413793,
                  "WmeanN_10": "2.094763092",
                  "log_slope": 0.5852243930237317,
                  "log_bias": 1.6703676455733625,
                  "_deepnote_index_column": 10
                },
                {
                  "WmeanN_1": 2.331125828,
                  "WmeanN_2": 3,
                  "WmeanN_3": 3.12992126,
                  "WmeanN_4": 3.568527919,
                  "WmeanN_5": 3.420091324,
                  "WmeanN_6": 3.658959538,
                  "WmeanN_7": 3.458167331,
                  "WmeanN_8": 3.591346154,
                  "WmeanN_9": 3.580952381,
                  "WmeanN_10": "3.651282051",
                  "log_slope": 0.5302129031279986,
                  "log_bias": 2.5381819344382834,
                  "_deepnote_index_column": 11
                },
                {
                  "WmeanN_1": 2.469565217,
                  "WmeanN_2": 3,
                  "WmeanN_3": 3,
                  "WmeanN_4": 3,
                  "WmeanN_5": 3,
                  "WmeanN_6": 3,
                  "WmeanN_7": 3.1,
                  "WmeanN_8": 3.197478992,
                  "WmeanN_9": 3,
                  "WmeanN_10": "3.0",
                  "log_slope": 0.19791557640757884,
                  "log_bias": 2.6777645674371064,
                  "_deepnote_index_column": 12
                },
                {
                  "WmeanN_1": 2.631921824,
                  "WmeanN_2": 3,
                  "WmeanN_3": 3.034482759,
                  "WmeanN_4": 3,
                  "WmeanN_5": 3.034482759,
                  "WmeanN_6": 3,
                  "WmeanN_7": 3,
                  "WmeanN_8": 3,
                  "WmeanN_9": 3.246808511,
                  "WmeanN_10": "3.038461538",
                  "log_slope": 0.1540854321434305,
                  "log_bias": 2.7658787437712853,
                  "_deepnote_index_column": 13
                },
                {
                  "WmeanN_1": 1.585657371,
                  "WmeanN_2": 2.825,
                  "WmeanN_3": 2.865800866,
                  "WmeanN_4": 3.481308411,
                  "WmeanN_5": 3.887323944,
                  "WmeanN_6": 4.266666667,
                  "WmeanN_7": 4.634517766,
                  "WmeanN_8": 4.842105263,
                  "WmeanN_9": 4.704347826,
                  "WmeanN_10": "5.038461538",
                  "log_slope": 1.5021380018037427,
                  "log_bias": 1.5442277539817055,
                  "_deepnote_index_column": 14
                },
                {
                  "WmeanN_1": 2.238938053,
                  "WmeanN_2": 2.543478261,
                  "WmeanN_3": 3.189349112,
                  "WmeanN_4": 3.275,
                  "WmeanN_5": 2.76056338,
                  "WmeanN_6": 3.737113402,
                  "WmeanN_7": 4.13368984,
                  "WmeanN_8": 3.686170213,
                  "WmeanN_9": 4.774774775,
                  "WmeanN_10": "4.25",
                  "log_slope": 0.9692838728785613,
                  "log_bias": 1.9948613518562375,
                  "_deepnote_index_column": 15
                },
                {
                  "WmeanN_1": 2.685606061,
                  "WmeanN_2": 3.117073171,
                  "WmeanN_3": 3.083636364,
                  "WmeanN_4": 3.035,
                  "WmeanN_5": 3.066666667,
                  "WmeanN_6": 3.171597633,
                  "WmeanN_7": 2.962790698,
                  "WmeanN_8": 3.085365854,
                  "WmeanN_9": 3.253164557,
                  "WmeanN_10": "3.089041096",
                  "log_slope": 0.13896993300362706,
                  "log_bias": 2.8450882897150396,
                  "_deepnote_index_column": 16
                },
                {
                  "WmeanN_1": 2.788043478,
                  "WmeanN_2": 4.207865169,
                  "WmeanN_3": 4.138297872,
                  "WmeanN_4": 4.513392857,
                  "WmeanN_5": 4.389423077,
                  "WmeanN_6": 5.373786408,
                  "WmeanN_7": 5.47804878,
                  "WmeanN_8": 5.77593361,
                  "WmeanN_9": 7.004424779,
                  "WmeanN_10": "6.890295359",
                  "log_slope": 1.6485198167248987,
                  "log_bias": 2.5659587953623695,
                  "_deepnote_index_column": 17
                },
                {
                  "WmeanN_1": 1.418835192,
                  "WmeanN_2": 2.086614173,
                  "WmeanN_3": 2.35071708,
                  "WmeanN_4": 2.492038217,
                  "WmeanN_5": 2.505509642,
                  "WmeanN_6": 2.146938776,
                  "WmeanN_7": 2.138888889,
                  "WmeanN_8": 2.38483965,
                  "WmeanN_9": 2.30875576,
                  "WmeanN_10": "2.071618037",
                  "log_slope": 0.25664665779509677,
                  "log_bias": 1.802825839823477,
                  "_deepnote_index_column": 19
                },
                {
                  "WmeanN_1": 3.057951482,
                  "WmeanN_2": 3.233509235,
                  "WmeanN_3": 2.899061033,
                  "WmeanN_4": 3.151178918,
                  "WmeanN_5": 3.37037037,
                  "WmeanN_6": 3.144736842,
                  "WmeanN_7": 3.245657568,
                  "WmeanN_8": 3.684834123,
                  "WmeanN_9": 3.949519231,
                  "WmeanN_10": "3.313397129",
                  "log_slope": 0.2520354713495798,
                  "log_bias": 2.9243368175703397,
                  "_deepnote_index_column": 20
                },
                {
                  "WmeanN_1": 2.509138381,
                  "WmeanN_2": 3.17615894,
                  "WmeanN_3": 3.430065359,
                  "WmeanN_4": 3.001633987,
                  "WmeanN_5": 2.90787717,
                  "WmeanN_6": 2.686827957,
                  "WmeanN_7": 3.0625,
                  "WmeanN_8": 2.841415465,
                  "WmeanN_9": 2.647129187,
                  "WmeanN_10": "2.783748362",
                  "log_slope": -0.031795234658917794,
                  "log_bias": 2.9526743150146033,
                  "_deepnote_index_column": 21
                },
                {
                  "WmeanN_1": 1.885786802,
                  "WmeanN_2": 2.349740933,
                  "WmeanN_3": 2.604193971,
                  "WmeanN_4": 2.317585302,
                  "WmeanN_5": 2.724675325,
                  "WmeanN_6": 3.054987212,
                  "WmeanN_7": 3.350393701,
                  "WmeanN_8": 2.694103194,
                  "WmeanN_9": 2.420716113,
                  "WmeanN_10": "2.891246684",
                  "log_slope": 0.4021746148833084,
                  "log_bias": 2.021881791699658,
                  "_deepnote_index_column": 22
                },
                {
                  "WmeanN_1": 1.595615104,
                  "WmeanN_2": 2.241545894,
                  "WmeanN_3": 2.341340076,
                  "WmeanN_4": 2.180124224,
                  "WmeanN_5": 2.265171504,
                  "WmeanN_6": 2.173803526,
                  "WmeanN_7": 2.471393035,
                  "WmeanN_8": 2.60794702,
                  "WmeanN_9": 2.3252149,
                  "WmeanN_10": "2.969253294",
                  "log_slope": 0.38626280285882275,
                  "log_bias": 1.7337135830316264,
                  "_deepnote_index_column": 23
                },
                {
                  "WmeanN_1": 2.570890841,
                  "WmeanN_2": 3.570048309,
                  "WmeanN_3": 4.460122699,
                  "WmeanN_4": 4.705811138,
                  "WmeanN_5": 4.726277372,
                  "WmeanN_6": 4.751798561,
                  "WmeanN_7": 4.832305795,
                  "WmeanN_8": 5.919950739,
                  "WmeanN_9": 6.079422383,
                  "WmeanN_10": "6.545565006",
                  "log_slope": 1.533467940879897,
                  "log_bias": 2.5000060405687927,
                  "_deepnote_index_column": 24
                },
                {
                  "WmeanN_1": 1.748691099,
                  "WmeanN_2": 2.17254902,
                  "WmeanN_3": 2.471867008,
                  "WmeanN_4": 2.472568579,
                  "WmeanN_5": 2.244923858,
                  "WmeanN_6": 2.294936709,
                  "WmeanN_7": 2.893203883,
                  "WmeanN_8": 3.08616188,
                  "WmeanN_9": 3.268617021,
                  "WmeanN_10": "3.287417219",
                  "log_slope": 0.6184679311292445,
                  "log_bias": 1.6599341474377876,
                  "_deepnote_index_column": 25
                },
                {
                  "WmeanN_1": 2.142670157,
                  "WmeanN_2": 2.80878553,
                  "WmeanN_3": 2.699371069,
                  "WmeanN_4": 2.510344828,
                  "WmeanN_5": 3.641891892,
                  "WmeanN_6": 2.740277778,
                  "WmeanN_7": 3.063291139,
                  "WmeanN_8": 2.917112299,
                  "WmeanN_9": 3.009234828,
                  "WmeanN_10": "3.209698558",
                  "log_slope": 0.3679042853246042,
                  "log_bias": 2.3185699954076204,
                  "_deepnote_index_column": 26
                },
                {
                  "WmeanN_1": 2.538274605,
                  "WmeanN_2": 3.969843185,
                  "WmeanN_3": 3.892207792,
                  "WmeanN_4": 3.951005025,
                  "WmeanN_5": 4.174969623,
                  "WmeanN_6": 5.420584498,
                  "WmeanN_7": 6.120947631,
                  "WmeanN_8": 5.395657419,
                  "WmeanN_9": 5.706521739,
                  "WmeanN_10": "4.729518856",
                  "log_slope": 1.275365499990736,
                  "log_bias": 2.663588368450465,
                  "_deepnote_index_column": 27
                },
                {
                  "WmeanN_1": 2.508365508,
                  "WmeanN_2": 3.111409396,
                  "WmeanN_3": 3.414342629,
                  "WmeanN_4": 3.569752282,
                  "WmeanN_5": 3.770972037,
                  "WmeanN_6": 3.65442404,
                  "WmeanN_7": 4.471153846,
                  "WmeanN_8": 4.891304348,
                  "WmeanN_9": 4.541333333,
                  "WmeanN_10": "nan",
                  "log_slope": 0.9800561103764593,
                  "log_bias": 2.3762831303462333,
                  "_deepnote_index_column": 28
                },
                {
                  "WmeanN_1": 2.126262626,
                  "WmeanN_2": 2.938941655,
                  "WmeanN_3": 2.794117647,
                  "WmeanN_4": 3.549044586,
                  "WmeanN_5": 3.449004975,
                  "WmeanN_6": 4.596281541,
                  "WmeanN_7": 4.447263017,
                  "WmeanN_8": 5.967479675,
                  "WmeanN_9": 5.247978437,
                  "WmeanN_10": "7.00273224",
                  "log_slope": 1.8431088528736483,
                  "log_bias": 1.4280029882799603,
                  "_deepnote_index_column": 29
                },
                {
                  "WmeanN_1": 1.945137157,
                  "WmeanN_2": 2.600244499,
                  "WmeanN_3": 2.672774869,
                  "WmeanN_4": 2.805333333,
                  "WmeanN_5": 2.86631016,
                  "WmeanN_6": 2.92989418,
                  "WmeanN_7": 2.717783505,
                  "WmeanN_8": 2.99205298,
                  "WmeanN_9": 2.965608466,
                  "WmeanN_10": "nan",
                  "log_slope": 0.40459336377329136,
                  "log_bias": 2.146178300709831,
                  "_deepnote_index_column": 30
                },
                {
                  "WmeanN_1": 2.627937337,
                  "WmeanN_2": 3.146471372,
                  "WmeanN_3": 3.578457447,
                  "WmeanN_4": 4.200524246,
                  "WmeanN_5": 3.856584094,
                  "WmeanN_6": 3.878306878,
                  "WmeanN_7": 4.250331126,
                  "WmeanN_8": 5.060240964,
                  "WmeanN_9": 4.699604743,
                  "WmeanN_10": "4.949019608",
                  "log_slope": 0.9956348677895517,
                  "log_bias": 2.5208997998921423,
                  "_deepnote_index_column": 31
                },
                {
                  "WmeanN_1": 2.381313131,
                  "WmeanN_2": 2.705665025,
                  "WmeanN_3": 2.668478261,
                  "WmeanN_4": 2.627235213,
                  "WmeanN_5": 2.947222222,
                  "WmeanN_6": 3.111413043,
                  "WmeanN_7": 3.222222222,
                  "WmeanN_8": 3.137841352,
                  "WmeanN_9": 3.028150134,
                  "WmeanN_10": "3.040221914",
                  "log_slope": 0.3330023116518075,
                  "log_bias": 2.3839958214023227,
                  "_deepnote_index_column": 32
                },
                {
                  "WmeanN_1": 2.324594257,
                  "WmeanN_2": 2.74832664,
                  "WmeanN_3": 3.248,
                  "WmeanN_4": 3.635778636,
                  "WmeanN_5": 3.934139785,
                  "WmeanN_6": 3.240715268,
                  "WmeanN_7": 4.137516689,
                  "WmeanN_8": 3.308093995,
                  "WmeanN_9": 4.077445652,
                  "WmeanN_10": "3.211382114",
                  "log_slope": 0.5754976146751749,
                  "log_bias": 2.517343962176618,
                  "_deepnote_index_column": 33
                },
                {
                  "WmeanN_1": 2.204755614,
                  "WmeanN_2": 3.228690229,
                  "WmeanN_3": 2.064837905,
                  "WmeanN_4": 2.738738739,
                  "WmeanN_5": 2.519745223,
                  "WmeanN_6": 3.151162791,
                  "WmeanN_7": 2.729166667,
                  "WmeanN_8": 2.857692308,
                  "WmeanN_9": 2.144654088,
                  "WmeanN_10": "2.21125",
                  "log_slope": 0.003236668157130418,
                  "log_bias": 2.580180557546951,
                  "_deepnote_index_column": 34
                },
                {
                  "WmeanN_1": 2.339498018,
                  "WmeanN_2": 2.780104712,
                  "WmeanN_3": 3.015748031,
                  "WmeanN_4": 3.906824147,
                  "WmeanN_5": 4.277997365,
                  "WmeanN_6": 4.277997365,
                  "WmeanN_7": 4.132332879,
                  "WmeanN_8": 5.125168237,
                  "WmeanN_9": 5.863760218,
                  "WmeanN_10": "4.301627034",
                  "log_slope": 1.2912798452782517,
                  "log_bias": 2.051703448071542,
                  "_deepnote_index_column": 35
                },
                {
                  "WmeanN_1": 2.094101124,
                  "WmeanN_2": 2.473684211,
                  "WmeanN_3": 2.417256011,
                  "WmeanN_4": 2.324822695,
                  "WmeanN_5": 2.428370787,
                  "WmeanN_6": 2.490056818,
                  "WmeanN_7": 2.515406162,
                  "WmeanN_8": 2.376056338,
                  "WmeanN_9": 2.736170213,
                  "WmeanN_10": "2.643971631",
                  "log_slope": 0.18465145926564563,
                  "log_bias": 2.17108441528584,
                  "_deepnote_index_column": 36
                },
                {
                  "WmeanN_1": 2.025,
                  "WmeanN_2": 3.263242376,
                  "WmeanN_3": 2.362068966,
                  "WmeanN_4": 2.811965812,
                  "WmeanN_5": 2.752475248,
                  "WmeanN_6": 2.266759777,
                  "WmeanN_7": 2.327777778,
                  "WmeanN_8": 2.244755245,
                  "WmeanN_9": 2.268635724,
                  "WmeanN_10": "2.331932773",
                  "log_slope": -0.09122207471751387,
                  "log_bias": 2.6032469532337803,
                  "_deepnote_index_column": 37
                },
                {
                  "WmeanN_1": 1.640226629,
                  "WmeanN_2": 2.509325681,
                  "WmeanN_3": 2.122733612,
                  "WmeanN_4": 2.377279102,
                  "WmeanN_5": 2.257383966,
                  "WmeanN_6": 2.466005666,
                  "WmeanN_7": 2.353760446,
                  "WmeanN_8": 2.087323944,
                  "WmeanN_9": 2.345505618,
                  "WmeanN_10": "2.07972028",
                  "log_slope": 0.14278926537113934,
                  "log_bias": 2.008251695392257,
                  "_deepnote_index_column": 38
                },
                {
                  "WmeanN_1": 2.145862553,
                  "WmeanN_2": 2.578723404,
                  "WmeanN_3": 2.525641026,
                  "WmeanN_4": 2.881597718,
                  "WmeanN_5": 3.244350282,
                  "WmeanN_6": 3.649855908,
                  "WmeanN_7": 3.380480905,
                  "WmeanN_8": 3.071830986,
                  "WmeanN_9": 2.935483871,
                  "WmeanN_10": "3.45545977",
                  "log_slope": 0.5323773326724404,
                  "log_bias": 2.1828039537644655,
                  "_deepnote_index_column": 39
                },
                {
                  "WmeanN_1": 1.657183499,
                  "WmeanN_2": 2.365439093,
                  "WmeanN_3": 2.492198582,
                  "WmeanN_4": 2.50147929,
                  "WmeanN_5": 2.383070301,
                  "WmeanN_6": 2.693641618,
                  "WmeanN_7": 2.899563319,
                  "WmeanN_8": 2.904225352,
                  "WmeanN_9": 2.989720999,
                  "WmeanN_10": "3.178623719",
                  "log_slope": 0.5597348500470878,
                  "log_bias": 1.7610679668766853,
                  "_deepnote_index_column": 40
                },
                {
                  "WmeanN_1": 2.325318246,
                  "WmeanN_2": 2.616147309,
                  "WmeanN_3": 2.975817923,
                  "WmeanN_4": 3.863309353,
                  "WmeanN_5": 3.126760563,
                  "WmeanN_6": 3.099857347,
                  "WmeanN_7": 3.16017316,
                  "WmeanN_8": 3.258474576,
                  "WmeanN_9": 3.197674419,
                  "WmeanN_10": "3.463585434",
                  "log_slope": 0.4127487697069362,
                  "log_bias": 2.4852790613123172,
                  "_deepnote_index_column": 41
                }
              ],
              "rows_bottom": [
                {
                  "WmeanN_1": 2.095975232,
                  "WmeanN_2": 2.019283747,
                  "WmeanN_3": 2.015576324,
                  "WmeanN_4": 2.03021148,
                  "WmeanN_5": 2.06918239,
                  "WmeanN_6": 2.117056856,
                  "WmeanN_7": 2.353846154,
                  "WmeanN_8": 2.125,
                  "WmeanN_9": 2.127218935,
                  "WmeanN_10": "2.266666667",
                  "log_slope": 0.08120745174220101,
                  "log_bias": 1.9993426913899726,
                  "_deepnote_index_column": 233
                },
                {
                  "WmeanN_1": 2.505988024,
                  "WmeanN_2": 2.334210526,
                  "WmeanN_3": 2.484679666,
                  "WmeanN_4": 2.965217391,
                  "WmeanN_5": 2.452173913,
                  "WmeanN_6": 2.920679887,
                  "WmeanN_7": 3.026785714,
                  "WmeanN_8": 2.446866485,
                  "WmeanN_9": 2.148571429,
                  "WmeanN_10": "2.688829787",
                  "log_slope": 0.06121062588766124,
                  "log_bias": 2.5049452258421443,
                  "_deepnote_index_column": 234
                },
                {
                  "WmeanN_1": 2.238227147,
                  "WmeanN_2": 2.407624633,
                  "WmeanN_3": 2.910569106,
                  "WmeanN_4": 2.924369748,
                  "WmeanN_5": 2.195822454,
                  "WmeanN_6": 2.821989529,
                  "WmeanN_7": 2.409090909,
                  "WmeanN_8": 2.462337662,
                  "WmeanN_9": 2.291553134,
                  "WmeanN_10": "2.245125348",
                  "log_slope": -0.019951192169148202,
                  "log_bias": 2.5208060690119387,
                  "_deepnote_index_column": 235
                },
                {
                  "WmeanN_1": 2.467422096,
                  "WmeanN_2": 2.410071942,
                  "WmeanN_3": 3.803664921,
                  "WmeanN_4": 3.297587131,
                  "WmeanN_5": 2.960893855,
                  "WmeanN_6": 3.741666667,
                  "WmeanN_7": 3.235772358,
                  "WmeanN_8": 2.419889503,
                  "WmeanN_9": 4.085294118,
                  "WmeanN_10": "3.789617486",
                  "log_slope": 0.46875697611526224,
                  "log_bias": 2.513158130402977,
                  "_deepnote_index_column": 237
                },
                {
                  "WmeanN_1": 3.148484848,
                  "WmeanN_2": 3.510989011,
                  "WmeanN_3": 4.140625,
                  "WmeanN_4": 2.595419847,
                  "WmeanN_5": 3.595238095,
                  "WmeanN_6": 4.308035714,
                  "WmeanN_7": 4.28611898,
                  "WmeanN_8": 4.404494382,
                  "WmeanN_9": 2.637055838,
                  "WmeanN_10": "nan",
                  "log_slope": 0.23453168539228486,
                  "log_bias": 3.2915586138945367,
                  "_deepnote_index_column": 238
                },
                {
                  "WmeanN_1": 2.50148368,
                  "WmeanN_2": 3.795,
                  "WmeanN_3": 5.066176471,
                  "WmeanN_4": 4.739454094,
                  "WmeanN_5": 5.287153652,
                  "WmeanN_6": 5.623115578,
                  "WmeanN_7": 5.772020725,
                  "WmeanN_8": 5.156769596,
                  "WmeanN_9": 5.324324324,
                  "WmeanN_10": "5.423357664",
                  "log_slope": 1.2305856620610873,
                  "log_bias": 3.0101582243939893,
                  "_deepnote_index_column": 239
                },
                {
                  "WmeanN_1": 1,
                  "WmeanN_2": 1.626702997,
                  "WmeanN_3": 1.061452514,
                  "WmeanN_4": 1.230366492,
                  "WmeanN_5": 1,
                  "WmeanN_6": 1.173228346,
                  "WmeanN_7": 1,
                  "WmeanN_8": 1,
                  "WmeanN_9": 1.249307479,
                  "WmeanN_10": "1.122562674",
                  "log_slope": -0.05150380445095459,
                  "log_bias": 1.2241555195204348,
                  "_deepnote_index_column": 240
                },
                {
                  "WmeanN_1": 2.672727273,
                  "WmeanN_2": 2.677922078,
                  "WmeanN_3": 2.714285714,
                  "WmeanN_4": 2.335092348,
                  "WmeanN_5": 3.076530612,
                  "WmeanN_6": 3.805263158,
                  "WmeanN_7": 3.58,
                  "WmeanN_8": 2.180904523,
                  "WmeanN_9": 4.520408163,
                  "WmeanN_10": "3.383954155",
                  "log_slope": 0.48113450620213394,
                  "log_bias": 2.367983393017438,
                  "_deepnote_index_column": 241
                },
                {
                  "WmeanN_1": 2.609375,
                  "WmeanN_2": 3.515957447,
                  "WmeanN_3": 4.41025641,
                  "WmeanN_4": 3.744416873,
                  "WmeanN_5": 3.792079208,
                  "WmeanN_6": 4.044117647,
                  "WmeanN_7": 4.106493506,
                  "WmeanN_8": 4.057291667,
                  "WmeanN_9": 4.498721228,
                  "WmeanN_10": "4.535714286",
                  "log_slope": 0.6609945967474182,
                  "log_bias": 2.933048816829207,
                  "_deepnote_index_column": 242
                },
                {
                  "WmeanN_1": 3.96119403,
                  "WmeanN_2": 5.412121212,
                  "WmeanN_3": 4.533527697,
                  "WmeanN_4": 4.885057471,
                  "WmeanN_5": 5.334346505,
                  "WmeanN_6": 4.329411765,
                  "WmeanN_7": 4.587209302,
                  "WmeanN_8": 4.804034582,
                  "WmeanN_9": 5.526610644,
                  "WmeanN_10": "6.041420118",
                  "log_slope": 0.45046653091344896,
                  "log_bias": 4.2610901003055695,
                  "_deepnote_index_column": 243
                },
                {
                  "WmeanN_1": 2.705882353,
                  "WmeanN_2": 2.889212828,
                  "WmeanN_3": 3.02173913,
                  "WmeanN_4": 3.810810811,
                  "WmeanN_5": 4.533527697,
                  "WmeanN_6": 4.734104046,
                  "WmeanN_7": 4.372434018,
                  "WmeanN_8": 4.029761905,
                  "WmeanN_9": 5.418181818,
                  "WmeanN_10": "4.438596491",
                  "log_slope": 1.0440130399387673,
                  "log_bias": 2.4185047410891465,
                  "_deepnote_index_column": 244
                },
                {
                  "WmeanN_1": 2.550913838,
                  "WmeanN_2": 3.318181818,
                  "WmeanN_3": 3.097560976,
                  "WmeanN_4": 3.155619597,
                  "WmeanN_5": 3.681690141,
                  "WmeanN_6": 2.918032787,
                  "WmeanN_7": 3.032608696,
                  "WmeanN_8": 2.236074271,
                  "WmeanN_9": 2.698701299,
                  "WmeanN_10": "1.757033248",
                  "log_slope": -0.24996528047131528,
                  "log_bias": 3.2221995374464996,
                  "_deepnote_index_column": 245
                },
                {
                  "WmeanN_1": 2.122340426,
                  "WmeanN_2": 2.243386243,
                  "WmeanN_3": 2,
                  "WmeanN_4": 2.115577889,
                  "WmeanN_5": 2,
                  "WmeanN_6": 2,
                  "WmeanN_7": 2.303430079,
                  "WmeanN_8": 2.183023873,
                  "WmeanN_9": 2,
                  "WmeanN_10": "2.0",
                  "log_slope": -0.03345380430971878,
                  "log_bias": 2.14730585544615,
                  "_deepnote_index_column": 247
                },
                {
                  "WmeanN_1": 2.777777778,
                  "WmeanN_2": 2.604166667,
                  "WmeanN_3": 2.343283582,
                  "WmeanN_4": 3.253164557,
                  "WmeanN_5": 3.648379052,
                  "WmeanN_6": 3.613466334,
                  "WmeanN_7": 4.204134367,
                  "WmeanN_8": 2.730569948,
                  "WmeanN_9": 2.404466501,
                  "WmeanN_10": "2.691176471",
                  "log_slope": 0.17626027319408932,
                  "log_bias": 2.760827735612737,
                  "_deepnote_index_column": 248
                },
                {
                  "WmeanN_1": 2.115577889,
                  "WmeanN_2": 2.183023873,
                  "WmeanN_3": 2,
                  "WmeanN_4": 2.308707124,
                  "WmeanN_5": 2.427821522,
                  "WmeanN_6": 2.115577889,
                  "WmeanN_7": 2.788113695,
                  "WmeanN_8": 3.142493639,
                  "WmeanN_9": 3.615819209,
                  "WmeanN_10": "3.521276596",
                  "log_slope": 0.6245869348979798,
                  "log_bias": 1.6784392677025652,
                  "_deepnote_index_column": 249
                },
                {
                  "WmeanN_1": 2,
                  "WmeanN_2": 2,
                  "WmeanN_3": 2,
                  "WmeanN_4": 2,
                  "WmeanN_5": 2,
                  "WmeanN_6": 2,
                  "WmeanN_7": 2,
                  "WmeanN_8": 2,
                  "WmeanN_9": 2,
                  "WmeanN_10": "nan",
                  "log_slope": 1.8409419625612662e-9,
                  "log_bias": 1.999999997412946,
                  "_deepnote_index_column": 250
                },
                {
                  "WmeanN_1": 2,
                  "WmeanN_2": 2.303430079,
                  "WmeanN_3": 2.303430079,
                  "WmeanN_4": 2.720207254,
                  "WmeanN_5": 2.540469974,
                  "WmeanN_6": 3.734491315,
                  "WmeanN_7": 5.352631579,
                  "WmeanN_8": 5.216931217,
                  "WmeanN_9": 5.153846154,
                  "WmeanN_10": "4.483375959",
                  "log_slope": 1.5514508451159212,
                  "log_bias": 1.2375059968130522,
                  "_deepnote_index_column": 251
                },
                {
                  "WmeanN_1": 3.031198686,
                  "WmeanN_2": 3.43718593,
                  "WmeanN_3": 3.763157895,
                  "WmeanN_4": 3.811881188,
                  "WmeanN_5": 4.510204082,
                  "WmeanN_6": 4.41025641,
                  "WmeanN_7": 3.851485149,
                  "WmeanN_8": 4.959899749,
                  "WmeanN_9": 4.823677582,
                  "WmeanN_10": "4.889447236",
                  "log_slope": 0.8192623422200435,
                  "log_bias": 2.9113917481418623,
                  "_deepnote_index_column": 252
                },
                {
                  "WmeanN_1": 6.437837838,
                  "WmeanN_2": 5.733333333,
                  "WmeanN_3": 5.94214876,
                  "WmeanN_4": 7.03988604,
                  "WmeanN_5": 6.315789474,
                  "WmeanN_6": 6.700288184,
                  "WmeanN_7": 6.656836461,
                  "WmeanN_8": 6.931428571,
                  "WmeanN_9": 7.24671916,
                  "WmeanN_10": "8.768115942",
                  "log_slope": 0.7329729861579752,
                  "log_bias": 5.670125735468661,
                  "_deepnote_index_column": 254
                },
                {
                  "WmeanN_1": 2,
                  "WmeanN_2": 2,
                  "WmeanN_3": 2,
                  "WmeanN_4": 2,
                  "WmeanN_5": 2,
                  "WmeanN_6": 2,
                  "WmeanN_7": 2,
                  "WmeanN_8": 2,
                  "WmeanN_9": 2,
                  "WmeanN_10": "2.0",
                  "log_slope": 2.365350261284881e-9,
                  "log_bias": 1.9999999964353612,
                  "_deepnote_index_column": 255
                },
                {
                  "WmeanN_1": 2.303430079,
                  "WmeanN_2": 2.662337662,
                  "WmeanN_3": 3.599469496,
                  "WmeanN_4": 4.305882353,
                  "WmeanN_5": 5.226628895,
                  "WmeanN_6": 4.228650138,
                  "WmeanN_7": 4.821325648,
                  "WmeanN_8": 5.243626062,
                  "WmeanN_9": 5.586592179,
                  "WmeanN_10": "4.364383562",
                  "log_slope": 1.3259408869026852,
                  "log_bias": 2.231476787641494,
                  "_deepnote_index_column": 256
                },
                {
                  "WmeanN_1": 2.243386243,
                  "WmeanN_2": 2.172932331,
                  "WmeanN_3": 2.183023873,
                  "WmeanN_4": 2.061333333,
                  "WmeanN_5": 2.793281654,
                  "WmeanN_6": 2.545691906,
                  "WmeanN_7": 2.248677249,
                  "WmeanN_8": 2.855670103,
                  "WmeanN_9": 2.422572178,
                  "WmeanN_10": "2.0",
                  "log_slope": 0.10866245469270575,
                  "log_bias": 2.188528630762252,
                  "_deepnote_index_column": 257
                },
                {
                  "WmeanN_1": 3.286532951,
                  "WmeanN_2": 3.092485549,
                  "WmeanN_3": 3.728915663,
                  "WmeanN_4": 3.798798799,
                  "WmeanN_5": 4.438596491,
                  "WmeanN_6": 4.011904762,
                  "WmeanN_7": 3.682779456,
                  "WmeanN_8": 4.294117647,
                  "WmeanN_9": 4.366568915,
                  "WmeanN_10": "4.798270893",
                  "log_slope": 0.6029997166425456,
                  "log_bias": 3.039101462438336,
                  "_deepnote_index_column": 258
                },
                {
                  "WmeanN_1": 2.677922078,
                  "WmeanN_2": 4.219638243,
                  "WmeanN_3": 3.782178218,
                  "WmeanN_4": 4.273195876,
                  "WmeanN_5": 3.706467662,
                  "WmeanN_6": 4.198966408,
                  "WmeanN_7": 3.784210526,
                  "WmeanN_8": 4.782828283,
                  "WmeanN_9": 4.198966408,
                  "WmeanN_10": "4.510204082",
                  "log_slope": 0.5774246034086633,
                  "log_bias": 3.1412918336959064,
                  "_deepnote_index_column": 259
                },
                {
                  "WmeanN_1": 3.085333333,
                  "WmeanN_2": 5.089473684,
                  "WmeanN_3": 6.527272727,
                  "WmeanN_4": 5.801470588,
                  "WmeanN_5": 6.888586957,
                  "WmeanN_6": 5.812169312,
                  "WmeanN_7": 8.186528497,
                  "WmeanN_8": 5.788697789,
                  "WmeanN_9": 6.277922078,
                  "WmeanN_10": "7.987277354",
                  "log_slope": 1.5687295010629945,
                  "log_bias": 3.7749994763252843,
                  "_deepnote_index_column": 260
                },
                {
                  "WmeanN_1": 5.85,
                  "WmeanN_2": 5.958579882,
                  "WmeanN_3": 5.623100304,
                  "WmeanN_4": 6.3125,
                  "WmeanN_5": 3.71884984,
                  "WmeanN_6": 3.670068027,
                  "WmeanN_7": 3.111842105,
                  "WmeanN_8": 7.050632911,
                  "WmeanN_9": 2,
                  "WmeanN_10": "2.0",
                  "log_slope": -1.4640533141263625,
                  "log_bias": 6.740923831175958,
                  "_deepnote_index_column": 261
                },
                {
                  "WmeanN_1": 3.868852459,
                  "WmeanN_2": 3.812010444,
                  "WmeanN_3": 4.51344086,
                  "WmeanN_4": 4.396648045,
                  "WmeanN_5": 5.578666667,
                  "WmeanN_6": 7.539509537,
                  "WmeanN_7": 5.446753247,
                  "WmeanN_8": 5.456756757,
                  "WmeanN_9": 5.663911846,
                  "WmeanN_10": "5.065445026",
                  "log_slope": 0.9695569623225628,
                  "log_bias": 3.6697406514083224,
                  "_deepnote_index_column": 262
                },
                {
                  "WmeanN_1": 2.468144044,
                  "WmeanN_2": 3.242165242,
                  "WmeanN_3": 2.601648352,
                  "WmeanN_4": 2.430894309,
                  "WmeanN_5": 2.463190184,
                  "WmeanN_6": 2.468926554,
                  "WmeanN_7": 2.73993808,
                  "WmeanN_8": 2.109660574,
                  "WmeanN_9": 3.051987768,
                  "WmeanN_10": "3.321937322",
                  "log_slope": 0.0637836076770093,
                  "log_bias": 2.593507848697886,
                  "_deepnote_index_column": 263
                },
                {
                  "WmeanN_1": 5.124610592,
                  "WmeanN_2": 8.013245033,
                  "WmeanN_3": 4.577639752,
                  "WmeanN_4": 4.93968254,
                  "WmeanN_5": 4.714733542,
                  "WmeanN_6": 5.13190184,
                  "WmeanN_7": 5.109467456,
                  "WmeanN_8": 4.384393064,
                  "WmeanN_9": 4.742296919,
                  "WmeanN_10": "5.158045977",
                  "log_slope": -0.5821093307131966,
                  "log_bias": 6.068843618128886,
                  "_deepnote_index_column": 264
                },
                {
                  "WmeanN_1": 3.727272727,
                  "WmeanN_2": 3.825242718,
                  "WmeanN_3": 4.12962963,
                  "WmeanN_4": 3.869415808,
                  "WmeanN_5": 4.261146497,
                  "WmeanN_6": 4.506289308,
                  "WmeanN_7": 5.222929936,
                  "WmeanN_8": 5.200657895,
                  "WmeanN_9": 5.336507937,
                  "WmeanN_10": "nan",
                  "log_slope": 0.7679975012156948,
                  "log_bias": 3.360813439040973,
                  "_deepnote_index_column": 265
                },
                {
                  "WmeanN_1": 4.619897959,
                  "WmeanN_2": 4.160526316,
                  "WmeanN_3": 5.081920904,
                  "WmeanN_4": 4.915343915,
                  "WmeanN_5": 5.580474934,
                  "WmeanN_6": 5.324324324,
                  "WmeanN_7": 3.19160105,
                  "WmeanN_8": 5.307086614,
                  "WmeanN_9": 4.853846154,
                  "WmeanN_10": "5.693877551",
                  "log_slope": 0.2527339520932149,
                  "log_bias": 4.491150182442352,
                  "_deepnote_index_column": 266
                },
                {
                  "WmeanN_1": 2,
                  "WmeanN_2": 4.082152975,
                  "WmeanN_3": 4.939655172,
                  "WmeanN_4": 15.22102426,
                  "WmeanN_5": 23.30077121,
                  "WmeanN_6": 21.0166205,
                  "WmeanN_7": 32.71164021,
                  "WmeanN_8": 39.24611399,
                  "WmeanN_9": 42.42972973,
                  "WmeanN_10": "45.57106599",
                  "log_slope": 20.627476153801005,
                  "log_bias": -8.104713604856464,
                  "_deepnote_index_column": 267
                },
                {
                  "WmeanN_1": 3.630914826,
                  "WmeanN_2": 2.742038217,
                  "WmeanN_3": 2.996978852,
                  "WmeanN_4": 3.464968153,
                  "WmeanN_5": 3.581325301,
                  "WmeanN_6": 3.405405405,
                  "WmeanN_7": 3.982698962,
                  "WmeanN_8": 4.139534884,
                  "WmeanN_9": 3.119601329,
                  "WmeanN_10": "3.580756014",
                  "log_slope": 0.20502856351051812,
                  "log_bias": 3.1547385916675577,
                  "_deepnote_index_column": 269
                },
                {
                  "WmeanN_1": 2,
                  "WmeanN_2": 2,
                  "WmeanN_3": 2,
                  "WmeanN_4": 2,
                  "WmeanN_5": 2,
                  "WmeanN_6": 2,
                  "WmeanN_7": 2,
                  "WmeanN_8": 2,
                  "WmeanN_9": 2,
                  "WmeanN_10": "2.0",
                  "log_slope": 2.365350261284881e-9,
                  "log_bias": 1.9999999964353612,
                  "_deepnote_index_column": 270
                },
                {
                  "WmeanN_1": 2,
                  "WmeanN_2": 2,
                  "WmeanN_3": 2,
                  "WmeanN_4": 2,
                  "WmeanN_5": 2,
                  "WmeanN_6": 2,
                  "WmeanN_7": 2,
                  "WmeanN_8": 2,
                  "WmeanN_9": 2,
                  "WmeanN_10": "2.0",
                  "log_slope": 2.365350261284881e-9,
                  "log_bias": 1.9999999964353612,
                  "_deepnote_index_column": 272
                },
                {
                  "WmeanN_1": 2,
                  "WmeanN_2": 2,
                  "WmeanN_3": 2,
                  "WmeanN_4": 2,
                  "WmeanN_5": 2,
                  "WmeanN_6": 2,
                  "WmeanN_7": 2,
                  "WmeanN_8": 2,
                  "WmeanN_9": 2,
                  "WmeanN_10": "2.0",
                  "log_slope": 2.365350261284881e-9,
                  "log_bias": 1.9999999964353612,
                  "_deepnote_index_column": 273
                },
                {
                  "WmeanN_1": 2,
                  "WmeanN_2": 2,
                  "WmeanN_3": 2,
                  "WmeanN_4": 2,
                  "WmeanN_5": 2,
                  "WmeanN_6": 2,
                  "WmeanN_7": 2,
                  "WmeanN_8": 2,
                  "WmeanN_9": 2,
                  "WmeanN_10": "2.0",
                  "log_slope": 2.365350261284881e-9,
                  "log_bias": 1.9999999964353612,
                  "_deepnote_index_column": 274
                },
                {
                  "WmeanN_1": 2,
                  "WmeanN_2": 2,
                  "WmeanN_3": 2,
                  "WmeanN_4": 2,
                  "WmeanN_5": 2,
                  "WmeanN_6": 2,
                  "WmeanN_7": 2,
                  "WmeanN_8": 2,
                  "WmeanN_9": 2,
                  "WmeanN_10": "2.0",
                  "log_slope": 2.365350261284881e-9,
                  "log_bias": 1.9999999964353612,
                  "_deepnote_index_column": 275
                },
                {
                  "WmeanN_1": 2,
                  "WmeanN_2": 2,
                  "WmeanN_3": 2,
                  "WmeanN_4": 2,
                  "WmeanN_5": 2,
                  "WmeanN_6": 2,
                  "WmeanN_7": 2,
                  "WmeanN_8": 2,
                  "WmeanN_9": 2,
                  "WmeanN_10": "2.0",
                  "log_slope": 2.365350261284881e-9,
                  "log_bias": 1.9999999964353612,
                  "_deepnote_index_column": 276
                },
                {
                  "WmeanN_1": 2,
                  "WmeanN_2": 2,
                  "WmeanN_3": 2,
                  "WmeanN_4": 2,
                  "WmeanN_5": 2,
                  "WmeanN_6": 2,
                  "WmeanN_7": 2,
                  "WmeanN_8": 2,
                  "WmeanN_9": 2,
                  "WmeanN_10": "2.0",
                  "log_slope": 2.365350261284881e-9,
                  "log_bias": 1.9999999964353612,
                  "_deepnote_index_column": 277
                },
                {
                  "WmeanN_1": 2,
                  "WmeanN_2": 2,
                  "WmeanN_3": 2,
                  "WmeanN_4": 2,
                  "WmeanN_5": 2,
                  "WmeanN_6": 2,
                  "WmeanN_7": 2,
                  "WmeanN_8": 2,
                  "WmeanN_9": 2,
                  "WmeanN_10": "2.0",
                  "log_slope": 2.365350261284881e-9,
                  "log_bias": 1.9999999964353612,
                  "_deepnote_index_column": 278
                },
                {
                  "WmeanN_1": 2,
                  "WmeanN_2": 2,
                  "WmeanN_3": 2,
                  "WmeanN_4": 2,
                  "WmeanN_5": 2,
                  "WmeanN_6": 2,
                  "WmeanN_7": 2,
                  "WmeanN_8": 2,
                  "WmeanN_9": 2,
                  "WmeanN_10": "2.0",
                  "log_slope": 2.365350261284881e-9,
                  "log_bias": 1.9999999964353612,
                  "_deepnote_index_column": 279
                }
              ]
            },
            "text/plain": "     WmeanN_1  WmeanN_2  WmeanN_3  WmeanN_4  WmeanN_5  WmeanN_6  WmeanN_7  \\\n0    2.532189  2.951220  3.981067  3.069697  6.489933  8.599343  3.490166   \n1    2.004138  2.490342  2.164074  2.579515  4.816541  4.362275  4.104225   \n2    3.025449  3.758287  3.861799  3.580940  4.017241  5.250646  4.645780   \n3    2.552137  2.758261  3.335548  3.615517  3.603839  4.394864  4.600334   \n4    1.738197  2.528198  2.299090  2.566576  3.322917  3.460189  3.578313   \n..        ...       ...       ...       ...       ...       ...       ...   \n275  2.000000  2.000000  2.000000  2.000000  2.000000  2.000000  2.000000   \n276  2.000000  2.000000  2.000000  2.000000  2.000000  2.000000  2.000000   \n277  2.000000  2.000000  2.000000  2.000000  2.000000  2.000000  2.000000   \n278  2.000000  2.000000  2.000000  2.000000  2.000000  2.000000  2.000000   \n279  2.000000  2.000000  2.000000  2.000000  2.000000  2.000000  2.000000   \n\n     WmeanN_8  WmeanN_9  WmeanN_10     log_slope  log_bias  \n0    5.315956  6.595960   6.297114  1.833601e+00  2.162718  \n1    2.912553  4.726727   4.812147  1.226804e+00  1.644238  \n2    5.345315  4.882199   4.956466  9.392778e-01  2.913688  \n3    4.544872  5.965574   5.740260  1.425776e+00  1.957569  \n4    3.400264  3.597671   2.701987  7.132795e-01  1.841974  \n..        ...       ...        ...           ...       ...  \n275  2.000000  2.000000   2.000000  2.365350e-09  2.000000  \n276  2.000000  2.000000   2.000000  2.365350e-09  2.000000  \n277  2.000000  2.000000   2.000000  2.365350e-09  2.000000  \n278  2.000000  2.000000   2.000000  2.365350e-09  2.000000  \n279  2.000000  2.000000   2.000000  2.365350e-09  2.000000  \n\n[262 rows x 12 columns]",
            "text/html": "<div>\n<style scoped>\n    .dataframe tbody tr th:only-of-type {\n        vertical-align: middle;\n    }\n\n    .dataframe tbody tr th {\n        vertical-align: top;\n    }\n\n    .dataframe thead th {\n        text-align: right;\n    }\n</style>\n<table border=\"1\" class=\"dataframe\">\n  <thead>\n    <tr style=\"text-align: right;\">\n      <th></th>\n      <th>WmeanN_1</th>\n      <th>WmeanN_2</th>\n      <th>WmeanN_3</th>\n      <th>WmeanN_4</th>\n      <th>WmeanN_5</th>\n      <th>WmeanN_6</th>\n      <th>WmeanN_7</th>\n      <th>WmeanN_8</th>\n      <th>WmeanN_9</th>\n      <th>WmeanN_10</th>\n      <th>log_slope</th>\n      <th>log_bias</th>\n    </tr>\n  </thead>\n  <tbody>\n    <tr>\n      <th>0</th>\n      <td>2.532189</td>\n      <td>2.951220</td>\n      <td>3.981067</td>\n      <td>3.069697</td>\n      <td>6.489933</td>\n      <td>8.599343</td>\n      <td>3.490166</td>\n      <td>5.315956</td>\n      <td>6.595960</td>\n      <td>6.297114</td>\n      <td>1.833601e+00</td>\n      <td>2.162718</td>\n    </tr>\n    <tr>\n      <th>1</th>\n      <td>2.004138</td>\n      <td>2.490342</td>\n      <td>2.164074</td>\n      <td>2.579515</td>\n      <td>4.816541</td>\n      <td>4.362275</td>\n      <td>4.104225</td>\n      <td>2.912553</td>\n      <td>4.726727</td>\n      <td>4.812147</td>\n      <td>1.226804e+00</td>\n      <td>1.644238</td>\n    </tr>\n    <tr>\n      <th>2</th>\n      <td>3.025449</td>\n      <td>3.758287</td>\n      <td>3.861799</td>\n      <td>3.580940</td>\n      <td>4.017241</td>\n      <td>5.250646</td>\n      <td>4.645780</td>\n      <td>5.345315</td>\n      <td>4.882199</td>\n      <td>4.956466</td>\n      <td>9.392778e-01</td>\n      <td>2.913688</td>\n    </tr>\n    <tr>\n      <th>3</th>\n      <td>2.552137</td>\n      <td>2.758261</td>\n      <td>3.335548</td>\n      <td>3.615517</td>\n      <td>3.603839</td>\n      <td>4.394864</td>\n      <td>4.600334</td>\n      <td>4.544872</td>\n      <td>5.965574</td>\n      <td>5.740260</td>\n      <td>1.425776e+00</td>\n      <td>1.957569</td>\n    </tr>\n    <tr>\n      <th>4</th>\n      <td>1.738197</td>\n      <td>2.528198</td>\n      <td>2.299090</td>\n      <td>2.566576</td>\n      <td>3.322917</td>\n      <td>3.460189</td>\n      <td>3.578313</td>\n      <td>3.400264</td>\n      <td>3.597671</td>\n      <td>2.701987</td>\n      <td>7.132795e-01</td>\n      <td>1.841974</td>\n    </tr>\n    <tr>\n      <th>...</th>\n      <td>...</td>\n      <td>...</td>\n      <td>...</td>\n      <td>...</td>\n      <td>...</td>\n      <td>...</td>\n      <td>...</td>\n      <td>...</td>\n      <td>...</td>\n      <td>...</td>\n      <td>...</td>\n      <td>...</td>\n    </tr>\n    <tr>\n      <th>275</th>\n      <td>2.000000</td>\n      <td>2.000000</td>\n      <td>2.000000</td>\n      <td>2.000000</td>\n      <td>2.000000</td>\n      <td>2.000000</td>\n      <td>2.000000</td>\n      <td>2.000000</td>\n      <td>2.000000</td>\n      <td>2.000000</td>\n      <td>2.365350e-09</td>\n      <td>2.000000</td>\n    </tr>\n    <tr>\n      <th>276</th>\n      <td>2.000000</td>\n      <td>2.000000</td>\n      <td>2.000000</td>\n      <td>2.000000</td>\n      <td>2.000000</td>\n      <td>2.000000</td>\n      <td>2.000000</td>\n      <td>2.000000</td>\n      <td>2.000000</td>\n      <td>2.000000</td>\n      <td>2.365350e-09</td>\n      <td>2.000000</td>\n    </tr>\n    <tr>\n      <th>277</th>\n      <td>2.000000</td>\n      <td>2.000000</td>\n      <td>2.000000</td>\n      <td>2.000000</td>\n      <td>2.000000</td>\n      <td>2.000000</td>\n      <td>2.000000</td>\n      <td>2.000000</td>\n      <td>2.000000</td>\n      <td>2.000000</td>\n      <td>2.365350e-09</td>\n      <td>2.000000</td>\n    </tr>\n    <tr>\n      <th>278</th>\n      <td>2.000000</td>\n      <td>2.000000</td>\n      <td>2.000000</td>\n      <td>2.000000</td>\n      <td>2.000000</td>\n      <td>2.000000</td>\n      <td>2.000000</td>\n      <td>2.000000</td>\n      <td>2.000000</td>\n      <td>2.000000</td>\n      <td>2.365350e-09</td>\n      <td>2.000000</td>\n    </tr>\n    <tr>\n      <th>279</th>\n      <td>2.000000</td>\n      <td>2.000000</td>\n      <td>2.000000</td>\n      <td>2.000000</td>\n      <td>2.000000</td>\n      <td>2.000000</td>\n      <td>2.000000</td>\n      <td>2.000000</td>\n      <td>2.000000</td>\n      <td>2.000000</td>\n      <td>2.365350e-09</td>\n      <td>2.000000</td>\n    </tr>\n  </tbody>\n</table>\n<p>262 rows × 12 columns</p>\n</div>"
          },
          "metadata": {}
        }
      ],
      "execution_count": 4
    },
    {
      "cell_type": "markdown",
      "source": "<a style='text-decoration:none;line-height:16px;display:flex;color:#5B5B62;padding:10px;justify-content:end;' href='https://deepnote.com?utm_source=created-in-deepnote-cell&projectId=6b8ead81-70bf-4d6b-bd50-8194f8f72b46' target=\"_blank\">\n<img style='display:inline;max-height:16px;margin:0px;margin-right:7.5px;' src='data:image/svg+xml;base64,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' > </img>\nCreated in <span style='font-weight:600;margin-left:4px;'>Deepnote</span></a>",
      "metadata": {
        "tags": [],
        "created_in_deepnote_cell": true,
        "deepnote_cell_type": "markdown"
      }
    }
  ],
  "nbformat": 4,
  "nbformat_minor": 2,
  "metadata": {
    "orig_nbformat": 2,
    "deepnote_notebook_id": "f10bae57-c069-44ff-8ccc-e9f3ba142891",
    "deepnote": {},
    "deepnote_execution_queue": []
  }
}