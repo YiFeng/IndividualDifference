{
 "cells": [
  {
   "cell_type": "code",
   "metadata": {
    "tags": [],
    "cell_id": "00000-99eb8be9-e965-44a1-b423-adf2b6bf803e",
    "deepnote_to_be_reexecuted": false,
    "source_hash": "3a26c49b",
    "execution_millis": 2473,
    "execution_start": 1648340269650,
    "deepnote_cell_type": "code",
    "deepnote_cell_height": 736.6875,
    "deepnote_output_heights": [
     328.46875
    ]
   },
   "source": "import os.path as path\nimport raw_data_preprocessing as rdp\nimport warnings\nimport regressor as reg\nimport cluster as clu\nimport intervention_data_preprocessing as idp\nimport individual_differences_plot as plot\nwarnings.filterwarnings('ignore')\n\ngoogledrive_loc = '/datasets/yis-google-drive'\ndata_folder_loc = 'Yi_UCI_research/GSR other works/2020 Summer_predict individual training/data/'\nfile_name = 'raw data/combined_3datasets.csv'\ndata_path = path.join(googledrive_loc, data_folder_loc, file_name)\nraw_data = rdp.read_raw_data(data_path)\nprint('Used Feature columns: {}'.format(rdp.feature_col_names))\ndata_nomissing_training = rdp.delete_missing_row(raw_data)\n# rdp.demographic_info(data_nomissing_training)\ndescpriptive_result = rdp.descriptive_info(data_nomissing_training)",
   "execution_count": 1,
   "outputs": [
    {
     "name": "stdout",
     "text": "Used Feature columns: ['MR_accpre', 'WM_Zpre', 'IC_Zreverse_pre', 'NT_Zpre', 'TCA_Zscore', 'CFQMALscore', 'Avg_grit_amb', 'NEOFFIExtraversion', 'NEOFFIAgreeableness', 'NEOFFIConscientiousness', 'NEOFFIEmotionalstability', 'NEOFFIIntellectorOpenness', 'VGQHoursCategorySumPastYear_Z', 'ParentalEducationSum', 'SelfReportedSESRatingSum', 'Physicalhealth', 'Physicalfitness', 'Psychohealth', 'Gamified', 'Difficulty', 'Bilingual']\nThe sample size of raw data is 949.\nThe sample size of no missing data (listwise) is 568.\nCategorical Gamified information:Gamified\nGamified       315\nNongamified    253\ndtype: int64\nCategorical Difficulty information:Difficulty\nDifficult     50\nMiddle       181\nModerate     169\nhard         150\ndtype: int64\nCategorical Bilingual information:Bilingual\nBilingual      403\nMonolingual    103\ndtype: int64\n",
     "output_type": "stream"
    }
   ]
  },
  {
   "cell_type": "code",
   "metadata": {
    "tags": [],
    "cell_id": "00001-0988e835-55eb-4bad-a244-3bb35ef34437",
    "deepnote_to_be_reexecuted": false,
    "source_hash": "5346ee39",
    "execution_millis": 126,
    "output_cleared": false,
    "execution_start": 1648340272135,
    "deepnote_cell_type": "code",
    "deepnote_cell_height": 772.953125
   },
   "source": "# clean intervention data (delete outliers)\nint_test = idp.InterventionProcessor(data_nomissing_training)\nint_test.basic_analyze()\nint_test.mark_outlier_stewd(['std','mean'])\nint_test.delete_outlier()",
   "execution_count": 2,
   "outputs": [
    {
     "name": "stdout",
     "text": "The average maximun span across sessions is 5.157 with sd 5.815\nThe average standard deviation across sessions is 0.874 with sd 1.782\nThe average span across sessions is 3.920 with sd 3.733\nThe skew of std is 7.766\nstd:MC=0.193\ninterval of std is 2.6941854040225532 to -0.15348068866153236\n     Unique  mean_1  mean_2  mean_3  mean_4  mean_5  mean_6  mean_7  mean_8  \\\n33       34   4.140   6.510   9.100   7.920   9.050   9.130   8.830  13.560   \n41       42   4.150   7.010  18.550  29.390  38.250  43.580  49.000  51.500   \n44       45   2.530   2.420   2.770   3.070   2.550   2.780   2.740   3.550   \n147     148   2.510   3.010   3.520   3.960   5.700   7.230   8.600  10.450   \n472     473   3.000   3.000   4.000   4.000   6.000   7.000   9.000  10.000   \n505     506   4.000   7.000   9.000   8.000   9.000   9.000   9.000  14.000   \n582     583   3.000   2.000   3.000   3.000   3.000   3.000   3.000   4.000   \n583     584   4.000   7.000  19.000  29.000  38.000  44.000  49.000  52.000   \n736     737   4.455  10.941  12.138   8.293  11.000   5.465   9.821  17.000   \n743     744   2.618   3.021   4.000   5.706   7.744   7.909   8.500   7.628   \n756     757   2.925   3.793   4.947   8.039   6.200   7.792   9.822   9.667   \n779     780   4.655   5.592   6.200   6.146   7.475   8.667  11.364  22.611   \n839     840   3.245   4.077   4.370   4.633   8.850   5.533   7.447   8.972   \n868     869   9.000  10.750   9.750  10.917  13.818  12.083  17.300  13.909   \n896     897  13.786  27.667  36.750  41.000  50.500  58.500  63.167  55.500   \n897     898   3.059   3.579   4.692   7.882   9.056  17.636   4.563   3.941   \n898     899  14.154  35.000  49.500  60.600  69.000  67.000  59.800  54.000   \n899     900  11.588  23.300  26.300  33.143  42.143  41.667  40.143  45.000   \n935     936   2.000   4.056   4.684  15.071  23.273  21.308  32.667  39.250   \n\n     mean_9  mean_10     max        std     mean  outlier  \n33   13.340   12.170  13.560   2.968656   9.3750     True  \n41   51.080   52.420  52.420  18.705669  34.4930     True  \n44    9.630   13.170  13.170   3.734040   4.5210     True  \n147   9.450   10.130  10.450   3.099778   6.4560     True  \n472   9.000   10.000  10.000   2.877113   6.5000     True  \n505  13.000   12.000  14.000   2.951459   9.4000     True  \n582  10.000   13.000  13.000   3.683296   4.7000     True  \n583  51.000   52.000  52.000  18.721645  34.5000     True  \n736  11.667   17.538  17.538   4.247837  10.8318     True  \n743  10.941    8.273  10.941   2.698672   6.6340     True  \n756   8.479   10.951  10.951   2.700672   7.2615     True  \n779  30.471   34.118  34.118  11.095351  13.7299     True  \n839  15.087   17.150  17.150   4.766554   7.9364     True  \n868  14.545   20.100  20.100   3.481945  13.2172     True  \n896  41.500   21.500  63.167  16.381078  40.9870     True  \n897   5.933    5.294  17.636   4.322180   6.5635     True  \n898  50.333   43.800  69.000  16.405016  50.3187     True  \n899  38.778   31.857  45.000  10.458191  33.3919     True  \n935  42.429   45.571  45.571  16.484327  23.0309     True  \nThe skew of mean is 8.276\nmean:MC=0.239\ninterval of mean is 10.289435307178948 to 1.4688770505335744\n     Unique  mean_1  mean_2  mean_3  mean_4  mean_5  mean_6  mean_7  mean_8  \\\n33       34   4.140   6.510   9.100   7.920   9.050   9.130   8.830  13.560   \n41       42   4.150   7.010  18.550  29.390  38.250  43.580  49.000  51.500   \n44       45   2.530   2.420   2.770   3.070   2.550   2.780   2.740   3.550   \n147     148   2.510   3.010   3.520   3.960   5.700   7.230   8.600  10.450   \n472     473   3.000   3.000   4.000   4.000   6.000   7.000   9.000  10.000   \n505     506   4.000   7.000   9.000   8.000   9.000   9.000   9.000  14.000   \n582     583   3.000   2.000   3.000   3.000   3.000   3.000   3.000   4.000   \n583     584   4.000   7.000  19.000  29.000  38.000  44.000  49.000  52.000   \n736     737   4.455  10.941  12.138   8.293  11.000   5.465   9.821  17.000   \n743     744   2.618   3.021   4.000   5.706   7.744   7.909   8.500   7.628   \n756     757   2.925   3.793   4.947   8.039   6.200   7.792   9.822   9.667   \n779     780   4.655   5.592   6.200   6.146   7.475   8.667  11.364  22.611   \n839     840   3.245   4.077   4.370   4.633   8.850   5.533   7.447   8.972   \n868     869   9.000  10.750   9.750  10.917  13.818  12.083  17.300  13.909   \n896     897  13.786  27.667  36.750  41.000  50.500  58.500  63.167  55.500   \n897     898   3.059   3.579   4.692   7.882   9.056  17.636   4.563   3.941   \n898     899  14.154  35.000  49.500  60.600  69.000  67.000  59.800  54.000   \n899     900  11.588  23.300  26.300  33.143  42.143  41.667  40.143  45.000   \n908     909   1.000   1.588   1.059   1.222   1.000   1.167   1.000   1.000   \n935     936   2.000   4.056   4.684  15.071  23.273  21.308  32.667  39.250   \n\n     mean_9  mean_10     max        std     mean  outlier  \n33   13.340   12.170  13.560   2.968656   9.3750     True  \n41   51.080   52.420  52.420  18.705669  34.4930     True  \n44    9.630   13.170  13.170   3.734040   4.5210     True  \n147   9.450   10.130  10.450   3.099778   6.4560     True  \n472   9.000   10.000  10.000   2.877113   6.5000     True  \n505  13.000   12.000  14.000   2.951459   9.4000     True  \n582  10.000   13.000  13.000   3.683296   4.7000     True  \n583  51.000   52.000  52.000  18.721645  34.5000     True  \n736  11.667   17.538  17.538   4.247837  10.8318     True  \n743  10.941    8.273  10.941   2.698672   6.6340     True  \n756   8.479   10.951  10.951   2.700672   7.2615     True  \n779  30.471   34.118  34.118  11.095351  13.7299     True  \n839  15.087   17.150  17.150   4.766554   7.9364     True  \n868  14.545   20.100  20.100   3.481945  13.2172     True  \n896  41.500   21.500  63.167  16.381078  40.9870     True  \n897   5.933    5.294  17.636   4.322180   6.5635     True  \n898  50.333   43.800  69.000  16.405016  50.3187     True  \n899  38.778   31.857  45.000  10.458191  33.3919     True  \n908   1.235    1.118   1.588   0.183368   1.1389     True  \n935  42.429   45.571  45.571  16.484327  23.0309     True  \nThe sample size after delete outlier: 548\n",
     "output_type": "stream"
    }
   ]
  },
  {
   "cell_type": "code",
   "metadata": {
    "cell_id": "c855626b91cd4ad6a70c86a854bda3af",
    "tags": [],
    "deepnote_to_be_reexecuted": false,
    "source_hash": "ba6dde5e",
    "execution_start": 1648340272271,
    "execution_millis": 2327,
    "deepnote_cell_type": "code",
    "deepnote_cell_height": 706.09375
   },
   "source": "#using regressor to fit individual training data\npiece_lin_reg = reg.PiecewiselinRegressor(['knot', 'slope1', 'slope2','turning_value'])\nlog_lin_reg = reg.LogRegressor(['log_slope', 'log_bias'])\nlin_reg = reg.LinearRegressor(['linear_slope', 'linear_bias'])\n\n# ['knot','slope1','slope2','std','max','r2','turning_value']\n# ['linear_slope', 'linear_bias']\nint_test.register_regressor(piece_lin_reg)\nint_test.fit()\n# plot.plot_distribution(int_test.data, ['knot','slope1','slope2','std','max','r2'])",
   "execution_count": 3,
   "outputs": [
    {
     "name": "stdout",
     "text": "The average r2 for <class 'regressor.PiecewiselinRegressor'> is: 0.728\nThe num of objects can not fit by pwlf: Unique            0\nmean_1            0\nmean_2            0\nmean_3            0\nmean_4            0\nmean_5            0\nmean_6            0\nmean_7            0\nmean_8            0\nmean_9            0\nmean_10           0\nmax               0\nstd               0\nmean              0\noutlier           0\nknot             42\nslope1           42\nslope2           42\nturning_value    42\nr2               42\ndtype: int64\nThe sample size that can fit with pwlf: 506\n",
     "output_type": "stream"
    }
   ]
  },
  {
   "cell_type": "code",
   "metadata": {
    "tags": [],
    "cell_id": "00003-af60acb0-0c37-4855-a570-86896fa0366a",
    "deepnote_to_be_reexecuted": false,
    "source_hash": "ef6377bd",
    "execution_millis": 2881,
    "execution_start": 1648340274606,
    "deepnote_cell_type": "code",
    "deepnote_cell_height": 3075,
    "deepnote_output_heights": [
     null,
     362,
     null,
     255,
     255,
     255,
     255,
     null,
     611,
     319.984375,
     319.984375,
     null,
     599.984375
    ]
   },
   "source": "# clustering features\nstd_max = ['max','std'] \npwlf = ['knot','slope1'] # 'turning_value'\nall_sess = ['mean_' + str(i) for i in range(1,11)]\n\n\n# clustering methods\nkmeans_3com = clu.Kmeans(3, pwlf)\nhac_3com = clu.Hierarchical(4, pwlf)\nem_3com = clu.EM(3, pwlf)\ndbc = clu.DensityBased(3, pwlf)\n# register clustering method\nint_test.register_cluster_model(hac_3com)\nint_test.cluster()\n# plot\nplot.plot_cluster_result(int_test.data, int_test.intervention_col_names, int_test.clustering_model.cluster_name)\n# plot.bar_plot_cluster(int_test.data, ['knot','slope1'], int_test.clustering_model.cluster_name)\n# plot.plot_scatter_cluster(int_test.data, ['knot','slope1'], int_test.clustering_model.cluster_name)",
   "execution_count": 4,
   "outputs": [
    {
     "name": "stdout",
     "text": "The silhouette score of AgglomerativeClustering(n_clusters=4) is: 0.402\nThe Davies-Bouldin score of AgglomerativeClustering(n_clusters=4) is: 0.622\nSample of each cluster: hierar_4\n0    261\n1    164\n2     78\n3      3\ndtype: int64\nfindfont: Font family ['sans-serif'] not found. Falling back to DejaVu Sans.\nfindfont: Generic family 'sans-serif' not found because none of the following families were found: Arial, Liberation Sans, Bitstream Vera Sans, sans-serif\nfindfont: Font family ['sans-serif'] not found. Falling back to DejaVu Sans.\nfindfont: Generic family 'sans-serif' not found because none of the following families were found: Arial, Liberation Sans, Bitstream Vera Sans, sans-serif\nfindfont: Font family ['sans-serif'] not found. Falling back to DejaVu Sans.\nfindfont: Generic family 'sans-serif' not found because none of the following families were found: Arial, Liberation Sans, Bitstream Vera Sans, sans-serif\n",
     "output_type": "stream"
    },
    {
     "data": {
      "text/plain": "<Figure size 576x396 with 2 Axes>",
      "image/png": "[encoded data removed]"
     },
     "metadata": {
      "image/png": {
       "width": 543,
       "height": 360
      }
     },
     "output_type": "display_data"
    },
    {
     "name": "stderr",
     "text": "findfont: Font family ['sans-serif'] not found. Falling back to DejaVu Sans.\nfindfont: Generic family 'sans-serif' not found because none of the following families were found: Arial, Liberation Sans, Bitstream Vera Sans, sans-serif\n",
     "output_type": "stream"
    },
    {
     "data": {
      "text/plain": "<Figure size 648x288 with 1 Axes>",
      "image/png": "[encoded data removed]"
     },
     "metadata": {
      "image/png": {
       "width": 552,
       "height": 253
      }
     },
     "output_type": "display_data"
    },
    {
     "data": {
      "text/plain": "<Figure size 648x288 with 1 Axes>",
      "image/png": "[encoded data removed]"
     },
     "metadata": {
      "image/png": {
       "width": 552,
       "height": 253
      }
     },
     "output_type": "display_data"
    },
    {
     "data": {
      "text/plain": "<Figure size 648x288 with 1 Axes>",
      "image/png": "[encoded data removed]"
     },
     "metadata": {
      "image/png": {
       "width": 552,
       "height": 253
      }
     },
     "output_type": "display_data"
    },
    {
     "data": {
      "text/plain": "<Figure size 648x288 with 1 Axes>",
      "image/png": "[encoded data removed]"
     },
     "metadata": {
      "image/png": {
       "width": 552,
       "height": 253
      }
     },
     "output_type": "display_data"
    },
    {
     "name": "stderr",
     "text": "findfont: Font family ['sans-serif'] not found. Falling back to DejaVu Sans.\nfindfont: Generic family 'sans-serif' not found because none of the following families were found: Arial, Liberation Sans, Bitstream Vera Sans, sans-serif\nfindfont: Font family ['sans-serif'] not found. Falling back to DejaVu Sans.\nfindfont: Generic family 'sans-serif' not found because none of the following families were found: Arial, Liberation Sans, Bitstream Vera Sans, sans-serif\nfindfont: Font family ['sans-serif'] not found. Falling back to DejaVu Sans.\nfindfont: Generic family 'sans-serif' not found because none of the following families were found: Arial, Liberation Sans, Bitstream Vera Sans, sans-serif\n",
     "output_type": "stream"
    },
    {
     "data": {
      "text/plain": "<Figure size 648x720 with 1 Axes>",
      "image/png": "[encoded data removed]"
     },
     "metadata": {
      "image/png": {
       "width": 593,
       "height": 613
      }
     },
     "output_type": "display_data"
    }
   ]
  },
  {
   "cell_type": "code",
   "source": "int_test.data",
   "metadata": {
    "cell_id": "e0fc54b65c5b4c6588c19bb913cc32ed",
    "tags": [],
    "deepnote_to_be_reexecuted": false,
    "source_hash": "c74b26ea",
    "execution_start": 1648340277489,
    "execution_millis": 119,
    "deepnote_cell_type": "code",
    "deepnote_cell_height": 597.890625
   },
   "outputs": [
    {
     "output_type": "execute_result",
     "execution_count": 5,
     "data": {
      "application/vnd.deepnote.dataframe.v3+json": {
       "column_count": 21,
       "row_count": 506,
       "columns": [
        {
         "name": "Unique",
         "dtype": "int64",
         "stats": {
          "unique_count": 506,
          "nan_count": 0,
          "min": "1",
          "max": "938",
          "histogram": [
           {
            "bin_start": 1,
            "bin_end": 94.7,
            "count": 58
           },
           {
            "bin_start": 94.7,
            "bin_end": 188.4,
            "count": 73
           },
           {
            "bin_start": 188.4,
            "bin_end": 282.1,
            "count": 5
           },
           {
            "bin_start": 282.1,
            "bin_end": 375.8,
            "count": 16
           },
           {
            "bin_start": 375.8,
            "bin_end": 469.5,
            "count": 29
           },
           {
            "bin_start": 469.5,
            "bin_end": 563.2,
            "count": 42
           },
           {
            "bin_start": 563.2,
            "bin_end": 656.9,
            "count": 39
           },
           {
            "bin_start": 656.9,
            "bin_end": 750.6,
            "count": 77
           },
           {
            "bin_start": 750.6,
            "bin_end": 844.3000000000001,
            "count": 88
           },
           {
            "bin_start": 844.3000000000001,
            "bin_end": 938,
            "count": 79
           }
          ]
         }
        },
        {
         "name": "mean_1",
         "dtype": "float64",
         "stats": {
          "unique_count": 270,
          "nan_count": 0,
          "min": "1.125",
          "max": "6.429",
          "histogram": [
           {
            "bin_start": 1.125,
            "bin_end": 1.6554,
            "count": 11
           },
           {
            "bin_start": 1.6554,
            "bin_end": 2.1858,
            "count": 165
           },
           {
            "bin_start": 2.1858,
            "bin_end": 2.7161999999999997,
            "count": 177
           },
           {
            "bin_start": 2.7161999999999997,
            "bin_end": 3.2466,
            "count": 110
           },
           {
            "bin_start": 3.2466,
            "bin_end": 3.777,
            "count": 18
           },
           {
            "bin_start": 3.777,
            "bin_end": 4.3073999999999995,
            "count": 12
           },
           {
            "bin_start": 4.3073999999999995,
            "bin_end": 4.8378,
            "count": 7
           },
           {
            "bin_start": 4.8378,
            "bin_end": 5.3682,
            "count": 3
           },
           {
            "bin_start": 5.3682,
            "bin_end": 5.8986,
            "count": 1
           },
           {
            "bin_start": 5.8986,
            "bin_end": 6.429,
            "count": 2
           }
          ]
         }
        },
        {
         "name": "mean_2",
         "dtype": "float64",
         "stats": {
          "unique_count": 305,
          "nan_count": 0,
          "min": "1.592",
          "max": "11.0",
          "histogram": [
           {
            "bin_start": 1.592,
            "bin_end": 2.5328,
            "count": 140
           },
           {
            "bin_start": 2.5328,
            "bin_end": 3.4736000000000002,
            "count": 247
           },
           {
            "bin_start": 3.4736000000000002,
            "bin_end": 4.4144000000000005,
            "count": 84
           },
           {
            "bin_start": 4.4144000000000005,
            "bin_end": 5.3552,
            "count": 18
           },
           {
            "bin_start": 5.3552,
            "bin_end": 6.295999999999999,
            "count": 10
           },
           {
            "bin_start": 6.295999999999999,
            "bin_end": 7.236800000000001,
            "count": 3
           },
           {
            "bin_start": 7.236800000000001,
            "bin_end": 8.1776,
            "count": 2
           },
           {
            "bin_start": 8.1776,
            "bin_end": 9.1184,
            "count": 0
           },
           {
            "bin_start": 9.1184,
            "bin_end": 10.0592,
            "count": 0
           },
           {
            "bin_start": 10.0592,
            "bin_end": 11,
            "count": 2
           }
          ]
         }
        },
        {
         "name": "mean_3",
         "dtype": "float64",
         "stats": {
          "unique_count": 306,
          "nan_count": 0,
          "min": "1.909",
          "max": "9.816",
          "histogram": [
           {
            "bin_start": 1.909,
            "bin_end": 2.6997,
            "count": 152
           },
           {
            "bin_start": 2.6997,
            "bin_end": 3.4904,
            "count": 185
           },
           {
            "bin_start": 3.4904,
            "bin_end": 4.2811,
            "count": 99
           },
           {
            "bin_start": 4.2811,
            "bin_end": 5.0718000000000005,
            "count": 34
           },
           {
            "bin_start": 5.0718000000000005,
            "bin_end": 5.862500000000001,
            "count": 17
           },
           {
            "bin_start": 5.862500000000001,
            "bin_end": 6.6532,
            "count": 9
           },
           {
            "bin_start": 6.6532,
            "bin_end": 7.4439,
            "count": 4
           },
           {
            "bin_start": 7.4439,
            "bin_end": 8.2346,
            "count": 4
           },
           {
            "bin_start": 8.2346,
            "bin_end": 9.025300000000001,
            "count": 0
           },
           {
            "bin_start": 9.025300000000001,
            "bin_end": 9.816,
            "count": 2
           }
          ]
         }
        },
        {
         "name": "mean_4",
         "dtype": "float64",
         "stats": {
          "unique_count": 317,
          "nan_count": 0,
          "min": "2.0",
          "max": "9.41",
          "histogram": [
           {
            "bin_start": 2,
            "bin_end": 2.741,
            "count": 138
           },
           {
            "bin_start": 2.741,
            "bin_end": 3.482,
            "count": 154
           },
           {
            "bin_start": 3.482,
            "bin_end": 4.223,
            "count": 111
           },
           {
            "bin_start": 4.223,
            "bin_end": 4.964,
            "count": 48
           },
           {
            "bin_start": 4.964,
            "bin_end": 5.705,
            "count": 22
           },
           {
            "bin_start": 5.705,
            "bin_end": 6.446,
            "count": 19
           },
           {
            "bin_start": 6.446,
            "bin_end": 7.187,
            "count": 8
           },
           {
            "bin_start": 7.187,
            "bin_end": 7.928,
            "count": 2
           },
           {
            "bin_start": 7.928,
            "bin_end": 8.669,
            "count": 1
           },
           {
            "bin_start": 8.669,
            "bin_end": 9.41,
            "count": 3
           }
          ]
         }
        },
        {
         "name": "mean_5",
         "dtype": "float64",
         "stats": {
          "unique_count": 311,
          "nan_count": 0,
          "min": "2.0",
          "max": "10.0",
          "histogram": [
           {
            "bin_start": 2,
            "bin_end": 2.8,
            "count": 136
           },
           {
            "bin_start": 2.8,
            "bin_end": 3.6,
            "count": 139
           },
           {
            "bin_start": 3.6,
            "bin_end": 4.4,
            "count": 123
           },
           {
            "bin_start": 4.4,
            "bin_end": 5.2,
            "count": 45
           },
           {
            "bin_start": 5.2,
            "bin_end": 6,
            "count": 24
           },
           {
            "bin_start": 6,
            "bin_end": 6.800000000000001,
            "count": 21
           },
           {
            "bin_start": 6.800000000000001,
            "bin_end": 7.6000000000000005,
            "count": 11
           },
           {
            "bin_start": 7.6000000000000005,
            "bin_end": 8.4,
            "count": 3
           },
           {
            "bin_start": 8.4,
            "bin_end": 9.2,
            "count": 1
           },
           {
            "bin_start": 9.2,
            "bin_end": 10,
            "count": 3
           }
          ]
         }
        },
        {
         "name": "mean_6",
         "dtype": "float64",
         "stats": {
          "unique_count": 319,
          "nan_count": 0,
          "min": "2.0",
          "max": "10.231",
          "histogram": [
           {
            "bin_start": 2,
            "bin_end": 2.8231,
            "count": 122
           },
           {
            "bin_start": 2.8231,
            "bin_end": 3.6462,
            "count": 147
           },
           {
            "bin_start": 3.6462,
            "bin_end": 4.4693,
            "count": 113
           },
           {
            "bin_start": 4.4693,
            "bin_end": 5.2924,
            "count": 59
           },
           {
            "bin_start": 5.2924,
            "bin_end": 6.1155,
            "count": 32
           },
           {
            "bin_start": 6.1155,
            "bin_end": 6.938599999999999,
            "count": 11
           },
           {
            "bin_start": 6.938599999999999,
            "bin_end": 7.761699999999999,
            "count": 12
           },
           {
            "bin_start": 7.761699999999999,
            "bin_end": 8.5848,
            "count": 4
           },
           {
            "bin_start": 8.5848,
            "bin_end": 9.4079,
            "count": 2
           },
           {
            "bin_start": 9.4079,
            "bin_end": 10.231,
            "count": 4
           }
          ]
         }
        },
        {
         "name": "mean_7",
         "dtype": "float64",
         "stats": {
          "unique_count": 326,
          "nan_count": 0,
          "min": "2.0",
          "max": "11.33",
          "histogram": [
           {
            "bin_start": 2,
            "bin_end": 2.933,
            "count": 128
           },
           {
            "bin_start": 2.933,
            "bin_end": 3.866,
            "count": 157
           },
           {
            "bin_start": 3.866,
            "bin_end": 4.799,
            "count": 116
           },
           {
            "bin_start": 4.799,
            "bin_end": 5.732,
            "count": 47
           },
           {
            "bin_start": 5.732,
            "bin_end": 6.665,
            "count": 27
           },
           {
            "bin_start": 6.665,
            "bin_end": 7.598000000000001,
            "count": 15
           },
           {
            "bin_start": 7.598000000000001,
            "bin_end": 8.531,
            "count": 12
           },
           {
            "bin_start": 8.531,
            "bin_end": 9.464,
            "count": 0
           },
           {
            "bin_start": 9.464,
            "bin_end": 10.397,
            "count": 0
           },
           {
            "bin_start": 10.397,
            "bin_end": 11.33,
            "count": 4
           }
          ]
         }
        },
        {
         "name": "mean_8",
         "dtype": "float64",
         "stats": {
          "unique_count": 328,
          "nan_count": 0,
          "min": "2.0",
          "max": "11.25",
          "histogram": [
           {
            "bin_start": 2,
            "bin_end": 2.925,
            "count": 138
           },
           {
            "bin_start": 2.925,
            "bin_end": 3.85,
            "count": 121
           },
           {
            "bin_start": 3.85,
            "bin_end": 4.775,
            "count": 120
           },
           {
            "bin_start": 4.775,
            "bin_end": 5.7,
            "count": 66
           },
           {
            "bin_start": 5.7,
            "bin_end": 6.625,
            "count": 24
           },
           {
            "bin_start": 6.625,
            "bin_end": 7.550000000000001,
            "count": 14
           },
           {
            "bin_start": 7.550000000000001,
            "bin_end": 8.475000000000001,
            "count": 12
           },
           {
            "bin_start": 8.475000000000001,
            "bin_end": 9.4,
            "count": 8
           },
           {
            "bin_start": 9.4,
            "bin_end": 10.325000000000001,
            "count": 0
           },
           {
            "bin_start": 10.325000000000001,
            "bin_end": 11.25,
            "count": 3
           }
          ]
         }
        },
        {
         "name": "mean_9",
         "dtype": "float64",
         "stats": {
          "unique_count": 327,
          "nan_count": 0,
          "min": "2.0",
          "max": "10.105",
          "histogram": [
           {
            "bin_start": 2,
            "bin_end": 2.8105,
            "count": 123
           },
           {
            "bin_start": 2.8105,
            "bin_end": 3.621,
            "count": 119
           },
           {
            "bin_start": 3.621,
            "bin_end": 4.4315,
            "count": 80
           },
           {
            "bin_start": 4.4315,
            "bin_end": 5.242,
            "count": 96
           },
           {
            "bin_start": 5.242,
            "bin_end": 6.0525,
            "count": 44
           },
           {
            "bin_start": 6.0525,
            "bin_end": 6.8629999999999995,
            "count": 9
           },
           {
            "bin_start": 6.8629999999999995,
            "bin_end": 7.6735,
            "count": 16
           },
           {
            "bin_start": 7.6735,
            "bin_end": 8.484,
            "count": 15
           },
           {
            "bin_start": 8.484,
            "bin_end": 9.2945,
            "count": 0
           },
           {
            "bin_start": 9.2945,
            "bin_end": 10.105,
            "count": 4
           }
          ]
         }
        },
        {
         "name": "mean_10",
         "dtype": "float64",
         "stats": {
          "unique_count": 323,
          "nan_count": 0,
          "min": "1.722",
          "max": "11.083",
          "histogram": [
           {
            "bin_start": 1.722,
            "bin_end": 2.6581,
            "count": 107
           },
           {
            "bin_start": 2.6581,
            "bin_end": 3.5942,
            "count": 127
           },
           {
            "bin_start": 3.5942,
            "bin_end": 4.5303,
            "count": 110
           },
           {
            "bin_start": 4.5303,
            "bin_end": 5.4664,
            "count": 79
           },
           {
            "bin_start": 5.4664,
            "bin_end": 6.4025,
            "count": 38
           },
           {
            "bin_start": 6.4025,
            "bin_end": 7.3386,
            "count": 20
           },
           {
            "bin_start": 7.3386,
            "bin_end": 8.274700000000001,
            "count": 13
           },
           {
            "bin_start": 8.274700000000001,
            "bin_end": 9.2108,
            "count": 5
           },
           {
            "bin_start": 9.2108,
            "bin_end": 10.1469,
            "count": 4
           },
           {
            "bin_start": 10.1469,
            "bin_end": 11.083,
            "count": 3
           }
          ]
         }
        },
        {
         "name": "max",
         "dtype": "float64",
         "stats": {
          "unique_count": 340,
          "nan_count": 0,
          "min": "2.05",
          "max": "11.33",
          "histogram": [
           {
            "bin_start": 2.05,
            "bin_end": 2.9779999999999998,
            "count": 69
           },
           {
            "bin_start": 2.9779999999999998,
            "bin_end": 3.906,
            "count": 130
           },
           {
            "bin_start": 3.906,
            "bin_end": 4.8340000000000005,
            "count": 120
           },
           {
            "bin_start": 4.8340000000000005,
            "bin_end": 5.7620000000000005,
            "count": 87
           },
           {
            "bin_start": 5.7620000000000005,
            "bin_end": 6.69,
            "count": 43
           },
           {
            "bin_start": 6.69,
            "bin_end": 7.618000000000001,
            "count": 17
           },
           {
            "bin_start": 7.618000000000001,
            "bin_end": 8.546000000000001,
            "count": 23
           },
           {
            "bin_start": 8.546000000000001,
            "bin_end": 9.474,
            "count": 8
           },
           {
            "bin_start": 9.474,
            "bin_end": 10.402000000000001,
            "count": 1
           },
           {
            "bin_start": 10.402000000000001,
            "bin_end": 11.33,
            "count": 8
           }
          ]
         }
        },
        {
         "name": "std",
         "dtype": "float64",
         "stats": {
          "unique_count": 442,
          "nan_count": 0,
          "min": "0.015811388300841844",
          "max": "2.663558123596663",
          "histogram": [
           {
            "bin_start": 0.015811388300841844,
            "bin_end": 0.28058606183042395,
            "count": 76
           },
           {
            "bin_start": 0.28058606183042395,
            "bin_end": 0.5453607353600061,
            "count": 152
           },
           {
            "bin_start": 0.5453607353600061,
            "bin_end": 0.8101354088895881,
            "count": 134
           },
           {
            "bin_start": 0.8101354088895881,
            "bin_end": 1.0749100824191704,
            "count": 68
           },
           {
            "bin_start": 1.0749100824191704,
            "bin_end": 1.3396847559487526,
            "count": 29
           },
           {
            "bin_start": 1.3396847559487526,
            "bin_end": 1.6044594294783345,
            "count": 22
           },
           {
            "bin_start": 1.6044594294783345,
            "bin_end": 1.8692341030079167,
            "count": 10
           },
           {
            "bin_start": 1.8692341030079167,
            "bin_end": 2.134008776537499,
            "count": 6
           },
           {
            "bin_start": 2.134008776537499,
            "bin_end": 2.398783450067081,
            "count": 6
           },
           {
            "bin_start": 2.398783450067081,
            "bin_end": 2.663558123596663,
            "count": 3
           }
          ]
         }
        },
        {
         "name": "mean",
         "dtype": "float64",
         "stats": {
          "unique_count": 429,
          "nan_count": 0,
          "min": "1.9886000000000004",
          "max": "8.9887",
          "histogram": [
           {
            "bin_start": 1.9886000000000004,
            "bin_end": 2.6886100000000006,
            "count": 118
           },
           {
            "bin_start": 2.6886100000000006,
            "bin_end": 3.3886200000000004,
            "count": 143
           },
           {
            "bin_start": 3.3886200000000004,
            "bin_end": 4.08863,
            "count": 112
           },
           {
            "bin_start": 4.08863,
            "bin_end": 4.788640000000001,
            "count": 57
           },
           {
            "bin_start": 4.788640000000001,
            "bin_end": 5.48865,
            "count": 36
           },
           {
            "bin_start": 5.48865,
            "bin_end": 6.1886600000000005,
            "count": 16
           },
           {
            "bin_start": 6.1886600000000005,
            "bin_end": 6.888670000000001,
            "count": 16
           },
           {
            "bin_start": 6.888670000000001,
            "bin_end": 7.58868,
            "count": 2
           },
           {
            "bin_start": 7.58868,
            "bin_end": 8.28869,
            "count": 3
           },
           {
            "bin_start": 8.28869,
            "bin_end": 8.9887,
            "count": 3
           }
          ]
         }
        },
        {
         "name": "outlier",
         "dtype": "bool",
         "stats": {
          "unique_count": 1,
          "nan_count": 0,
          "categories": [
           {
            "name": "False",
            "count": 506
           }
          ]
         }
        },
        {
         "name": "knot",
         "dtype": "float64",
         "stats": {
          "unique_count": 8,
          "nan_count": 0,
          "min": "2.0",
          "max": "9.0",
          "histogram": [
           {
            "bin_start": 2,
            "bin_end": 2.7,
            "count": 106
           },
           {
            "bin_start": 2.7,
            "bin_end": 3.4,
            "count": 69
           },
           {
            "bin_start": 3.4,
            "bin_end": 4.1,
            "count": 51
           },
           {
            "bin_start": 4.1,
            "bin_end": 4.8,
            "count": 0
           },
           {
            "bin_start": 4.8,
            "bin_end": 5.5,
            "count": 49
           },
           {
            "bin_start": 5.5,
            "bin_end": 6.199999999999999,
            "count": 72
           },
           {
            "bin_start": 6.199999999999999,
            "bin_end": 6.8999999999999995,
            "count": 0
           },
           {
            "bin_start": 6.8999999999999995,
            "bin_end": 7.6,
            "count": 41
           },
           {
            "bin_start": 7.6,
            "bin_end": 8.3,
            "count": 53
           },
           {
            "bin_start": 8.3,
            "bin_end": 9,
            "count": 65
           }
          ]
         }
        },
        {
         "name": "slope1",
         "dtype": "float64",
         "stats": {
          "unique_count": 496,
          "nan_count": 0,
          "min": "-1.9999999999999947",
          "max": "4.533333333333342",
          "histogram": [
           {
            "bin_start": -1.9999999999999947,
            "bin_end": -1.346666666666661,
            "count": 2
           },
           {
            "bin_start": -1.346666666666661,
            "bin_end": -0.6933333333333274,
            "count": 1
           },
           {
            "bin_start": -0.6933333333333274,
            "bin_end": -0.03999999999999382,
            "count": 19
           },
           {
            "bin_start": -0.03999999999999382,
            "bin_end": 0.61333333333334,
            "count": 353
           },
           {
            "bin_start": 0.61333333333334,
            "bin_end": 1.2666666666666737,
            "count": 103
           },
           {
            "bin_start": 1.2666666666666737,
            "bin_end": 1.920000000000007,
            "count": 21
           },
           {
            "bin_start": 1.920000000000007,
            "bin_end": 2.5733333333333412,
            "count": 4
           },
           {
            "bin_start": 2.5733333333333412,
            "bin_end": 3.2266666666666746,
            "count": 0
           },
           {
            "bin_start": 3.2266666666666746,
            "bin_end": 3.880000000000008,
            "count": 0
           },
           {
            "bin_start": 3.880000000000008,
            "bin_end": 4.533333333333342,
            "count": 3
           }
          ]
         }
        },
        {
         "name": "slope2",
         "dtype": "float64",
         "stats": {
          "unique_count": 493,
          "nan_count": 0,
          "min": "-2.8299111111111106",
          "max": "8.412222222222223",
          "histogram": [
           {
            "bin_start": -2.8299111111111106,
            "bin_end": -1.7056977777777773,
            "count": 5
           },
           {
            "bin_start": -1.7056977777777773,
            "bin_end": -0.581484444444444,
            "count": 29
           },
           {
            "bin_start": -0.581484444444444,
            "bin_end": 0.542728888888889,
            "count": 441
           },
           {
            "bin_start": 0.542728888888889,
            "bin_end": 1.6669422222222225,
            "count": 27
           },
           {
            "bin_start": 1.6669422222222225,
            "bin_end": 2.791155555555556,
            "count": 3
           },
           {
            "bin_start": 2.791155555555556,
            "bin_end": 3.9153688888888887,
            "count": 0
           },
           {
            "bin_start": 3.9153688888888887,
            "bin_end": 5.039582222222222,
            "count": 0
           },
           {
            "bin_start": 5.039582222222222,
            "bin_end": 6.163795555555556,
            "count": 0
           },
           {
            "bin_start": 6.163795555555556,
            "bin_end": 7.288008888888889,
            "count": 0
           },
           {
            "bin_start": 7.288008888888889,
            "bin_end": 8.412222222222223,
            "count": 1
           }
          ]
         }
        },
        {
         "name": "turning_value",
         "dtype": "float64",
         "stats": {
          "unique_count": 318,
          "nan_count": 0,
          "min": "2.0",
          "max": "11.0",
          "histogram": [
           {
            "bin_start": 2,
            "bin_end": 2.9,
            "count": 123
           },
           {
            "bin_start": 2.9,
            "bin_end": 3.8,
            "count": 141
           },
           {
            "bin_start": 3.8,
            "bin_end": 4.7,
            "count": 114
           },
           {
            "bin_start": 4.7,
            "bin_end": 5.6,
            "count": 59
           },
           {
            "bin_start": 5.6,
            "bin_end": 6.5,
            "count": 30
           },
           {
            "bin_start": 6.5,
            "bin_end": 7.4,
            "count": 16
           },
           {
            "bin_start": 7.4,
            "bin_end": 8.3,
            "count": 13
           },
           {
            "bin_start": 8.3,
            "bin_end": 9.2,
            "count": 4
           },
           {
            "bin_start": 9.2,
            "bin_end": 10.1,
            "count": 3
           },
           {
            "bin_start": 10.1,
            "bin_end": 11,
            "count": 3
           }
          ]
         }
        },
        {
         "name": "r2",
         "dtype": "float64",
         "stats": {
          "unique_count": 488,
          "nan_count": 0,
          "min": "0.0641481773292939",
          "max": "1.0",
          "histogram": [
           {
            "bin_start": 0.0641481773292939,
            "bin_end": 0.1577333595963645,
            "count": 5
           },
           {
            "bin_start": 0.1577333595963645,
            "bin_end": 0.2513185418634351,
            "count": 11
           },
           {
            "bin_start": 0.2513185418634351,
            "bin_end": 0.34490372413050574,
            "count": 19
           },
           {
            "bin_start": 0.34490372413050574,
            "bin_end": 0.4384889063975763,
            "count": 24
           },
           {
            "bin_start": 0.4384889063975763,
            "bin_end": 0.5320740886646469,
            "count": 34
           },
           {
            "bin_start": 0.5320740886646469,
            "bin_end": 0.6256592709317176,
            "count": 49
           },
           {
            "bin_start": 0.6256592709317176,
            "bin_end": 0.7192444531987882,
            "count": 51
           },
           {
            "bin_start": 0.7192444531987882,
            "bin_end": 0.8128296354658587,
            "count": 80
           },
           {
            "bin_start": 0.8128296354658587,
            "bin_end": 0.9064148177329293,
            "count": 122
           },
           {
            "bin_start": 0.9064148177329293,
            "bin_end": 1,
            "count": 111
           }
          ]
         }
        },
        {
         "name": "hierar_4",
         "dtype": "int64",
         "stats": {
          "unique_count": 4,
          "nan_count": 0,
          "min": "0",
          "max": "3",
          "histogram": [
           {
            "bin_start": 0,
            "bin_end": 0.3,
            "count": 261
           },
           {
            "bin_start": 0.3,
            "bin_end": 0.6,
            "count": 0
           },
           {
            "bin_start": 0.6,
            "bin_end": 0.8999999999999999,
            "count": 0
           },
           {
            "bin_start": 0.8999999999999999,
            "bin_end": 1.2,
            "count": 164
           },
           {
            "bin_start": 1.2,
            "bin_end": 1.5,
            "count": 0
           },
           {
            "bin_start": 1.5,
            "bin_end": 1.7999999999999998,
            "count": 0
           },
           {
            "bin_start": 1.7999999999999998,
            "bin_end": 2.1,
            "count": 78
           },
           {
            "bin_start": 2.1,
            "bin_end": 2.4,
            "count": 0
           },
           {
            "bin_start": 2.4,
            "bin_end": 2.6999999999999997,
            "count": 0
           },
           {
            "bin_start": 2.6999999999999997,
            "bin_end": 3,
            "count": 3
           }
          ]
         }
        },
        {
         "name": "_deepnote_index_column",
         "dtype": "int64"
        }
       ],
       "rows": [
        {
         "Unique": 1,
         "mean_1": 2.64,
         "mean_2": 2.81,
         "mean_3": 2.73,
         "mean_4": 2.42,
         "mean_5": 2.39,
         "mean_6": 4.06,
         "mean_7": 3.27,
         "mean_8": 3.57,
         "mean_9": 3.54,
         "mean_10": 3.6,
         "max": 4.06,
         "std": 0.5786968118108133,
         "mean": 3.103,
         "outlier": false,
         "knot": 4,
         "slope1": 0.00010638297872489488,
         "slope2": 0.1862613981762915,
         "turning_value": 2.42,
         "r2": 0.5400166632162151,
         "hierar_4": 0,
         "_deepnote_index_column": 0
        },
        {
         "Unique": 2,
         "mean_1": 3.44,
         "mean_2": 4.76,
         "mean_3": 6,
         "mean_4": 5.93,
         "mean_5": 7.17,
         "mean_6": 6.97,
         "mean_7": 7.86,
         "mean_8": 6.81,
         "mean_9": 7.86,
         "mean_10": 8.3,
         "max": 8.3,
         "std": 1.5154830546360092,
         "mean": 6.51,
         "outlier": false,
         "knot": 3,
         "slope1": 1.3019999999999994,
         "slope2": 0.30378571428571355,
         "turning_value": 6,
         "r2": 0.9327450352958088,
         "hierar_4": 2,
         "_deepnote_index_column": 1
        },
        {
         "Unique": 3,
         "mean_1": 3.66,
         "mean_2": 2.15,
         "mean_3": 2.22,
         "mean_4": 2,
         "mean_5": 2,
         "mean_6": 2.1,
         "mean_7": 2.34,
         "mean_8": 2.29,
         "mean_9": 2.24,
         "mean_10": 2.27,
         "max": 3.66,
         "std": 0.48274792133737415,
         "mean": 2.327,
         "outlier": false,
         "knot": 2,
         "slope1": -1.5784444444444383,
         "slope2": 0.024333333333333762,
         "turning_value": 2.15,
         "r2": 0.9582522147685848,
         "hierar_4": 0,
         "_deepnote_index_column": 2
        },
        {
         "Unique": 5,
         "mean_1": 3.01,
         "mean_2": 3.83,
         "mean_3": 4.54,
         "mean_4": 4.93,
         "mean_5": 5.08,
         "mean_6": 5.11,
         "mean_7": 5.42,
         "mean_8": 5.48,
         "mean_9": 5.51,
         "mean_10": 5.2,
         "max": 5.51,
         "std": 0.8106026564641069,
         "mean": 4.811000000000001,
         "outlier": false,
         "knot": 4,
         "slope1": 0.6596382978723411,
         "slope2": 0.06156838905775075,
         "turning_value": 4.93,
         "r2": 0.9683467397869929,
         "hierar_4": 0,
         "_deepnote_index_column": 4
        },
        {
         "Unique": 7,
         "mean_1": 2.06,
         "mean_2": 2.16,
         "mean_3": 2.15,
         "mean_4": 2.28,
         "mean_5": 2.22,
         "mean_6": 2.16,
         "mean_7": 2.11,
         "mean_8": 2.39,
         "mean_9": 2.06,
         "mean_10": 2.25,
         "max": 2.39,
         "std": 0.10319345371140987,
         "mean": 2.184,
         "outlier": false,
         "knot": 4,
         "slope1": 0.050702127659575304,
         "slope2": -0.005817629179331559,
         "turning_value": 2.28,
         "r2": 0.21796237142958552,
         "hierar_4": 0,
         "_deepnote_index_column": 6
        },
        {
         "Unique": 8,
         "mean_1": 2.05,
         "mean_2": 2.05,
         "mean_3": 2.27,
         "mean_4": 2.28,
         "mean_5": 2.2,
         "mean_6": 2.13,
         "mean_7": 2.58,
         "mean_8": 2.78,
         "mean_9": 2.53,
         "mean_10": 2.54,
         "max": 2.78,
         "std": 0.2511506851805638,
         "mean": 2.3409999999999997,
         "outlier": false,
         "knot": 8,
         "slope1": 0.08527472527472578,
         "slope2": -0.03153846153846174,
         "turning_value": 2.78,
         "r2": 0.7166539004513961,
         "hierar_4": 1,
         "_deepnote_index_column": 7
        },
        {
         "Unique": 10,
         "mean_1": 2,
         "mean_2": 2.06,
         "mean_3": 2,
         "mean_4": 2,
         "mean_5": 2,
         "mean_6": 2,
         "mean_7": 2.05,
         "mean_8": 2,
         "mean_9": 2,
         "mean_10": 2.17,
         "max": 2.17,
         "std": 0.054934304198540417,
         "mean": 2.028,
         "outlier": false,
         "knot": 9,
         "slope1": -0.0013333333333330755,
         "slope2": 0.1631111111111112,
         "turning_value": 2,
         "r2": 0.8288332515136616,
         "hierar_4": 1,
         "_deepnote_index_column": 9
        },
        {
         "Unique": 13,
         "mean_1": 2.28,
         "mean_2": 2.67,
         "mean_3": 2.72,
         "mean_4": 3.11,
         "mean_5": 3.28,
         "mean_6": 3.22,
         "mean_7": 3.5,
         "mean_8": 3.83,
         "mean_9": 3.61,
         "mean_10": 3.54,
         "max": 3.83,
         "std": 0.487332877336768,
         "mean": 3.1759999999999997,
         "outlier": false,
         "knot": 8,
         "slope1": 0.19705494505494572,
         "slope2": -0.120307692307692,
         "turning_value": 3.83,
         "r2": 0.9605087815844607,
         "hierar_4": 1,
         "_deepnote_index_column": 12
        },
        {
         "Unique": 14,
         "mean_1": 3.24,
         "mean_2": 4.25,
         "mean_3": 5.29,
         "mean_4": 5.01,
         "mean_5": 4.46,
         "mean_6": 4.58,
         "mean_7": 5.54,
         "mean_8": 5.69,
         "mean_9": 6.59,
         "mean_10": 4.2,
         "max": 6.59,
         "std": 0.943742549639466,
         "mean": 4.885,
         "outlier": false,
         "knot": 9,
         "slope1": 0.2965000000000005,
         "slope2": -1.947111111111111,
         "turning_value": 6.59,
         "r2": 0.7230794128022742,
         "hierar_4": 1,
         "_deepnote_index_column": 13
        },
        {
         "Unique": 16,
         "mean_1": 2.37,
         "mean_2": 2.72,
         "mean_3": 3.39,
         "mean_4": 3.44,
         "mean_5": 3.74,
         "mean_6": 3.82,
         "mean_7": 4.41,
         "mean_8": 4.29,
         "mean_9": 4.94,
         "mean_10": 4.82,
         "max": 4.94,
         "std": 0.8475349878061411,
         "mean": 3.7939999999999996,
         "outlier": false,
         "knot": 3,
         "slope1": 0.46815384615384636,
         "slope2": 0.2384010989010989,
         "turning_value": 3.39,
         "r2": 0.9705810265924669,
         "hierar_4": 0,
         "_deepnote_index_column": 15
        }
       ]
      },
      "text/plain": "     Unique  mean_1  mean_2  mean_3  mean_4  mean_5  mean_6  mean_7  mean_8  \\\n0         1   2.640   2.810   2.730   2.420   2.390   4.060   3.270   3.570   \n1         2   3.440   4.760   6.000   5.930   7.170   6.970   7.860   6.810   \n2         3   3.660   2.150   2.220   2.000   2.000   2.100   2.340   2.290   \n4         5   3.010   3.830   4.540   4.930   5.080   5.110   5.420   5.480   \n6         7   2.060   2.160   2.150   2.280   2.220   2.160   2.110   2.390   \n..      ...     ...     ...     ...     ...     ...     ...     ...     ...   \n931     932   2.542   3.111   2.500   2.440   2.450   2.476   2.824   2.105   \n932     933   5.105   8.000   4.533   5.056   4.600   5.125   4.900   4.333   \n934     935   4.500   4.261   4.955   4.957   5.476   5.286   3.208   5.095   \n936     937   3.038   2.552   3.773   3.800   2.818   2.529   3.111   2.111   \n937     938   3.842   2.682   2.857   3.429   3.435   3.500   3.773   4.200   \n\n     mean_9  ...     max       std    mean  outlier  knot    slope1    slope2  \\\n0     3.540  ...   4.060  0.578697  3.1030    False   4.0  0.000106  0.186261   \n1     7.860  ...   8.300  1.515483  6.5100    False   3.0  1.302000  0.303786   \n2     2.240  ...   3.660  0.482748  2.3270    False   2.0 -1.578444  0.024333   \n4     5.510  ...   5.510  0.810603  4.8110    False   4.0  0.659638  0.061568   \n6     2.060  ...   2.390  0.103193  2.1840    False   4.0  0.050702 -0.005818   \n..      ...  ...     ...       ...     ...      ...   ...       ...       ...   \n931   3.045  ...   3.273  0.368999  2.6766    False   8.0 -0.047302  0.477692   \n932   4.682  ...   8.000  1.041695  5.1484    False   8.0 -0.235858  0.370246   \n934   4.885  ...   5.654  0.704961  4.8277    False   7.0 -0.041672  0.325564   \n936   2.375  ...  10.875  2.582606  3.6982    False   9.0 -0.109500  8.412222   \n937   2.950  ...   4.200  0.472183  3.4168    False   2.0 -0.834511  0.090517   \n\n     turning_value        r2  hierar_4  \n0            2.420  0.540017         0  \n1            6.000  0.932745         2  \n2            2.150  0.958252         0  \n4            4.930  0.968347         0  \n6            2.280  0.217962         0  \n..             ...       ...       ...  \n931          2.105  0.566162         1  \n932          4.333  0.258210         1  \n934          3.208  0.188224         1  \n936          2.375  0.965352         1  \n937          2.682  0.345099         0  \n\n[506 rows x 21 columns]",
      "text/html": "<div>\n<style scoped>\n    .dataframe tbody tr th:only-of-type {\n        vertical-align: middle;\n    }\n\n    .dataframe tbody tr th {\n        vertical-align: top;\n    }\n\n    .dataframe thead th {\n        text-align: right;\n    }\n</style>\n<table border=\"1\" class=\"dataframe\">\n  <thead>\n    <tr style=\"text-align: right;\">\n      <th></th>\n      <th>Unique</th>\n      <th>mean_1</th>\n      <th>mean_2</th>\n      <th>mean_3</th>\n      <th>mean_4</th>\n      <th>mean_5</th>\n      <th>mean_6</th>\n      <th>mean_7</th>\n      <th>mean_8</th>\n      <th>mean_9</th>\n      <th>...</th>\n      <th>max</th>\n      <th>std</th>\n      <th>mean</th>\n      <th>outlier</th>\n      <th>knot</th>\n      <th>slope1</th>\n      <th>slope2</th>\n      <th>turning_value</th>\n      <th>r2</th>\n      <th>hierar_4</th>\n    </tr>\n  </thead>\n  <tbody>\n    <tr>\n      <th>0</th>\n      <td>1</td>\n      <td>2.640</td>\n      <td>2.810</td>\n      <td>2.730</td>\n      <td>2.420</td>\n      <td>2.390</td>\n      <td>4.060</td>\n      <td>3.270</td>\n      <td>3.570</td>\n      <td>3.540</td>\n      <td>...</td>\n      <td>4.060</td>\n      <td>0.578697</td>\n      <td>3.1030</td>\n      <td>False</td>\n      <td>4.0</td>\n      <td>0.000106</td>\n      <td>0.186261</td>\n      <td>2.420</td>\n      <td>0.540017</td>\n      <td>0</td>\n    </tr>\n    <tr>\n      <th>1</th>\n      <td>2</td>\n      <td>3.440</td>\n      <td>4.760</td>\n      <td>6.000</td>\n      <td>5.930</td>\n      <td>7.170</td>\n      <td>6.970</td>\n      <td>7.860</td>\n      <td>6.810</td>\n      <td>7.860</td>\n      <td>...</td>\n      <td>8.300</td>\n      <td>1.515483</td>\n      <td>6.5100</td>\n      <td>False</td>\n      <td>3.0</td>\n      <td>1.302000</td>\n      <td>0.303786</td>\n      <td>6.000</td>\n      <td>0.932745</td>\n      <td>2</td>\n    </tr>\n    <tr>\n      <th>2</th>\n      <td>3</td>\n      <td>3.660</td>\n      <td>2.150</td>\n      <td>2.220</td>\n      <td>2.000</td>\n      <td>2.000</td>\n      <td>2.100</td>\n      <td>2.340</td>\n      <td>2.290</td>\n      <td>2.240</td>\n      <td>...</td>\n      <td>3.660</td>\n      <td>0.482748</td>\n      <td>2.3270</td>\n      <td>False</td>\n      <td>2.0</td>\n      <td>-1.578444</td>\n      <td>0.024333</td>\n      <td>2.150</td>\n      <td>0.958252</td>\n      <td>0</td>\n    </tr>\n    <tr>\n      <th>4</th>\n      <td>5</td>\n      <td>3.010</td>\n      <td>3.830</td>\n      <td>4.540</td>\n      <td>4.930</td>\n      <td>5.080</td>\n      <td>5.110</td>\n      <td>5.420</td>\n      <td>5.480</td>\n      <td>5.510</td>\n      <td>...</td>\n      <td>5.510</td>\n      <td>0.810603</td>\n      <td>4.8110</td>\n      <td>False</td>\n      <td>4.0</td>\n      <td>0.659638</td>\n      <td>0.061568</td>\n      <td>4.930</td>\n      <td>0.968347</td>\n      <td>0</td>\n    </tr>\n    <tr>\n      <th>6</th>\n      <td>7</td>\n      <td>2.060</td>\n      <td>2.160</td>\n      <td>2.150</td>\n      <td>2.280</td>\n      <td>2.220</td>\n      <td>2.160</td>\n      <td>2.110</td>\n      <td>2.390</td>\n      <td>2.060</td>\n      <td>...</td>\n      <td>2.390</td>\n      <td>0.103193</td>\n      <td>2.1840</td>\n      <td>False</td>\n      <td>4.0</td>\n      <td>0.050702</td>\n      <td>-0.005818</td>\n      <td>2.280</td>\n      <td>0.217962</td>\n      <td>0</td>\n    </tr>\n    <tr>\n      <th>...</th>\n      <td>...</td>\n      <td>...</td>\n      <td>...</td>\n      <td>...</td>\n      <td>...</td>\n      <td>...</td>\n      <td>...</td>\n      <td>...</td>\n      <td>...</td>\n      <td>...</td>\n      <td>...</td>\n      <td>...</td>\n      <td>...</td>\n      <td>...</td>\n      <td>...</td>\n      <td>...</td>\n      <td>...</td>\n      <td>...</td>\n      <td>...</td>\n      <td>...</td>\n      <td>...</td>\n    </tr>\n    <tr>\n      <th>931</th>\n      <td>932</td>\n      <td>2.542</td>\n      <td>3.111</td>\n      <td>2.500</td>\n      <td>2.440</td>\n      <td>2.450</td>\n      <td>2.476</td>\n      <td>2.824</td>\n      <td>2.105</td>\n      <td>3.045</td>\n      <td>...</td>\n      <td>3.273</td>\n      <td>0.368999</td>\n      <td>2.6766</td>\n      <td>False</td>\n      <td>8.0</td>\n      <td>-0.047302</td>\n      <td>0.477692</td>\n      <td>2.105</td>\n      <td>0.566162</td>\n      <td>1</td>\n    </tr>\n    <tr>\n      <th>932</th>\n      <td>933</td>\n      <td>5.105</td>\n      <td>8.000</td>\n      <td>4.533</td>\n      <td>5.056</td>\n      <td>4.600</td>\n      <td>5.125</td>\n      <td>4.900</td>\n      <td>4.333</td>\n      <td>4.682</td>\n      <td>...</td>\n      <td>8.000</td>\n      <td>1.041695</td>\n      <td>5.1484</td>\n      <td>False</td>\n      <td>8.0</td>\n      <td>-0.235858</td>\n      <td>0.370246</td>\n      <td>4.333</td>\n      <td>0.258210</td>\n      <td>1</td>\n    </tr>\n    <tr>\n      <th>934</th>\n      <td>935</td>\n      <td>4.500</td>\n      <td>4.261</td>\n      <td>4.955</td>\n      <td>4.957</td>\n      <td>5.476</td>\n      <td>5.286</td>\n      <td>3.208</td>\n      <td>5.095</td>\n      <td>4.885</td>\n      <td>...</td>\n      <td>5.654</td>\n      <td>0.704961</td>\n      <td>4.8277</td>\n      <td>False</td>\n      <td>7.0</td>\n      <td>-0.041672</td>\n      <td>0.325564</td>\n      <td>3.208</td>\n      <td>0.188224</td>\n      <td>1</td>\n    </tr>\n    <tr>\n      <th>936</th>\n      <td>937</td>\n      <td>3.038</td>\n      <td>2.552</td>\n      <td>3.773</td>\n      <td>3.800</td>\n      <td>2.818</td>\n      <td>2.529</td>\n      <td>3.111</td>\n      <td>2.111</td>\n      <td>2.375</td>\n      <td>...</td>\n      <td>10.875</td>\n      <td>2.582606</td>\n      <td>3.6982</td>\n      <td>False</td>\n      <td>9.0</td>\n      <td>-0.109500</td>\n      <td>8.412222</td>\n      <td>2.375</td>\n      <td>0.965352</td>\n      <td>1</td>\n    </tr>\n    <tr>\n      <th>937</th>\n      <td>938</td>\n      <td>3.842</td>\n      <td>2.682</td>\n      <td>2.857</td>\n      <td>3.429</td>\n      <td>3.435</td>\n      <td>3.500</td>\n      <td>3.773</td>\n      <td>4.200</td>\n      <td>2.950</td>\n      <td>...</td>\n      <td>4.200</td>\n      <td>0.472183</td>\n      <td>3.4168</td>\n      <td>False</td>\n      <td>2.0</td>\n      <td>-0.834511</td>\n      <td>0.090517</td>\n      <td>2.682</td>\n      <td>0.345099</td>\n      <td>0</td>\n    </tr>\n  </tbody>\n</table>\n<p>506 rows × 21 columns</p>\n</div>"
     },
     "metadata": {}
    }
   ],
   "execution_count": 5
  },
  {
   "cell_type": "code",
   "source": "# Assign labels to clusters\nnaming_dict = {0:'short_benefit', 1:'long_benefit', 2:'much_benefit'}\nint_test.create_labels(dict_naming=naming_dict, cluster_col='hierar_4', delete1cluster=True, cluster_delete=3)",
   "metadata": {
    "cell_id": "dff11bb721404aeabde15c2e82c94207",
    "tags": [],
    "deepnote_to_be_reexecuted": false,
    "source_hash": "9af5c287",
    "execution_start": 1648340277610,
    "execution_millis": 0,
    "deepnote_cell_type": "code",
    "deepnote_cell_height": 116.953125
   },
   "outputs": [],
   "execution_count": 6
  },
  {
   "cell_type": "markdown",
   "source": "## Feature preprocessing",
   "metadata": {
    "cell_id": "4c9cf02899de46bfbcc728e09e5b6bc1",
    "tags": [],
    "is_collapsed": false,
    "deepnote_cell_type": "text-cell-h2"
   }
  },
  {
   "cell_type": "code",
   "metadata": {
    "tags": [],
    "cell_id": "00006-d42716b7-52d0-419f-a341-b58e174f9d02",
    "deepnote_to_be_reexecuted": false,
    "source_hash": "c6108e6d",
    "execution_millis": 9143,
    "execution_start": 1648340277611,
    "deepnote_cell_type": "code",
    "deepnote_cell_height": 880.9375,
    "deepnote_output_heights": [
     194.03125,
     328.46875
    ]
   },
   "source": "# Feature preprocessing\nimport feature_preprocessor as fp\nfp_test = fp.FeatureProcessor(data_nomissing_training,add_demographic=True)\nfp_test.delete_missing_rows(8)\nfp_test.make_dummy()\nfp_test.features_impute_missing()\n\n\n#fp_test.corr_features()\n#fp_test.distri_features()\n#fp_test.discretize_features()",
   "execution_count": 7,
   "outputs": [
    {
     "name": "stdout",
     "text": "Original length of data is : 568\nDelete rows have >= crtieria missing values in features\nThe data length now is :527\nFeature MR_accpre missing counts: 1(0.2 %)\nFeature WM_Zpre missing counts: 2(0.4 %)\nFeature IC_Zreverse_pre missing counts: 1(0.2 %)\nFeature NT_Zpre missing counts: 2(0.4 %)\nFeature TCA_Zscore missing counts: 0(0.0 %)\nFeature CFQMALscore missing counts: 0(0.0 %)\nFeature Avg_grit_amb missing counts: 0(0.0 %)\nFeature NEOFFIExtraversion missing counts: 0(0.0 %)\nFeature NEOFFIAgreeableness missing counts: 0(0.0 %)\nFeature NEOFFIConscientiousness missing counts: 0(0.0 %)\nFeature NEOFFIEmotionalstability missing counts: 0(0.0 %)\nFeature NEOFFIIntellectorOpenness missing counts: 0(0.0 %)\nFeature VGQHoursCategorySumPastYear_Z missing counts: 2(0.4 %)\nFeature ParentalEducationSum missing counts: 27(5.1 %)\nFeature SelfReportedSESRatingSum missing counts: 0(0.0 %)\nFeature Physicalhealth missing counts: 45(8.5 %)\nFeature Physicalfitness missing counts: 45(8.5 %)\nFeature Psychohealth missing counts: 45(8.5 %)\nFeature Gamified_Gamified missing counts: 0(0.0 %)\nFeature Gamified_Nongamified missing counts: 0(0.0 %)\nFeature Difficulty_Difficult missing counts: 0(0.0 %)\nFeature Difficulty_Middle missing counts: 0(0.0 %)\nFeature Difficulty_Moderate missing counts: 0(0.0 %)\nFeature Difficulty_hard missing counts: 0(0.0 %)\nFeature Bilingual_Bilingual missing counts: 0(0.0 %)\nFeature Bilingual_Monolingual missing counts: 0(0.0 %)\nFeature Gender_Female missing counts: 0(0.0 %)\nFeature Gender_Male missing counts: 0(0.0 %)\nFeature Gender_Other or Don't Want to Specify missing counts: 0(0.0 %)\nFeature Ethnicity_American Indian/Alaska Native missing counts: 0(0.0 %)\nFeature Ethnicity_American Indian/Alaska Native,Native Hawaiian or Other Pacific Islander missing counts: 0(0.0 %)\nFeature Ethnicity_American Indian/Alaska Native,White missing counts: 0(0.0 %)\nFeature Ethnicity_Asian missing counts: 0(0.0 %)\nFeature Ethnicity_Asian,Black or African American missing counts: 0(0.0 %)\nFeature Ethnicity_Asian,Black or African American,Other or Don't Want to Specify missing counts: 0(0.0 %)\nFeature Ethnicity_Asian,Other or Don't Want to Specify missing counts: 0(0.0 %)\nFeature Ethnicity_Asian,White missing counts: 0(0.0 %)\nFeature Ethnicity_Black or African American missing counts: 0(0.0 %)\nFeature Ethnicity_Black or African American,Other or Dont Want to Specify missing counts: 0(0.0 %)\nFeature Ethnicity_Black or African American,White missing counts: 0(0.0 %)\nFeature Ethnicity_Native Hawaiian or Other Pacific Islander missing counts: 0(0.0 %)\nFeature Ethnicity_Native Hawaiian or Other Pacific Islander,Asian missing counts: 0(0.0 %)\nFeature Ethnicity_Native Hawaiian or Other Pacific Islander,Asian,White missing counts: 0(0.0 %)\nFeature Ethnicity_Other or Don't Want to Specify missing counts: 0(0.0 %)\nFeature Ethnicity_Other or Dont Want to Specify missing counts: 0(0.0 %)\nFeature Ethnicity_White missing counts: 0(0.0 %)\nFeature Ethnicity_White,Other or Don't Want to Specify missing counts: 0(0.0 %)\nFeature Ethnicity_White,Other or Dont Want to Specify missing counts: 0(0.0 %)\nFeature HispanicLatino_I D missing counts: 0(0.0 %)\nFeature HispanicLatino_No missing counts: 0(0.0 %)\nFeature HispanicLatino_Yes missing counts: 0(0.0 %)\n============Finish impute missing values in features=============\n",
     "output_type": "stream"
    }
   ]
  },
  {
   "cell_type": "code",
   "source": "fp_test.data",
   "metadata": {
    "cell_id": "6c50deb84812470ea7c6a8eb32dd05d3",
    "tags": [],
    "deepnote_to_be_reexecuted": false,
    "source_hash": "141faf8a",
    "execution_start": 1648340286388,
    "execution_millis": 372,
    "deepnote_table_state": {
     "pageSize": 10,
     "pageIndex": 0,
     "filters": [],
     "sortBy": []
    },
    "deepnote_table_loading": false,
    "deepnote_cell_type": "code",
    "deepnote_cell_height": 597.890625
   },
   "outputs": [
    {
     "output_type": "execute_result",
     "execution_count": 8,
     "data": {
      "application/vnd.deepnote.dataframe.v3+json": {
       "column_count": 52,
       "row_count": 527,
       "columns": [
        {
         "name": "Unique",
         "dtype": "int64",
         "stats": {
          "unique_count": 527,
          "nan_count": 0,
          "min": "1",
          "max": "948",
          "histogram": [
           {
            "bin_start": 1,
            "bin_end": 95.7,
            "count": 64
           },
           {
            "bin_start": 95.7,
            "bin_end": 190.4,
            "count": 74
           },
           {
            "bin_start": 190.4,
            "bin_end": 285.1,
            "count": 0
           },
           {
            "bin_start": 285.1,
            "bin_end": 379.8,
            "count": 0
           },
           {
            "bin_start": 379.8,
            "bin_end": 474.5,
            "count": 29
           },
           {
            "bin_start": 474.5,
            "bin_end": 569.2,
            "count": 56
           },
           {
            "bin_start": 569.2,
            "bin_end": 663.9,
            "count": 52
           },
           {
            "bin_start": 663.9,
            "bin_end": 758.6,
            "count": 83
           },
           {
            "bin_start": 758.6,
            "bin_end": 853.3000000000001,
            "count": 91
           },
           {
            "bin_start": 853.3000000000001,
            "bin_end": 948,
            "count": 78
           }
          ]
         }
        },
        {
         "name": "MR_accpre",
         "dtype": "float64",
         "stats": {
          "unique_count": 45,
          "nan_count": 0,
          "min": "0.0",
          "max": "1.0",
          "histogram": [
           {
            "bin_start": 0,
            "bin_end": 0.1,
            "count": 50
           },
           {
            "bin_start": 0.1,
            "bin_end": 0.2,
            "count": 3
           },
           {
            "bin_start": 0.2,
            "bin_end": 0.30000000000000004,
            "count": 11
           },
           {
            "bin_start": 0.30000000000000004,
            "bin_end": 0.4,
            "count": 40
           },
           {
            "bin_start": 0.4,
            "bin_end": 0.5,
            "count": 67
           },
           {
            "bin_start": 0.5,
            "bin_end": 0.6000000000000001,
            "count": 66
           },
           {
            "bin_start": 0.6000000000000001,
            "bin_end": 0.7000000000000001,
            "count": 95
           },
           {
            "bin_start": 0.7000000000000001,
            "bin_end": 0.8,
            "count": 53
           },
           {
            "bin_start": 0.8,
            "bin_end": 0.9,
            "count": 39
           },
           {
            "bin_start": 0.9,
            "bin_end": 1,
            "count": 103
           }
          ]
         }
        },
        {
         "name": "WM_Zpre",
         "dtype": "float64",
         "stats": {
          "unique_count": 56,
          "nan_count": 0,
          "min": "-3.623318232",
          "max": "2.372706056",
          "histogram": [
           {
            "bin_start": -3.623318232,
            "bin_end": -3.0237158032,
            "count": 3
           },
           {
            "bin_start": -3.0237158032,
            "bin_end": -2.4241133744,
            "count": 0
           },
           {
            "bin_start": -2.4241133744,
            "bin_end": -1.8245109455999997,
            "count": 5
           },
           {
            "bin_start": -1.8245109455999997,
            "bin_end": -1.2249085167999998,
            "count": 19
           },
           {
            "bin_start": -1.2249085167999998,
            "bin_end": -0.6253060879999999,
            "count": 54
           },
           {
            "bin_start": -0.6253060879999999,
            "bin_end": -0.025703659199999507,
            "count": 185
           },
           {
            "bin_start": -0.025703659199999507,
            "bin_end": 0.5738987696000004,
            "count": 168
           },
           {
            "bin_start": 0.5738987696000004,
            "bin_end": 1.1735011984000003,
            "count": 69
           },
           {
            "bin_start": 1.1735011984000003,
            "bin_end": 1.7731036272000003,
            "count": 18
           },
           {
            "bin_start": 1.7731036272000003,
            "bin_end": 2.372706056,
            "count": 6
           }
          ]
         }
        },
        {
         "name": "IC_Zreverse_pre",
         "dtype": "float64",
         "stats": {
          "unique_count": 382,
          "nan_count": 0,
          "min": "-6.976703413",
          "max": "2.873506411",
          "histogram": [
           {
            "bin_start": -6.976703413,
            "bin_end": -5.9916824306,
            "count": 2
           },
           {
            "bin_start": -5.9916824306,
            "bin_end": -5.0066614482,
            "count": 2
           },
           {
            "bin_start": -5.0066614482,
            "bin_end": -4.0216404658,
            "count": 0
           },
           {
            "bin_start": -4.0216404658,
            "bin_end": -3.0366194834,
            "count": 1
           },
           {
            "bin_start": -3.0366194834,
            "bin_end": -2.051598501,
            "count": 6
           },
           {
            "bin_start": -2.051598501,
            "bin_end": -1.0665775186,
            "count": 28
           },
           {
            "bin_start": -1.0665775186,
            "bin_end": -0.08155653619999992,
            "count": 164
           },
           {
            "bin_start": -0.08155653619999992,
            "bin_end": 0.9034644462000001,
            "count": 276
           },
           {
            "bin_start": 0.9034644462000001,
            "bin_end": 1.8884854286000001,
            "count": 40
           },
           {
            "bin_start": 1.8884854286000001,
            "bin_end": 2.873506411,
            "count": 8
           }
          ]
         }
        },
        {
         "name": "NT_Zpre",
         "dtype": "float64",
         "stats": {
          "unique_count": 417,
          "nan_count": 0,
          "min": "-2.227807747",
          "max": "2.175664165",
          "histogram": [
           {
            "bin_start": -2.227807747,
            "bin_end": -1.7874605557999999,
            "count": 6
           },
           {
            "bin_start": -1.7874605557999999,
            "bin_end": -1.3471133645999998,
            "count": 21
           },
           {
            "bin_start": -1.3471133645999998,
            "bin_end": -0.9067661733999999,
            "count": 49
           },
           {
            "bin_start": -0.9067661733999999,
            "bin_end": -0.4664189821999998,
            "count": 79
           },
           {
            "bin_start": -0.4664189821999998,
            "bin_end": -0.026071790999999678,
            "count": 98
           },
           {
            "bin_start": -0.026071790999999678,
            "bin_end": 0.4142754002000002,
            "count": 122
           },
           {
            "bin_start": 0.4142754002000002,
            "bin_end": 0.8546225914000005,
            "count": 87
           },
           {
            "bin_start": 0.8546225914000005,
            "bin_end": 1.2949697826000004,
            "count": 44
           },
           {
            "bin_start": 1.2949697826000004,
            "bin_end": 1.7353169738000003,
            "count": 16
           },
           {
            "bin_start": 1.7353169738000003,
            "bin_end": 2.175664165,
            "count": 5
           }
          ]
         }
        },
        {
         "name": "TCA_Zscore",
         "dtype": "float64",
         "stats": {
          "unique_count": 45,
          "nan_count": 0,
          "min": "-2.452",
          "max": "30.0",
          "histogram": [
           {
            "bin_start": -2.452,
            "bin_end": 0.7931999999999997,
            "count": 20
           },
           {
            "bin_start": 0.7931999999999997,
            "bin_end": 4.038399999999999,
            "count": 14
           },
           {
            "bin_start": 4.038399999999999,
            "bin_end": 7.283599999999998,
            "count": 1
           },
           {
            "bin_start": 7.283599999999998,
            "bin_end": 10.528799999999999,
            "count": 8
           },
           {
            "bin_start": 10.528799999999999,
            "bin_end": 13.774,
            "count": 21
           },
           {
            "bin_start": 13.774,
            "bin_end": 17.019199999999998,
            "count": 85
           },
           {
            "bin_start": 17.019199999999998,
            "bin_end": 20.264399999999995,
            "count": 142
           },
           {
            "bin_start": 20.264399999999995,
            "bin_end": 23.5096,
            "count": 115
           },
           {
            "bin_start": 23.5096,
            "bin_end": 26.754799999999996,
            "count": 110
           },
           {
            "bin_start": 26.754799999999996,
            "bin_end": 30,
            "count": 11
           }
          ]
         }
        },
        {
         "name": "CFQMALscore",
         "dtype": "float64",
         "stats": {
          "unique_count": 31,
          "nan_count": 0,
          "min": "8.0",
          "max": "40.0",
          "histogram": [
           {
            "bin_start": 8,
            "bin_end": 11.2,
            "count": 5
           },
           {
            "bin_start": 11.2,
            "bin_end": 14.4,
            "count": 15
           },
           {
            "bin_start": 14.4,
            "bin_end": 17.6,
            "count": 38
           },
           {
            "bin_start": 17.6,
            "bin_end": 20.8,
            "count": 71
           },
           {
            "bin_start": 20.8,
            "bin_end": 24,
            "count": 112
           },
           {
            "bin_start": 24,
            "bin_end": 27.200000000000003,
            "count": 152
           },
           {
            "bin_start": 27.200000000000003,
            "bin_end": 30.400000000000002,
            "count": 67
           },
           {
            "bin_start": 30.400000000000002,
            "bin_end": 33.6,
            "count": 37
           },
           {
            "bin_start": 33.6,
            "bin_end": 36.8,
            "count": 23
           },
           {
            "bin_start": 36.8,
            "bin_end": 40,
            "count": 7
           }
          ]
         }
        },
        {
         "name": "Avg_grit_amb",
         "dtype": "float64",
         "stats": {
          "unique_count": 151,
          "nan_count": 0,
          "min": "1.9125",
          "max": "5.0",
          "histogram": [
           {
            "bin_start": 1.9125,
            "bin_end": 2.22125,
            "count": 5
           },
           {
            "bin_start": 2.22125,
            "bin_end": 2.5300000000000002,
            "count": 13
           },
           {
            "bin_start": 2.5300000000000002,
            "bin_end": 2.83875,
            "count": 31
           },
           {
            "bin_start": 2.83875,
            "bin_end": 3.1475,
            "count": 54
           },
           {
            "bin_start": 3.1475,
            "bin_end": 3.45625,
            "count": 116
           },
           {
            "bin_start": 3.45625,
            "bin_end": 3.7649999999999997,
            "count": 92
           },
           {
            "bin_start": 3.7649999999999997,
            "bin_end": 4.07375,
            "count": 98
           },
           {
            "bin_start": 4.07375,
            "bin_end": 4.3825,
            "count": 73
           },
           {
            "bin_start": 4.3825,
            "bin_end": 4.69125,
            "count": 39
           },
           {
            "bin_start": 4.69125,
            "bin_end": 5,
            "count": 6
           }
          ]
         }
        },
        {
         "name": "NEOFFIExtraversion",
         "dtype": "float64",
         "stats": {
          "unique_count": 29,
          "nan_count": 0,
          "min": "1.375",
          "max": "5.0",
          "histogram": [
           {
            "bin_start": 1.375,
            "bin_end": 1.7375,
            "count": 22
           },
           {
            "bin_start": 1.7375,
            "bin_end": 2.1,
            "count": 31
           },
           {
            "bin_start": 2.1,
            "bin_end": 2.4625,
            "count": 68
           },
           {
            "bin_start": 2.4625,
            "bin_end": 2.825,
            "count": 59
           },
           {
            "bin_start": 2.825,
            "bin_end": 3.1875,
            "count": 98
           },
           {
            "bin_start": 3.1875,
            "bin_end": 3.55,
            "count": 97
           },
           {
            "bin_start": 3.55,
            "bin_end": 3.9125,
            "count": 74
           },
           {
            "bin_start": 3.9125,
            "bin_end": 4.275,
            "count": 50
           },
           {
            "bin_start": 4.275,
            "bin_end": 4.637499999999999,
            "count": 26
           },
           {
            "bin_start": 4.637499999999999,
            "bin_end": 5,
            "count": 2
           }
          ]
         }
        },
        {
         "name": "NEOFFIAgreeableness",
         "dtype": "float64",
         "stats": {
          "unique_count": 25,
          "nan_count": 0,
          "min": "1.625",
          "max": "5.0",
          "histogram": [
           {
            "bin_start": 1.625,
            "bin_end": 1.9625,
            "count": 1
           },
           {
            "bin_start": 1.9625,
            "bin_end": 2.3,
            "count": 4
           },
           {
            "bin_start": 2.3,
            "bin_end": 2.6375,
            "count": 10
           },
           {
            "bin_start": 2.6375,
            "bin_end": 2.975,
            "count": 8
           },
           {
            "bin_start": 2.975,
            "bin_end": 3.3125,
            "count": 38
           },
           {
            "bin_start": 3.3125,
            "bin_end": 3.6500000000000004,
            "count": 69
           },
           {
            "bin_start": 3.6500000000000004,
            "bin_end": 3.9875000000000003,
            "count": 67
           },
           {
            "bin_start": 3.9875000000000003,
            "bin_end": 4.325,
            "count": 134
           },
           {
            "bin_start": 4.325,
            "bin_end": 4.6625,
            "count": 129
           },
           {
            "bin_start": 4.6625,
            "bin_end": 5,
            "count": 67
           }
          ]
         }
        },
        {
         "name": "NEOFFIConscientiousness",
         "dtype": "float64",
         "stats": {
          "unique_count": 27,
          "nan_count": 0,
          "min": "1.75",
          "max": "5.0",
          "histogram": [
           {
            "bin_start": 1.75,
            "bin_end": 2.075,
            "count": 3
           },
           {
            "bin_start": 2.075,
            "bin_end": 2.4,
            "count": 19
           },
           {
            "bin_start": 2.4,
            "bin_end": 2.725,
            "count": 16
           },
           {
            "bin_start": 2.725,
            "bin_end": 3.05,
            "count": 49
           },
           {
            "bin_start": 3.05,
            "bin_end": 3.375,
            "count": 47
           },
           {
            "bin_start": 3.375,
            "bin_end": 3.7,
            "count": 90
           },
           {
            "bin_start": 3.7,
            "bin_end": 4.025,
            "count": 143
           },
           {
            "bin_start": 4.025,
            "bin_end": 4.35,
            "count": 68
           },
           {
            "bin_start": 4.35,
            "bin_end": 4.675000000000001,
            "count": 63
           },
           {
            "bin_start": 4.675000000000001,
            "bin_end": 5,
            "count": 29
           }
          ]
         }
        },
        {
         "name": "NEOFFIEmotionalstability",
         "dtype": "float64",
         "stats": {
          "unique_count": 28,
          "nan_count": 0,
          "min": "1.5",
          "max": "4.875",
          "histogram": [
           {
            "bin_start": 1.5,
            "bin_end": 1.8375,
            "count": 6
           },
           {
            "bin_start": 1.8375,
            "bin_end": 2.175,
            "count": 15
           },
           {
            "bin_start": 2.175,
            "bin_end": 2.5125,
            "count": 52
           },
           {
            "bin_start": 2.5125,
            "bin_end": 2.85,
            "count": 51
           },
           {
            "bin_start": 2.85,
            "bin_end": 3.1875,
            "count": 86
           },
           {
            "bin_start": 3.1875,
            "bin_end": 3.5250000000000004,
            "count": 103
           },
           {
            "bin_start": 3.5250000000000004,
            "bin_end": 3.8625000000000003,
            "count": 69
           },
           {
            "bin_start": 3.8625000000000003,
            "bin_end": 4.2,
            "count": 70
           },
           {
            "bin_start": 4.2,
            "bin_end": 4.5375,
            "count": 60
           },
           {
            "bin_start": 4.5375,
            "bin_end": 4.875,
            "count": 15
           }
          ]
         }
        },
        {
         "name": "NEOFFIIntellectorOpenness",
         "dtype": "float64",
         "stats": {
          "unique_count": 26,
          "nan_count": 0,
          "min": "1.125",
          "max": "5.0",
          "histogram": [
           {
            "bin_start": 1.125,
            "bin_end": 1.5125,
            "count": 1
           },
           {
            "bin_start": 1.5125,
            "bin_end": 1.9,
            "count": 1
           },
           {
            "bin_start": 1.9,
            "bin_end": 2.2875,
            "count": 9
           },
           {
            "bin_start": 2.2875,
            "bin_end": 2.675,
            "count": 19
           },
           {
            "bin_start": 2.675,
            "bin_end": 3.0625,
            "count": 51
           },
           {
            "bin_start": 3.0625,
            "bin_end": 3.45,
            "count": 81
           },
           {
            "bin_start": 3.45,
            "bin_end": 3.8375,
            "count": 129
           },
           {
            "bin_start": 3.8375,
            "bin_end": 4.225,
            "count": 126
           },
           {
            "bin_start": 4.225,
            "bin_end": 4.612500000000001,
            "count": 69
           },
           {
            "bin_start": 4.612500000000001,
            "bin_end": 5,
            "count": 41
           }
          ]
         }
        },
        {
         "name": "VGQHoursCategorySumPastYear_Z",
         "dtype": "float64",
         "stats": {
          "unique_count": 54,
          "nan_count": 0,
          "min": "-1.16",
          "max": "4.004",
          "histogram": [
           {
            "bin_start": -1.16,
            "bin_end": -0.6436,
            "count": 188
           },
           {
            "bin_start": -0.6436,
            "bin_end": -0.12719999999999998,
            "count": 79
           },
           {
            "bin_start": -0.12719999999999998,
            "bin_end": 0.3892,
            "count": 108
           },
           {
            "bin_start": 0.3892,
            "bin_end": 0.9056,
            "count": 42
           },
           {
            "bin_start": 0.9056,
            "bin_end": 1.422,
            "count": 50
           },
           {
            "bin_start": 1.422,
            "bin_end": 1.9384,
            "count": 36
           },
           {
            "bin_start": 1.9384,
            "bin_end": 2.4547999999999996,
            "count": 16
           },
           {
            "bin_start": 2.4547999999999996,
            "bin_end": 2.9711999999999996,
            "count": 7
           },
           {
            "bin_start": 2.9711999999999996,
            "bin_end": 3.4875999999999996,
            "count": 0
           },
           {
            "bin_start": 3.4875999999999996,
            "bin_end": 4.004,
            "count": 1
           }
          ]
         }
        },
        {
         "name": "ParentalEducationSum",
         "dtype": "float64",
         "stats": {
          "unique_count": 34,
          "nan_count": 0,
          "min": "1.0",
          "max": "7.0",
          "histogram": [
           {
            "bin_start": 1,
            "bin_end": 1.6,
            "count": 4
           },
           {
            "bin_start": 1.6,
            "bin_end": 2.2,
            "count": 17
           },
           {
            "bin_start": 2.2,
            "bin_end": 2.8,
            "count": 0
           },
           {
            "bin_start": 2.8,
            "bin_end": 3.4,
            "count": 66
           },
           {
            "bin_start": 3.4,
            "bin_end": 4,
            "count": 0
           },
           {
            "bin_start": 4,
            "bin_end": 4.6,
            "count": 124
           },
           {
            "bin_start": 4.6,
            "bin_end": 5.2,
            "count": 160
           },
           {
            "bin_start": 5.2,
            "bin_end": 5.8,
            "count": 4
           },
           {
            "bin_start": 5.8,
            "bin_end": 6.3999999999999995,
            "count": 109
           },
           {
            "bin_start": 6.3999999999999995,
            "bin_end": 7,
            "count": 43
           }
          ]
         }
        },
        {
         "name": "SelfReportedSESRatingSum",
         "dtype": "float64",
         "stats": {
          "unique_count": 18,
          "nan_count": 0,
          "min": "0.0",
          "max": "20.0",
          "histogram": [
           {
            "bin_start": 0,
            "bin_end": 2,
            "count": 1
           },
           {
            "bin_start": 2,
            "bin_end": 4,
            "count": 0
           },
           {
            "bin_start": 4,
            "bin_end": 6,
            "count": 18
           },
           {
            "bin_start": 6,
            "bin_end": 8,
            "count": 32
           },
           {
            "bin_start": 8,
            "bin_end": 10,
            "count": 80
           },
           {
            "bin_start": 10,
            "bin_end": 12,
            "count": 159
           },
           {
            "bin_start": 12,
            "bin_end": 14,
            "count": 129
           },
           {
            "bin_start": 14,
            "bin_end": 16,
            "count": 71
           },
           {
            "bin_start": 16,
            "bin_end": 18,
            "count": 29
           },
           {
            "bin_start": 18,
            "bin_end": 20,
            "count": 8
           }
          ]
         }
        },
        {
         "name": "Physicalhealth",
         "dtype": "float64",
         "stats": {
          "unique_count": 50,
          "nan_count": 0,
          "min": "1.0",
          "max": "5.0",
          "histogram": [
           {
            "bin_start": 1,
            "bin_end": 1.4,
            "count": 3
           },
           {
            "bin_start": 1.4,
            "bin_end": 1.8,
            "count": 0
           },
           {
            "bin_start": 1.8,
            "bin_end": 2.2,
            "count": 50
           },
           {
            "bin_start": 2.2,
            "bin_end": 2.6,
            "count": 4
           },
           {
            "bin_start": 2.6,
            "bin_end": 3,
            "count": 17
           },
           {
            "bin_start": 3,
            "bin_end": 3.4000000000000004,
            "count": 300
           },
           {
            "bin_start": 3.4000000000000004,
            "bin_end": 3.8000000000000003,
            "count": 7
           },
           {
            "bin_start": 3.8000000000000003,
            "bin_end": 4.2,
            "count": 117
           },
           {
            "bin_start": 4.2,
            "bin_end": 4.6,
            "count": 0
           },
           {
            "bin_start": 4.6,
            "bin_end": 5,
            "count": 29
           }
          ]
         }
        },
        {
         "name": "Physicalfitness",
         "dtype": "float64",
         "stats": {
          "unique_count": 50,
          "nan_count": 0,
          "min": "1.0",
          "max": "5.0",
          "histogram": [
           {
            "bin_start": 1,
            "bin_end": 1.4,
            "count": 16
           },
           {
            "bin_start": 1.4,
            "bin_end": 1.8,
            "count": 1
           },
           {
            "bin_start": 1.8,
            "bin_end": 2.2,
            "count": 113
           },
           {
            "bin_start": 2.2,
            "bin_end": 2.6,
            "count": 8
           },
           {
            "bin_start": 2.6,
            "bin_end": 3,
            "count": 17
           },
           {
            "bin_start": 3,
            "bin_end": 3.4000000000000004,
            "count": 221
           },
           {
            "bin_start": 3.4000000000000004,
            "bin_end": 3.8000000000000003,
            "count": 3
           },
           {
            "bin_start": 3.8000000000000003,
            "bin_end": 4.2,
            "count": 122
           },
           {
            "bin_start": 4.2,
            "bin_end": 4.6,
            "count": 0
           },
           {
            "bin_start": 4.6,
            "bin_end": 5,
            "count": 26
           }
          ]
         }
        },
        {
         "name": "Psychohealth",
         "dtype": "float64",
         "stats": {
          "unique_count": 50,
          "nan_count": 0,
          "min": "1.0",
          "max": "5.0",
          "histogram": [
           {
            "bin_start": 1,
            "bin_end": 1.4,
            "count": 4
           },
           {
            "bin_start": 1.4,
            "bin_end": 1.8,
            "count": 0
           },
           {
            "bin_start": 1.8,
            "bin_end": 2.2,
            "count": 61
           },
           {
            "bin_start": 2.2,
            "bin_end": 2.6,
            "count": 1
           },
           {
            "bin_start": 2.6,
            "bin_end": 3,
            "count": 4
           },
           {
            "bin_start": 3,
            "bin_end": 3.4000000000000004,
            "count": 198
           },
           {
            "bin_start": 3.4000000000000004,
            "bin_end": 3.8000000000000003,
            "count": 15
           },
           {
            "bin_start": 3.8000000000000003,
            "bin_end": 4.2,
            "count": 188
           },
           {
            "bin_start": 4.2,
            "bin_end": 4.6,
            "count": 1
           },
           {
            "bin_start": 4.6,
            "bin_end": 5,
            "count": 55
           }
          ]
         }
        },
        {
         "name": "Gamified_Gamified",
         "dtype": "float64",
         "stats": {
          "unique_count": 2,
          "nan_count": 0,
          "min": "0.0",
          "max": "1.0",
          "histogram": [
           {
            "bin_start": 0,
            "bin_end": 0.1,
            "count": 241
           },
           {
            "bin_start": 0.1,
            "bin_end": 0.2,
            "count": 0
           },
           {
            "bin_start": 0.2,
            "bin_end": 0.30000000000000004,
            "count": 0
           },
           {
            "bin_start": 0.30000000000000004,
            "bin_end": 0.4,
            "count": 0
           },
           {
            "bin_start": 0.4,
            "bin_end": 0.5,
            "count": 0
           },
           {
            "bin_start": 0.5,
            "bin_end": 0.6000000000000001,
            "count": 0
           },
           {
            "bin_start": 0.6000000000000001,
            "bin_end": 0.7000000000000001,
            "count": 0
           },
           {
            "bin_start": 0.7000000000000001,
            "bin_end": 0.8,
            "count": 0
           },
           {
            "bin_start": 0.8,
            "bin_end": 0.9,
            "count": 0
           },
           {
            "bin_start": 0.9,
            "bin_end": 1,
            "count": 286
           }
          ]
         }
        },
        {
         "name": "Gamified_Nongamified",
         "dtype": "float64",
         "stats": {
          "unique_count": 2,
          "nan_count": 0,
          "min": "0.0",
          "max": "1.0",
          "histogram": [
           {
            "bin_start": 0,
            "bin_end": 0.1,
            "count": 286
           },
           {
            "bin_start": 0.1,
            "bin_end": 0.2,
            "count": 0
           },
           {
            "bin_start": 0.2,
            "bin_end": 0.30000000000000004,
            "count": 0
           },
           {
            "bin_start": 0.30000000000000004,
            "bin_end": 0.4,
            "count": 0
           },
           {
            "bin_start": 0.4,
            "bin_end": 0.5,
            "count": 0
           },
           {
            "bin_start": 0.5,
            "bin_end": 0.6000000000000001,
            "count": 0
           },
           {
            "bin_start": 0.6000000000000001,
            "bin_end": 0.7000000000000001,
            "count": 0
           },
           {
            "bin_start": 0.7000000000000001,
            "bin_end": 0.8,
            "count": 0
           },
           {
            "bin_start": 0.8,
            "bin_end": 0.9,
            "count": 0
           },
           {
            "bin_start": 0.9,
            "bin_end": 1,
            "count": 241
           }
          ]
         }
        },
        {
         "name": "Difficulty_Difficult",
         "dtype": "float64",
         "stats": {
          "unique_count": 2,
          "nan_count": 0,
          "min": "0.0",
          "max": "1.0",
          "histogram": [
           {
            "bin_start": 0,
            "bin_end": 0.1,
            "count": 500
           },
           {
            "bin_start": 0.1,
            "bin_end": 0.2,
            "count": 0
           },
           {
            "bin_start": 0.2,
            "bin_end": 0.30000000000000004,
            "count": 0
           },
           {
            "bin_start": 0.30000000000000004,
            "bin_end": 0.4,
            "count": 0
           },
           {
            "bin_start": 0.4,
            "bin_end": 0.5,
            "count": 0
           },
           {
            "bin_start": 0.5,
            "bin_end": 0.6000000000000001,
            "count": 0
           },
           {
            "bin_start": 0.6000000000000001,
            "bin_end": 0.7000000000000001,
            "count": 0
           },
           {
            "bin_start": 0.7000000000000001,
            "bin_end": 0.8,
            "count": 0
           },
           {
            "bin_start": 0.8,
            "bin_end": 0.9,
            "count": 0
           },
           {
            "bin_start": 0.9,
            "bin_end": 1,
            "count": 27
           }
          ]
         }
        },
        {
         "name": "Difficulty_Middle",
         "dtype": "float64",
         "stats": {
          "unique_count": 2,
          "nan_count": 0,
          "min": "0.0",
          "max": "1.0",
          "histogram": [
           {
            "bin_start": 0,
            "bin_end": 0.1,
            "count": 350
           },
           {
            "bin_start": 0.1,
            "bin_end": 0.2,
            "count": 0
           },
           {
            "bin_start": 0.2,
            "bin_end": 0.30000000000000004,
            "count": 0
           },
           {
            "bin_start": 0.30000000000000004,
            "bin_end": 0.4,
            "count": 0
           },
           {
            "bin_start": 0.4,
            "bin_end": 0.5,
            "count": 0
           },
           {
            "bin_start": 0.5,
            "bin_end": 0.6000000000000001,
            "count": 0
           },
           {
            "bin_start": 0.6000000000000001,
            "bin_end": 0.7000000000000001,
            "count": 0
           },
           {
            "bin_start": 0.7000000000000001,
            "bin_end": 0.8,
            "count": 0
           },
           {
            "bin_start": 0.8,
            "bin_end": 0.9,
            "count": 0
           },
           {
            "bin_start": 0.9,
            "bin_end": 1,
            "count": 177
           }
          ]
         }
        },
        {
         "name": "Difficulty_Moderate",
         "dtype": "float64",
         "stats": {
          "unique_count": 2,
          "nan_count": 0,
          "min": "0.0",
          "max": "1.0",
          "histogram": [
           {
            "bin_start": 0,
            "bin_end": 0.1,
            "count": 367
           },
           {
            "bin_start": 0.1,
            "bin_end": 0.2,
            "count": 0
           },
           {
            "bin_start": 0.2,
            "bin_end": 0.30000000000000004,
            "count": 0
           },
           {
            "bin_start": 0.30000000000000004,
            "bin_end": 0.4,
            "count": 0
           },
           {
            "bin_start": 0.4,
            "bin_end": 0.5,
            "count": 0
           },
           {
            "bin_start": 0.5,
            "bin_end": 0.6000000000000001,
            "count": 0
           },
           {
            "bin_start": 0.6000000000000001,
            "bin_end": 0.7000000000000001,
            "count": 0
           },
           {
            "bin_start": 0.7000000000000001,
            "bin_end": 0.8,
            "count": 0
           },
           {
            "bin_start": 0.8,
            "bin_end": 0.9,
            "count": 0
           },
           {
            "bin_start": 0.9,
            "bin_end": 1,
            "count": 160
           }
          ]
         }
        },
        {
         "name": "Difficulty_hard",
         "dtype": "float64",
         "stats": {
          "unique_count": 2,
          "nan_count": 0,
          "min": "0.0",
          "max": "1.0",
          "histogram": [
           {
            "bin_start": 0,
            "bin_end": 0.1,
            "count": 379
           },
           {
            "bin_start": 0.1,
            "bin_end": 0.2,
            "count": 0
           },
           {
            "bin_start": 0.2,
            "bin_end": 0.30000000000000004,
            "count": 0
           },
           {
            "bin_start": 0.30000000000000004,
            "bin_end": 0.4,
            "count": 0
           },
           {
            "bin_start": 0.4,
            "bin_end": 0.5,
            "count": 0
           },
           {
            "bin_start": 0.5,
            "bin_end": 0.6000000000000001,
            "count": 0
           },
           {
            "bin_start": 0.6000000000000001,
            "bin_end": 0.7000000000000001,
            "count": 0
           },
           {
            "bin_start": 0.7000000000000001,
            "bin_end": 0.8,
            "count": 0
           },
           {
            "bin_start": 0.8,
            "bin_end": 0.9,
            "count": 0
           },
           {
            "bin_start": 0.9,
            "bin_end": 1,
            "count": 148
           }
          ]
         }
        },
        {
         "name": "Bilingual_Bilingual",
         "dtype": "float64",
         "stats": {
          "unique_count": 2,
          "nan_count": 0,
          "min": "0.0",
          "max": "1.0",
          "histogram": [
           {
            "bin_start": 0,
            "bin_end": 0.1,
            "count": 130
           },
           {
            "bin_start": 0.1,
            "bin_end": 0.2,
            "count": 0
           },
           {
            "bin_start": 0.2,
            "bin_end": 0.30000000000000004,
            "count": 0
           },
           {
            "bin_start": 0.30000000000000004,
            "bin_end": 0.4,
            "count": 0
           },
           {
            "bin_start": 0.4,
            "bin_end": 0.5,
            "count": 0
           },
           {
            "bin_start": 0.5,
            "bin_end": 0.6000000000000001,
            "count": 0
           },
           {
            "bin_start": 0.6000000000000001,
            "bin_end": 0.7000000000000001,
            "count": 0
           },
           {
            "bin_start": 0.7000000000000001,
            "bin_end": 0.8,
            "count": 0
           },
           {
            "bin_start": 0.8,
            "bin_end": 0.9,
            "count": 0
           },
           {
            "bin_start": 0.9,
            "bin_end": 1,
            "count": 397
           }
          ]
         }
        },
        {
         "name": "Bilingual_Monolingual",
         "dtype": "float64",
         "stats": {
          "unique_count": 2,
          "nan_count": 0,
          "min": "0.0",
          "max": "1.0",
          "histogram": [
           {
            "bin_start": 0,
            "bin_end": 0.1,
            "count": 426
           },
           {
            "bin_start": 0.1,
            "bin_end": 0.2,
            "count": 0
           },
           {
            "bin_start": 0.2,
            "bin_end": 0.30000000000000004,
            "count": 0
           },
           {
            "bin_start": 0.30000000000000004,
            "bin_end": 0.4,
            "count": 0
           },
           {
            "bin_start": 0.4,
            "bin_end": 0.5,
            "count": 0
           },
           {
            "bin_start": 0.5,
            "bin_end": 0.6000000000000001,
            "count": 0
           },
           {
            "bin_start": 0.6000000000000001,
            "bin_end": 0.7000000000000001,
            "count": 0
           },
           {
            "bin_start": 0.7000000000000001,
            "bin_end": 0.8,
            "count": 0
           },
           {
            "bin_start": 0.8,
            "bin_end": 0.9,
            "count": 0
           },
           {
            "bin_start": 0.9,
            "bin_end": 1,
            "count": 101
           }
          ]
         }
        },
        {
         "name": "Gender_Female",
         "dtype": "float64",
         "stats": {
          "unique_count": 2,
          "nan_count": 0,
          "min": "0.0",
          "max": "1.0",
          "histogram": [
           {
            "bin_start": 0,
            "bin_end": 0.1,
            "count": 168
           },
           {
            "bin_start": 0.1,
            "bin_end": 0.2,
            "count": 0
           },
           {
            "bin_start": 0.2,
            "bin_end": 0.30000000000000004,
            "count": 0
           },
           {
            "bin_start": 0.30000000000000004,
            "bin_end": 0.4,
            "count": 0
           },
           {
            "bin_start": 0.4,
            "bin_end": 0.5,
            "count": 0
           },
           {
            "bin_start": 0.5,
            "bin_end": 0.6000000000000001,
            "count": 0
           },
           {
            "bin_start": 0.6000000000000001,
            "bin_end": 0.7000000000000001,
            "count": 0
           },
           {
            "bin_start": 0.7000000000000001,
            "bin_end": 0.8,
            "count": 0
           },
           {
            "bin_start": 0.8,
            "bin_end": 0.9,
            "count": 0
           },
           {
            "bin_start": 0.9,
            "bin_end": 1,
            "count": 359
           }
          ]
         }
        },
        {
         "name": "Gender_Male",
         "dtype": "float64",
         "stats": {
          "unique_count": 2,
          "nan_count": 0,
          "min": "0.0",
          "max": "1.0",
          "histogram": [
           {
            "bin_start": 0,
            "bin_end": 0.1,
            "count": 365
           },
           {
            "bin_start": 0.1,
            "bin_end": 0.2,
            "count": 0
           },
           {
            "bin_start": 0.2,
            "bin_end": 0.30000000000000004,
            "count": 0
           },
           {
            "bin_start": 0.30000000000000004,
            "bin_end": 0.4,
            "count": 0
           },
           {
            "bin_start": 0.4,
            "bin_end": 0.5,
            "count": 0
           },
           {
            "bin_start": 0.5,
            "bin_end": 0.6000000000000001,
            "count": 0
           },
           {
            "bin_start": 0.6000000000000001,
            "bin_end": 0.7000000000000001,
            "count": 0
           },
           {
            "bin_start": 0.7000000000000001,
            "bin_end": 0.8,
            "count": 0
           },
           {
            "bin_start": 0.8,
            "bin_end": 0.9,
            "count": 0
           },
           {
            "bin_start": 0.9,
            "bin_end": 1,
            "count": 162
           }
          ]
         }
        },
        {
         "name": "Gender_Other or Don't Want to Specify",
         "dtype": "float64",
         "stats": {
          "unique_count": 2,
          "nan_count": 0,
          "min": "0.0",
          "max": "1.0",
          "histogram": [
           {
            "bin_start": 0,
            "bin_end": 0.1,
            "count": 521
           },
           {
            "bin_start": 0.1,
            "bin_end": 0.2,
            "count": 0
           },
           {
            "bin_start": 0.2,
            "bin_end": 0.30000000000000004,
            "count": 0
           },
           {
            "bin_start": 0.30000000000000004,
            "bin_end": 0.4,
            "count": 0
           },
           {
            "bin_start": 0.4,
            "bin_end": 0.5,
            "count": 0
           },
           {
            "bin_start": 0.5,
            "bin_end": 0.6000000000000001,
            "count": 0
           },
           {
            "bin_start": 0.6000000000000001,
            "bin_end": 0.7000000000000001,
            "count": 0
           },
           {
            "bin_start": 0.7000000000000001,
            "bin_end": 0.8,
            "count": 0
           },
           {
            "bin_start": 0.8,
            "bin_end": 0.9,
            "count": 0
           },
           {
            "bin_start": 0.9,
            "bin_end": 1,
            "count": 6
           }
          ]
         }
        },
        {
         "name": "Ethnicity_American Indian/Alaska Native",
         "dtype": "float64",
         "stats": {
          "unique_count": 2,
          "nan_count": 0,
          "min": "0.0",
          "max": "1.0",
          "histogram": [
           {
            "bin_start": 0,
            "bin_end": 0.1,
            "count": 525
           },
           {
            "bin_start": 0.1,
            "bin_end": 0.2,
            "count": 0
           },
           {
            "bin_start": 0.2,
            "bin_end": 0.30000000000000004,
            "count": 0
           },
           {
            "bin_start": 0.30000000000000004,
            "bin_end": 0.4,
            "count": 0
           },
           {
            "bin_start": 0.4,
            "bin_end": 0.5,
            "count": 0
           },
           {
            "bin_start": 0.5,
            "bin_end": 0.6000000000000001,
            "count": 0
           },
           {
            "bin_start": 0.6000000000000001,
            "bin_end": 0.7000000000000001,
            "count": 0
           },
           {
            "bin_start": 0.7000000000000001,
            "bin_end": 0.8,
            "count": 0
           },
           {
            "bin_start": 0.8,
            "bin_end": 0.9,
            "count": 0
           },
           {
            "bin_start": 0.9,
            "bin_end": 1,
            "count": 2
           }
          ]
         }
        },
        {
         "name": "Ethnicity_American Indian/Alaska Native,Native Hawaiian or Other Pacific Islander",
         "dtype": "float64",
         "stats": {
          "unique_count": 2,
          "nan_count": 0,
          "min": "0.0",
          "max": "1.0",
          "histogram": [
           {
            "bin_start": 0,
            "bin_end": 0.1,
            "count": 526
           },
           {
            "bin_start": 0.1,
            "bin_end": 0.2,
            "count": 0
           },
           {
            "bin_start": 0.2,
            "bin_end": 0.30000000000000004,
            "count": 0
           },
           {
            "bin_start": 0.30000000000000004,
            "bin_end": 0.4,
            "count": 0
           },
           {
            "bin_start": 0.4,
            "bin_end": 0.5,
            "count": 0
           },
           {
            "bin_start": 0.5,
            "bin_end": 0.6000000000000001,
            "count": 0
           },
           {
            "bin_start": 0.6000000000000001,
            "bin_end": 0.7000000000000001,
            "count": 0
           },
           {
            "bin_start": 0.7000000000000001,
            "bin_end": 0.8,
            "count": 0
           },
           {
            "bin_start": 0.8,
            "bin_end": 0.9,
            "count": 0
           },
           {
            "bin_start": 0.9,
            "bin_end": 1,
            "count": 1
           }
          ]
         }
        },
        {
         "name": "Ethnicity_American Indian/Alaska Native,White",
         "dtype": "float64",
         "stats": {
          "unique_count": 2,
          "nan_count": 0,
          "min": "0.0",
          "max": "1.0",
          "histogram": [
           {
            "bin_start": 0,
            "bin_end": 0.1,
            "count": 526
           },
           {
            "bin_start": 0.1,
            "bin_end": 0.2,
            "count": 0
           },
           {
            "bin_start": 0.2,
            "bin_end": 0.30000000000000004,
            "count": 0
           },
           {
            "bin_start": 0.30000000000000004,
            "bin_end": 0.4,
            "count": 0
           },
           {
            "bin_start": 0.4,
            "bin_end": 0.5,
            "count": 0
           },
           {
            "bin_start": 0.5,
            "bin_end": 0.6000000000000001,
            "count": 0
           },
           {
            "bin_start": 0.6000000000000001,
            "bin_end": 0.7000000000000001,
            "count": 0
           },
           {
            "bin_start": 0.7000000000000001,
            "bin_end": 0.8,
            "count": 0
           },
           {
            "bin_start": 0.8,
            "bin_end": 0.9,
            "count": 0
           },
           {
            "bin_start": 0.9,
            "bin_end": 1,
            "count": 1
           }
          ]
         }
        },
        {
         "name": "Ethnicity_Asian",
         "dtype": "float64",
         "stats": {
          "unique_count": 2,
          "nan_count": 0,
          "min": "0.0",
          "max": "1.0",
          "histogram": [
           {
            "bin_start": 0,
            "bin_end": 0.1,
            "count": 270
           },
           {
            "bin_start": 0.1,
            "bin_end": 0.2,
            "count": 0
           },
           {
            "bin_start": 0.2,
            "bin_end": 0.30000000000000004,
            "count": 0
           },
           {
            "bin_start": 0.30000000000000004,
            "bin_end": 0.4,
            "count": 0
           },
           {
            "bin_start": 0.4,
            "bin_end": 0.5,
            "count": 0
           },
           {
            "bin_start": 0.5,
            "bin_end": 0.6000000000000001,
            "count": 0
           },
           {
            "bin_start": 0.6000000000000001,
            "bin_end": 0.7000000000000001,
            "count": 0
           },
           {
            "bin_start": 0.7000000000000001,
            "bin_end": 0.8,
            "count": 0
           },
           {
            "bin_start": 0.8,
            "bin_end": 0.9,
            "count": 0
           },
           {
            "bin_start": 0.9,
            "bin_end": 1,
            "count": 257
           }
          ]
         }
        },
        {
         "name": "Ethnicity_Asian,Black or African American",
         "dtype": "float64",
         "stats": {
          "unique_count": 2,
          "nan_count": 0,
          "min": "0.0",
          "max": "1.0",
          "histogram": [
           {
            "bin_start": 0,
            "bin_end": 0.1,
            "count": 522
           },
           {
            "bin_start": 0.1,
            "bin_end": 0.2,
            "count": 0
           },
           {
            "bin_start": 0.2,
            "bin_end": 0.30000000000000004,
            "count": 0
           },
           {
            "bin_start": 0.30000000000000004,
            "bin_end": 0.4,
            "count": 0
           },
           {
            "bin_start": 0.4,
            "bin_end": 0.5,
            "count": 0
           },
           {
            "bin_start": 0.5,
            "bin_end": 0.6000000000000001,
            "count": 0
           },
           {
            "bin_start": 0.6000000000000001,
            "bin_end": 0.7000000000000001,
            "count": 0
           },
           {
            "bin_start": 0.7000000000000001,
            "bin_end": 0.8,
            "count": 0
           },
           {
            "bin_start": 0.8,
            "bin_end": 0.9,
            "count": 0
           },
           {
            "bin_start": 0.9,
            "bin_end": 1,
            "count": 5
           }
          ]
         }
        },
        {
         "name": "Ethnicity_Asian,Black or African American,Other or Don't Want to Specify",
         "dtype": "float64",
         "stats": {
          "unique_count": 2,
          "nan_count": 0,
          "min": "0.0",
          "max": "1.0",
          "histogram": [
           {
            "bin_start": 0,
            "bin_end": 0.1,
            "count": 526
           },
           {
            "bin_start": 0.1,
            "bin_end": 0.2,
            "count": 0
           },
           {
            "bin_start": 0.2,
            "bin_end": 0.30000000000000004,
            "count": 0
           },
           {
            "bin_start": 0.30000000000000004,
            "bin_end": 0.4,
            "count": 0
           },
           {
            "bin_start": 0.4,
            "bin_end": 0.5,
            "count": 0
           },
           {
            "bin_start": 0.5,
            "bin_end": 0.6000000000000001,
            "count": 0
           },
           {
            "bin_start": 0.6000000000000001,
            "bin_end": 0.7000000000000001,
            "count": 0
           },
           {
            "bin_start": 0.7000000000000001,
            "bin_end": 0.8,
            "count": 0
           },
           {
            "bin_start": 0.8,
            "bin_end": 0.9,
            "count": 0
           },
           {
            "bin_start": 0.9,
            "bin_end": 1,
            "count": 1
           }
          ]
         }
        },
        {
         "name": "Ethnicity_Asian,Other or Don't Want to Specify",
         "dtype": "float64",
         "stats": {
          "unique_count": 2,
          "nan_count": 0,
          "min": "0.0",
          "max": "1.0",
          "histogram": [
           {
            "bin_start": 0,
            "bin_end": 0.1,
            "count": 524
           },
           {
            "bin_start": 0.1,
            "bin_end": 0.2,
            "count": 0
           },
           {
            "bin_start": 0.2,
            "bin_end": 0.30000000000000004,
            "count": 0
           },
           {
            "bin_start": 0.30000000000000004,
            "bin_end": 0.4,
            "count": 0
           },
           {
            "bin_start": 0.4,
            "bin_end": 0.5,
            "count": 0
           },
           {
            "bin_start": 0.5,
            "bin_end": 0.6000000000000001,
            "count": 0
           },
           {
            "bin_start": 0.6000000000000001,
            "bin_end": 0.7000000000000001,
            "count": 0
           },
           {
            "bin_start": 0.7000000000000001,
            "bin_end": 0.8,
            "count": 0
           },
           {
            "bin_start": 0.8,
            "bin_end": 0.9,
            "count": 0
           },
           {
            "bin_start": 0.9,
            "bin_end": 1,
            "count": 3
           }
          ]
         }
        },
        {
         "name": "Ethnicity_Asian,White",
         "dtype": "float64",
         "stats": {
          "unique_count": 2,
          "nan_count": 0,
          "min": "0.0",
          "max": "1.0",
          "histogram": [
           {
            "bin_start": 0,
            "bin_end": 0.1,
            "count": 507
           },
           {
            "bin_start": 0.1,
            "bin_end": 0.2,
            "count": 0
           },
           {
            "bin_start": 0.2,
            "bin_end": 0.30000000000000004,
            "count": 0
           },
           {
            "bin_start": 0.30000000000000004,
            "bin_end": 0.4,
            "count": 0
           },
           {
            "bin_start": 0.4,
            "bin_end": 0.5,
            "count": 0
           },
           {
            "bin_start": 0.5,
            "bin_end": 0.6000000000000001,
            "count": 0
           },
           {
            "bin_start": 0.6000000000000001,
            "bin_end": 0.7000000000000001,
            "count": 0
           },
           {
            "bin_start": 0.7000000000000001,
            "bin_end": 0.8,
            "count": 0
           },
           {
            "bin_start": 0.8,
            "bin_end": 0.9,
            "count": 0
           },
           {
            "bin_start": 0.9,
            "bin_end": 1,
            "count": 20
           }
          ]
         }
        },
        {
         "name": "Ethnicity_Black or African American",
         "dtype": "float64",
         "stats": {
          "unique_count": 2,
          "nan_count": 0,
          "min": "0.0",
          "max": "1.0",
          "histogram": [
           {
            "bin_start": 0,
            "bin_end": 0.1,
            "count": 510
           },
           {
            "bin_start": 0.1,
            "bin_end": 0.2,
            "count": 0
           },
           {
            "bin_start": 0.2,
            "bin_end": 0.30000000000000004,
            "count": 0
           },
           {
            "bin_start": 0.30000000000000004,
            "bin_end": 0.4,
            "count": 0
           },
           {
            "bin_start": 0.4,
            "bin_end": 0.5,
            "count": 0
           },
           {
            "bin_start": 0.5,
            "bin_end": 0.6000000000000001,
            "count": 0
           },
           {
            "bin_start": 0.6000000000000001,
            "bin_end": 0.7000000000000001,
            "count": 0
           },
           {
            "bin_start": 0.7000000000000001,
            "bin_end": 0.8,
            "count": 0
           },
           {
            "bin_start": 0.8,
            "bin_end": 0.9,
            "count": 0
           },
           {
            "bin_start": 0.9,
            "bin_end": 1,
            "count": 17
           }
          ]
         }
        },
        {
         "name": "Ethnicity_Black or African American,Other or Dont Want to Specify",
         "dtype": "float64",
         "stats": {
          "unique_count": 2,
          "nan_count": 0,
          "min": "0.0",
          "max": "1.0",
          "histogram": [
           {
            "bin_start": 0,
            "bin_end": 0.1,
            "count": 526
           },
           {
            "bin_start": 0.1,
            "bin_end": 0.2,
            "count": 0
           },
           {
            "bin_start": 0.2,
            "bin_end": 0.30000000000000004,
            "count": 0
           },
           {
            "bin_start": 0.30000000000000004,
            "bin_end": 0.4,
            "count": 0
           },
           {
            "bin_start": 0.4,
            "bin_end": 0.5,
            "count": 0
           },
           {
            "bin_start": 0.5,
            "bin_end": 0.6000000000000001,
            "count": 0
           },
           {
            "bin_start": 0.6000000000000001,
            "bin_end": 0.7000000000000001,
            "count": 0
           },
           {
            "bin_start": 0.7000000000000001,
            "bin_end": 0.8,
            "count": 0
           },
           {
            "bin_start": 0.8,
            "bin_end": 0.9,
            "count": 0
           },
           {
            "bin_start": 0.9,
            "bin_end": 1,
            "count": 1
           }
          ]
         }
        },
        {
         "name": "Ethnicity_Black or African American,White",
         "dtype": "float64",
         "stats": {
          "unique_count": 2,
          "nan_count": 0,
          "min": "0.0",
          "max": "1.0",
          "histogram": [
           {
            "bin_start": 0,
            "bin_end": 0.1,
            "count": 524
           },
           {
            "bin_start": 0.1,
            "bin_end": 0.2,
            "count": 0
           },
           {
            "bin_start": 0.2,
            "bin_end": 0.30000000000000004,
            "count": 0
           },
           {
            "bin_start": 0.30000000000000004,
            "bin_end": 0.4,
            "count": 0
           },
           {
            "bin_start": 0.4,
            "bin_end": 0.5,
            "count": 0
           },
           {
            "bin_start": 0.5,
            "bin_end": 0.6000000000000001,
            "count": 0
           },
           {
            "bin_start": 0.6000000000000001,
            "bin_end": 0.7000000000000001,
            "count": 0
           },
           {
            "bin_start": 0.7000000000000001,
            "bin_end": 0.8,
            "count": 0
           },
           {
            "bin_start": 0.8,
            "bin_end": 0.9,
            "count": 0
           },
           {
            "bin_start": 0.9,
            "bin_end": 1,
            "count": 3
           }
          ]
         }
        },
        {
         "name": "Ethnicity_Native Hawaiian or Other Pacific Islander",
         "dtype": "float64",
         "stats": {
          "unique_count": 2,
          "nan_count": 0,
          "min": "0.0",
          "max": "1.0",
          "histogram": [
           {
            "bin_start": 0,
            "bin_end": 0.1,
            "count": 526
           },
           {
            "bin_start": 0.1,
            "bin_end": 0.2,
            "count": 0
           },
           {
            "bin_start": 0.2,
            "bin_end": 0.30000000000000004,
            "count": 0
           },
           {
            "bin_start": 0.30000000000000004,
            "bin_end": 0.4,
            "count": 0
           },
           {
            "bin_start": 0.4,
            "bin_end": 0.5,
            "count": 0
           },
           {
            "bin_start": 0.5,
            "bin_end": 0.6000000000000001,
            "count": 0
           },
           {
            "bin_start": 0.6000000000000001,
            "bin_end": 0.7000000000000001,
            "count": 0
           },
           {
            "bin_start": 0.7000000000000001,
            "bin_end": 0.8,
            "count": 0
           },
           {
            "bin_start": 0.8,
            "bin_end": 0.9,
            "count": 0
           },
           {
            "bin_start": 0.9,
            "bin_end": 1,
            "count": 1
           }
          ]
         }
        },
        {
         "name": "Ethnicity_Native Hawaiian or Other Pacific Islander,Asian",
         "dtype": "float64",
         "stats": {
          "unique_count": 2,
          "nan_count": 0,
          "min": "0.0",
          "max": "1.0",
          "histogram": [
           {
            "bin_start": 0,
            "bin_end": 0.1,
            "count": 524
           },
           {
            "bin_start": 0.1,
            "bin_end": 0.2,
            "count": 0
           },
           {
            "bin_start": 0.2,
            "bin_end": 0.30000000000000004,
            "count": 0
           },
           {
            "bin_start": 0.30000000000000004,
            "bin_end": 0.4,
            "count": 0
           },
           {
            "bin_start": 0.4,
            "bin_end": 0.5,
            "count": 0
           },
           {
            "bin_start": 0.5,
            "bin_end": 0.6000000000000001,
            "count": 0
           },
           {
            "bin_start": 0.6000000000000001,
            "bin_end": 0.7000000000000001,
            "count": 0
           },
           {
            "bin_start": 0.7000000000000001,
            "bin_end": 0.8,
            "count": 0
           },
           {
            "bin_start": 0.8,
            "bin_end": 0.9,
            "count": 0
           },
           {
            "bin_start": 0.9,
            "bin_end": 1,
            "count": 3
           }
          ]
         }
        },
        {
         "name": "Ethnicity_Native Hawaiian or Other Pacific Islander,Asian,White",
         "dtype": "float64",
         "stats": {
          "unique_count": 2,
          "nan_count": 0,
          "min": "0.0",
          "max": "1.0",
          "histogram": [
           {
            "bin_start": 0,
            "bin_end": 0.1,
            "count": 526
           },
           {
            "bin_start": 0.1,
            "bin_end": 0.2,
            "count": 0
           },
           {
            "bin_start": 0.2,
            "bin_end": 0.30000000000000004,
            "count": 0
           },
           {
            "bin_start": 0.30000000000000004,
            "bin_end": 0.4,
            "count": 0
           },
           {
            "bin_start": 0.4,
            "bin_end": 0.5,
            "count": 0
           },
           {
            "bin_start": 0.5,
            "bin_end": 0.6000000000000001,
            "count": 0
           },
           {
            "bin_start": 0.6000000000000001,
            "bin_end": 0.7000000000000001,
            "count": 0
           },
           {
            "bin_start": 0.7000000000000001,
            "bin_end": 0.8,
            "count": 0
           },
           {
            "bin_start": 0.8,
            "bin_end": 0.9,
            "count": 0
           },
           {
            "bin_start": 0.9,
            "bin_end": 1,
            "count": 1
           }
          ]
         }
        },
        {
         "name": "Ethnicity_Other or Don't Want to Specify",
         "dtype": "float64",
         "stats": {
          "unique_count": 2,
          "nan_count": 0,
          "min": "0.0",
          "max": "1.0",
          "histogram": [
           {
            "bin_start": 0,
            "bin_end": 0.1,
            "count": 422
           },
           {
            "bin_start": 0.1,
            "bin_end": 0.2,
            "count": 0
           },
           {
            "bin_start": 0.2,
            "bin_end": 0.30000000000000004,
            "count": 0
           },
           {
            "bin_start": 0.30000000000000004,
            "bin_end": 0.4,
            "count": 0
           },
           {
            "bin_start": 0.4,
            "bin_end": 0.5,
            "count": 0
           },
           {
            "bin_start": 0.5,
            "bin_end": 0.6000000000000001,
            "count": 0
           },
           {
            "bin_start": 0.6000000000000001,
            "bin_end": 0.7000000000000001,
            "count": 0
           },
           {
            "bin_start": 0.7000000000000001,
            "bin_end": 0.8,
            "count": 0
           },
           {
            "bin_start": 0.8,
            "bin_end": 0.9,
            "count": 0
           },
           {
            "bin_start": 0.9,
            "bin_end": 1,
            "count": 105
           }
          ]
         }
        },
        {
         "name": "Ethnicity_Other or Dont Want to Specify",
         "dtype": "float64",
         "stats": {
          "unique_count": 2,
          "nan_count": 0,
          "min": "0.0",
          "max": "1.0",
          "histogram": [
           {
            "bin_start": 0,
            "bin_end": 0.1,
            "count": 502
           },
           {
            "bin_start": 0.1,
            "bin_end": 0.2,
            "count": 0
           },
           {
            "bin_start": 0.2,
            "bin_end": 0.30000000000000004,
            "count": 0
           },
           {
            "bin_start": 0.30000000000000004,
            "bin_end": 0.4,
            "count": 0
           },
           {
            "bin_start": 0.4,
            "bin_end": 0.5,
            "count": 0
           },
           {
            "bin_start": 0.5,
            "bin_end": 0.6000000000000001,
            "count": 0
           },
           {
            "bin_start": 0.6000000000000001,
            "bin_end": 0.7000000000000001,
            "count": 0
           },
           {
            "bin_start": 0.7000000000000001,
            "bin_end": 0.8,
            "count": 0
           },
           {
            "bin_start": 0.8,
            "bin_end": 0.9,
            "count": 0
           },
           {
            "bin_start": 0.9,
            "bin_end": 1,
            "count": 25
           }
          ]
         }
        },
        {
         "name": "Ethnicity_White",
         "dtype": "float64",
         "stats": {
          "unique_count": 2,
          "nan_count": 0,
          "min": "0.0",
          "max": "1.0",
          "histogram": [
           {
            "bin_start": 0,
            "bin_end": 0.1,
            "count": 451
           },
           {
            "bin_start": 0.1,
            "bin_end": 0.2,
            "count": 0
           },
           {
            "bin_start": 0.2,
            "bin_end": 0.30000000000000004,
            "count": 0
           },
           {
            "bin_start": 0.30000000000000004,
            "bin_end": 0.4,
            "count": 0
           },
           {
            "bin_start": 0.4,
            "bin_end": 0.5,
            "count": 0
           },
           {
            "bin_start": 0.5,
            "bin_end": 0.6000000000000001,
            "count": 0
           },
           {
            "bin_start": 0.6000000000000001,
            "bin_end": 0.7000000000000001,
            "count": 0
           },
           {
            "bin_start": 0.7000000000000001,
            "bin_end": 0.8,
            "count": 0
           },
           {
            "bin_start": 0.8,
            "bin_end": 0.9,
            "count": 0
           },
           {
            "bin_start": 0.9,
            "bin_end": 1,
            "count": 76
           }
          ]
         }
        },
        {
         "name": "Ethnicity_White,Other or Don't Want to Specify",
         "dtype": "float64",
         "stats": {
          "unique_count": 2,
          "nan_count": 0,
          "min": "0.0",
          "max": "1.0",
          "histogram": [
           {
            "bin_start": 0,
            "bin_end": 0.1,
            "count": 524
           },
           {
            "bin_start": 0.1,
            "bin_end": 0.2,
            "count": 0
           },
           {
            "bin_start": 0.2,
            "bin_end": 0.30000000000000004,
            "count": 0
           },
           {
            "bin_start": 0.30000000000000004,
            "bin_end": 0.4,
            "count": 0
           },
           {
            "bin_start": 0.4,
            "bin_end": 0.5,
            "count": 0
           },
           {
            "bin_start": 0.5,
            "bin_end": 0.6000000000000001,
            "count": 0
           },
           {
            "bin_start": 0.6000000000000001,
            "bin_end": 0.7000000000000001,
            "count": 0
           },
           {
            "bin_start": 0.7000000000000001,
            "bin_end": 0.8,
            "count": 0
           },
           {
            "bin_start": 0.8,
            "bin_end": 0.9,
            "count": 0
           },
           {
            "bin_start": 0.9,
            "bin_end": 1,
            "count": 3
           }
          ]
         }
        },
        {
         "name": "Ethnicity_White,Other or Dont Want to Specify",
         "dtype": "float64",
         "stats": {
          "unique_count": 2,
          "nan_count": 0,
          "min": "0.0",
          "max": "1.0",
          "histogram": [
           {
            "bin_start": 0,
            "bin_end": 0.1,
            "count": 526
           },
           {
            "bin_start": 0.1,
            "bin_end": 0.2,
            "count": 0
           },
           {
            "bin_start": 0.2,
            "bin_end": 0.30000000000000004,
            "count": 0
           },
           {
            "bin_start": 0.30000000000000004,
            "bin_end": 0.4,
            "count": 0
           },
           {
            "bin_start": 0.4,
            "bin_end": 0.5,
            "count": 0
           },
           {
            "bin_start": 0.5,
            "bin_end": 0.6000000000000001,
            "count": 0
           },
           {
            "bin_start": 0.6000000000000001,
            "bin_end": 0.7000000000000001,
            "count": 0
           },
           {
            "bin_start": 0.7000000000000001,
            "bin_end": 0.8,
            "count": 0
           },
           {
            "bin_start": 0.8,
            "bin_end": 0.9,
            "count": 0
           },
           {
            "bin_start": 0.9,
            "bin_end": 1,
            "count": 1
           }
          ]
         }
        },
        {
         "name": "HispanicLatino_I D",
         "dtype": "float64",
         "stats": {
          "unique_count": 2,
          "nan_count": 0,
          "min": "0.0",
          "max": "1.0",
          "histogram": [
           {
            "bin_start": 0,
            "bin_end": 0.1,
            "count": 525
           },
           {
            "bin_start": 0.1,
            "bin_end": 0.2,
            "count": 0
           },
           {
            "bin_start": 0.2,
            "bin_end": 0.30000000000000004,
            "count": 0
           },
           {
            "bin_start": 0.30000000000000004,
            "bin_end": 0.4,
            "count": 0
           },
           {
            "bin_start": 0.4,
            "bin_end": 0.5,
            "count": 0
           },
           {
            "bin_start": 0.5,
            "bin_end": 0.6000000000000001,
            "count": 0
           },
           {
            "bin_start": 0.6000000000000001,
            "bin_end": 0.7000000000000001,
            "count": 0
           },
           {
            "bin_start": 0.7000000000000001,
            "bin_end": 0.8,
            "count": 0
           },
           {
            "bin_start": 0.8,
            "bin_end": 0.9,
            "count": 0
           },
           {
            "bin_start": 0.9,
            "bin_end": 1,
            "count": 2
           }
          ]
         }
        },
        {
         "name": "HispanicLatino_No",
         "dtype": "float64",
         "stats": {
          "unique_count": 2,
          "nan_count": 0,
          "min": "0.0",
          "max": "1.0",
          "histogram": [
           {
            "bin_start": 0,
            "bin_end": 0.1,
            "count": 181
           },
           {
            "bin_start": 0.1,
            "bin_end": 0.2,
            "count": 0
           },
           {
            "bin_start": 0.2,
            "bin_end": 0.30000000000000004,
            "count": 0
           },
           {
            "bin_start": 0.30000000000000004,
            "bin_end": 0.4,
            "count": 0
           },
           {
            "bin_start": 0.4,
            "bin_end": 0.5,
            "count": 0
           },
           {
            "bin_start": 0.5,
            "bin_end": 0.6000000000000001,
            "count": 0
           },
           {
            "bin_start": 0.6000000000000001,
            "bin_end": 0.7000000000000001,
            "count": 0
           },
           {
            "bin_start": 0.7000000000000001,
            "bin_end": 0.8,
            "count": 0
           },
           {
            "bin_start": 0.8,
            "bin_end": 0.9,
            "count": 0
           },
           {
            "bin_start": 0.9,
            "bin_end": 1,
            "count": 346
           }
          ]
         }
        },
        {
         "name": "HispanicLatino_Yes",
         "dtype": "float64",
         "stats": {
          "unique_count": 2,
          "nan_count": 0,
          "min": "0.0",
          "max": "1.0",
          "histogram": [
           {
            "bin_start": 0,
            "bin_end": 0.1,
            "count": 349
           },
           {
            "bin_start": 0.1,
            "bin_end": 0.2,
            "count": 0
           },
           {
            "bin_start": 0.2,
            "bin_end": 0.30000000000000004,
            "count": 0
           },
           {
            "bin_start": 0.30000000000000004,
            "bin_end": 0.4,
            "count": 0
           },
           {
            "bin_start": 0.4,
            "bin_end": 0.5,
            "count": 0
           },
           {
            "bin_start": 0.5,
            "bin_end": 0.6000000000000001,
            "count": 0
           },
           {
            "bin_start": 0.6000000000000001,
            "bin_end": 0.7000000000000001,
            "count": 0
           },
           {
            "bin_start": 0.7000000000000001,
            "bin_end": 0.8,
            "count": 0
           },
           {
            "bin_start": 0.8,
            "bin_end": 0.9,
            "count": 0
           },
           {
            "bin_start": 0.9,
            "bin_end": 1,
            "count": 178
           }
          ]
         }
        },
        {
         "name": "_deepnote_index_column",
         "dtype": "int64"
        }
       ],
       "rows": [
        {
         "Unique": 1,
         "MR_accpre": 0.348,
         "WM_Zpre": 0.210380374,
         "IC_Zreverse_pre": -2.517163109,
         "NT_Zpre": 0.080728217,
         "TCA_Zscore": 15,
         "CFQMALscore": 17,
         "Avg_grit_amb": 4.275,
         "NEOFFIExtraversion": 4.125,
         "NEOFFIAgreeableness": 4.625,
         "NEOFFIConscientiousness": 4.375,
         "NEOFFIEmotionalstability": 3.5,
         "NEOFFIIntellectorOpenness": 3.625,
         "VGQHoursCategorySumPastYear_Z": -1.007,
         "ParentalEducationSum": 6,
         "SelfReportedSESRatingSum": 14,
         "Physicalhealth": 4,
         "Physicalfitness": 4,
         "Psychohealth": 4,
         "Gamified_Gamified": 0,
         "Gamified_Nongamified": 1,
         "Difficulty_Difficult": 0,
         "Difficulty_Middle": 0,
         "Difficulty_Moderate": 1,
         "Difficulty_hard": 0,
         "Bilingual_Bilingual": 1,
         "Bilingual_Monolingual": 0,
         "Gender_Female": 1,
         "Gender_Male": 0,
         "Gender_Other or Don't Want to Specify": 0,
         "Ethnicity_American Indian/Alaska Native": 0,
         "Ethnicity_American Indian/Alaska Native,Native Hawaiian or Other Pacific Islander": 0,
         "Ethnicity_American Indian/Alaska Native,White": 0,
         "Ethnicity_Asian": 1,
         "Ethnicity_Asian,Black or African American": 0,
         "Ethnicity_Asian,Black or African American,Other or Don't Want to Specify": 0,
         "Ethnicity_Asian,Other or Don't Want to Specify": 0,
         "Ethnicity_Asian,White": 0,
         "Ethnicity_Black or African American": 0,
         "Ethnicity_Black or African American,Other or Dont Want to Specify": 0,
         "Ethnicity_Black or African American,White": 0,
         "Ethnicity_Native Hawaiian or Other Pacific Islander": 0,
         "Ethnicity_Native Hawaiian or Other Pacific Islander,Asian": 0,
         "Ethnicity_Native Hawaiian or Other Pacific Islander,Asian,White": 0,
         "Ethnicity_Other or Don't Want to Specify": 0,
         "Ethnicity_Other or Dont Want to Specify": 0,
         "Ethnicity_White": 0,
         "Ethnicity_White,Other or Don't Want to Specify": 0,
         "Ethnicity_White,Other or Dont Want to Specify": 0,
         "HispanicLatino_I D": 0,
         "HispanicLatino_No": 1,
         "HispanicLatino_Yes": 0,
         "_deepnote_index_column": 0
        },
        {
         "Unique": 2,
         "MR_accpre": 0.652,
         "WM_Zpre": 0.56872888,
         "IC_Zreverse_pre": 0.542494109,
         "NT_Zpre": 0.308362778,
         "TCA_Zscore": 20,
         "CFQMALscore": 34,
         "Avg_grit_amb": 3.175,
         "NEOFFIExtraversion": 1.875,
         "NEOFFIAgreeableness": 3.375,
         "NEOFFIConscientiousness": 3.5,
         "NEOFFIEmotionalstability": 2.875,
         "NEOFFIIntellectorOpenness": 3,
         "VGQHoursCategorySumPastYear_Z": 1.525,
         "ParentalEducationSum": 4,
         "SelfReportedSESRatingSum": 13,
         "Physicalhealth": 3,
         "Physicalfitness": 2,
         "Psychohealth": 2,
         "Gamified_Gamified": 0,
         "Gamified_Nongamified": 1,
         "Difficulty_Difficult": 0,
         "Difficulty_Middle": 0,
         "Difficulty_Moderate": 1,
         "Difficulty_hard": 0,
         "Bilingual_Bilingual": 1,
         "Bilingual_Monolingual": 0,
         "Gender_Female": 1,
         "Gender_Male": 0,
         "Gender_Other or Don't Want to Specify": 0,
         "Ethnicity_American Indian/Alaska Native": 0,
         "Ethnicity_American Indian/Alaska Native,Native Hawaiian or Other Pacific Islander": 0,
         "Ethnicity_American Indian/Alaska Native,White": 0,
         "Ethnicity_Asian": 1,
         "Ethnicity_Asian,Black or African American": 0,
         "Ethnicity_Asian,Black or African American,Other or Don't Want to Specify": 0,
         "Ethnicity_Asian,Other or Don't Want to Specify": 0,
         "Ethnicity_Asian,White": 0,
         "Ethnicity_Black or African American": 0,
         "Ethnicity_Black or African American,Other or Dont Want to Specify": 0,
         "Ethnicity_Black or African American,White": 0,
         "Ethnicity_Native Hawaiian or Other Pacific Islander": 0,
         "Ethnicity_Native Hawaiian or Other Pacific Islander,Asian": 0,
         "Ethnicity_Native Hawaiian or Other Pacific Islander,Asian,White": 0,
         "Ethnicity_Other or Don't Want to Specify": 0,
         "Ethnicity_Other or Dont Want to Specify": 0,
         "Ethnicity_White": 0,
         "Ethnicity_White,Other or Don't Want to Specify": 0,
         "Ethnicity_White,Other or Dont Want to Specify": 0,
         "HispanicLatino_I D": 0,
         "HispanicLatino_No": 1,
         "HispanicLatino_Yes": 0,
         "_deepnote_index_column": 1
        },
        {
         "Unique": 3,
         "MR_accpre": 0.565,
         "WM_Zpre": -1.80710641,
         "IC_Zreverse_pre": -0.236907595,
         "NT_Zpre": 0.581091695,
         "TCA_Zscore": 24,
         "CFQMALscore": 23,
         "Avg_grit_amb": 4.1375,
         "NEOFFIExtraversion": 3,
         "NEOFFIAgreeableness": 4.875,
         "NEOFFIConscientiousness": 4,
         "NEOFFIEmotionalstability": 4.5,
         "NEOFFIIntellectorOpenness": 3.375,
         "VGQHoursCategorySumPastYear_Z": -0.786,
         "ParentalEducationSum": 6,
         "SelfReportedSESRatingSum": 11,
         "Physicalhealth": 3,
         "Physicalfitness": 3,
         "Psychohealth": 3,
         "Gamified_Gamified": 0,
         "Gamified_Nongamified": 1,
         "Difficulty_Difficult": 0,
         "Difficulty_Middle": 0,
         "Difficulty_Moderate": 1,
         "Difficulty_hard": 0,
         "Bilingual_Bilingual": 1,
         "Bilingual_Monolingual": 0,
         "Gender_Female": 0,
         "Gender_Male": 1,
         "Gender_Other or Don't Want to Specify": 0,
         "Ethnicity_American Indian/Alaska Native": 0,
         "Ethnicity_American Indian/Alaska Native,Native Hawaiian or Other Pacific Islander": 0,
         "Ethnicity_American Indian/Alaska Native,White": 0,
         "Ethnicity_Asian": 1,
         "Ethnicity_Asian,Black or African American": 0,
         "Ethnicity_Asian,Black or African American,Other or Don't Want to Specify": 0,
         "Ethnicity_Asian,Other or Don't Want to Specify": 0,
         "Ethnicity_Asian,White": 0,
         "Ethnicity_Black or African American": 0,
         "Ethnicity_Black or African American,Other or Dont Want to Specify": 0,
         "Ethnicity_Black or African American,White": 0,
         "Ethnicity_Native Hawaiian or Other Pacific Islander": 0,
         "Ethnicity_Native Hawaiian or Other Pacific Islander,Asian": 0,
         "Ethnicity_Native Hawaiian or Other Pacific Islander,Asian,White": 0,
         "Ethnicity_Other or Don't Want to Specify": 0,
         "Ethnicity_Other or Dont Want to Specify": 0,
         "Ethnicity_White": 0,
         "Ethnicity_White,Other or Don't Want to Specify": 0,
         "Ethnicity_White,Other or Dont Want to Specify": 0,
         "HispanicLatino_I D": 0,
         "HispanicLatino_No": 1,
         "HispanicLatino_Yes": 0,
         "_deepnote_index_column": 2
        },
        {
         "Unique": 5,
         "MR_accpre": 0.565,
         "WM_Zpre": -0.047330651,
         "IC_Zreverse_pre": 1.309681611,
         "NT_Zpre": -0.522599893,
         "TCA_Zscore": 17,
         "CFQMALscore": 21,
         "Avg_grit_amb": 3.4125,
         "NEOFFIExtraversion": 3.25,
         "NEOFFIAgreeableness": 3.625,
         "NEOFFIConscientiousness": 4.375,
         "NEOFFIEmotionalstability": 3.75,
         "NEOFFIIntellectorOpenness": 3,
         "VGQHoursCategorySumPastYear_Z": -0.676,
         "ParentalEducationSum": 6,
         "SelfReportedSESRatingSum": 8,
         "Physicalhealth": 4,
         "Physicalfitness": 3,
         "Psychohealth": 4,
         "Gamified_Gamified": 0,
         "Gamified_Nongamified": 1,
         "Difficulty_Difficult": 0,
         "Difficulty_Middle": 0,
         "Difficulty_Moderate": 1,
         "Difficulty_hard": 0,
         "Bilingual_Bilingual": 1,
         "Bilingual_Monolingual": 0,
         "Gender_Female": 1,
         "Gender_Male": 0,
         "Gender_Other or Don't Want to Specify": 0,
         "Ethnicity_American Indian/Alaska Native": 0,
         "Ethnicity_American Indian/Alaska Native,Native Hawaiian or Other Pacific Islander": 0,
         "Ethnicity_American Indian/Alaska Native,White": 0,
         "Ethnicity_Asian": 1,
         "Ethnicity_Asian,Black or African American": 0,
         "Ethnicity_Asian,Black or African American,Other or Don't Want to Specify": 0,
         "Ethnicity_Asian,Other or Don't Want to Specify": 0,
         "Ethnicity_Asian,White": 0,
         "Ethnicity_Black or African American": 0,
         "Ethnicity_Black or African American,Other or Dont Want to Specify": 0,
         "Ethnicity_Black or African American,White": 0,
         "Ethnicity_Native Hawaiian or Other Pacific Islander": 0,
         "Ethnicity_Native Hawaiian or Other Pacific Islander,Asian": 0,
         "Ethnicity_Native Hawaiian or Other Pacific Islander,Asian,White": 0,
         "Ethnicity_Other or Don't Want to Specify": 0,
         "Ethnicity_Other or Dont Want to Specify": 0,
         "Ethnicity_White": 0,
         "Ethnicity_White,Other or Don't Want to Specify": 0,
         "Ethnicity_White,Other or Dont Want to Specify": 0,
         "HispanicLatino_I D": 0,
         "HispanicLatino_No": 1,
         "HispanicLatino_Yes": 0,
         "_deepnote_index_column": 4
        },
        {
         "Unique": 7,
         "MR_accpre": 0.739,
         "WM_Zpre": -0.047330651,
         "IC_Zreverse_pre": 0.21976779,
         "NT_Zpre": 0.10749969,
         "TCA_Zscore": 26,
         "CFQMALscore": 24,
         "Avg_grit_amb": 3.85,
         "NEOFFIExtraversion": 2.5,
         "NEOFFIAgreeableness": 4.375,
         "NEOFFIConscientiousness": 3.25,
         "NEOFFIEmotionalstability": 2.875,
         "NEOFFIIntellectorOpenness": 4,
         "VGQHoursCategorySumPastYear_Z": 1.415,
         "ParentalEducationSum": 3,
         "SelfReportedSESRatingSum": 11,
         "Physicalhealth": 3,
         "Physicalfitness": 2,
         "Psychohealth": 2,
         "Gamified_Gamified": 0,
         "Gamified_Nongamified": 1,
         "Difficulty_Difficult": 0,
         "Difficulty_Middle": 0,
         "Difficulty_Moderate": 0,
         "Difficulty_hard": 1,
         "Bilingual_Bilingual": 1,
         "Bilingual_Monolingual": 0,
         "Gender_Female": 1,
         "Gender_Male": 0,
         "Gender_Other or Don't Want to Specify": 0,
         "Ethnicity_American Indian/Alaska Native": 0,
         "Ethnicity_American Indian/Alaska Native,Native Hawaiian or Other Pacific Islander": 0,
         "Ethnicity_American Indian/Alaska Native,White": 0,
         "Ethnicity_Asian": 0,
         "Ethnicity_Asian,Black or African American": 0,
         "Ethnicity_Asian,Black or African American,Other or Don't Want to Specify": 0,
         "Ethnicity_Asian,Other or Don't Want to Specify": 0,
         "Ethnicity_Asian,White": 0,
         "Ethnicity_Black or African American": 0,
         "Ethnicity_Black or African American,Other or Dont Want to Specify": 0,
         "Ethnicity_Black or African American,White": 0,
         "Ethnicity_Native Hawaiian or Other Pacific Islander": 0,
         "Ethnicity_Native Hawaiian or Other Pacific Islander,Asian": 0,
         "Ethnicity_Native Hawaiian or Other Pacific Islander,Asian,White": 0,
         "Ethnicity_Other or Don't Want to Specify": 0,
         "Ethnicity_Other or Dont Want to Specify": 0,
         "Ethnicity_White": 1,
         "Ethnicity_White,Other or Don't Want to Specify": 0,
         "Ethnicity_White,Other or Dont Want to Specify": 0,
         "HispanicLatino_I D": 0,
         "HispanicLatino_No": 0,
         "HispanicLatino_Yes": 1,
         "_deepnote_index_column": 6
        },
        {
         "Unique": 8,
         "MR_accpre": 0.652,
         "WM_Zpre": -1.29168436,
         "IC_Zreverse_pre": 0.197239375,
         "NT_Zpre": -0.181547193,
         "TCA_Zscore": 14,
         "CFQMALscore": 11,
         "Avg_grit_amb": 4.375,
         "NEOFFIExtraversion": 4,
         "NEOFFIAgreeableness": 5,
         "NEOFFIConscientiousness": 4.75,
         "NEOFFIEmotionalstability": 4.375,
         "NEOFFIIntellectorOpenness": 3.625,
         "VGQHoursCategorySumPastYear_Z": -1.007,
         "ParentalEducationSum": 7,
         "SelfReportedSESRatingSum": 12,
         "Physicalhealth": 4,
         "Physicalfitness": 4,
         "Psychohealth": 4,
         "Gamified_Gamified": 0,
         "Gamified_Nongamified": 1,
         "Difficulty_Difficult": 0,
         "Difficulty_Middle": 0,
         "Difficulty_Moderate": 0,
         "Difficulty_hard": 1,
         "Bilingual_Bilingual": 1,
         "Bilingual_Monolingual": 0,
         "Gender_Female": 1,
         "Gender_Male": 0,
         "Gender_Other or Don't Want to Specify": 0,
         "Ethnicity_American Indian/Alaska Native": 0,
         "Ethnicity_American Indian/Alaska Native,Native Hawaiian or Other Pacific Islander": 0,
         "Ethnicity_American Indian/Alaska Native,White": 0,
         "Ethnicity_Asian": 0,
         "Ethnicity_Asian,Black or African American": 0,
         "Ethnicity_Asian,Black or African American,Other or Don't Want to Specify": 0,
         "Ethnicity_Asian,Other or Don't Want to Specify": 0,
         "Ethnicity_Asian,White": 0,
         "Ethnicity_Black or African American": 0,
         "Ethnicity_Black or African American,Other or Dont Want to Specify": 0,
         "Ethnicity_Black or African American,White": 0,
         "Ethnicity_Native Hawaiian or Other Pacific Islander": 0,
         "Ethnicity_Native Hawaiian or Other Pacific Islander,Asian": 0,
         "Ethnicity_Native Hawaiian or Other Pacific Islander,Asian,White": 0,
         "Ethnicity_Other or Don't Want to Specify": 0,
         "Ethnicity_Other or Dont Want to Specify": 0,
         "Ethnicity_White": 0,
         "Ethnicity_White,Other or Don't Want to Specify": 1,
         "Ethnicity_White,Other or Dont Want to Specify": 0,
         "HispanicLatino_I D": 0,
         "HispanicLatino_No": 1,
         "HispanicLatino_Yes": 0,
         "_deepnote_index_column": 7
        },
        {
         "Unique": 10,
         "MR_accpre": 0.435,
         "WM_Zpre": -1.033973334,
         "IC_Zreverse_pre": -0.256043175,
         "NT_Zpre": -1.379871802,
         "TCA_Zscore": 16,
         "CFQMALscore": 19,
         "Avg_grit_amb": 3.9125,
         "NEOFFIExtraversion": 3,
         "NEOFFIAgreeableness": 4,
         "NEOFFIConscientiousness": 4.125,
         "NEOFFIEmotionalstability": 3.375,
         "NEOFFIIntellectorOpenness": 2.875,
         "VGQHoursCategorySumPastYear_Z": -0.676,
         "ParentalEducationSum": 3,
         "SelfReportedSESRatingSum": 14,
         "Physicalhealth": 4,
         "Physicalfitness": 3,
         "Psychohealth": 4,
         "Gamified_Gamified": 0,
         "Gamified_Nongamified": 1,
         "Difficulty_Difficult": 0,
         "Difficulty_Middle": 0,
         "Difficulty_Moderate": 0,
         "Difficulty_hard": 1,
         "Bilingual_Bilingual": 1,
         "Bilingual_Monolingual": 0,
         "Gender_Female": 0,
         "Gender_Male": 1,
         "Gender_Other or Don't Want to Specify": 0,
         "Ethnicity_American Indian/Alaska Native": 0,
         "Ethnicity_American Indian/Alaska Native,Native Hawaiian or Other Pacific Islander": 0,
         "Ethnicity_American Indian/Alaska Native,White": 0,
         "Ethnicity_Asian": 0,
         "Ethnicity_Asian,Black or African American": 0,
         "Ethnicity_Asian,Black or African American,Other or Don't Want to Specify": 0,
         "Ethnicity_Asian,Other or Don't Want to Specify": 0,
         "Ethnicity_Asian,White": 0,
         "Ethnicity_Black or African American": 0,
         "Ethnicity_Black or African American,Other or Dont Want to Specify": 0,
         "Ethnicity_Black or African American,White": 0,
         "Ethnicity_Native Hawaiian or Other Pacific Islander": 0,
         "Ethnicity_Native Hawaiian or Other Pacific Islander,Asian": 0,
         "Ethnicity_Native Hawaiian or Other Pacific Islander,Asian,White": 0,
         "Ethnicity_Other or Don't Want to Specify": 1,
         "Ethnicity_Other or Dont Want to Specify": 0,
         "Ethnicity_White": 0,
         "Ethnicity_White,Other or Don't Want to Specify": 0,
         "Ethnicity_White,Other or Dont Want to Specify": 0,
         "HispanicLatino_I D": 0,
         "HispanicLatino_No": 0,
         "HispanicLatino_Yes": 1,
         "_deepnote_index_column": 9
        },
        {
         "Unique": 11,
         "MR_accpre": 0.217,
         "WM_Zpre": -1.033973334,
         "IC_Zreverse_pre": 0.212439269,
         "NT_Zpre": 0.38173974,
         "TCA_Zscore": 20,
         "CFQMALscore": 20,
         "Avg_grit_amb": 4.0625,
         "NEOFFIExtraversion": 3.375,
         "NEOFFIAgreeableness": 4.5,
         "NEOFFIConscientiousness": 4.75,
         "NEOFFIEmotionalstability": 2.375,
         "NEOFFIIntellectorOpenness": 4.25,
         "VGQHoursCategorySumPastYear_Z": -1.007,
         "ParentalEducationSum": 4,
         "SelfReportedSESRatingSum": 10,
         "Physicalhealth": 3,
         "Physicalfitness": 3,
         "Psychohealth": 4,
         "Gamified_Gamified": 0,
         "Gamified_Nongamified": 1,
         "Difficulty_Difficult": 0,
         "Difficulty_Middle": 0,
         "Difficulty_Moderate": 0,
         "Difficulty_hard": 1,
         "Bilingual_Bilingual": 1,
         "Bilingual_Monolingual": 0,
         "Gender_Female": 1,
         "Gender_Male": 0,
         "Gender_Other or Don't Want to Specify": 0,
         "Ethnicity_American Indian/Alaska Native": 0,
         "Ethnicity_American Indian/Alaska Native,Native Hawaiian or Other Pacific Islander": 0,
         "Ethnicity_American Indian/Alaska Native,White": 0,
         "Ethnicity_Asian": 1,
         "Ethnicity_Asian,Black or African American": 0,
         "Ethnicity_Asian,Black or African American,Other or Don't Want to Specify": 0,
         "Ethnicity_Asian,Other or Don't Want to Specify": 0,
         "Ethnicity_Asian,White": 0,
         "Ethnicity_Black or African American": 0,
         "Ethnicity_Black or African American,Other or Dont Want to Specify": 0,
         "Ethnicity_Black or African American,White": 0,
         "Ethnicity_Native Hawaiian or Other Pacific Islander": 0,
         "Ethnicity_Native Hawaiian or Other Pacific Islander,Asian": 0,
         "Ethnicity_Native Hawaiian or Other Pacific Islander,Asian,White": 0,
         "Ethnicity_Other or Don't Want to Specify": 0,
         "Ethnicity_Other or Dont Want to Specify": 0,
         "Ethnicity_White": 0,
         "Ethnicity_White,Other or Don't Want to Specify": 0,
         "Ethnicity_White,Other or Dont Want to Specify": 0,
         "HispanicLatino_I D": 0,
         "HispanicLatino_No": 1,
         "HispanicLatino_Yes": 0,
         "_deepnote_index_column": 10
        },
        {
         "Unique": 13,
         "MR_accpre": 0.522,
         "WM_Zpre": 0.826439905,
         "IC_Zreverse_pre": 0.359009675,
         "NT_Zpre": 0.158830703,
         "TCA_Zscore": 15,
         "CFQMALscore": 24,
         "Avg_grit_amb": 3.7875,
         "NEOFFIExtraversion": 3.125,
         "NEOFFIAgreeableness": 4.375,
         "NEOFFIConscientiousness": 4.125,
         "NEOFFIEmotionalstability": 4.5,
         "NEOFFIIntellectorOpenness": 3.75,
         "VGQHoursCategorySumPastYear_Z": -1.007,
         "ParentalEducationSum": 4,
         "SelfReportedSESRatingSum": 13,
         "Physicalhealth": 3,
         "Physicalfitness": 2,
         "Psychohealth": 2,
         "Gamified_Gamified": 0,
         "Gamified_Nongamified": 1,
         "Difficulty_Difficult": 0,
         "Difficulty_Middle": 0,
         "Difficulty_Moderate": 0,
         "Difficulty_hard": 1,
         "Bilingual_Bilingual": 0,
         "Bilingual_Monolingual": 1,
         "Gender_Female": 0,
         "Gender_Male": 0,
         "Gender_Other or Don't Want to Specify": 1,
         "Ethnicity_American Indian/Alaska Native": 0,
         "Ethnicity_American Indian/Alaska Native,Native Hawaiian or Other Pacific Islander": 0,
         "Ethnicity_American Indian/Alaska Native,White": 0,
         "Ethnicity_Asian": 1,
         "Ethnicity_Asian,Black or African American": 0,
         "Ethnicity_Asian,Black or African American,Other or Don't Want to Specify": 0,
         "Ethnicity_Asian,Other or Don't Want to Specify": 0,
         "Ethnicity_Asian,White": 0,
         "Ethnicity_Black or African American": 0,
         "Ethnicity_Black or African American,Other or Dont Want to Specify": 0,
         "Ethnicity_Black or African American,White": 0,
         "Ethnicity_Native Hawaiian or Other Pacific Islander": 0,
         "Ethnicity_Native Hawaiian or Other Pacific Islander,Asian": 0,
         "Ethnicity_Native Hawaiian or Other Pacific Islander,Asian,White": 0,
         "Ethnicity_Other or Don't Want to Specify": 0,
         "Ethnicity_Other or Dont Want to Specify": 0,
         "Ethnicity_White": 0,
         "Ethnicity_White,Other or Don't Want to Specify": 0,
         "Ethnicity_White,Other or Dont Want to Specify": 0,
         "HispanicLatino_I D": 0,
         "HispanicLatino_No": 1,
         "HispanicLatino_Yes": 0,
         "_deepnote_index_column": 12
        },
        {
         "Unique": 14,
         "MR_accpre": 0.739,
         "WM_Zpre": 0.625164944,
         "IC_Zreverse_pre": -0.006737772,
         "NT_Zpre": 0.73229548,
         "TCA_Zscore": 16,
         "CFQMALscore": 31,
         "Avg_grit_amb": 3.675,
         "NEOFFIExtraversion": 3.625,
         "NEOFFIAgreeableness": 4.5,
         "NEOFFIConscientiousness": 3.375,
         "NEOFFIEmotionalstability": 2.75,
         "NEOFFIIntellectorOpenness": 3.25,
         "VGQHoursCategorySumPastYear_Z": 1.746,
         "ParentalEducationSum": 4,
         "SelfReportedSESRatingSum": 10,
         "Physicalhealth": 3,
         "Physicalfitness": 3,
         "Psychohealth": 4,
         "Gamified_Gamified": 1,
         "Gamified_Nongamified": 0,
         "Difficulty_Difficult": 0,
         "Difficulty_Middle": 0,
         "Difficulty_Moderate": 1,
         "Difficulty_hard": 0,
         "Bilingual_Bilingual": 1,
         "Bilingual_Monolingual": 0,
         "Gender_Female": 1,
         "Gender_Male": 0,
         "Gender_Other or Don't Want to Specify": 0,
         "Ethnicity_American Indian/Alaska Native": 0,
         "Ethnicity_American Indian/Alaska Native,Native Hawaiian or Other Pacific Islander": 0,
         "Ethnicity_American Indian/Alaska Native,White": 0,
         "Ethnicity_Asian": 0,
         "Ethnicity_Asian,Black or African American": 0,
         "Ethnicity_Asian,Black or African American,Other or Don't Want to Specify": 0,
         "Ethnicity_Asian,Other or Don't Want to Specify": 0,
         "Ethnicity_Asian,White": 1,
         "Ethnicity_Black or African American": 0,
         "Ethnicity_Black or African American,Other or Dont Want to Specify": 0,
         "Ethnicity_Black or African American,White": 0,
         "Ethnicity_Native Hawaiian or Other Pacific Islander": 0,
         "Ethnicity_Native Hawaiian or Other Pacific Islander,Asian": 0,
         "Ethnicity_Native Hawaiian or Other Pacific Islander,Asian,White": 0,
         "Ethnicity_Other or Don't Want to Specify": 0,
         "Ethnicity_Other or Dont Want to Specify": 0,
         "Ethnicity_White": 0,
         "Ethnicity_White,Other or Don't Want to Specify": 0,
         "Ethnicity_White,Other or Dont Want to Specify": 0,
         "HispanicLatino_I D": 0,
         "HispanicLatino_No": 1,
         "HispanicLatino_Yes": 0,
         "_deepnote_index_column": 13
        }
       ]
      },
      "text/plain": "     Unique  MR_accpre   WM_Zpre  IC_Zreverse_pre   NT_Zpre  TCA_Zscore  \\\n0         1      0.348  0.210380        -2.517163  0.080728       15.00   \n1         2      0.652  0.568729         0.542494  0.308363       20.00   \n2         3      0.565 -1.807106        -0.236908  0.581092       24.00   \n4         5      0.565 -0.047331         1.309682 -0.522600       17.00   \n6         7      0.739 -0.047331         0.219768  0.107500       26.00   \n..      ...        ...       ...              ...       ...         ...   \n943     944      0.738  0.311018        -0.668042  0.371453        8.00   \n944     945      0.786 -0.776262        -0.289754 -0.859937       23.00   \n945     946      0.571 -0.619189        -2.670383 -1.073131       26.00   \n946     947      0.690  0.983513         0.390509  0.534357        1.42   \n947     948      0.881  0.983513         0.159240  0.893953       30.00   \n\n     CFQMALscore  Avg_grit_amb  NEOFFIExtraversion  NEOFFIAgreeableness  ...  \\\n0           17.0        4.2750               4.125                4.625  ...   \n1           34.0        3.1750               1.875                3.375  ...   \n2           23.0        4.1375               3.000                4.875  ...   \n4           21.0        3.4125               3.250                3.625  ...   \n6           24.0        3.8500               2.500                4.375  ...   \n..           ...           ...                 ...                  ...  ...   \n943         22.0        3.0625               4.500                3.000  ...   \n944         17.0        4.1250               4.000                4.125  ...   \n945         32.0        3.5875               3.125                4.250  ...   \n946         24.0        4.1875               3.375                3.750  ...   \n947         21.0        4.0000               4.250                4.375  ...   \n\n     Ethnicity_Native Hawaiian or Other Pacific Islander,Asian  \\\n0                                                  0.0           \n1                                                  0.0           \n2                                                  0.0           \n4                                                  0.0           \n6                                                  0.0           \n..                                                 ...           \n943                                                0.0           \n944                                                0.0           \n945                                                0.0           \n946                                                0.0           \n947                                                0.0           \n\n     Ethnicity_Native Hawaiian or Other Pacific Islander,Asian,White  \\\n0                                                  0.0                 \n1                                                  0.0                 \n2                                                  0.0                 \n4                                                  0.0                 \n6                                                  0.0                 \n..                                                 ...                 \n943                                                0.0                 \n944                                                0.0                 \n945                                                0.0                 \n946                                                0.0                 \n947                                                0.0                 \n\n     Ethnicity_Other or Don't Want to Specify  \\\n0                                         0.0   \n1                                         0.0   \n2                                         0.0   \n4                                         0.0   \n6                                         0.0   \n..                                        ...   \n943                                       0.0   \n944                                       1.0   \n945                                       1.0   \n946                                       0.0   \n947                                       0.0   \n\n     Ethnicity_Other or Dont Want to Specify  Ethnicity_White  \\\n0                                        0.0              0.0   \n1                                        0.0              0.0   \n2                                        0.0              0.0   \n4                                        0.0              0.0   \n6                                        0.0              1.0   \n..                                       ...              ...   \n943                                      0.0              1.0   \n944                                      0.0              0.0   \n945                                      0.0              0.0   \n946                                      0.0              0.0   \n947                                      0.0              0.0   \n\n     Ethnicity_White,Other or Don't Want to Specify  \\\n0                                               0.0   \n1                                               0.0   \n2                                               0.0   \n4                                               0.0   \n6                                               0.0   \n..                                              ...   \n943                                             0.0   \n944                                             0.0   \n945                                             0.0   \n946                                             0.0   \n947                                             0.0   \n\n     Ethnicity_White,Other or Dont Want to Specify  HispanicLatino_I D  \\\n0                                              0.0                 0.0   \n1                                              0.0                 0.0   \n2                                              0.0                 0.0   \n4                                              0.0                 0.0   \n6                                              0.0                 0.0   \n..                                             ...                 ...   \n943                                            0.0                 0.0   \n944                                            0.0                 0.0   \n945                                            0.0                 0.0   \n946                                            0.0                 0.0   \n947                                            0.0                 0.0   \n\n     HispanicLatino_No  HispanicLatino_Yes  \n0                  1.0                 0.0  \n1                  1.0                 0.0  \n2                  1.0                 0.0  \n4                  1.0                 0.0  \n6                  0.0                 1.0  \n..                 ...                 ...  \n943                1.0                 0.0  \n944                0.0                 1.0  \n945                0.0                 1.0  \n946                1.0                 0.0  \n947                0.0                 1.0  \n\n[527 rows x 52 columns]",
      "text/html": "<div>\n<style scoped>\n    .dataframe tbody tr th:only-of-type {\n        vertical-align: middle;\n    }\n\n    .dataframe tbody tr th {\n        vertical-align: top;\n    }\n\n    .dataframe thead th {\n        text-align: right;\n    }\n</style>\n<table border=\"1\" class=\"dataframe\">\n  <thead>\n    <tr style=\"text-align: right;\">\n      <th></th>\n      <th>Unique</th>\n      <th>MR_accpre</th>\n      <th>WM_Zpre</th>\n      <th>IC_Zreverse_pre</th>\n      <th>NT_Zpre</th>\n      <th>TCA_Zscore</th>\n      <th>CFQMALscore</th>\n      <th>Avg_grit_amb</th>\n      <th>NEOFFIExtraversion</th>\n      <th>NEOFFIAgreeableness</th>\n      <th>...</th>\n      <th>Ethnicity_Native Hawaiian or Other Pacific Islander,Asian</th>\n      <th>Ethnicity_Native Hawaiian or Other Pacific Islander,Asian,White</th>\n      <th>Ethnicity_Other or Don't Want to Specify</th>\n      <th>Ethnicity_Other or Dont Want to Specify</th>\n      <th>Ethnicity_White</th>\n      <th>Ethnicity_White,Other or Don't Want to Specify</th>\n      <th>Ethnicity_White,Other or Dont Want to Specify</th>\n      <th>HispanicLatino_I D</th>\n      <th>HispanicLatino_No</th>\n      <th>HispanicLatino_Yes</th>\n    </tr>\n  </thead>\n  <tbody>\n    <tr>\n      <th>0</th>\n      <td>1</td>\n      <td>0.348</td>\n      <td>0.210380</td>\n      <td>-2.517163</td>\n      <td>0.080728</td>\n      <td>15.00</td>\n      <td>17.0</td>\n      <td>4.2750</td>\n      <td>4.125</td>\n      <td>4.625</td>\n      <td>...</td>\n      <td>0.0</td>\n      <td>0.0</td>\n      <td>0.0</td>\n      <td>0.0</td>\n      <td>0.0</td>\n      <td>0.0</td>\n      <td>0.0</td>\n      <td>0.0</td>\n      <td>1.0</td>\n      <td>0.0</td>\n    </tr>\n    <tr>\n      <th>1</th>\n      <td>2</td>\n      <td>0.652</td>\n      <td>0.568729</td>\n      <td>0.542494</td>\n      <td>0.308363</td>\n      <td>20.00</td>\n      <td>34.0</td>\n      <td>3.1750</td>\n      <td>1.875</td>\n      <td>3.375</td>\n      <td>...</td>\n      <td>0.0</td>\n      <td>0.0</td>\n      <td>0.0</td>\n      <td>0.0</td>\n      <td>0.0</td>\n      <td>0.0</td>\n      <td>0.0</td>\n      <td>0.0</td>\n      <td>1.0</td>\n      <td>0.0</td>\n    </tr>\n    <tr>\n      <th>2</th>\n      <td>3</td>\n      <td>0.565</td>\n      <td>-1.807106</td>\n      <td>-0.236908</td>\n      <td>0.581092</td>\n      <td>24.00</td>\n      <td>23.0</td>\n      <td>4.1375</td>\n      <td>3.000</td>\n      <td>4.875</td>\n      <td>...</td>\n      <td>0.0</td>\n      <td>0.0</td>\n      <td>0.0</td>\n      <td>0.0</td>\n      <td>0.0</td>\n      <td>0.0</td>\n      <td>0.0</td>\n      <td>0.0</td>\n      <td>1.0</td>\n      <td>0.0</td>\n    </tr>\n    <tr>\n      <th>4</th>\n      <td>5</td>\n      <td>0.565</td>\n      <td>-0.047331</td>\n      <td>1.309682</td>\n      <td>-0.522600</td>\n      <td>17.00</td>\n      <td>21.0</td>\n      <td>3.4125</td>\n      <td>3.250</td>\n      <td>3.625</td>\n      <td>...</td>\n      <td>0.0</td>\n      <td>0.0</td>\n      <td>0.0</td>\n      <td>0.0</td>\n      <td>0.0</td>\n      <td>0.0</td>\n      <td>0.0</td>\n      <td>0.0</td>\n      <td>1.0</td>\n      <td>0.0</td>\n    </tr>\n    <tr>\n      <th>6</th>\n      <td>7</td>\n      <td>0.739</td>\n      <td>-0.047331</td>\n      <td>0.219768</td>\n      <td>0.107500</td>\n      <td>26.00</td>\n      <td>24.0</td>\n      <td>3.8500</td>\n      <td>2.500</td>\n      <td>4.375</td>\n      <td>...</td>\n      <td>0.0</td>\n      <td>0.0</td>\n      <td>0.0</td>\n      <td>0.0</td>\n      <td>1.0</td>\n      <td>0.0</td>\n      <td>0.0</td>\n      <td>0.0</td>\n      <td>0.0</td>\n      <td>1.0</td>\n    </tr>\n    <tr>\n      <th>...</th>\n      <td>...</td>\n      <td>...</td>\n      <td>...</td>\n      <td>...</td>\n      <td>...</td>\n      <td>...</td>\n      <td>...</td>\n      <td>...</td>\n      <td>...</td>\n      <td>...</td>\n      <td>...</td>\n      <td>...</td>\n      <td>...</td>\n      <td>...</td>\n      <td>...</td>\n      <td>...</td>\n      <td>...</td>\n      <td>...</td>\n      <td>...</td>\n      <td>...</td>\n      <td>...</td>\n    </tr>\n    <tr>\n      <th>943</th>\n      <td>944</td>\n      <td>0.738</td>\n      <td>0.311018</td>\n      <td>-0.668042</td>\n      <td>0.371453</td>\n      <td>8.00</td>\n      <td>22.0</td>\n      <td>3.0625</td>\n      <td>4.500</td>\n      <td>3.000</td>\n      <td>...</td>\n      <td>0.0</td>\n      <td>0.0</td>\n      <td>0.0</td>\n      <td>0.0</td>\n      <td>1.0</td>\n      <td>0.0</td>\n      <td>0.0</td>\n      <td>0.0</td>\n      <td>1.0</td>\n      <td>0.0</td>\n    </tr>\n    <tr>\n      <th>944</th>\n      <td>945</td>\n      <td>0.786</td>\n      <td>-0.776262</td>\n      <td>-0.289754</td>\n      <td>-0.859937</td>\n      <td>23.00</td>\n      <td>17.0</td>\n      <td>4.1250</td>\n      <td>4.000</td>\n      <td>4.125</td>\n      <td>...</td>\n      <td>0.0</td>\n      <td>0.0</td>\n      <td>1.0</td>\n      <td>0.0</td>\n      <td>0.0</td>\n      <td>0.0</td>\n      <td>0.0</td>\n      <td>0.0</td>\n      <td>0.0</td>\n      <td>1.0</td>\n    </tr>\n    <tr>\n      <th>945</th>\n      <td>946</td>\n      <td>0.571</td>\n      <td>-0.619189</td>\n      <td>-2.670383</td>\n      <td>-1.073131</td>\n      <td>26.00</td>\n      <td>32.0</td>\n      <td>3.5875</td>\n      <td>3.125</td>\n      <td>4.250</td>\n      <td>...</td>\n      <td>0.0</td>\n      <td>0.0</td>\n      <td>1.0</td>\n      <td>0.0</td>\n      <td>0.0</td>\n      <td>0.0</td>\n      <td>0.0</td>\n      <td>0.0</td>\n      <td>0.0</td>\n      <td>1.0</td>\n    </tr>\n    <tr>\n      <th>946</th>\n      <td>947</td>\n      <td>0.690</td>\n      <td>0.983513</td>\n      <td>0.390509</td>\n      <td>0.534357</td>\n      <td>1.42</td>\n      <td>24.0</td>\n      <td>4.1875</td>\n      <td>3.375</td>\n      <td>3.750</td>\n      <td>...</td>\n      <td>0.0</td>\n      <td>0.0</td>\n      <td>0.0</td>\n      <td>0.0</td>\n      <td>0.0</td>\n      <td>0.0</td>\n      <td>0.0</td>\n      <td>0.0</td>\n      <td>1.0</td>\n      <td>0.0</td>\n    </tr>\n    <tr>\n      <th>947</th>\n      <td>948</td>\n      <td>0.881</td>\n      <td>0.983513</td>\n      <td>0.159240</td>\n      <td>0.893953</td>\n      <td>30.00</td>\n      <td>21.0</td>\n      <td>4.0000</td>\n      <td>4.250</td>\n      <td>4.375</td>\n      <td>...</td>\n      <td>0.0</td>\n      <td>0.0</td>\n      <td>0.0</td>\n      <td>0.0</td>\n      <td>0.0</td>\n      <td>0.0</td>\n      <td>0.0</td>\n      <td>0.0</td>\n      <td>0.0</td>\n      <td>1.0</td>\n    </tr>\n  </tbody>\n</table>\n<p>527 rows × 52 columns</p>\n</div>"
     },
     "metadata": {}
    }
   ],
   "execution_count": 8
  },
  {
   "cell_type": "code",
   "source": "int_test.data",
   "metadata": {
    "cell_id": "a69def289d1d42de80105f43cd0ec67a",
    "tags": [],
    "deepnote_to_be_reexecuted": false,
    "source_hash": "c74b26ea",
    "execution_start": 1648340286557,
    "execution_millis": 219,
    "deepnote_cell_type": "code",
    "deepnote_cell_height": 597.890625
   },
   "outputs": [
    {
     "output_type": "execute_result",
     "execution_count": 9,
     "data": {
      "application/vnd.deepnote.dataframe.v3+json": {
       "column_count": 21,
       "row_count": 503,
       "columns": [
        {
         "name": "Unique",
         "dtype": "int64",
         "stats": {
          "unique_count": 503,
          "nan_count": 0,
          "min": "1",
          "max": "938",
          "histogram": [
           {
            "bin_start": 1,
            "bin_end": 94.7,
            "count": 57
           },
           {
            "bin_start": 94.7,
            "bin_end": 188.4,
            "count": 73
           },
           {
            "bin_start": 188.4,
            "bin_end": 282.1,
            "count": 5
           },
           {
            "bin_start": 282.1,
            "bin_end": 375.8,
            "count": 16
           },
           {
            "bin_start": 375.8,
            "bin_end": 469.5,
            "count": 28
           },
           {
            "bin_start": 469.5,
            "bin_end": 563.2,
            "count": 42
           },
           {
            "bin_start": 563.2,
            "bin_end": 656.9,
            "count": 39
           },
           {
            "bin_start": 656.9,
            "bin_end": 750.6,
            "count": 77
           },
           {
            "bin_start": 750.6,
            "bin_end": 844.3000000000001,
            "count": 87
           },
           {
            "bin_start": 844.3000000000001,
            "bin_end": 938,
            "count": 79
           }
          ]
         }
        },
        {
         "name": "mean_1",
         "dtype": "float64",
         "stats": {
          "unique_count": 268,
          "nan_count": 0,
          "min": "1.125",
          "max": "6.429",
          "histogram": [
           {
            "bin_start": 1.125,
            "bin_end": 1.6554,
            "count": 11
           },
           {
            "bin_start": 1.6554,
            "bin_end": 2.1858,
            "count": 165
           },
           {
            "bin_start": 2.1858,
            "bin_end": 2.7161999999999997,
            "count": 177
           },
           {
            "bin_start": 2.7161999999999997,
            "bin_end": 3.2466,
            "count": 110
           },
           {
            "bin_start": 3.2466,
            "bin_end": 3.777,
            "count": 18
           },
           {
            "bin_start": 3.777,
            "bin_end": 4.3073999999999995,
            "count": 10
           },
           {
            "bin_start": 4.3073999999999995,
            "bin_end": 4.8378,
            "count": 6
           },
           {
            "bin_start": 4.8378,
            "bin_end": 5.3682,
            "count": 3
           },
           {
            "bin_start": 5.3682,
            "bin_end": 5.8986,
            "count": 1
           },
           {
            "bin_start": 5.8986,
            "bin_end": 6.429,
            "count": 2
           }
          ]
         }
        },
        {
         "name": "mean_2",
         "dtype": "float64",
         "stats": {
          "unique_count": 302,
          "nan_count": 0,
          "min": "1.592",
          "max": "8.0",
          "histogram": [
           {
            "bin_start": 1.592,
            "bin_end": 2.2328,
            "count": 69
           },
           {
            "bin_start": 2.2328,
            "bin_end": 2.8735999999999997,
            "count": 169
           },
           {
            "bin_start": 2.8735999999999997,
            "bin_end": 3.5143999999999997,
            "count": 154
           },
           {
            "bin_start": 3.5143999999999997,
            "bin_end": 4.1552,
            "count": 68
           },
           {
            "bin_start": 4.1552,
            "bin_end": 4.795999999999999,
            "count": 22
           },
           {
            "bin_start": 4.795999999999999,
            "bin_end": 5.4368,
            "count": 9
           },
           {
            "bin_start": 5.4368,
            "bin_end": 6.0776,
            "count": 6
           },
           {
            "bin_start": 6.0776,
            "bin_end": 6.718399999999999,
            "count": 2
           },
           {
            "bin_start": 6.718399999999999,
            "bin_end": 7.3591999999999995,
            "count": 3
           },
           {
            "bin_start": 7.3591999999999995,
            "bin_end": 8,
            "count": 1
           }
          ]
         }
        },
        {
         "name": "mean_3",
         "dtype": "float64",
         "stats": {
          "unique_count": 303,
          "nan_count": 0,
          "min": "1.909",
          "max": "9.167",
          "histogram": [
           {
            "bin_start": 1.909,
            "bin_end": 2.6348000000000003,
            "count": 137
           },
           {
            "bin_start": 2.6348000000000003,
            "bin_end": 3.3606,
            "count": 184
           },
           {
            "bin_start": 3.3606,
            "bin_end": 4.0864,
            "count": 107
           },
           {
            "bin_start": 4.0864,
            "bin_end": 4.8122,
            "count": 24
           },
           {
            "bin_start": 4.8122,
            "bin_end": 5.538,
            "count": 30
           },
           {
            "bin_start": 5.538,
            "bin_end": 6.2638,
            "count": 12
           },
           {
            "bin_start": 6.2638,
            "bin_end": 6.9896,
            "count": 3
           },
           {
            "bin_start": 6.9896,
            "bin_end": 7.7154,
            "count": 3
           },
           {
            "bin_start": 7.7154,
            "bin_end": 8.4412,
            "count": 2
           },
           {
            "bin_start": 8.4412,
            "bin_end": 9.167,
            "count": 1
           }
          ]
         }
        },
        {
         "name": "mean_4",
         "dtype": "float64",
         "stats": {
          "unique_count": 315,
          "nan_count": 0,
          "min": "2.0",
          "max": "9.41",
          "histogram": [
           {
            "bin_start": 2,
            "bin_end": 2.741,
            "count": 138
           },
           {
            "bin_start": 2.741,
            "bin_end": 3.482,
            "count": 154
           },
           {
            "bin_start": 3.482,
            "bin_end": 4.223,
            "count": 111
           },
           {
            "bin_start": 4.223,
            "bin_end": 4.964,
            "count": 48
           },
           {
            "bin_start": 4.964,
            "bin_end": 5.705,
            "count": 22
           },
           {
            "bin_start": 5.705,
            "bin_end": 6.446,
            "count": 17
           },
           {
            "bin_start": 6.446,
            "bin_end": 7.187,
            "count": 8
           },
           {
            "bin_start": 7.187,
            "bin_end": 7.928,
            "count": 2
           },
           {
            "bin_start": 7.928,
            "bin_end": 8.669,
            "count": 1
           },
           {
            "bin_start": 8.669,
            "bin_end": 9.41,
            "count": 2
           }
          ]
         }
        },
        {
         "name": "mean_5",
         "dtype": "float64",
         "stats": {
          "unique_count": 310,
          "nan_count": 0,
          "min": "2.0",
          "max": "10.0",
          "histogram": [
           {
            "bin_start": 2,
            "bin_end": 2.8,
            "count": 136
           },
           {
            "bin_start": 2.8,
            "bin_end": 3.6,
            "count": 139
           },
           {
            "bin_start": 3.6,
            "bin_end": 4.4,
            "count": 123
           },
           {
            "bin_start": 4.4,
            "bin_end": 5.2,
            "count": 45
           },
           {
            "bin_start": 5.2,
            "bin_end": 6,
            "count": 24
           },
           {
            "bin_start": 6,
            "bin_end": 6.800000000000001,
            "count": 20
           },
           {
            "bin_start": 6.800000000000001,
            "bin_end": 7.6000000000000005,
            "count": 10
           },
           {
            "bin_start": 7.6000000000000005,
            "bin_end": 8.4,
            "count": 3
           },
           {
            "bin_start": 8.4,
            "bin_end": 9.2,
            "count": 1
           },
           {
            "bin_start": 9.2,
            "bin_end": 10,
            "count": 2
           }
          ]
         }
        },
        {
         "name": "mean_6",
         "dtype": "float64",
         "stats": {
          "unique_count": 316,
          "nan_count": 0,
          "min": "2.0",
          "max": "10.231",
          "histogram": [
           {
            "bin_start": 2,
            "bin_end": 2.8231,
            "count": 122
           },
           {
            "bin_start": 2.8231,
            "bin_end": 3.6462,
            "count": 147
           },
           {
            "bin_start": 3.6462,
            "bin_end": 4.4693,
            "count": 113
           },
           {
            "bin_start": 4.4693,
            "bin_end": 5.2924,
            "count": 59
           },
           {
            "bin_start": 5.2924,
            "bin_end": 6.1155,
            "count": 32
           },
           {
            "bin_start": 6.1155,
            "bin_end": 6.938599999999999,
            "count": 11
           },
           {
            "bin_start": 6.938599999999999,
            "bin_end": 7.761699999999999,
            "count": 12
           },
           {
            "bin_start": 7.761699999999999,
            "bin_end": 8.5848,
            "count": 4
           },
           {
            "bin_start": 8.5848,
            "bin_end": 9.4079,
            "count": 0
           },
           {
            "bin_start": 9.4079,
            "bin_end": 10.231,
            "count": 3
           }
          ]
         }
        },
        {
         "name": "mean_7",
         "dtype": "float64",
         "stats": {
          "unique_count": 324,
          "nan_count": 0,
          "min": "2.0",
          "max": "11.0",
          "histogram": [
           {
            "bin_start": 2,
            "bin_end": 2.9,
            "count": 126
           },
           {
            "bin_start": 2.9,
            "bin_end": 3.8,
            "count": 153
           },
           {
            "bin_start": 3.8,
            "bin_end": 4.7,
            "count": 114
           },
           {
            "bin_start": 4.7,
            "bin_end": 5.6,
            "count": 52
           },
           {
            "bin_start": 5.6,
            "bin_end": 6.5,
            "count": 29
           },
           {
            "bin_start": 6.5,
            "bin_end": 7.4,
            "count": 14
           },
           {
            "bin_start": 7.4,
            "bin_end": 8.3,
            "count": 12
           },
           {
            "bin_start": 8.3,
            "bin_end": 9.2,
            "count": 1
           },
           {
            "bin_start": 9.2,
            "bin_end": 10.1,
            "count": 0
           },
           {
            "bin_start": 10.1,
            "bin_end": 11,
            "count": 2
           }
          ]
         }
        },
        {
         "name": "mean_8",
         "dtype": "float64",
         "stats": {
          "unique_count": 326,
          "nan_count": 0,
          "min": "2.0",
          "max": "11.25",
          "histogram": [
           {
            "bin_start": 2,
            "bin_end": 2.925,
            "count": 138
           },
           {
            "bin_start": 2.925,
            "bin_end": 3.85,
            "count": 121
           },
           {
            "bin_start": 3.85,
            "bin_end": 4.775,
            "count": 120
           },
           {
            "bin_start": 4.775,
            "bin_end": 5.7,
            "count": 66
           },
           {
            "bin_start": 5.7,
            "bin_end": 6.625,
            "count": 24
           },
           {
            "bin_start": 6.625,
            "bin_end": 7.550000000000001,
            "count": 14
           },
           {
            "bin_start": 7.550000000000001,
            "bin_end": 8.475000000000001,
            "count": 12
           },
           {
            "bin_start": 8.475000000000001,
            "bin_end": 9.4,
            "count": 6
           },
           {
            "bin_start": 9.4,
            "bin_end": 10.325000000000001,
            "count": 0
           },
           {
            "bin_start": 10.325000000000001,
            "bin_end": 11.25,
            "count": 2
           }
          ]
         }
        },
        {
         "name": "mean_9",
         "dtype": "float64",
         "stats": {
          "unique_count": 325,
          "nan_count": 0,
          "min": "2.0",
          "max": "9.385",
          "histogram": [
           {
            "bin_start": 2,
            "bin_end": 2.7385,
            "count": 112
           },
           {
            "bin_start": 2.7385,
            "bin_end": 3.477,
            "count": 118
           },
           {
            "bin_start": 3.477,
            "bin_end": 4.2155,
            "count": 75
           },
           {
            "bin_start": 4.2155,
            "bin_end": 4.954,
            "count": 71
           },
           {
            "bin_start": 4.954,
            "bin_end": 5.6925,
            "count": 70
           },
           {
            "bin_start": 5.6925,
            "bin_end": 6.430999999999999,
            "count": 19
           },
           {
            "bin_start": 6.430999999999999,
            "bin_end": 7.169499999999999,
            "count": 15
           },
           {
            "bin_start": 7.169499999999999,
            "bin_end": 7.9079999999999995,
            "count": 10
           },
           {
            "bin_start": 7.9079999999999995,
            "bin_end": 8.6465,
            "count": 10
           },
           {
            "bin_start": 8.6465,
            "bin_end": 9.385,
            "count": 3
           }
          ]
         }
        },
        {
         "name": "mean_10",
         "dtype": "float64",
         "stats": {
          "unique_count": 321,
          "nan_count": 0,
          "min": "1.722",
          "max": "11.083",
          "histogram": [
           {
            "bin_start": 1.722,
            "bin_end": 2.6581,
            "count": 107
           },
           {
            "bin_start": 2.6581,
            "bin_end": 3.5942,
            "count": 127
           },
           {
            "bin_start": 3.5942,
            "bin_end": 4.5303,
            "count": 110
           },
           {
            "bin_start": 4.5303,
            "bin_end": 5.4664,
            "count": 79
           },
           {
            "bin_start": 5.4664,
            "bin_end": 6.4025,
            "count": 38
           },
           {
            "bin_start": 6.4025,
            "bin_end": 7.3386,
            "count": 19
           },
           {
            "bin_start": 7.3386,
            "bin_end": 8.274700000000001,
            "count": 12
           },
           {
            "bin_start": 8.274700000000001,
            "bin_end": 9.2108,
            "count": 5
           },
           {
            "bin_start": 9.2108,
            "bin_end": 10.1469,
            "count": 3
           },
           {
            "bin_start": 10.1469,
            "bin_end": 11.083,
            "count": 3
           }
          ]
         }
        },
        {
         "name": "max",
         "dtype": "float64",
         "stats": {
          "unique_count": 338,
          "nan_count": 0,
          "min": "2.05",
          "max": "11.25",
          "histogram": [
           {
            "bin_start": 2.05,
            "bin_end": 2.9699999999999998,
            "count": 68
           },
           {
            "bin_start": 2.9699999999999998,
            "bin_end": 3.8899999999999997,
            "count": 131
           },
           {
            "bin_start": 3.8899999999999997,
            "bin_end": 4.81,
            "count": 117
           },
           {
            "bin_start": 4.81,
            "bin_end": 5.7299999999999995,
            "count": 87
           },
           {
            "bin_start": 5.7299999999999995,
            "bin_end": 6.6499999999999995,
            "count": 45
           },
           {
            "bin_start": 6.6499999999999995,
            "bin_end": 7.569999999999999,
            "count": 17
           },
           {
            "bin_start": 7.569999999999999,
            "bin_end": 8.489999999999998,
            "count": 22
           },
           {
            "bin_start": 8.489999999999998,
            "bin_end": 9.41,
            "count": 9
           },
           {
            "bin_start": 9.41,
            "bin_end": 10.329999999999998,
            "count": 2
           },
           {
            "bin_start": 10.329999999999998,
            "bin_end": 11.25,
            "count": 5
           }
          ]
         }
        },
        {
         "name": "std",
         "dtype": "float64",
         "stats": {
          "unique_count": 439,
          "nan_count": 0,
          "min": "0.015811388300841844",
          "max": "2.663558123596663",
          "histogram": [
           {
            "bin_start": 0.015811388300841844,
            "bin_end": 0.28058606183042395,
            "count": 76
           },
           {
            "bin_start": 0.28058606183042395,
            "bin_end": 0.5453607353600061,
            "count": 152
           },
           {
            "bin_start": 0.5453607353600061,
            "bin_end": 0.8101354088895881,
            "count": 134
           },
           {
            "bin_start": 0.8101354088895881,
            "bin_end": 1.0749100824191704,
            "count": 68
           },
           {
            "bin_start": 1.0749100824191704,
            "bin_end": 1.3396847559487526,
            "count": 29
           },
           {
            "bin_start": 1.3396847559487526,
            "bin_end": 1.6044594294783345,
            "count": 22
           },
           {
            "bin_start": 1.6044594294783345,
            "bin_end": 1.8692341030079167,
            "count": 9
           },
           {
            "bin_start": 1.8692341030079167,
            "bin_end": 2.134008776537499,
            "count": 6
           },
           {
            "bin_start": 2.134008776537499,
            "bin_end": 2.398783450067081,
            "count": 4
           },
           {
            "bin_start": 2.398783450067081,
            "bin_end": 2.663558123596663,
            "count": 3
           }
          ]
         }
        },
        {
         "name": "mean",
         "dtype": "float64",
         "stats": {
          "unique_count": 426,
          "nan_count": 0,
          "min": "1.9886000000000004",
          "max": "8.7",
          "histogram": [
           {
            "bin_start": 1.9886000000000004,
            "bin_end": 2.65974,
            "count": 112
           },
           {
            "bin_start": 2.65974,
            "bin_end": 3.3308800000000005,
            "count": 142
           },
           {
            "bin_start": 3.3308800000000005,
            "bin_end": 4.00202,
            "count": 112
           },
           {
            "bin_start": 4.00202,
            "bin_end": 4.67316,
            "count": 59
           },
           {
            "bin_start": 4.67316,
            "bin_end": 5.3443000000000005,
            "count": 35
           },
           {
            "bin_start": 5.3443000000000005,
            "bin_end": 6.01544,
            "count": 21
           },
           {
            "bin_start": 6.01544,
            "bin_end": 6.686579999999999,
            "count": 15
           },
           {
            "bin_start": 6.686579999999999,
            "bin_end": 7.3577200000000005,
            "count": 4
           },
           {
            "bin_start": 7.3577200000000005,
            "bin_end": 8.02886,
            "count": 1
           },
           {
            "bin_start": 8.02886,
            "bin_end": 8.7,
            "count": 2
           }
          ]
         }
        },
        {
         "name": "outlier",
         "dtype": "bool",
         "stats": {
          "unique_count": 1,
          "nan_count": 0,
          "categories": [
           {
            "name": "False",
            "count": 503
           }
          ]
         }
        },
        {
         "name": "knot",
         "dtype": "float64",
         "stats": {
          "unique_count": 8,
          "nan_count": 0,
          "min": "2.0",
          "max": "9.0",
          "histogram": [
           {
            "bin_start": 2,
            "bin_end": 2.7,
            "count": 103
           },
           {
            "bin_start": 2.7,
            "bin_end": 3.4,
            "count": 69
           },
           {
            "bin_start": 3.4,
            "bin_end": 4.1,
            "count": 51
           },
           {
            "bin_start": 4.1,
            "bin_end": 4.8,
            "count": 0
           },
           {
            "bin_start": 4.8,
            "bin_end": 5.5,
            "count": 49
           },
           {
            "bin_start": 5.5,
            "bin_end": 6.199999999999999,
            "count": 72
           },
           {
            "bin_start": 6.199999999999999,
            "bin_end": 6.8999999999999995,
            "count": 0
           },
           {
            "bin_start": 6.8999999999999995,
            "bin_end": 7.6,
            "count": 41
           },
           {
            "bin_start": 7.6,
            "bin_end": 8.3,
            "count": 53
           },
           {
            "bin_start": 8.3,
            "bin_end": 9,
            "count": 65
           }
          ]
         }
        },
        {
         "name": "slope1",
         "dtype": "float64",
         "stats": {
          "unique_count": 493,
          "nan_count": 0,
          "min": "-1.9999999999999947",
          "max": "2.5030769230769234",
          "histogram": [
           {
            "bin_start": -1.9999999999999947,
            "bin_end": -1.5496923076923028,
            "count": 2
           },
           {
            "bin_start": -1.5496923076923028,
            "bin_end": -1.099384615384611,
            "count": 0
           },
           {
            "bin_start": -1.099384615384611,
            "bin_end": -0.6490769230769193,
            "count": 1
           },
           {
            "bin_start": -0.6490769230769193,
            "bin_end": -0.19876923076922748,
            "count": 8
           },
           {
            "bin_start": -0.19876923076922748,
            "bin_end": 0.2515384615384644,
            "count": 183
           },
           {
            "bin_start": 0.2515384615384644,
            "bin_end": 0.701846153846156,
            "count": 209
           },
           {
            "bin_start": 0.701846153846156,
            "bin_end": 1.152153846153848,
            "count": 67
           },
           {
            "bin_start": 1.152153846153848,
            "bin_end": 1.6024615384615397,
            "count": 22
           },
           {
            "bin_start": 1.6024615384615397,
            "bin_end": 2.052769230769232,
            "count": 9
           },
           {
            "bin_start": 2.052769230769232,
            "bin_end": 2.5030769230769234,
            "count": 2
           }
          ]
         }
        },
        {
         "name": "slope2",
         "dtype": "float64",
         "stats": {
          "unique_count": 490,
          "nan_count": 0,
          "min": "-2.8299111111111106",
          "max": "8.412222222222223",
          "histogram": [
           {
            "bin_start": -2.8299111111111106,
            "bin_end": -1.7056977777777773,
            "count": 5
           },
           {
            "bin_start": -1.7056977777777773,
            "bin_end": -0.581484444444444,
            "count": 29
           },
           {
            "bin_start": -0.581484444444444,
            "bin_end": 0.542728888888889,
            "count": 438
           },
           {
            "bin_start": 0.542728888888889,
            "bin_end": 1.6669422222222225,
            "count": 27
           },
           {
            "bin_start": 1.6669422222222225,
            "bin_end": 2.791155555555556,
            "count": 3
           },
           {
            "bin_start": 2.791155555555556,
            "bin_end": 3.9153688888888887,
            "count": 0
           },
           {
            "bin_start": 3.9153688888888887,
            "bin_end": 5.039582222222222,
            "count": 0
           },
           {
            "bin_start": 5.039582222222222,
            "bin_end": 6.163795555555556,
            "count": 0
           },
           {
            "bin_start": 6.163795555555556,
            "bin_end": 7.288008888888889,
            "count": 0
           },
           {
            "bin_start": 7.288008888888889,
            "bin_end": 8.412222222222223,
            "count": 1
           }
          ]
         }
        },
        {
         "name": "turning_value",
         "dtype": "float64",
         "stats": {
          "unique_count": 315,
          "nan_count": 0,
          "min": "2.0",
          "max": "10.231",
          "histogram": [
           {
            "bin_start": 2,
            "bin_end": 2.8231,
            "count": 113
           },
           {
            "bin_start": 2.8231,
            "bin_end": 3.6462,
            "count": 129
           },
           {
            "bin_start": 3.6462,
            "bin_end": 4.4693,
            "count": 118
           },
           {
            "bin_start": 4.4693,
            "bin_end": 5.2924,
            "count": 65
           },
           {
            "bin_start": 5.2924,
            "bin_end": 6.1155,
            "count": 38
           },
           {
            "bin_start": 6.1155,
            "bin_end": 6.938599999999999,
            "count": 14
           },
           {
            "bin_start": 6.938599999999999,
            "bin_end": 7.761699999999999,
            "count": 11
           },
           {
            "bin_start": 7.761699999999999,
            "bin_end": 8.5848,
            "count": 10
           },
           {
            "bin_start": 8.5848,
            "bin_end": 9.4079,
            "count": 2
           },
           {
            "bin_start": 9.4079,
            "bin_end": 10.231,
            "count": 3
           }
          ]
         }
        },
        {
         "name": "r2",
         "dtype": "float64",
         "stats": {
          "unique_count": 485,
          "nan_count": 0,
          "min": "0.0641481773292939",
          "max": "1.0",
          "histogram": [
           {
            "bin_start": 0.0641481773292939,
            "bin_end": 0.1577333595963645,
            "count": 5
           },
           {
            "bin_start": 0.1577333595963645,
            "bin_end": 0.2513185418634351,
            "count": 11
           },
           {
            "bin_start": 0.2513185418634351,
            "bin_end": 0.34490372413050574,
            "count": 19
           },
           {
            "bin_start": 0.34490372413050574,
            "bin_end": 0.4384889063975763,
            "count": 22
           },
           {
            "bin_start": 0.4384889063975763,
            "bin_end": 0.5320740886646469,
            "count": 34
           },
           {
            "bin_start": 0.5320740886646469,
            "bin_end": 0.6256592709317176,
            "count": 49
           },
           {
            "bin_start": 0.6256592709317176,
            "bin_end": 0.7192444531987882,
            "count": 51
           },
           {
            "bin_start": 0.7192444531987882,
            "bin_end": 0.8128296354658587,
            "count": 79
           },
           {
            "bin_start": 0.8128296354658587,
            "bin_end": 0.9064148177329293,
            "count": 122
           },
           {
            "bin_start": 0.9064148177329293,
            "bin_end": 1,
            "count": 111
           }
          ]
         }
        },
        {
         "name": "hierar_4",
         "dtype": "object",
         "stats": {
          "unique_count": 3,
          "nan_count": 0,
          "categories": [
           {
            "name": "short_benefit",
            "count": 261
           },
           {
            "name": "long_benefit",
            "count": 164
           },
           {
            "name": "much_benefit",
            "count": 78
           }
          ]
         }
        },
        {
         "name": "_deepnote_index_column",
         "dtype": "int64"
        }
       ],
       "rows": [
        {
         "Unique": 1,
         "mean_1": 2.64,
         "mean_2": 2.81,
         "mean_3": 2.73,
         "mean_4": 2.42,
         "mean_5": 2.39,
         "mean_6": 4.06,
         "mean_7": 3.27,
         "mean_8": 3.57,
         "mean_9": 3.54,
         "mean_10": 3.6,
         "max": 4.06,
         "std": 0.5786968118108133,
         "mean": 3.103,
         "outlier": false,
         "knot": 4,
         "slope1": 0.00010638297872489488,
         "slope2": 0.1862613981762915,
         "turning_value": 2.42,
         "r2": 0.5400166632162151,
         "hierar_4": "short_benefit",
         "_deepnote_index_column": 0
        },
        {
         "Unique": 2,
         "mean_1": 3.44,
         "mean_2": 4.76,
         "mean_3": 6,
         "mean_4": 5.93,
         "mean_5": 7.17,
         "mean_6": 6.97,
         "mean_7": 7.86,
         "mean_8": 6.81,
         "mean_9": 7.86,
         "mean_10": 8.3,
         "max": 8.3,
         "std": 1.5154830546360092,
         "mean": 6.51,
         "outlier": false,
         "knot": 3,
         "slope1": 1.3019999999999994,
         "slope2": 0.30378571428571355,
         "turning_value": 6,
         "r2": 0.9327450352958088,
         "hierar_4": "much_benefit",
         "_deepnote_index_column": 1
        },
        {
         "Unique": 3,
         "mean_1": 3.66,
         "mean_2": 2.15,
         "mean_3": 2.22,
         "mean_4": 2,
         "mean_5": 2,
         "mean_6": 2.1,
         "mean_7": 2.34,
         "mean_8": 2.29,
         "mean_9": 2.24,
         "mean_10": 2.27,
         "max": 3.66,
         "std": 0.48274792133737415,
         "mean": 2.327,
         "outlier": false,
         "knot": 2,
         "slope1": -1.5784444444444383,
         "slope2": 0.024333333333333762,
         "turning_value": 2.15,
         "r2": 0.9582522147685848,
         "hierar_4": "short_benefit",
         "_deepnote_index_column": 2
        },
        {
         "Unique": 5,
         "mean_1": 3.01,
         "mean_2": 3.83,
         "mean_3": 4.54,
         "mean_4": 4.93,
         "mean_5": 5.08,
         "mean_6": 5.11,
         "mean_7": 5.42,
         "mean_8": 5.48,
         "mean_9": 5.51,
         "mean_10": 5.2,
         "max": 5.51,
         "std": 0.8106026564641069,
         "mean": 4.811000000000001,
         "outlier": false,
         "knot": 4,
         "slope1": 0.6596382978723411,
         "slope2": 0.06156838905775075,
         "turning_value": 4.93,
         "r2": 0.9683467397869929,
         "hierar_4": "short_benefit",
         "_deepnote_index_column": 4
        },
        {
         "Unique": 7,
         "mean_1": 2.06,
         "mean_2": 2.16,
         "mean_3": 2.15,
         "mean_4": 2.28,
         "mean_5": 2.22,
         "mean_6": 2.16,
         "mean_7": 2.11,
         "mean_8": 2.39,
         "mean_9": 2.06,
         "mean_10": 2.25,
         "max": 2.39,
         "std": 0.10319345371140987,
         "mean": 2.184,
         "outlier": false,
         "knot": 4,
         "slope1": 0.050702127659575304,
         "slope2": -0.005817629179331559,
         "turning_value": 2.28,
         "r2": 0.21796237142958552,
         "hierar_4": "short_benefit",
         "_deepnote_index_column": 6
        },
        {
         "Unique": 8,
         "mean_1": 2.05,
         "mean_2": 2.05,
         "mean_3": 2.27,
         "mean_4": 2.28,
         "mean_5": 2.2,
         "mean_6": 2.13,
         "mean_7": 2.58,
         "mean_8": 2.78,
         "mean_9": 2.53,
         "mean_10": 2.54,
         "max": 2.78,
         "std": 0.2511506851805638,
         "mean": 2.3409999999999997,
         "outlier": false,
         "knot": 8,
         "slope1": 0.08527472527472578,
         "slope2": -0.03153846153846174,
         "turning_value": 2.78,
         "r2": 0.7166539004513961,
         "hierar_4": "long_benefit",
         "_deepnote_index_column": 7
        },
        {
         "Unique": 10,
         "mean_1": 2,
         "mean_2": 2.06,
         "mean_3": 2,
         "mean_4": 2,
         "mean_5": 2,
         "mean_6": 2,
         "mean_7": 2.05,
         "mean_8": 2,
         "mean_9": 2,
         "mean_10": 2.17,
         "max": 2.17,
         "std": 0.054934304198540417,
         "mean": 2.028,
         "outlier": false,
         "knot": 9,
         "slope1": -0.0013333333333330755,
         "slope2": 0.1631111111111112,
         "turning_value": 2,
         "r2": 0.8288332515136616,
         "hierar_4": "long_benefit",
         "_deepnote_index_column": 9
        },
        {
         "Unique": 13,
         "mean_1": 2.28,
         "mean_2": 2.67,
         "mean_3": 2.72,
         "mean_4": 3.11,
         "mean_5": 3.28,
         "mean_6": 3.22,
         "mean_7": 3.5,
         "mean_8": 3.83,
         "mean_9": 3.61,
         "mean_10": 3.54,
         "max": 3.83,
         "std": 0.487332877336768,
         "mean": 3.1759999999999997,
         "outlier": false,
         "knot": 8,
         "slope1": 0.19705494505494572,
         "slope2": -0.120307692307692,
         "turning_value": 3.83,
         "r2": 0.9605087815844607,
         "hierar_4": "long_benefit",
         "_deepnote_index_column": 12
        },
        {
         "Unique": 14,
         "mean_1": 3.24,
         "mean_2": 4.25,
         "mean_3": 5.29,
         "mean_4": 5.01,
         "mean_5": 4.46,
         "mean_6": 4.58,
         "mean_7": 5.54,
         "mean_8": 5.69,
         "mean_9": 6.59,
         "mean_10": 4.2,
         "max": 6.59,
         "std": 0.943742549639466,
         "mean": 4.885,
         "outlier": false,
         "knot": 9,
         "slope1": 0.2965000000000005,
         "slope2": -1.947111111111111,
         "turning_value": 6.59,
         "r2": 0.7230794128022742,
         "hierar_4": "long_benefit",
         "_deepnote_index_column": 13
        },
        {
         "Unique": 16,
         "mean_1": 2.37,
         "mean_2": 2.72,
         "mean_3": 3.39,
         "mean_4": 3.44,
         "mean_5": 3.74,
         "mean_6": 3.82,
         "mean_7": 4.41,
         "mean_8": 4.29,
         "mean_9": 4.94,
         "mean_10": 4.82,
         "max": 4.94,
         "std": 0.8475349878061411,
         "mean": 3.7939999999999996,
         "outlier": false,
         "knot": 3,
         "slope1": 0.46815384615384636,
         "slope2": 0.2384010989010989,
         "turning_value": 3.39,
         "r2": 0.9705810265924669,
         "hierar_4": "short_benefit",
         "_deepnote_index_column": 15
        }
       ]
      },
      "text/plain": "     Unique  mean_1  mean_2  mean_3  mean_4  mean_5  mean_6  mean_7  mean_8  \\\n0         1   2.640   2.810   2.730   2.420   2.390   4.060   3.270   3.570   \n1         2   3.440   4.760   6.000   5.930   7.170   6.970   7.860   6.810   \n2         3   3.660   2.150   2.220   2.000   2.000   2.100   2.340   2.290   \n4         5   3.010   3.830   4.540   4.930   5.080   5.110   5.420   5.480   \n6         7   2.060   2.160   2.150   2.280   2.220   2.160   2.110   2.390   \n..      ...     ...     ...     ...     ...     ...     ...     ...     ...   \n931     932   2.542   3.111   2.500   2.440   2.450   2.476   2.824   2.105   \n932     933   5.105   8.000   4.533   5.056   4.600   5.125   4.900   4.333   \n934     935   4.500   4.261   4.955   4.957   5.476   5.286   3.208   5.095   \n936     937   3.038   2.552   3.773   3.800   2.818   2.529   3.111   2.111   \n937     938   3.842   2.682   2.857   3.429   3.435   3.500   3.773   4.200   \n\n     mean_9  ...     max       std    mean  outlier  knot    slope1    slope2  \\\n0     3.540  ...   4.060  0.578697  3.1030    False   4.0  0.000106  0.186261   \n1     7.860  ...   8.300  1.515483  6.5100    False   3.0  1.302000  0.303786   \n2     2.240  ...   3.660  0.482748  2.3270    False   2.0 -1.578444  0.024333   \n4     5.510  ...   5.510  0.810603  4.8110    False   4.0  0.659638  0.061568   \n6     2.060  ...   2.390  0.103193  2.1840    False   4.0  0.050702 -0.005818   \n..      ...  ...     ...       ...     ...      ...   ...       ...       ...   \n931   3.045  ...   3.273  0.368999  2.6766    False   8.0 -0.047302  0.477692   \n932   4.682  ...   8.000  1.041695  5.1484    False   8.0 -0.235858  0.370246   \n934   4.885  ...   5.654  0.704961  4.8277    False   7.0 -0.041672  0.325564   \n936   2.375  ...  10.875  2.582606  3.6982    False   9.0 -0.109500  8.412222   \n937   2.950  ...   4.200  0.472183  3.4168    False   2.0 -0.834511  0.090517   \n\n     turning_value        r2       hierar_4  \n0            2.420  0.540017  short_benefit  \n1            6.000  0.932745   much_benefit  \n2            2.150  0.958252  short_benefit  \n4            4.930  0.968347  short_benefit  \n6            2.280  0.217962  short_benefit  \n..             ...       ...            ...  \n931          2.105  0.566162   long_benefit  \n932          4.333  0.258210   long_benefit  \n934          3.208  0.188224   long_benefit  \n936          2.375  0.965352   long_benefit  \n937          2.682  0.345099  short_benefit  \n\n[503 rows x 21 columns]",
      "text/html": "<div>\n<style scoped>\n    .dataframe tbody tr th:only-of-type {\n        vertical-align: middle;\n    }\n\n    .dataframe tbody tr th {\n        vertical-align: top;\n    }\n\n    .dataframe thead th {\n        text-align: right;\n    }\n</style>\n<table border=\"1\" class=\"dataframe\">\n  <thead>\n    <tr style=\"text-align: right;\">\n      <th></th>\n      <th>Unique</th>\n      <th>mean_1</th>\n      <th>mean_2</th>\n      <th>mean_3</th>\n      <th>mean_4</th>\n      <th>mean_5</th>\n      <th>mean_6</th>\n      <th>mean_7</th>\n      <th>mean_8</th>\n      <th>mean_9</th>\n      <th>...</th>\n      <th>max</th>\n      <th>std</th>\n      <th>mean</th>\n      <th>outlier</th>\n      <th>knot</th>\n      <th>slope1</th>\n      <th>slope2</th>\n      <th>turning_value</th>\n      <th>r2</th>\n      <th>hierar_4</th>\n    </tr>\n  </thead>\n  <tbody>\n    <tr>\n      <th>0</th>\n      <td>1</td>\n      <td>2.640</td>\n      <td>2.810</td>\n      <td>2.730</td>\n      <td>2.420</td>\n      <td>2.390</td>\n      <td>4.060</td>\n      <td>3.270</td>\n      <td>3.570</td>\n      <td>3.540</td>\n      <td>...</td>\n      <td>4.060</td>\n      <td>0.578697</td>\n      <td>3.1030</td>\n      <td>False</td>\n      <td>4.0</td>\n      <td>0.000106</td>\n      <td>0.186261</td>\n      <td>2.420</td>\n      <td>0.540017</td>\n      <td>short_benefit</td>\n    </tr>\n    <tr>\n      <th>1</th>\n      <td>2</td>\n      <td>3.440</td>\n      <td>4.760</td>\n      <td>6.000</td>\n      <td>5.930</td>\n      <td>7.170</td>\n      <td>6.970</td>\n      <td>7.860</td>\n      <td>6.810</td>\n      <td>7.860</td>\n      <td>...</td>\n      <td>8.300</td>\n      <td>1.515483</td>\n      <td>6.5100</td>\n      <td>False</td>\n      <td>3.0</td>\n      <td>1.302000</td>\n      <td>0.303786</td>\n      <td>6.000</td>\n      <td>0.932745</td>\n      <td>much_benefit</td>\n    </tr>\n    <tr>\n      <th>2</th>\n      <td>3</td>\n      <td>3.660</td>\n      <td>2.150</td>\n      <td>2.220</td>\n      <td>2.000</td>\n      <td>2.000</td>\n      <td>2.100</td>\n      <td>2.340</td>\n      <td>2.290</td>\n      <td>2.240</td>\n      <td>...</td>\n      <td>3.660</td>\n      <td>0.482748</td>\n      <td>2.3270</td>\n      <td>False</td>\n      <td>2.0</td>\n      <td>-1.578444</td>\n      <td>0.024333</td>\n      <td>2.150</td>\n      <td>0.958252</td>\n      <td>short_benefit</td>\n    </tr>\n    <tr>\n      <th>4</th>\n      <td>5</td>\n      <td>3.010</td>\n      <td>3.830</td>\n      <td>4.540</td>\n      <td>4.930</td>\n      <td>5.080</td>\n      <td>5.110</td>\n      <td>5.420</td>\n      <td>5.480</td>\n      <td>5.510</td>\n      <td>...</td>\n      <td>5.510</td>\n      <td>0.810603</td>\n      <td>4.8110</td>\n      <td>False</td>\n      <td>4.0</td>\n      <td>0.659638</td>\n      <td>0.061568</td>\n      <td>4.930</td>\n      <td>0.968347</td>\n      <td>short_benefit</td>\n    </tr>\n    <tr>\n      <th>6</th>\n      <td>7</td>\n      <td>2.060</td>\n      <td>2.160</td>\n      <td>2.150</td>\n      <td>2.280</td>\n      <td>2.220</td>\n      <td>2.160</td>\n      <td>2.110</td>\n      <td>2.390</td>\n      <td>2.060</td>\n      <td>...</td>\n      <td>2.390</td>\n      <td>0.103193</td>\n      <td>2.1840</td>\n      <td>False</td>\n      <td>4.0</td>\n      <td>0.050702</td>\n      <td>-0.005818</td>\n      <td>2.280</td>\n      <td>0.217962</td>\n      <td>short_benefit</td>\n    </tr>\n    <tr>\n      <th>...</th>\n      <td>...</td>\n      <td>...</td>\n      <td>...</td>\n      <td>...</td>\n      <td>...</td>\n      <td>...</td>\n      <td>...</td>\n      <td>...</td>\n      <td>...</td>\n      <td>...</td>\n      <td>...</td>\n      <td>...</td>\n      <td>...</td>\n      <td>...</td>\n      <td>...</td>\n      <td>...</td>\n      <td>...</td>\n      <td>...</td>\n      <td>...</td>\n      <td>...</td>\n      <td>...</td>\n    </tr>\n    <tr>\n      <th>931</th>\n      <td>932</td>\n      <td>2.542</td>\n      <td>3.111</td>\n      <td>2.500</td>\n      <td>2.440</td>\n      <td>2.450</td>\n      <td>2.476</td>\n      <td>2.824</td>\n      <td>2.105</td>\n      <td>3.045</td>\n      <td>...</td>\n      <td>3.273</td>\n      <td>0.368999</td>\n      <td>2.6766</td>\n      <td>False</td>\n      <td>8.0</td>\n      <td>-0.047302</td>\n      <td>0.477692</td>\n      <td>2.105</td>\n      <td>0.566162</td>\n      <td>long_benefit</td>\n    </tr>\n    <tr>\n      <th>932</th>\n      <td>933</td>\n      <td>5.105</td>\n      <td>8.000</td>\n      <td>4.533</td>\n      <td>5.056</td>\n      <td>4.600</td>\n      <td>5.125</td>\n      <td>4.900</td>\n      <td>4.333</td>\n      <td>4.682</td>\n      <td>...</td>\n      <td>8.000</td>\n      <td>1.041695</td>\n      <td>5.1484</td>\n      <td>False</td>\n      <td>8.0</td>\n      <td>-0.235858</td>\n      <td>0.370246</td>\n      <td>4.333</td>\n      <td>0.258210</td>\n      <td>long_benefit</td>\n    </tr>\n    <tr>\n      <th>934</th>\n      <td>935</td>\n      <td>4.500</td>\n      <td>4.261</td>\n      <td>4.955</td>\n      <td>4.957</td>\n      <td>5.476</td>\n      <td>5.286</td>\n      <td>3.208</td>\n      <td>5.095</td>\n      <td>4.885</td>\n      <td>...</td>\n      <td>5.654</td>\n      <td>0.704961</td>\n      <td>4.8277</td>\n      <td>False</td>\n      <td>7.0</td>\n      <td>-0.041672</td>\n      <td>0.325564</td>\n      <td>3.208</td>\n      <td>0.188224</td>\n      <td>long_benefit</td>\n    </tr>\n    <tr>\n      <th>936</th>\n      <td>937</td>\n      <td>3.038</td>\n      <td>2.552</td>\n      <td>3.773</td>\n      <td>3.800</td>\n      <td>2.818</td>\n      <td>2.529</td>\n      <td>3.111</td>\n      <td>2.111</td>\n      <td>2.375</td>\n      <td>...</td>\n      <td>10.875</td>\n      <td>2.582606</td>\n      <td>3.6982</td>\n      <td>False</td>\n      <td>9.0</td>\n      <td>-0.109500</td>\n      <td>8.412222</td>\n      <td>2.375</td>\n      <td>0.965352</td>\n      <td>long_benefit</td>\n    </tr>\n    <tr>\n      <th>937</th>\n      <td>938</td>\n      <td>3.842</td>\n      <td>2.682</td>\n      <td>2.857</td>\n      <td>3.429</td>\n      <td>3.435</td>\n      <td>3.500</td>\n      <td>3.773</td>\n      <td>4.200</td>\n      <td>2.950</td>\n      <td>...</td>\n      <td>4.200</td>\n      <td>0.472183</td>\n      <td>3.4168</td>\n      <td>False</td>\n      <td>2.0</td>\n      <td>-0.834511</td>\n      <td>0.090517</td>\n      <td>2.682</td>\n      <td>0.345099</td>\n      <td>short_benefit</td>\n    </tr>\n  </tbody>\n</table>\n<p>503 rows × 21 columns</p>\n</div>"
     },
     "metadata": {}
    }
   ],
   "execution_count": 9
  },
  {
   "cell_type": "markdown",
   "source": "## Classification preprocessing",
   "metadata": {
    "cell_id": "25c2600d14764d5a982944cccffe5b8f",
    "tags": [],
    "is_collapsed": false,
    "deepnote_cell_type": "text-cell-h2"
   }
  },
  {
   "cell_type": "code",
   "metadata": {
    "tags": [],
    "cell_id": "00006-069bdf0c-1629-45e9-a188-bcf09c88b61e",
    "deepnote_to_be_reexecuted": false,
    "source_hash": "d177c32a",
    "execution_millis": 312,
    "execution_start": 1648340286661,
    "deepnote_cell_type": "code",
    "deepnote_cell_height": 170.953125,
    "deepnote_output_heights": [
     232.4375
    ]
   },
   "source": "import classification_preprocessor as cp\ncp_test = cp.ClassifyPreprocessor(int_test.data, fp_test.data, label_name='hierar_4')\n# cp_test.delete_outlier() \n# cp_test.feature_test()\n# cp_test.feature_selection(10)\n# cp_test.use_categorical_features()",
   "execution_count": 10,
   "outputs": []
  },
  {
   "cell_type": "code",
   "source": "cp_test.data",
   "metadata": {
    "cell_id": "f5323c075513427b99ce69368dbcfe7b",
    "tags": [],
    "deepnote_to_be_reexecuted": false,
    "source_hash": "6d4fb969",
    "execution_start": 1648340286988,
    "execution_millis": 134,
    "deepnote_table_state": {
     "pageSize": 10,
     "pageIndex": 0,
     "filters": [
      {
       "id": "hierar_4",
       "value": "much",
       "type": "contains"
      }
     ],
     "sortBy": []
    },
    "deepnote_table_loading": false,
    "deepnote_cell_type": "code",
    "deepnote_cell_height": 629.875
   },
   "outputs": [
    {
     "output_type": "execute_result",
     "execution_count": 11,
     "data": {
      "application/vnd.deepnote.dataframe.v3+json": {
       "column_count": 52,
       "row_count": 71,
       "columns": [
        {
         "name": "MR_accpre",
         "dtype": "float64",
         "stats": {
          "unique_count": 20,
          "nan_count": 0,
          "min": "0.0",
          "max": "1.0",
          "histogram": [
           {
            "bin_start": 0,
            "bin_end": 0.1,
            "count": 5
           },
           {
            "bin_start": 0.1,
            "bin_end": 0.2,
            "count": 0
           },
           {
            "bin_start": 0.2,
            "bin_end": 0.30000000000000004,
            "count": 2
           },
           {
            "bin_start": 0.30000000000000004,
            "bin_end": 0.4,
            "count": 3
           },
           {
            "bin_start": 0.4,
            "bin_end": 0.5,
            "count": 10
           },
           {
            "bin_start": 0.5,
            "bin_end": 0.6000000000000001,
            "count": 7
           },
           {
            "bin_start": 0.6000000000000001,
            "bin_end": 0.7000000000000001,
            "count": 13
           },
           {
            "bin_start": 0.7000000000000001,
            "bin_end": 0.8,
            "count": 6
           },
           {
            "bin_start": 0.8,
            "bin_end": 0.9,
            "count": 7
           },
           {
            "bin_start": 0.9,
            "bin_end": 1,
            "count": 18
           }
          ]
         }
        },
        {
         "name": "WM_Zpre",
         "dtype": "float64",
         "stats": {
          "unique_count": 30,
          "nan_count": 0,
          "min": "-3.152097599",
          "max": "1.756646525",
          "histogram": [
           {
            "bin_start": -3.152097599,
            "bin_end": -2.6612231866,
            "count": 1
           },
           {
            "bin_start": -2.6612231866,
            "bin_end": -2.1703487742000003,
            "count": 0
           },
           {
            "bin_start": -2.1703487742000003,
            "bin_end": -1.6794743618,
            "count": 1
           },
           {
            "bin_start": -1.6794743618,
            "bin_end": -1.1885999494000001,
            "count": 5
           },
           {
            "bin_start": -1.1885999494000001,
            "bin_end": -0.6977255370000002,
            "count": 5
           },
           {
            "bin_start": -0.6977255370000002,
            "bin_end": -0.2068511246,
            "count": 16
           },
           {
            "bin_start": -0.2068511246,
            "bin_end": 0.28402328779999975,
            "count": 14
           },
           {
            "bin_start": 0.28402328779999975,
            "bin_end": 0.7748977001999999,
            "count": 18
           },
           {
            "bin_start": 0.7748977001999999,
            "bin_end": 1.2657721125999997,
            "count": 7
           },
           {
            "bin_start": 1.2657721125999997,
            "bin_end": 1.756646525,
            "count": 4
           }
          ]
         }
        },
        {
         "name": "IC_Zreverse_pre",
         "dtype": "float64",
         "stats": {
          "unique_count": 64,
          "nan_count": 0,
          "min": "-1.850810616",
          "max": "2.20665178",
          "histogram": [
           {
            "bin_start": -1.850810616,
            "bin_end": -1.4450643764,
            "count": 2
           },
           {
            "bin_start": -1.4450643764,
            "bin_end": -1.0393181368,
            "count": 3
           },
           {
            "bin_start": -1.0393181368,
            "bin_end": -0.6335718972,
            "count": 0
           },
           {
            "bin_start": -0.6335718972,
            "bin_end": -0.22782565759999995,
            "count": 17
           },
           {
            "bin_start": -0.22782565759999995,
            "bin_end": 0.17792058200000005,
            "count": 16
           },
           {
            "bin_start": 0.17792058200000005,
            "bin_end": 0.5836668216,
            "count": 21
           },
           {
            "bin_start": 0.5836668216,
            "bin_end": 0.9894130612,
            "count": 6
           },
           {
            "bin_start": 0.9894130612,
            "bin_end": 1.3951593008,
            "count": 5
           },
           {
            "bin_start": 1.3951593008,
            "bin_end": 1.8009055404,
            "count": 0
           },
           {
            "bin_start": 1.8009055404,
            "bin_end": 2.20665178,
            "count": 1
           }
          ]
         }
        },
        {
         "name": "NT_Zpre",
         "dtype": "float64",
         "stats": {
          "unique_count": 65,
          "nan_count": 0,
          "min": "-1.921897125",
          "max": "1.309642954",
          "histogram": [
           {
            "bin_start": -1.921897125,
            "bin_end": -1.5987431171000002,
            "count": 3
           },
           {
            "bin_start": -1.5987431171000002,
            "bin_end": -1.2755891092,
            "count": 0
           },
           {
            "bin_start": -1.2755891092,
            "bin_end": -0.9524351013,
            "count": 4
           },
           {
            "bin_start": -0.9524351013,
            "bin_end": -0.6292810933999999,
            "count": 6
           },
           {
            "bin_start": -0.6292810933999999,
            "bin_end": -0.3061270855,
            "count": 12
           },
           {
            "bin_start": -0.3061270855,
            "bin_end": 0.017026922400000144,
            "count": 9
           },
           {
            "bin_start": 0.017026922400000144,
            "bin_end": 0.3401809303000003,
            "count": 14
           },
           {
            "bin_start": 0.3401809303000003,
            "bin_end": 0.6633349382000002,
            "count": 5
           },
           {
            "bin_start": 0.6633349382000002,
            "bin_end": 0.9864889461000002,
            "count": 13
           },
           {
            "bin_start": 0.9864889461000002,
            "bin_end": 1.309642954,
            "count": 5
           }
          ]
         }
        },
        {
         "name": "TCA_Zscore",
         "dtype": "float64",
         "stats": {
          "unique_count": 21,
          "nan_count": 0,
          "min": "-2.154",
          "max": "29.0",
          "histogram": [
           {
            "bin_start": -2.154,
            "bin_end": 0.9614000000000003,
            "count": 2
           },
           {
            "bin_start": 0.9614000000000003,
            "bin_end": 4.0768,
            "count": 3
           },
           {
            "bin_start": 4.0768,
            "bin_end": 7.1922,
            "count": 0
           },
           {
            "bin_start": 7.1922,
            "bin_end": 10.3076,
            "count": 1
           },
           {
            "bin_start": 10.3076,
            "bin_end": 13.423000000000002,
            "count": 2
           },
           {
            "bin_start": 13.423000000000002,
            "bin_end": 16.5384,
            "count": 4
           },
           {
            "bin_start": 16.5384,
            "bin_end": 19.6538,
            "count": 16
           },
           {
            "bin_start": 19.6538,
            "bin_end": 22.7692,
            "count": 27
           },
           {
            "bin_start": 22.7692,
            "bin_end": 25.884600000000002,
            "count": 11
           },
           {
            "bin_start": 25.884600000000002,
            "bin_end": 29,
            "count": 5
           }
          ]
         }
        },
        {
         "name": "CFQMALscore",
         "dtype": "float64",
         "stats": {
          "unique_count": 19,
          "nan_count": 0,
          "min": "14.0",
          "max": "34.0",
          "histogram": [
           {
            "bin_start": 14,
            "bin_end": 16,
            "count": 1
           },
           {
            "bin_start": 16,
            "bin_end": 18,
            "count": 5
           },
           {
            "bin_start": 18,
            "bin_end": 20,
            "count": 8
           },
           {
            "bin_start": 20,
            "bin_end": 22,
            "count": 10
           },
           {
            "bin_start": 22,
            "bin_end": 24,
            "count": 8
           },
           {
            "bin_start": 24,
            "bin_end": 26,
            "count": 14
           },
           {
            "bin_start": 26,
            "bin_end": 28,
            "count": 11
           },
           {
            "bin_start": 28,
            "bin_end": 30,
            "count": 4
           },
           {
            "bin_start": 30,
            "bin_end": 32,
            "count": 2
           },
           {
            "bin_start": 32,
            "bin_end": 34,
            "count": 8
           }
          ]
         }
        },
        {
         "name": "Avg_grit_amb",
         "dtype": "float64",
         "stats": {
          "unique_count": 52,
          "nan_count": 0,
          "min": "2.1625",
          "max": "4.775",
          "histogram": [
           {
            "bin_start": 2.1625,
            "bin_end": 2.42375,
            "count": 1
           },
           {
            "bin_start": 2.42375,
            "bin_end": 2.685,
            "count": 0
           },
           {
            "bin_start": 2.685,
            "bin_end": 2.94625,
            "count": 3
           },
           {
            "bin_start": 2.94625,
            "bin_end": 3.2075000000000005,
            "count": 7
           },
           {
            "bin_start": 3.2075000000000005,
            "bin_end": 3.46875,
            "count": 14
           },
           {
            "bin_start": 3.46875,
            "bin_end": 3.7300000000000004,
            "count": 11
           },
           {
            "bin_start": 3.7300000000000004,
            "bin_end": 3.9912500000000004,
            "count": 18
           },
           {
            "bin_start": 3.9912500000000004,
            "bin_end": 4.2525,
            "count": 4
           },
           {
            "bin_start": 4.2525,
            "bin_end": 4.51375,
            "count": 8
           },
           {
            "bin_start": 4.51375,
            "bin_end": 4.775,
            "count": 5
           }
          ]
         }
        },
        {
         "name": "NEOFFIExtraversion",
         "dtype": "float64",
         "stats": {
          "unique_count": 22,
          "nan_count": 0,
          "min": "1.625",
          "max": "4.5",
          "histogram": [
           {
            "bin_start": 1.625,
            "bin_end": 1.9125,
            "count": 4
           },
           {
            "bin_start": 1.9125,
            "bin_end": 2.2,
            "count": 9
           },
           {
            "bin_start": 2.2,
            "bin_end": 2.4875,
            "count": 5
           },
           {
            "bin_start": 2.4875,
            "bin_end": 2.775,
            "count": 10
           },
           {
            "bin_start": 2.775,
            "bin_end": 3.0625,
            "count": 7
           },
           {
            "bin_start": 3.0625,
            "bin_end": 3.3499999999999996,
            "count": 10
           },
           {
            "bin_start": 3.3499999999999996,
            "bin_end": 3.6374999999999997,
            "count": 13
           },
           {
            "bin_start": 3.6374999999999997,
            "bin_end": 3.925,
            "count": 6
           },
           {
            "bin_start": 3.925,
            "bin_end": 4.2125,
            "count": 2
           },
           {
            "bin_start": 4.2125,
            "bin_end": 4.5,
            "count": 5
           }
          ]
         }
        },
        {
         "name": "NEOFFIAgreeableness",
         "dtype": "float64",
         "stats": {
          "unique_count": 16,
          "nan_count": 0,
          "min": "2.375",
          "max": "4.75",
          "histogram": [
           {
            "bin_start": 2.375,
            "bin_end": 2.6125,
            "count": 1
           },
           {
            "bin_start": 2.6125,
            "bin_end": 2.85,
            "count": 1
           },
           {
            "bin_start": 2.85,
            "bin_end": 3.0875,
            "count": 0
           },
           {
            "bin_start": 3.0875,
            "bin_end": 3.325,
            "count": 4
           },
           {
            "bin_start": 3.325,
            "bin_end": 3.5625,
            "count": 7
           },
           {
            "bin_start": 3.5625,
            "bin_end": 3.8,
            "count": 12
           },
           {
            "bin_start": 3.8,
            "bin_end": 4.0375,
            "count": 7
           },
           {
            "bin_start": 4.0375,
            "bin_end": 4.275,
            "count": 16
           },
           {
            "bin_start": 4.275,
            "bin_end": 4.512499999999999,
            "count": 12
           },
           {
            "bin_start": 4.512499999999999,
            "bin_end": 4.75,
            "count": 11
           }
          ]
         }
        },
        {
         "name": "NEOFFIConscientiousness",
         "dtype": "float64",
         "stats": {
          "unique_count": 18,
          "nan_count": 0,
          "min": "2.25",
          "max": "4.875",
          "histogram": [
           {
            "bin_start": 2.25,
            "bin_end": 2.5125,
            "count": 5
           },
           {
            "bin_start": 2.5125,
            "bin_end": 2.775,
            "count": 0
           },
           {
            "bin_start": 2.775,
            "bin_end": 3.0375,
            "count": 5
           },
           {
            "bin_start": 3.0375,
            "bin_end": 3.3,
            "count": 8
           },
           {
            "bin_start": 3.3,
            "bin_end": 3.5625,
            "count": 6
           },
           {
            "bin_start": 3.5625,
            "bin_end": 3.825,
            "count": 6
           },
           {
            "bin_start": 3.825,
            "bin_end": 4.0875,
            "count": 18
           },
           {
            "bin_start": 4.0875,
            "bin_end": 4.35,
            "count": 10
           },
           {
            "bin_start": 4.35,
            "bin_end": 4.612500000000001,
            "count": 9
           },
           {
            "bin_start": 4.612500000000001,
            "bin_end": 4.875,
            "count": 4
           }
          ]
         }
        },
        {
         "name": "NEOFFIEmotionalstability",
         "dtype": "float64",
         "stats": {
          "unique_count": 22,
          "nan_count": 0,
          "min": "1.75",
          "max": "4.875",
          "histogram": [
           {
            "bin_start": 1.75,
            "bin_end": 2.0625,
            "count": 1
           },
           {
            "bin_start": 2.0625,
            "bin_end": 2.375,
            "count": 1
           },
           {
            "bin_start": 2.375,
            "bin_end": 2.6875,
            "count": 8
           },
           {
            "bin_start": 2.6875,
            "bin_end": 3,
            "count": 6
           },
           {
            "bin_start": 3,
            "bin_end": 3.3125,
            "count": 12
           },
           {
            "bin_start": 3.3125,
            "bin_end": 3.625,
            "count": 5
           },
           {
            "bin_start": 3.625,
            "bin_end": 3.9375,
            "count": 22
           },
           {
            "bin_start": 3.9375,
            "bin_end": 4.25,
            "count": 7
           },
           {
            "bin_start": 4.25,
            "bin_end": 4.5625,
            "count": 7
           },
           {
            "bin_start": 4.5625,
            "bin_end": 4.875,
            "count": 2
           }
          ]
         }
        },
        {
         "name": "NEOFFIIntellectorOpenness",
         "dtype": "float64",
         "stats": {
          "unique_count": 17,
          "nan_count": 0,
          "min": "2.625",
          "max": "5.0",
          "histogram": [
           {
            "bin_start": 2.625,
            "bin_end": 2.8625,
            "count": 6
           },
           {
            "bin_start": 2.8625,
            "bin_end": 3.1,
            "count": 5
           },
           {
            "bin_start": 3.1,
            "bin_end": 3.3375,
            "count": 9
           },
           {
            "bin_start": 3.3375,
            "bin_end": 3.575,
            "count": 10
           },
           {
            "bin_start": 3.575,
            "bin_end": 3.8125,
            "count": 16
           },
           {
            "bin_start": 3.8125,
            "bin_end": 4.05,
            "count": 7
           },
           {
            "bin_start": 4.05,
            "bin_end": 4.2875,
            "count": 5
           },
           {
            "bin_start": 4.2875,
            "bin_end": 4.525,
            "count": 7
           },
           {
            "bin_start": 4.525,
            "bin_end": 4.762499999999999,
            "count": 5
           },
           {
            "bin_start": 4.762499999999999,
            "bin_end": 5,
            "count": 1
           }
          ]
         }
        },
        {
         "name": "VGQHoursCategorySumPastYear_Z",
         "dtype": "float64",
         "stats": {
          "unique_count": 36,
          "nan_count": 0,
          "min": "-1.16",
          "max": "2.928",
          "histogram": [
           {
            "bin_start": -1.16,
            "bin_end": -0.7511999999999999,
            "count": 22
           },
           {
            "bin_start": -0.7511999999999999,
            "bin_end": -0.3423999999999999,
            "count": 12
           },
           {
            "bin_start": -0.3423999999999999,
            "bin_end": 0.06640000000000001,
            "count": 8
           },
           {
            "bin_start": 0.06640000000000001,
            "bin_end": 0.47520000000000007,
            "count": 5
           },
           {
            "bin_start": 0.47520000000000007,
            "bin_end": 0.8840000000000001,
            "count": 4
           },
           {
            "bin_start": 0.8840000000000001,
            "bin_end": 1.2928,
            "count": 5
           },
           {
            "bin_start": 1.2928,
            "bin_end": 1.7016000000000002,
            "count": 4
           },
           {
            "bin_start": 1.7016000000000002,
            "bin_end": 2.1104000000000003,
            "count": 5
           },
           {
            "bin_start": 2.1104000000000003,
            "bin_end": 2.5191999999999997,
            "count": 3
           },
           {
            "bin_start": 2.5191999999999997,
            "bin_end": 2.928,
            "count": 3
           }
          ]
         }
        },
        {
         "name": "ParentalEducationSum",
         "dtype": "float64",
         "stats": {
          "unique_count": 9,
          "nan_count": 0,
          "min": "2.0",
          "max": "7.0",
          "histogram": [
           {
            "bin_start": 2,
            "bin_end": 2.5,
            "count": 5
           },
           {
            "bin_start": 2.5,
            "bin_end": 3,
            "count": 0
           },
           {
            "bin_start": 3,
            "bin_end": 3.5,
            "count": 5
           },
           {
            "bin_start": 3.5,
            "bin_end": 4,
            "count": 0
           },
           {
            "bin_start": 4,
            "bin_end": 4.5,
            "count": 20
           },
           {
            "bin_start": 4.5,
            "bin_end": 5,
            "count": 2
           },
           {
            "bin_start": 5,
            "bin_end": 5.5,
            "count": 22
           },
           {
            "bin_start": 5.5,
            "bin_end": 6,
            "count": 0
           },
           {
            "bin_start": 6,
            "bin_end": 6.5,
            "count": 13
           },
           {
            "bin_start": 6.5,
            "bin_end": 7,
            "count": 4
           }
          ]
         }
        },
        {
         "name": "SelfReportedSESRatingSum",
         "dtype": "float64",
         "stats": {
          "unique_count": 13,
          "nan_count": 0,
          "min": "5.0",
          "max": "17.0",
          "histogram": [
           {
            "bin_start": 5,
            "bin_end": 6.2,
            "count": 3
           },
           {
            "bin_start": 6.2,
            "bin_end": 7.4,
            "count": 1
           },
           {
            "bin_start": 7.4,
            "bin_end": 8.6,
            "count": 6
           },
           {
            "bin_start": 8.6,
            "bin_end": 9.8,
            "count": 9
           },
           {
            "bin_start": 9.8,
            "bin_end": 11,
            "count": 11
           },
           {
            "bin_start": 11,
            "bin_end": 12.2,
            "count": 14
           },
           {
            "bin_start": 12.2,
            "bin_end": 13.4,
            "count": 13
           },
           {
            "bin_start": 13.4,
            "bin_end": 14.6,
            "count": 4
           },
           {
            "bin_start": 14.6,
            "bin_end": 15.799999999999999,
            "count": 3
           },
           {
            "bin_start": 15.799999999999999,
            "bin_end": 17,
            "count": 7
           }
          ]
         }
        },
        {
         "name": "Physicalhealth",
         "dtype": "float64",
         "stats": {
          "unique_count": 10,
          "nan_count": 0,
          "min": "1.0",
          "max": "5.0",
          "histogram": [
           {
            "bin_start": 1,
            "bin_end": 1.4,
            "count": 1
           },
           {
            "bin_start": 1.4,
            "bin_end": 1.8,
            "count": 0
           },
           {
            "bin_start": 1.8,
            "bin_end": 2.2,
            "count": 4
           },
           {
            "bin_start": 2.2,
            "bin_end": 2.6,
            "count": 1
           },
           {
            "bin_start": 2.6,
            "bin_end": 3,
            "count": 2
           },
           {
            "bin_start": 3,
            "bin_end": 3.4000000000000004,
            "count": 40
           },
           {
            "bin_start": 3.4000000000000004,
            "bin_end": 3.8000000000000003,
            "count": 0
           },
           {
            "bin_start": 3.8000000000000003,
            "bin_end": 4.2,
            "count": 18
           },
           {
            "bin_start": 4.2,
            "bin_end": 4.6,
            "count": 0
           },
           {
            "bin_start": 4.6,
            "bin_end": 5,
            "count": 5
           }
          ]
         }
        },
        {
         "name": "Physicalfitness",
         "dtype": "float64",
         "stats": {
          "unique_count": 10,
          "nan_count": 0,
          "min": "1.0",
          "max": "5.0",
          "histogram": [
           {
            "bin_start": 1,
            "bin_end": 1.4,
            "count": 2
           },
           {
            "bin_start": 1.4,
            "bin_end": 1.8,
            "count": 0
           },
           {
            "bin_start": 1.8,
            "bin_end": 2.2,
            "count": 18
           },
           {
            "bin_start": 2.2,
            "bin_end": 2.6,
            "count": 2
           },
           {
            "bin_start": 2.6,
            "bin_end": 3,
            "count": 0
           },
           {
            "bin_start": 3,
            "bin_end": 3.4000000000000004,
            "count": 26
           },
           {
            "bin_start": 3.4000000000000004,
            "bin_end": 3.8000000000000003,
            "count": 0
           },
           {
            "bin_start": 3.8000000000000003,
            "bin_end": 4.2,
            "count": 21
           },
           {
            "bin_start": 4.2,
            "bin_end": 4.6,
            "count": 0
           },
           {
            "bin_start": 4.6,
            "bin_end": 5,
            "count": 2
           }
          ]
         }
        },
        {
         "name": "Psychohealth",
         "dtype": "float64",
         "stats": {
          "unique_count": 9,
          "nan_count": 0,
          "min": "2.0",
          "max": "5.0",
          "histogram": [
           {
            "bin_start": 2,
            "bin_end": 2.3,
            "count": 12
           },
           {
            "bin_start": 2.3,
            "bin_end": 2.6,
            "count": 0
           },
           {
            "bin_start": 2.6,
            "bin_end": 2.9,
            "count": 1
           },
           {
            "bin_start": 2.9,
            "bin_end": 3.2,
            "count": 20
           },
           {
            "bin_start": 3.2,
            "bin_end": 3.5,
            "count": 2
           },
           {
            "bin_start": 3.5,
            "bin_end": 3.8,
            "count": 1
           },
           {
            "bin_start": 3.8,
            "bin_end": 4.1,
            "count": 22
           },
           {
            "bin_start": 4.1,
            "bin_end": 4.4,
            "count": 0
           },
           {
            "bin_start": 4.4,
            "bin_end": 4.699999999999999,
            "count": 0
           },
           {
            "bin_start": 4.699999999999999,
            "bin_end": 5,
            "count": 13
           }
          ]
         }
        },
        {
         "name": "Gamified_Gamified",
         "dtype": "float64",
         "stats": {
          "unique_count": 2,
          "nan_count": 0,
          "min": "0.0",
          "max": "1.0",
          "histogram": [
           {
            "bin_start": 0,
            "bin_end": 0.1,
            "count": 26
           },
           {
            "bin_start": 0.1,
            "bin_end": 0.2,
            "count": 0
           },
           {
            "bin_start": 0.2,
            "bin_end": 0.30000000000000004,
            "count": 0
           },
           {
            "bin_start": 0.30000000000000004,
            "bin_end": 0.4,
            "count": 0
           },
           {
            "bin_start": 0.4,
            "bin_end": 0.5,
            "count": 0
           },
           {
            "bin_start": 0.5,
            "bin_end": 0.6000000000000001,
            "count": 0
           },
           {
            "bin_start": 0.6000000000000001,
            "bin_end": 0.7000000000000001,
            "count": 0
           },
           {
            "bin_start": 0.7000000000000001,
            "bin_end": 0.8,
            "count": 0
           },
           {
            "bin_start": 0.8,
            "bin_end": 0.9,
            "count": 0
           },
           {
            "bin_start": 0.9,
            "bin_end": 1,
            "count": 45
           }
          ]
         }
        },
        {
         "name": "Gamified_Nongamified",
         "dtype": "float64",
         "stats": {
          "unique_count": 2,
          "nan_count": 0,
          "min": "0.0",
          "max": "1.0",
          "histogram": [
           {
            "bin_start": 0,
            "bin_end": 0.1,
            "count": 45
           },
           {
            "bin_start": 0.1,
            "bin_end": 0.2,
            "count": 0
           },
           {
            "bin_start": 0.2,
            "bin_end": 0.30000000000000004,
            "count": 0
           },
           {
            "bin_start": 0.30000000000000004,
            "bin_end": 0.4,
            "count": 0
           },
           {
            "bin_start": 0.4,
            "bin_end": 0.5,
            "count": 0
           },
           {
            "bin_start": 0.5,
            "bin_end": 0.6000000000000001,
            "count": 0
           },
           {
            "bin_start": 0.6000000000000001,
            "bin_end": 0.7000000000000001,
            "count": 0
           },
           {
            "bin_start": 0.7000000000000001,
            "bin_end": 0.8,
            "count": 0
           },
           {
            "bin_start": 0.8,
            "bin_end": 0.9,
            "count": 0
           },
           {
            "bin_start": 0.9,
            "bin_end": 1,
            "count": 26
           }
          ]
         }
        },
        {
         "name": "Difficulty_Difficult",
         "dtype": "float64",
         "stats": {
          "unique_count": 2,
          "nan_count": 0,
          "min": "0.0",
          "max": "1.0",
          "histogram": [
           {
            "bin_start": 0,
            "bin_end": 0.1,
            "count": 68
           },
           {
            "bin_start": 0.1,
            "bin_end": 0.2,
            "count": 0
           },
           {
            "bin_start": 0.2,
            "bin_end": 0.30000000000000004,
            "count": 0
           },
           {
            "bin_start": 0.30000000000000004,
            "bin_end": 0.4,
            "count": 0
           },
           {
            "bin_start": 0.4,
            "bin_end": 0.5,
            "count": 0
           },
           {
            "bin_start": 0.5,
            "bin_end": 0.6000000000000001,
            "count": 0
           },
           {
            "bin_start": 0.6000000000000001,
            "bin_end": 0.7000000000000001,
            "count": 0
           },
           {
            "bin_start": 0.7000000000000001,
            "bin_end": 0.8,
            "count": 0
           },
           {
            "bin_start": 0.8,
            "bin_end": 0.9,
            "count": 0
           },
           {
            "bin_start": 0.9,
            "bin_end": 1,
            "count": 3
           }
          ]
         }
        },
        {
         "name": "Difficulty_Middle",
         "dtype": "float64",
         "stats": {
          "unique_count": 2,
          "nan_count": 0,
          "min": "0.0",
          "max": "1.0",
          "histogram": [
           {
            "bin_start": 0,
            "bin_end": 0.1,
            "count": 40
           },
           {
            "bin_start": 0.1,
            "bin_end": 0.2,
            "count": 0
           },
           {
            "bin_start": 0.2,
            "bin_end": 0.30000000000000004,
            "count": 0
           },
           {
            "bin_start": 0.30000000000000004,
            "bin_end": 0.4,
            "count": 0
           },
           {
            "bin_start": 0.4,
            "bin_end": 0.5,
            "count": 0
           },
           {
            "bin_start": 0.5,
            "bin_end": 0.6000000000000001,
            "count": 0
           },
           {
            "bin_start": 0.6000000000000001,
            "bin_end": 0.7000000000000001,
            "count": 0
           },
           {
            "bin_start": 0.7000000000000001,
            "bin_end": 0.8,
            "count": 0
           },
           {
            "bin_start": 0.8,
            "bin_end": 0.9,
            "count": 0
           },
           {
            "bin_start": 0.9,
            "bin_end": 1,
            "count": 31
           }
          ]
         }
        },
        {
         "name": "Difficulty_Moderate",
         "dtype": "float64",
         "stats": {
          "unique_count": 2,
          "nan_count": 0,
          "min": "0.0",
          "max": "1.0",
          "histogram": [
           {
            "bin_start": 0,
            "bin_end": 0.1,
            "count": 51
           },
           {
            "bin_start": 0.1,
            "bin_end": 0.2,
            "count": 0
           },
           {
            "bin_start": 0.2,
            "bin_end": 0.30000000000000004,
            "count": 0
           },
           {
            "bin_start": 0.30000000000000004,
            "bin_end": 0.4,
            "count": 0
           },
           {
            "bin_start": 0.4,
            "bin_end": 0.5,
            "count": 0
           },
           {
            "bin_start": 0.5,
            "bin_end": 0.6000000000000001,
            "count": 0
           },
           {
            "bin_start": 0.6000000000000001,
            "bin_end": 0.7000000000000001,
            "count": 0
           },
           {
            "bin_start": 0.7000000000000001,
            "bin_end": 0.8,
            "count": 0
           },
           {
            "bin_start": 0.8,
            "bin_end": 0.9,
            "count": 0
           },
           {
            "bin_start": 0.9,
            "bin_end": 1,
            "count": 20
           }
          ]
         }
        },
        {
         "name": "Difficulty_hard",
         "dtype": "float64",
         "stats": {
          "unique_count": 2,
          "nan_count": 0,
          "min": "0.0",
          "max": "1.0",
          "histogram": [
           {
            "bin_start": 0,
            "bin_end": 0.1,
            "count": 54
           },
           {
            "bin_start": 0.1,
            "bin_end": 0.2,
            "count": 0
           },
           {
            "bin_start": 0.2,
            "bin_end": 0.30000000000000004,
            "count": 0
           },
           {
            "bin_start": 0.30000000000000004,
            "bin_end": 0.4,
            "count": 0
           },
           {
            "bin_start": 0.4,
            "bin_end": 0.5,
            "count": 0
           },
           {
            "bin_start": 0.5,
            "bin_end": 0.6000000000000001,
            "count": 0
           },
           {
            "bin_start": 0.6000000000000001,
            "bin_end": 0.7000000000000001,
            "count": 0
           },
           {
            "bin_start": 0.7000000000000001,
            "bin_end": 0.8,
            "count": 0
           },
           {
            "bin_start": 0.8,
            "bin_end": 0.9,
            "count": 0
           },
           {
            "bin_start": 0.9,
            "bin_end": 1,
            "count": 17
           }
          ]
         }
        },
        {
         "name": "Bilingual_Bilingual",
         "dtype": "float64",
         "stats": {
          "unique_count": 2,
          "nan_count": 0,
          "min": "0.0",
          "max": "1.0",
          "histogram": [
           {
            "bin_start": 0,
            "bin_end": 0.1,
            "count": 25
           },
           {
            "bin_start": 0.1,
            "bin_end": 0.2,
            "count": 0
           },
           {
            "bin_start": 0.2,
            "bin_end": 0.30000000000000004,
            "count": 0
           },
           {
            "bin_start": 0.30000000000000004,
            "bin_end": 0.4,
            "count": 0
           },
           {
            "bin_start": 0.4,
            "bin_end": 0.5,
            "count": 0
           },
           {
            "bin_start": 0.5,
            "bin_end": 0.6000000000000001,
            "count": 0
           },
           {
            "bin_start": 0.6000000000000001,
            "bin_end": 0.7000000000000001,
            "count": 0
           },
           {
            "bin_start": 0.7000000000000001,
            "bin_end": 0.8,
            "count": 0
           },
           {
            "bin_start": 0.8,
            "bin_end": 0.9,
            "count": 0
           },
           {
            "bin_start": 0.9,
            "bin_end": 1,
            "count": 46
           }
          ]
         }
        },
        {
         "name": "Bilingual_Monolingual",
         "dtype": "float64",
         "stats": {
          "unique_count": 2,
          "nan_count": 0,
          "min": "0.0",
          "max": "1.0",
          "histogram": [
           {
            "bin_start": 0,
            "bin_end": 0.1,
            "count": 49
           },
           {
            "bin_start": 0.1,
            "bin_end": 0.2,
            "count": 0
           },
           {
            "bin_start": 0.2,
            "bin_end": 0.30000000000000004,
            "count": 0
           },
           {
            "bin_start": 0.30000000000000004,
            "bin_end": 0.4,
            "count": 0
           },
           {
            "bin_start": 0.4,
            "bin_end": 0.5,
            "count": 0
           },
           {
            "bin_start": 0.5,
            "bin_end": 0.6000000000000001,
            "count": 0
           },
           {
            "bin_start": 0.6000000000000001,
            "bin_end": 0.7000000000000001,
            "count": 0
           },
           {
            "bin_start": 0.7000000000000001,
            "bin_end": 0.8,
            "count": 0
           },
           {
            "bin_start": 0.8,
            "bin_end": 0.9,
            "count": 0
           },
           {
            "bin_start": 0.9,
            "bin_end": 1,
            "count": 22
           }
          ]
         }
        },
        {
         "name": "Gender_Female",
         "dtype": "float64",
         "stats": {
          "unique_count": 2,
          "nan_count": 0,
          "min": "0.0",
          "max": "1.0",
          "histogram": [
           {
            "bin_start": 0,
            "bin_end": 0.1,
            "count": 26
           },
           {
            "bin_start": 0.1,
            "bin_end": 0.2,
            "count": 0
           },
           {
            "bin_start": 0.2,
            "bin_end": 0.30000000000000004,
            "count": 0
           },
           {
            "bin_start": 0.30000000000000004,
            "bin_end": 0.4,
            "count": 0
           },
           {
            "bin_start": 0.4,
            "bin_end": 0.5,
            "count": 0
           },
           {
            "bin_start": 0.5,
            "bin_end": 0.6000000000000001,
            "count": 0
           },
           {
            "bin_start": 0.6000000000000001,
            "bin_end": 0.7000000000000001,
            "count": 0
           },
           {
            "bin_start": 0.7000000000000001,
            "bin_end": 0.8,
            "count": 0
           },
           {
            "bin_start": 0.8,
            "bin_end": 0.9,
            "count": 0
           },
           {
            "bin_start": 0.9,
            "bin_end": 1,
            "count": 45
           }
          ]
         }
        },
        {
         "name": "Gender_Male",
         "dtype": "float64",
         "stats": {
          "unique_count": 2,
          "nan_count": 0,
          "min": "0.0",
          "max": "1.0",
          "histogram": [
           {
            "bin_start": 0,
            "bin_end": 0.1,
            "count": 48
           },
           {
            "bin_start": 0.1,
            "bin_end": 0.2,
            "count": 0
           },
           {
            "bin_start": 0.2,
            "bin_end": 0.30000000000000004,
            "count": 0
           },
           {
            "bin_start": 0.30000000000000004,
            "bin_end": 0.4,
            "count": 0
           },
           {
            "bin_start": 0.4,
            "bin_end": 0.5,
            "count": 0
           },
           {
            "bin_start": 0.5,
            "bin_end": 0.6000000000000001,
            "count": 0
           },
           {
            "bin_start": 0.6000000000000001,
            "bin_end": 0.7000000000000001,
            "count": 0
           },
           {
            "bin_start": 0.7000000000000001,
            "bin_end": 0.8,
            "count": 0
           },
           {
            "bin_start": 0.8,
            "bin_end": 0.9,
            "count": 0
           },
           {
            "bin_start": 0.9,
            "bin_end": 1,
            "count": 23
           }
          ]
         }
        },
        {
         "name": "Gender_Other or Don't Want to Specify",
         "dtype": "float64",
         "stats": {
          "unique_count": 2,
          "nan_count": 0,
          "min": "0.0",
          "max": "1.0",
          "histogram": [
           {
            "bin_start": 0,
            "bin_end": 0.1,
            "count": 68
           },
           {
            "bin_start": 0.1,
            "bin_end": 0.2,
            "count": 0
           },
           {
            "bin_start": 0.2,
            "bin_end": 0.30000000000000004,
            "count": 0
           },
           {
            "bin_start": 0.30000000000000004,
            "bin_end": 0.4,
            "count": 0
           },
           {
            "bin_start": 0.4,
            "bin_end": 0.5,
            "count": 0
           },
           {
            "bin_start": 0.5,
            "bin_end": 0.6000000000000001,
            "count": 0
           },
           {
            "bin_start": 0.6000000000000001,
            "bin_end": 0.7000000000000001,
            "count": 0
           },
           {
            "bin_start": 0.7000000000000001,
            "bin_end": 0.8,
            "count": 0
           },
           {
            "bin_start": 0.8,
            "bin_end": 0.9,
            "count": 0
           },
           {
            "bin_start": 0.9,
            "bin_end": 1,
            "count": 3
           }
          ]
         }
        },
        {
         "name": "Ethnicity_American Indian/Alaska Native",
         "dtype": "float64",
         "stats": {
          "unique_count": 1,
          "nan_count": 0,
          "min": "0.0",
          "max": "0.0",
          "histogram": [
           {
            "bin_start": -0.5,
            "bin_end": -0.4,
            "count": 0
           },
           {
            "bin_start": -0.4,
            "bin_end": -0.3,
            "count": 0
           },
           {
            "bin_start": -0.3,
            "bin_end": -0.19999999999999996,
            "count": 0
           },
           {
            "bin_start": -0.19999999999999996,
            "bin_end": -0.09999999999999998,
            "count": 0
           },
           {
            "bin_start": -0.09999999999999998,
            "bin_end": 0,
            "count": 0
           },
           {
            "bin_start": 0,
            "bin_end": 0.10000000000000009,
            "count": 71
           },
           {
            "bin_start": 0.10000000000000009,
            "bin_end": 0.20000000000000007,
            "count": 0
           },
           {
            "bin_start": 0.20000000000000007,
            "bin_end": 0.30000000000000004,
            "count": 0
           },
           {
            "bin_start": 0.30000000000000004,
            "bin_end": 0.4,
            "count": 0
           },
           {
            "bin_start": 0.4,
            "bin_end": 0.5,
            "count": 0
           }
          ]
         }
        },
        {
         "name": "Ethnicity_American Indian/Alaska Native,Native Hawaiian or Other Pacific Islander",
         "dtype": "float64",
         "stats": {
          "unique_count": 1,
          "nan_count": 0,
          "min": "0.0",
          "max": "0.0",
          "histogram": [
           {
            "bin_start": -0.5,
            "bin_end": -0.4,
            "count": 0
           },
           {
            "bin_start": -0.4,
            "bin_end": -0.3,
            "count": 0
           },
           {
            "bin_start": -0.3,
            "bin_end": -0.19999999999999996,
            "count": 0
           },
           {
            "bin_start": -0.19999999999999996,
            "bin_end": -0.09999999999999998,
            "count": 0
           },
           {
            "bin_start": -0.09999999999999998,
            "bin_end": 0,
            "count": 0
           },
           {
            "bin_start": 0,
            "bin_end": 0.10000000000000009,
            "count": 71
           },
           {
            "bin_start": 0.10000000000000009,
            "bin_end": 0.20000000000000007,
            "count": 0
           },
           {
            "bin_start": 0.20000000000000007,
            "bin_end": 0.30000000000000004,
            "count": 0
           },
           {
            "bin_start": 0.30000000000000004,
            "bin_end": 0.4,
            "count": 0
           },
           {
            "bin_start": 0.4,
            "bin_end": 0.5,
            "count": 0
           }
          ]
         }
        },
        {
         "name": "Ethnicity_American Indian/Alaska Native,White",
         "dtype": "float64",
         "stats": {
          "unique_count": 2,
          "nan_count": 0,
          "min": "0.0",
          "max": "1.0",
          "histogram": [
           {
            "bin_start": 0,
            "bin_end": 0.1,
            "count": 70
           },
           {
            "bin_start": 0.1,
            "bin_end": 0.2,
            "count": 0
           },
           {
            "bin_start": 0.2,
            "bin_end": 0.30000000000000004,
            "count": 0
           },
           {
            "bin_start": 0.30000000000000004,
            "bin_end": 0.4,
            "count": 0
           },
           {
            "bin_start": 0.4,
            "bin_end": 0.5,
            "count": 0
           },
           {
            "bin_start": 0.5,
            "bin_end": 0.6000000000000001,
            "count": 0
           },
           {
            "bin_start": 0.6000000000000001,
            "bin_end": 0.7000000000000001,
            "count": 0
           },
           {
            "bin_start": 0.7000000000000001,
            "bin_end": 0.8,
            "count": 0
           },
           {
            "bin_start": 0.8,
            "bin_end": 0.9,
            "count": 0
           },
           {
            "bin_start": 0.9,
            "bin_end": 1,
            "count": 1
           }
          ]
         }
        },
        {
         "name": "Ethnicity_Asian",
         "dtype": "float64",
         "stats": {
          "unique_count": 2,
          "nan_count": 0,
          "min": "0.0",
          "max": "1.0",
          "histogram": [
           {
            "bin_start": 0,
            "bin_end": 0.1,
            "count": 33
           },
           {
            "bin_start": 0.1,
            "bin_end": 0.2,
            "count": 0
           },
           {
            "bin_start": 0.2,
            "bin_end": 0.30000000000000004,
            "count": 0
           },
           {
            "bin_start": 0.30000000000000004,
            "bin_end": 0.4,
            "count": 0
           },
           {
            "bin_start": 0.4,
            "bin_end": 0.5,
            "count": 0
           },
           {
            "bin_start": 0.5,
            "bin_end": 0.6000000000000001,
            "count": 0
           },
           {
            "bin_start": 0.6000000000000001,
            "bin_end": 0.7000000000000001,
            "count": 0
           },
           {
            "bin_start": 0.7000000000000001,
            "bin_end": 0.8,
            "count": 0
           },
           {
            "bin_start": 0.8,
            "bin_end": 0.9,
            "count": 0
           },
           {
            "bin_start": 0.9,
            "bin_end": 1,
            "count": 38
           }
          ]
         }
        },
        {
         "name": "Ethnicity_Asian,Black or African American",
         "dtype": "float64",
         "stats": {
          "unique_count": 1,
          "nan_count": 0,
          "min": "0.0",
          "max": "0.0",
          "histogram": [
           {
            "bin_start": -0.5,
            "bin_end": -0.4,
            "count": 0
           },
           {
            "bin_start": -0.4,
            "bin_end": -0.3,
            "count": 0
           },
           {
            "bin_start": -0.3,
            "bin_end": -0.19999999999999996,
            "count": 0
           },
           {
            "bin_start": -0.19999999999999996,
            "bin_end": -0.09999999999999998,
            "count": 0
           },
           {
            "bin_start": -0.09999999999999998,
            "bin_end": 0,
            "count": 0
           },
           {
            "bin_start": 0,
            "bin_end": 0.10000000000000009,
            "count": 71
           },
           {
            "bin_start": 0.10000000000000009,
            "bin_end": 0.20000000000000007,
            "count": 0
           },
           {
            "bin_start": 0.20000000000000007,
            "bin_end": 0.30000000000000004,
            "count": 0
           },
           {
            "bin_start": 0.30000000000000004,
            "bin_end": 0.4,
            "count": 0
           },
           {
            "bin_start": 0.4,
            "bin_end": 0.5,
            "count": 0
           }
          ]
         }
        },
        {
         "name": "Ethnicity_Asian,Black or African American,Other or Don't Want to Specify",
         "dtype": "float64",
         "stats": {
          "unique_count": 2,
          "nan_count": 0,
          "min": "0.0",
          "max": "1.0",
          "histogram": [
           {
            "bin_start": 0,
            "bin_end": 0.1,
            "count": 70
           },
           {
            "bin_start": 0.1,
            "bin_end": 0.2,
            "count": 0
           },
           {
            "bin_start": 0.2,
            "bin_end": 0.30000000000000004,
            "count": 0
           },
           {
            "bin_start": 0.30000000000000004,
            "bin_end": 0.4,
            "count": 0
           },
           {
            "bin_start": 0.4,
            "bin_end": 0.5,
            "count": 0
           },
           {
            "bin_start": 0.5,
            "bin_end": 0.6000000000000001,
            "count": 0
           },
           {
            "bin_start": 0.6000000000000001,
            "bin_end": 0.7000000000000001,
            "count": 0
           },
           {
            "bin_start": 0.7000000000000001,
            "bin_end": 0.8,
            "count": 0
           },
           {
            "bin_start": 0.8,
            "bin_end": 0.9,
            "count": 0
           },
           {
            "bin_start": 0.9,
            "bin_end": 1,
            "count": 1
           }
          ]
         }
        },
        {
         "name": "Ethnicity_Asian,Other or Don't Want to Specify",
         "dtype": "float64",
         "stats": {
          "unique_count": 2,
          "nan_count": 0,
          "min": "0.0",
          "max": "1.0",
          "histogram": [
           {
            "bin_start": 0,
            "bin_end": 0.1,
            "count": 70
           },
           {
            "bin_start": 0.1,
            "bin_end": 0.2,
            "count": 0
           },
           {
            "bin_start": 0.2,
            "bin_end": 0.30000000000000004,
            "count": 0
           },
           {
            "bin_start": 0.30000000000000004,
            "bin_end": 0.4,
            "count": 0
           },
           {
            "bin_start": 0.4,
            "bin_end": 0.5,
            "count": 0
           },
           {
            "bin_start": 0.5,
            "bin_end": 0.6000000000000001,
            "count": 0
           },
           {
            "bin_start": 0.6000000000000001,
            "bin_end": 0.7000000000000001,
            "count": 0
           },
           {
            "bin_start": 0.7000000000000001,
            "bin_end": 0.8,
            "count": 0
           },
           {
            "bin_start": 0.8,
            "bin_end": 0.9,
            "count": 0
           },
           {
            "bin_start": 0.9,
            "bin_end": 1,
            "count": 1
           }
          ]
         }
        },
        {
         "name": "Ethnicity_Asian,White",
         "dtype": "float64",
         "stats": {
          "unique_count": 2,
          "nan_count": 0,
          "min": "0.0",
          "max": "1.0",
          "histogram": [
           {
            "bin_start": 0,
            "bin_end": 0.1,
            "count": 69
           },
           {
            "bin_start": 0.1,
            "bin_end": 0.2,
            "count": 0
           },
           {
            "bin_start": 0.2,
            "bin_end": 0.30000000000000004,
            "count": 0
           },
           {
            "bin_start": 0.30000000000000004,
            "bin_end": 0.4,
            "count": 0
           },
           {
            "bin_start": 0.4,
            "bin_end": 0.5,
            "count": 0
           },
           {
            "bin_start": 0.5,
            "bin_end": 0.6000000000000001,
            "count": 0
           },
           {
            "bin_start": 0.6000000000000001,
            "bin_end": 0.7000000000000001,
            "count": 0
           },
           {
            "bin_start": 0.7000000000000001,
            "bin_end": 0.8,
            "count": 0
           },
           {
            "bin_start": 0.8,
            "bin_end": 0.9,
            "count": 0
           },
           {
            "bin_start": 0.9,
            "bin_end": 1,
            "count": 2
           }
          ]
         }
        },
        {
         "name": "Ethnicity_Black or African American",
         "dtype": "float64",
         "stats": {
          "unique_count": 2,
          "nan_count": 0,
          "min": "0.0",
          "max": "1.0",
          "histogram": [
           {
            "bin_start": 0,
            "bin_end": 0.1,
            "count": 69
           },
           {
            "bin_start": 0.1,
            "bin_end": 0.2,
            "count": 0
           },
           {
            "bin_start": 0.2,
            "bin_end": 0.30000000000000004,
            "count": 0
           },
           {
            "bin_start": 0.30000000000000004,
            "bin_end": 0.4,
            "count": 0
           },
           {
            "bin_start": 0.4,
            "bin_end": 0.5,
            "count": 0
           },
           {
            "bin_start": 0.5,
            "bin_end": 0.6000000000000001,
            "count": 0
           },
           {
            "bin_start": 0.6000000000000001,
            "bin_end": 0.7000000000000001,
            "count": 0
           },
           {
            "bin_start": 0.7000000000000001,
            "bin_end": 0.8,
            "count": 0
           },
           {
            "bin_start": 0.8,
            "bin_end": 0.9,
            "count": 0
           },
           {
            "bin_start": 0.9,
            "bin_end": 1,
            "count": 2
           }
          ]
         }
        },
        {
         "name": "Ethnicity_Black or African American,Other or Dont Want to Specify",
         "dtype": "float64",
         "stats": {
          "unique_count": 1,
          "nan_count": 0,
          "min": "0.0",
          "max": "0.0",
          "histogram": [
           {
            "bin_start": -0.5,
            "bin_end": -0.4,
            "count": 0
           },
           {
            "bin_start": -0.4,
            "bin_end": -0.3,
            "count": 0
           },
           {
            "bin_start": -0.3,
            "bin_end": -0.19999999999999996,
            "count": 0
           },
           {
            "bin_start": -0.19999999999999996,
            "bin_end": -0.09999999999999998,
            "count": 0
           },
           {
            "bin_start": -0.09999999999999998,
            "bin_end": 0,
            "count": 0
           },
           {
            "bin_start": 0,
            "bin_end": 0.10000000000000009,
            "count": 71
           },
           {
            "bin_start": 0.10000000000000009,
            "bin_end": 0.20000000000000007,
            "count": 0
           },
           {
            "bin_start": 0.20000000000000007,
            "bin_end": 0.30000000000000004,
            "count": 0
           },
           {
            "bin_start": 0.30000000000000004,
            "bin_end": 0.4,
            "count": 0
           },
           {
            "bin_start": 0.4,
            "bin_end": 0.5,
            "count": 0
           }
          ]
         }
        },
        {
         "name": "Ethnicity_Black or African American,White",
         "dtype": "float64",
         "stats": {
          "unique_count": 2,
          "nan_count": 0,
          "min": "0.0",
          "max": "1.0",
          "histogram": [
           {
            "bin_start": 0,
            "bin_end": 0.1,
            "count": 70
           },
           {
            "bin_start": 0.1,
            "bin_end": 0.2,
            "count": 0
           },
           {
            "bin_start": 0.2,
            "bin_end": 0.30000000000000004,
            "count": 0
           },
           {
            "bin_start": 0.30000000000000004,
            "bin_end": 0.4,
            "count": 0
           },
           {
            "bin_start": 0.4,
            "bin_end": 0.5,
            "count": 0
           },
           {
            "bin_start": 0.5,
            "bin_end": 0.6000000000000001,
            "count": 0
           },
           {
            "bin_start": 0.6000000000000001,
            "bin_end": 0.7000000000000001,
            "count": 0
           },
           {
            "bin_start": 0.7000000000000001,
            "bin_end": 0.8,
            "count": 0
           },
           {
            "bin_start": 0.8,
            "bin_end": 0.9,
            "count": 0
           },
           {
            "bin_start": 0.9,
            "bin_end": 1,
            "count": 1
           }
          ]
         }
        },
        {
         "name": "Ethnicity_Native Hawaiian or Other Pacific Islander",
         "dtype": "float64",
         "stats": {
          "unique_count": 1,
          "nan_count": 0,
          "min": "0.0",
          "max": "0.0",
          "histogram": [
           {
            "bin_start": -0.5,
            "bin_end": -0.4,
            "count": 0
           },
           {
            "bin_start": -0.4,
            "bin_end": -0.3,
            "count": 0
           },
           {
            "bin_start": -0.3,
            "bin_end": -0.19999999999999996,
            "count": 0
           },
           {
            "bin_start": -0.19999999999999996,
            "bin_end": -0.09999999999999998,
            "count": 0
           },
           {
            "bin_start": -0.09999999999999998,
            "bin_end": 0,
            "count": 0
           },
           {
            "bin_start": 0,
            "bin_end": 0.10000000000000009,
            "count": 71
           },
           {
            "bin_start": 0.10000000000000009,
            "bin_end": 0.20000000000000007,
            "count": 0
           },
           {
            "bin_start": 0.20000000000000007,
            "bin_end": 0.30000000000000004,
            "count": 0
           },
           {
            "bin_start": 0.30000000000000004,
            "bin_end": 0.4,
            "count": 0
           },
           {
            "bin_start": 0.4,
            "bin_end": 0.5,
            "count": 0
           }
          ]
         }
        },
        {
         "name": "Ethnicity_Native Hawaiian or Other Pacific Islander,Asian",
         "dtype": "float64",
         "stats": {
          "unique_count": 1,
          "nan_count": 0,
          "min": "0.0",
          "max": "0.0",
          "histogram": [
           {
            "bin_start": -0.5,
            "bin_end": -0.4,
            "count": 0
           },
           {
            "bin_start": -0.4,
            "bin_end": -0.3,
            "count": 0
           },
           {
            "bin_start": -0.3,
            "bin_end": -0.19999999999999996,
            "count": 0
           },
           {
            "bin_start": -0.19999999999999996,
            "bin_end": -0.09999999999999998,
            "count": 0
           },
           {
            "bin_start": -0.09999999999999998,
            "bin_end": 0,
            "count": 0
           },
           {
            "bin_start": 0,
            "bin_end": 0.10000000000000009,
            "count": 71
           },
           {
            "bin_start": 0.10000000000000009,
            "bin_end": 0.20000000000000007,
            "count": 0
           },
           {
            "bin_start": 0.20000000000000007,
            "bin_end": 0.30000000000000004,
            "count": 0
           },
           {
            "bin_start": 0.30000000000000004,
            "bin_end": 0.4,
            "count": 0
           },
           {
            "bin_start": 0.4,
            "bin_end": 0.5,
            "count": 0
           }
          ]
         }
        },
        {
         "name": "Ethnicity_Native Hawaiian or Other Pacific Islander,Asian,White",
         "dtype": "float64",
         "stats": {
          "unique_count": 1,
          "nan_count": 0,
          "min": "0.0",
          "max": "0.0",
          "histogram": [
           {
            "bin_start": -0.5,
            "bin_end": -0.4,
            "count": 0
           },
           {
            "bin_start": -0.4,
            "bin_end": -0.3,
            "count": 0
           },
           {
            "bin_start": -0.3,
            "bin_end": -0.19999999999999996,
            "count": 0
           },
           {
            "bin_start": -0.19999999999999996,
            "bin_end": -0.09999999999999998,
            "count": 0
           },
           {
            "bin_start": -0.09999999999999998,
            "bin_end": 0,
            "count": 0
           },
           {
            "bin_start": 0,
            "bin_end": 0.10000000000000009,
            "count": 71
           },
           {
            "bin_start": 0.10000000000000009,
            "bin_end": 0.20000000000000007,
            "count": 0
           },
           {
            "bin_start": 0.20000000000000007,
            "bin_end": 0.30000000000000004,
            "count": 0
           },
           {
            "bin_start": 0.30000000000000004,
            "bin_end": 0.4,
            "count": 0
           },
           {
            "bin_start": 0.4,
            "bin_end": 0.5,
            "count": 0
           }
          ]
         }
        },
        {
         "name": "Ethnicity_Other or Don't Want to Specify",
         "dtype": "float64",
         "stats": {
          "unique_count": 2,
          "nan_count": 0,
          "min": "0.0",
          "max": "1.0",
          "histogram": [
           {
            "bin_start": 0,
            "bin_end": 0.1,
            "count": 65
           },
           {
            "bin_start": 0.1,
            "bin_end": 0.2,
            "count": 0
           },
           {
            "bin_start": 0.2,
            "bin_end": 0.30000000000000004,
            "count": 0
           },
           {
            "bin_start": 0.30000000000000004,
            "bin_end": 0.4,
            "count": 0
           },
           {
            "bin_start": 0.4,
            "bin_end": 0.5,
            "count": 0
           },
           {
            "bin_start": 0.5,
            "bin_end": 0.6000000000000001,
            "count": 0
           },
           {
            "bin_start": 0.6000000000000001,
            "bin_end": 0.7000000000000001,
            "count": 0
           },
           {
            "bin_start": 0.7000000000000001,
            "bin_end": 0.8,
            "count": 0
           },
           {
            "bin_start": 0.8,
            "bin_end": 0.9,
            "count": 0
           },
           {
            "bin_start": 0.9,
            "bin_end": 1,
            "count": 6
           }
          ]
         }
        },
        {
         "name": "Ethnicity_Other or Dont Want to Specify",
         "dtype": "float64",
         "stats": {
          "unique_count": 2,
          "nan_count": 0,
          "min": "0.0",
          "max": "1.0",
          "histogram": [
           {
            "bin_start": 0,
            "bin_end": 0.1,
            "count": 66
           },
           {
            "bin_start": 0.1,
            "bin_end": 0.2,
            "count": 0
           },
           {
            "bin_start": 0.2,
            "bin_end": 0.30000000000000004,
            "count": 0
           },
           {
            "bin_start": 0.30000000000000004,
            "bin_end": 0.4,
            "count": 0
           },
           {
            "bin_start": 0.4,
            "bin_end": 0.5,
            "count": 0
           },
           {
            "bin_start": 0.5,
            "bin_end": 0.6000000000000001,
            "count": 0
           },
           {
            "bin_start": 0.6000000000000001,
            "bin_end": 0.7000000000000001,
            "count": 0
           },
           {
            "bin_start": 0.7000000000000001,
            "bin_end": 0.8,
            "count": 0
           },
           {
            "bin_start": 0.8,
            "bin_end": 0.9,
            "count": 0
           },
           {
            "bin_start": 0.9,
            "bin_end": 1,
            "count": 5
           }
          ]
         }
        },
        {
         "name": "Ethnicity_White",
         "dtype": "float64",
         "stats": {
          "unique_count": 2,
          "nan_count": 0,
          "min": "0.0",
          "max": "1.0",
          "histogram": [
           {
            "bin_start": 0,
            "bin_end": 0.1,
            "count": 57
           },
           {
            "bin_start": 0.1,
            "bin_end": 0.2,
            "count": 0
           },
           {
            "bin_start": 0.2,
            "bin_end": 0.30000000000000004,
            "count": 0
           },
           {
            "bin_start": 0.30000000000000004,
            "bin_end": 0.4,
            "count": 0
           },
           {
            "bin_start": 0.4,
            "bin_end": 0.5,
            "count": 0
           },
           {
            "bin_start": 0.5,
            "bin_end": 0.6000000000000001,
            "count": 0
           },
           {
            "bin_start": 0.6000000000000001,
            "bin_end": 0.7000000000000001,
            "count": 0
           },
           {
            "bin_start": 0.7000000000000001,
            "bin_end": 0.8,
            "count": 0
           },
           {
            "bin_start": 0.8,
            "bin_end": 0.9,
            "count": 0
           },
           {
            "bin_start": 0.9,
            "bin_end": 1,
            "count": 14
           }
          ]
         }
        },
        {
         "name": "Ethnicity_White,Other or Don't Want to Specify",
         "dtype": "float64",
         "stats": {
          "unique_count": 1,
          "nan_count": 0,
          "min": "0.0",
          "max": "0.0",
          "histogram": [
           {
            "bin_start": -0.5,
            "bin_end": -0.4,
            "count": 0
           },
           {
            "bin_start": -0.4,
            "bin_end": -0.3,
            "count": 0
           },
           {
            "bin_start": -0.3,
            "bin_end": -0.19999999999999996,
            "count": 0
           },
           {
            "bin_start": -0.19999999999999996,
            "bin_end": -0.09999999999999998,
            "count": 0
           },
           {
            "bin_start": -0.09999999999999998,
            "bin_end": 0,
            "count": 0
           },
           {
            "bin_start": 0,
            "bin_end": 0.10000000000000009,
            "count": 71
           },
           {
            "bin_start": 0.10000000000000009,
            "bin_end": 0.20000000000000007,
            "count": 0
           },
           {
            "bin_start": 0.20000000000000007,
            "bin_end": 0.30000000000000004,
            "count": 0
           },
           {
            "bin_start": 0.30000000000000004,
            "bin_end": 0.4,
            "count": 0
           },
           {
            "bin_start": 0.4,
            "bin_end": 0.5,
            "count": 0
           }
          ]
         }
        },
        {
         "name": "Ethnicity_White,Other or Dont Want to Specify",
         "dtype": "float64",
         "stats": {
          "unique_count": 1,
          "nan_count": 0,
          "min": "0.0",
          "max": "0.0",
          "histogram": [
           {
            "bin_start": -0.5,
            "bin_end": -0.4,
            "count": 0
           },
           {
            "bin_start": -0.4,
            "bin_end": -0.3,
            "count": 0
           },
           {
            "bin_start": -0.3,
            "bin_end": -0.19999999999999996,
            "count": 0
           },
           {
            "bin_start": -0.19999999999999996,
            "bin_end": -0.09999999999999998,
            "count": 0
           },
           {
            "bin_start": -0.09999999999999998,
            "bin_end": 0,
            "count": 0
           },
           {
            "bin_start": 0,
            "bin_end": 0.10000000000000009,
            "count": 71
           },
           {
            "bin_start": 0.10000000000000009,
            "bin_end": 0.20000000000000007,
            "count": 0
           },
           {
            "bin_start": 0.20000000000000007,
            "bin_end": 0.30000000000000004,
            "count": 0
           },
           {
            "bin_start": 0.30000000000000004,
            "bin_end": 0.4,
            "count": 0
           },
           {
            "bin_start": 0.4,
            "bin_end": 0.5,
            "count": 0
           }
          ]
         }
        },
        {
         "name": "HispanicLatino_I D",
         "dtype": "float64",
         "stats": {
          "unique_count": 1,
          "nan_count": 0,
          "min": "0.0",
          "max": "0.0",
          "histogram": [
           {
            "bin_start": -0.5,
            "bin_end": -0.4,
            "count": 0
           },
           {
            "bin_start": -0.4,
            "bin_end": -0.3,
            "count": 0
           },
           {
            "bin_start": -0.3,
            "bin_end": -0.19999999999999996,
            "count": 0
           },
           {
            "bin_start": -0.19999999999999996,
            "bin_end": -0.09999999999999998,
            "count": 0
           },
           {
            "bin_start": -0.09999999999999998,
            "bin_end": 0,
            "count": 0
           },
           {
            "bin_start": 0,
            "bin_end": 0.10000000000000009,
            "count": 71
           },
           {
            "bin_start": 0.10000000000000009,
            "bin_end": 0.20000000000000007,
            "count": 0
           },
           {
            "bin_start": 0.20000000000000007,
            "bin_end": 0.30000000000000004,
            "count": 0
           },
           {
            "bin_start": 0.30000000000000004,
            "bin_end": 0.4,
            "count": 0
           },
           {
            "bin_start": 0.4,
            "bin_end": 0.5,
            "count": 0
           }
          ]
         }
        },
        {
         "name": "HispanicLatino_No",
         "dtype": "float64",
         "stats": {
          "unique_count": 2,
          "nan_count": 0,
          "min": "0.0",
          "max": "1.0",
          "histogram": [
           {
            "bin_start": 0,
            "bin_end": 0.1,
            "count": 21
           },
           {
            "bin_start": 0.1,
            "bin_end": 0.2,
            "count": 0
           },
           {
            "bin_start": 0.2,
            "bin_end": 0.30000000000000004,
            "count": 0
           },
           {
            "bin_start": 0.30000000000000004,
            "bin_end": 0.4,
            "count": 0
           },
           {
            "bin_start": 0.4,
            "bin_end": 0.5,
            "count": 0
           },
           {
            "bin_start": 0.5,
            "bin_end": 0.6000000000000001,
            "count": 0
           },
           {
            "bin_start": 0.6000000000000001,
            "bin_end": 0.7000000000000001,
            "count": 0
           },
           {
            "bin_start": 0.7000000000000001,
            "bin_end": 0.8,
            "count": 0
           },
           {
            "bin_start": 0.8,
            "bin_end": 0.9,
            "count": 0
           },
           {
            "bin_start": 0.9,
            "bin_end": 1,
            "count": 50
           }
          ]
         }
        },
        {
         "name": "HispanicLatino_Yes",
         "dtype": "float64",
         "stats": {
          "unique_count": 2,
          "nan_count": 0,
          "min": "0.0",
          "max": "1.0",
          "histogram": [
           {
            "bin_start": 0,
            "bin_end": 0.1,
            "count": 50
           },
           {
            "bin_start": 0.1,
            "bin_end": 0.2,
            "count": 0
           },
           {
            "bin_start": 0.2,
            "bin_end": 0.30000000000000004,
            "count": 0
           },
           {
            "bin_start": 0.30000000000000004,
            "bin_end": 0.4,
            "count": 0
           },
           {
            "bin_start": 0.4,
            "bin_end": 0.5,
            "count": 0
           },
           {
            "bin_start": 0.5,
            "bin_end": 0.6000000000000001,
            "count": 0
           },
           {
            "bin_start": 0.6000000000000001,
            "bin_end": 0.7000000000000001,
            "count": 0
           },
           {
            "bin_start": 0.7000000000000001,
            "bin_end": 0.8,
            "count": 0
           },
           {
            "bin_start": 0.8,
            "bin_end": 0.9,
            "count": 0
           },
           {
            "bin_start": 0.9,
            "bin_end": 1,
            "count": 21
           }
          ]
         }
        },
        {
         "name": "hierar_4",
         "dtype": "object",
         "stats": {
          "unique_count": 1,
          "nan_count": 0,
          "categories": [
           {
            "name": "much_benefit",
            "count": 71
           }
          ]
         }
        },
        {
         "name": "_deepnote_index_column",
         "dtype": "int64"
        }
       ],
       "rows": [
        {
         "MR_accpre": 0.652,
         "WM_Zpre": 0.56872888,
         "IC_Zreverse_pre": 0.542494109,
         "NT_Zpre": 0.308362778,
         "TCA_Zscore": 20,
         "CFQMALscore": 34,
         "Avg_grit_amb": 3.175,
         "NEOFFIExtraversion": 1.875,
         "NEOFFIAgreeableness": 3.375,
         "NEOFFIConscientiousness": 3.5,
         "NEOFFIEmotionalstability": 2.875,
         "NEOFFIIntellectorOpenness": 3,
         "VGQHoursCategorySumPastYear_Z": 1.525,
         "ParentalEducationSum": 4,
         "SelfReportedSESRatingSum": 13,
         "Physicalhealth": 3,
         "Physicalfitness": 2,
         "Psychohealth": 2,
         "Gamified_Gamified": 0,
         "Gamified_Nongamified": 1,
         "Difficulty_Difficult": 0,
         "Difficulty_Middle": 0,
         "Difficulty_Moderate": 1,
         "Difficulty_hard": 0,
         "Bilingual_Bilingual": 1,
         "Bilingual_Monolingual": 0,
         "Gender_Female": 1,
         "Gender_Male": 0,
         "Gender_Other or Don't Want to Specify": 0,
         "Ethnicity_American Indian/Alaska Native": 0,
         "Ethnicity_American Indian/Alaska Native,Native Hawaiian or Other Pacific Islander": 0,
         "Ethnicity_American Indian/Alaska Native,White": 0,
         "Ethnicity_Asian": 1,
         "Ethnicity_Asian,Black or African American": 0,
         "Ethnicity_Asian,Black or African American,Other or Don't Want to Specify": 0,
         "Ethnicity_Asian,Other or Don't Want to Specify": 0,
         "Ethnicity_Asian,White": 0,
         "Ethnicity_Black or African American": 0,
         "Ethnicity_Black or African American,Other or Dont Want to Specify": 0,
         "Ethnicity_Black or African American,White": 0,
         "Ethnicity_Native Hawaiian or Other Pacific Islander": 0,
         "Ethnicity_Native Hawaiian or Other Pacific Islander,Asian": 0,
         "Ethnicity_Native Hawaiian or Other Pacific Islander,Asian,White": 0,
         "Ethnicity_Other or Don't Want to Specify": 0,
         "Ethnicity_Other or Dont Want to Specify": 0,
         "Ethnicity_White": 0,
         "Ethnicity_White,Other or Don't Want to Specify": 0,
         "Ethnicity_White,Other or Dont Want to Specify": 0,
         "HispanicLatino_I D": 0,
         "HispanicLatino_No": 1,
         "HispanicLatino_Yes": 0,
         "hierar_4": "much_benefit",
         "_deepnote_index_column": 2
        },
        {
         "MR_accpre": 0.783,
         "WM_Zpre": 0.98351345,
         "IC_Zreverse_pre": 0.32752418,
         "NT_Zpre": 0.73229548,
         "TCA_Zscore": 25,
         "CFQMALscore": 26,
         "Avg_grit_amb": 2.9375,
         "NEOFFIExtraversion": 2.75,
         "NEOFFIAgreeableness": 4.75,
         "NEOFFIConscientiousness": 4.125,
         "NEOFFIEmotionalstability": 2.375,
         "NEOFFIIntellectorOpenness": 3,
         "VGQHoursCategorySumPastYear_Z": -0.126,
         "ParentalEducationSum": 5,
         "SelfReportedSESRatingSum": 10,
         "Physicalhealth": 3,
         "Physicalfitness": 3,
         "Psychohealth": 4,
         "Gamified_Gamified": 1,
         "Gamified_Nongamified": 0,
         "Difficulty_Difficult": 0,
         "Difficulty_Middle": 0,
         "Difficulty_Moderate": 1,
         "Difficulty_hard": 0,
         "Bilingual_Bilingual": 0,
         "Bilingual_Monolingual": 1,
         "Gender_Female": 1,
         "Gender_Male": 0,
         "Gender_Other or Don't Want to Specify": 0,
         "Ethnicity_American Indian/Alaska Native": 0,
         "Ethnicity_American Indian/Alaska Native,Native Hawaiian or Other Pacific Islander": 0,
         "Ethnicity_American Indian/Alaska Native,White": 0,
         "Ethnicity_Asian": 1,
         "Ethnicity_Asian,Black or African American": 0,
         "Ethnicity_Asian,Black or African American,Other or Don't Want to Specify": 0,
         "Ethnicity_Asian,Other or Don't Want to Specify": 0,
         "Ethnicity_Asian,White": 0,
         "Ethnicity_Black or African American": 0,
         "Ethnicity_Black or African American,Other or Dont Want to Specify": 0,
         "Ethnicity_Black or African American,White": 0,
         "Ethnicity_Native Hawaiian or Other Pacific Islander": 0,
         "Ethnicity_Native Hawaiian or Other Pacific Islander,Asian": 0,
         "Ethnicity_Native Hawaiian or Other Pacific Islander,Asian,White": 0,
         "Ethnicity_Other or Don't Want to Specify": 0,
         "Ethnicity_Other or Dont Want to Specify": 0,
         "Ethnicity_White": 0,
         "Ethnicity_White,Other or Don't Want to Specify": 0,
         "Ethnicity_White,Other or Dont Want to Specify": 0,
         "HispanicLatino_I D": 0,
         "HispanicLatino_No": 1,
         "HispanicLatino_Yes": 0,
         "hierar_4": "much_benefit",
         "_deepnote_index_column": 17
        },
        {
         "MR_accpre": 0.826,
         "WM_Zpre": 0.725802424,
         "IC_Zreverse_pre": 0.508837201,
         "NT_Zpre": 0.220796245,
         "TCA_Zscore": 24,
         "CFQMALscore": 27,
         "Avg_grit_amb": 2.75,
         "NEOFFIExtraversion": 2.375,
         "NEOFFIAgreeableness": 4.125,
         "NEOFFIConscientiousness": 2.5,
         "NEOFFIEmotionalstability": 2.5,
         "NEOFFIIntellectorOpenness": 3.25,
         "VGQHoursCategorySumPastYear_Z": 1.635,
         "ParentalEducationSum": 4,
         "SelfReportedSESRatingSum": 10,
         "Physicalhealth": 3,
         "Physicalfitness": 2,
         "Psychohealth": 2,
         "Gamified_Gamified": 1,
         "Gamified_Nongamified": 0,
         "Difficulty_Difficult": 0,
         "Difficulty_Middle": 0,
         "Difficulty_Moderate": 1,
         "Difficulty_hard": 0,
         "Bilingual_Bilingual": 1,
         "Bilingual_Monolingual": 0,
         "Gender_Female": 0,
         "Gender_Male": 0,
         "Gender_Other or Don't Want to Specify": 1,
         "Ethnicity_American Indian/Alaska Native": 0,
         "Ethnicity_American Indian/Alaska Native,Native Hawaiian or Other Pacific Islander": 0,
         "Ethnicity_American Indian/Alaska Native,White": 0,
         "Ethnicity_Asian": 1,
         "Ethnicity_Asian,Black or African American": 0,
         "Ethnicity_Asian,Black or African American,Other or Don't Want to Specify": 0,
         "Ethnicity_Asian,Other or Don't Want to Specify": 0,
         "Ethnicity_Asian,White": 0,
         "Ethnicity_Black or African American": 0,
         "Ethnicity_Black or African American,Other or Dont Want to Specify": 0,
         "Ethnicity_Black or African American,White": 0,
         "Ethnicity_Native Hawaiian or Other Pacific Islander": 0,
         "Ethnicity_Native Hawaiian or Other Pacific Islander,Asian": 0,
         "Ethnicity_Native Hawaiian or Other Pacific Islander,Asian,White": 0,
         "Ethnicity_Other or Don't Want to Specify": 0,
         "Ethnicity_Other or Dont Want to Specify": 0,
         "Ethnicity_White": 0,
         "Ethnicity_White,Other or Don't Want to Specify": 0,
         "Ethnicity_White,Other or Dont Want to Specify": 0,
         "HispanicLatino_I D": 0,
         "HispanicLatino_No": 1,
         "HispanicLatino_Yes": 0,
         "hierar_4": "much_benefit",
         "_deepnote_index_column": 21
        },
        {
         "MR_accpre": 0.826,
         "WM_Zpre": -0.619188765,
         "IC_Zreverse_pre": 0.291288719,
         "NT_Zpre": 0.73229548,
         "TCA_Zscore": 17,
         "CFQMALscore": 25,
         "Avg_grit_amb": 3.7375,
         "NEOFFIExtraversion": 2.125,
         "NEOFFIAgreeableness": 3.125,
         "NEOFFIConscientiousness": 4.25,
         "NEOFFIEmotionalstability": 3,
         "NEOFFIIntellectorOpenness": 3.5,
         "VGQHoursCategorySumPastYear_Z": -0.786,
         "ParentalEducationSum": 2,
         "SelfReportedSESRatingSum": 16,
         "Physicalhealth": 2,
         "Physicalfitness": 3,
         "Psychohealth": 2,
         "Gamified_Gamified": 1,
         "Gamified_Nongamified": 0,
         "Difficulty_Difficult": 0,
         "Difficulty_Middle": 0,
         "Difficulty_Moderate": 0,
         "Difficulty_hard": 1,
         "Bilingual_Bilingual": 0,
         "Bilingual_Monolingual": 1,
         "Gender_Female": 1,
         "Gender_Male": 0,
         "Gender_Other or Don't Want to Specify": 0,
         "Ethnicity_American Indian/Alaska Native": 0,
         "Ethnicity_American Indian/Alaska Native,Native Hawaiian or Other Pacific Islander": 0,
         "Ethnicity_American Indian/Alaska Native,White": 0,
         "Ethnicity_Asian": 0,
         "Ethnicity_Asian,Black or African American": 0,
         "Ethnicity_Asian,Black or African American,Other or Don't Want to Specify": 0,
         "Ethnicity_Asian,Other or Don't Want to Specify": 0,
         "Ethnicity_Asian,White": 1,
         "Ethnicity_Black or African American": 0,
         "Ethnicity_Black or African American,Other or Dont Want to Specify": 0,
         "Ethnicity_Black or African American,White": 0,
         "Ethnicity_Native Hawaiian or Other Pacific Islander": 0,
         "Ethnicity_Native Hawaiian or Other Pacific Islander,Asian": 0,
         "Ethnicity_Native Hawaiian or Other Pacific Islander,Asian,White": 0,
         "Ethnicity_Other or Don't Want to Specify": 0,
         "Ethnicity_Other or Dont Want to Specify": 0,
         "Ethnicity_White": 0,
         "Ethnicity_White,Other or Don't Want to Specify": 0,
         "Ethnicity_White,Other or Dont Want to Specify": 0,
         "HispanicLatino_I D": 0,
         "HispanicLatino_No": 1,
         "HispanicLatino_Yes": 0,
         "hierar_4": "much_benefit",
         "_deepnote_index_column": 24
        },
        {
         "MR_accpre": 0.696,
         "WM_Zpre": 1.555371564,
         "IC_Zreverse_pre": 0.201989342,
         "NT_Zpre": 0.350699426,
         "TCA_Zscore": 25,
         "CFQMALscore": 18,
         "Avg_grit_amb": 4.375,
         "NEOFFIExtraversion": 3.5,
         "NEOFFIAgreeableness": 4.25,
         "NEOFFIConscientiousness": 4,
         "NEOFFIEmotionalstability": 3.75,
         "NEOFFIIntellectorOpenness": 3.5,
         "VGQHoursCategorySumPastYear_Z": 0.094,
         "ParentalEducationSum": 6,
         "SelfReportedSESRatingSum": 8,
         "Physicalhealth": 5,
         "Physicalfitness": 5,
         "Psychohealth": 5,
         "Gamified_Gamified": 0,
         "Gamified_Nongamified": 1,
         "Difficulty_Difficult": 0,
         "Difficulty_Middle": 0,
         "Difficulty_Moderate": 1,
         "Difficulty_hard": 0,
         "Bilingual_Bilingual": 1,
         "Bilingual_Monolingual": 0,
         "Gender_Female": 0,
         "Gender_Male": 1,
         "Gender_Other or Don't Want to Specify": 0,
         "Ethnicity_American Indian/Alaska Native": 0,
         "Ethnicity_American Indian/Alaska Native,Native Hawaiian or Other Pacific Islander": 0,
         "Ethnicity_American Indian/Alaska Native,White": 0,
         "Ethnicity_Asian": 1,
         "Ethnicity_Asian,Black or African American": 0,
         "Ethnicity_Asian,Black or African American,Other or Don't Want to Specify": 0,
         "Ethnicity_Asian,Other or Don't Want to Specify": 0,
         "Ethnicity_Asian,White": 0,
         "Ethnicity_Black or African American": 0,
         "Ethnicity_Black or African American,Other or Dont Want to Specify": 0,
         "Ethnicity_Black or African American,White": 0,
         "Ethnicity_Native Hawaiian or Other Pacific Islander": 0,
         "Ethnicity_Native Hawaiian or Other Pacific Islander,Asian": 0,
         "Ethnicity_Native Hawaiian or Other Pacific Islander,Asian,White": 0,
         "Ethnicity_Other or Don't Want to Specify": 0,
         "Ethnicity_Other or Dont Want to Specify": 0,
         "Ethnicity_White": 0,
         "Ethnicity_White,Other or Don't Want to Specify": 0,
         "Ethnicity_White,Other or Dont Want to Specify": 0,
         "HispanicLatino_I D": 0,
         "HispanicLatino_No": 1,
         "HispanicLatino_Yes": 0,
         "hierar_4": "much_benefit",
         "_deepnote_index_column": 33
        },
        {
         "MR_accpre": 0.87,
         "WM_Zpre": 0.56872888,
         "IC_Zreverse_pre": -0.444006149,
         "NT_Zpre": 1.309642954,
         "TCA_Zscore": 22,
         "CFQMALscore": 19,
         "Avg_grit_amb": 3.5,
         "NEOFFIExtraversion": 2.125,
         "NEOFFIAgreeableness": 4.125,
         "NEOFFIConscientiousness": 3.875,
         "NEOFFIEmotionalstability": 4.5,
         "NEOFFIIntellectorOpenness": 3.25,
         "VGQHoursCategorySumPastYear_Z": 2.296,
         "ParentalEducationSum": 4,
         "SelfReportedSESRatingSum": 14,
         "Physicalhealth": 3,
         "Physicalfitness": 2,
         "Psychohealth": 3,
         "Gamified_Gamified": 0,
         "Gamified_Nongamified": 1,
         "Difficulty_Difficult": 0,
         "Difficulty_Middle": 0,
         "Difficulty_Moderate": 1,
         "Difficulty_hard": 0,
         "Bilingual_Bilingual": 0,
         "Bilingual_Monolingual": 1,
         "Gender_Female": 0,
         "Gender_Male": 1,
         "Gender_Other or Don't Want to Specify": 0,
         "Ethnicity_American Indian/Alaska Native": 0,
         "Ethnicity_American Indian/Alaska Native,Native Hawaiian or Other Pacific Islander": 0,
         "Ethnicity_American Indian/Alaska Native,White": 0,
         "Ethnicity_Asian": 1,
         "Ethnicity_Asian,Black or African American": 0,
         "Ethnicity_Asian,Black or African American,Other or Don't Want to Specify": 0,
         "Ethnicity_Asian,Other or Don't Want to Specify": 0,
         "Ethnicity_Asian,White": 0,
         "Ethnicity_Black or African American": 0,
         "Ethnicity_Black or African American,Other or Dont Want to Specify": 0,
         "Ethnicity_Black or African American,White": 0,
         "Ethnicity_Native Hawaiian or Other Pacific Islander": 0,
         "Ethnicity_Native Hawaiian or Other Pacific Islander,Asian": 0,
         "Ethnicity_Native Hawaiian or Other Pacific Islander,Asian,White": 0,
         "Ethnicity_Other or Don't Want to Specify": 0,
         "Ethnicity_Other or Dont Want to Specify": 0,
         "Ethnicity_White": 0,
         "Ethnicity_White,Other or Don't Want to Specify": 0,
         "Ethnicity_White,Other or Dont Want to Specify": 0,
         "HispanicLatino_I D": 0,
         "HispanicLatino_No": 1,
         "HispanicLatino_Yes": 0,
         "hierar_4": "much_benefit",
         "_deepnote_index_column": 50
        },
        {
         "MR_accpre": 0.565,
         "WM_Zpre": -0.36147774,
         "IC_Zreverse_pre": 1.291631737,
         "NT_Zpre": -0.031693963,
         "TCA_Zscore": 21,
         "CFQMALscore": 22,
         "Avg_grit_amb": 3.85,
         "NEOFFIExtraversion": 3.375,
         "NEOFFIAgreeableness": 3.625,
         "NEOFFIConscientiousness": 3.875,
         "NEOFFIEmotionalstability": 3.625,
         "NEOFFIIntellectorOpenness": 3.625,
         "VGQHoursCategorySumPastYear_Z": 2.736,
         "ParentalEducationSum": 5,
         "SelfReportedSESRatingSum": 9,
         "Physicalhealth": 3,
         "Physicalfitness": 3,
         "Psychohealth": 4,
         "Gamified_Gamified": 0,
         "Gamified_Nongamified": 1,
         "Difficulty_Difficult": 0,
         "Difficulty_Middle": 0,
         "Difficulty_Moderate": 1,
         "Difficulty_hard": 0,
         "Bilingual_Bilingual": 1,
         "Bilingual_Monolingual": 0,
         "Gender_Female": 1,
         "Gender_Male": 0,
         "Gender_Other or Don't Want to Specify": 0,
         "Ethnicity_American Indian/Alaska Native": 0,
         "Ethnicity_American Indian/Alaska Native,Native Hawaiian or Other Pacific Islander": 0,
         "Ethnicity_American Indian/Alaska Native,White": 0,
         "Ethnicity_Asian": 1,
         "Ethnicity_Asian,Black or African American": 0,
         "Ethnicity_Asian,Black or African American,Other or Don't Want to Specify": 0,
         "Ethnicity_Asian,Other or Don't Want to Specify": 0,
         "Ethnicity_Asian,White": 0,
         "Ethnicity_Black or African American": 0,
         "Ethnicity_Black or African American,Other or Dont Want to Specify": 0,
         "Ethnicity_Black or African American,White": 0,
         "Ethnicity_Native Hawaiian or Other Pacific Islander": 0,
         "Ethnicity_Native Hawaiian or Other Pacific Islander,Asian": 0,
         "Ethnicity_Native Hawaiian or Other Pacific Islander,Asian,White": 0,
         "Ethnicity_Other or Don't Want to Specify": 0,
         "Ethnicity_Other or Dont Want to Specify": 0,
         "Ethnicity_White": 0,
         "Ethnicity_White,Other or Don't Want to Specify": 0,
         "Ethnicity_White,Other or Dont Want to Specify": 0,
         "HispanicLatino_I D": 0,
         "HispanicLatino_No": 1,
         "HispanicLatino_Yes": 0,
         "hierar_4": "much_benefit",
         "_deepnote_index_column": 55
        },
        {
         "MR_accpre": 0.565,
         "WM_Zpre": 0.882875969,
         "IC_Zreverse_pre": 0.268624591,
         "NT_Zpre": 0.372288691,
         "TCA_Zscore": 19,
         "CFQMALscore": 26,
         "Avg_grit_amb": 3.2375,
         "NEOFFIExtraversion": 4.5,
         "NEOFFIAgreeableness": 4.75,
         "NEOFFIConscientiousness": 4,
         "NEOFFIEmotionalstability": 3.125,
         "NEOFFIIntellectorOpenness": 2.75,
         "VGQHoursCategorySumPastYear_Z": -0.236,
         "ParentalEducationSum": 3,
         "SelfReportedSESRatingSum": 9,
         "Physicalhealth": 4,
         "Physicalfitness": 4,
         "Psychohealth": 3,
         "Gamified_Gamified": 1,
         "Gamified_Nongamified": 0,
         "Difficulty_Difficult": 0,
         "Difficulty_Middle": 0,
         "Difficulty_Moderate": 1,
         "Difficulty_hard": 0,
         "Bilingual_Bilingual": 1,
         "Bilingual_Monolingual": 0,
         "Gender_Female": 0,
         "Gender_Male": 1,
         "Gender_Other or Don't Want to Specify": 0,
         "Ethnicity_American Indian/Alaska Native": 0,
         "Ethnicity_American Indian/Alaska Native,Native Hawaiian or Other Pacific Islander": 0,
         "Ethnicity_American Indian/Alaska Native,White": 0,
         "Ethnicity_Asian": 0,
         "Ethnicity_Asian,Black or African American": 0,
         "Ethnicity_Asian,Black or African American,Other or Don't Want to Specify": 0,
         "Ethnicity_Asian,Other or Don't Want to Specify": 0,
         "Ethnicity_Asian,White": 0,
         "Ethnicity_Black or African American": 0,
         "Ethnicity_Black or African American,Other or Dont Want to Specify": 0,
         "Ethnicity_Black or African American,White": 0,
         "Ethnicity_Native Hawaiian or Other Pacific Islander": 0,
         "Ethnicity_Native Hawaiian or Other Pacific Islander,Asian": 0,
         "Ethnicity_Native Hawaiian or Other Pacific Islander,Asian,White": 0,
         "Ethnicity_Other or Don't Want to Specify": 0,
         "Ethnicity_Other or Dont Want to Specify": 0,
         "Ethnicity_White": 1,
         "Ethnicity_White,Other or Don't Want to Specify": 0,
         "Ethnicity_White,Other or Dont Want to Specify": 0,
         "HispanicLatino_I D": 0,
         "HispanicLatino_No": 0,
         "HispanicLatino_Yes": 1,
         "hierar_4": "much_benefit",
         "_deepnote_index_column": 115
        },
        {
         "MR_accpre": 0.478,
         "WM_Zpre": 0.153944311,
         "IC_Zreverse_pre": -0.405463561,
         "NT_Zpre": 0.768562547,
         "TCA_Zscore": 22,
         "CFQMALscore": 20,
         "Avg_grit_amb": 4.4,
         "NEOFFIExtraversion": 3.625,
         "NEOFFIAgreeableness": 4,
         "NEOFFIConscientiousness": 3,
         "NEOFFIEmotionalstability": 3.625,
         "NEOFFIIntellectorOpenness": 4.625,
         "VGQHoursCategorySumPastYear_Z": -1.007,
         "ParentalEducationSum": 5,
         "SelfReportedSESRatingSum": 10,
         "Physicalhealth": 5,
         "Physicalfitness": 3,
         "Psychohealth": 3,
         "Gamified_Gamified": 1,
         "Gamified_Nongamified": 0,
         "Difficulty_Difficult": 0,
         "Difficulty_Middle": 0,
         "Difficulty_Moderate": 1,
         "Difficulty_hard": 0,
         "Bilingual_Bilingual": 0,
         "Bilingual_Monolingual": 1,
         "Gender_Female": 1,
         "Gender_Male": 0,
         "Gender_Other or Don't Want to Specify": 0,
         "Ethnicity_American Indian/Alaska Native": 0,
         "Ethnicity_American Indian/Alaska Native,Native Hawaiian or Other Pacific Islander": 0,
         "Ethnicity_American Indian/Alaska Native,White": 0,
         "Ethnicity_Asian": 0,
         "Ethnicity_Asian,Black or African American": 0,
         "Ethnicity_Asian,Black or African American,Other or Don't Want to Specify": 0,
         "Ethnicity_Asian,Other or Don't Want to Specify": 0,
         "Ethnicity_Asian,White": 0,
         "Ethnicity_Black or African American": 0,
         "Ethnicity_Black or African American,Other or Dont Want to Specify": 0,
         "Ethnicity_Black or African American,White": 0,
         "Ethnicity_Native Hawaiian or Other Pacific Islander": 0,
         "Ethnicity_Native Hawaiian or Other Pacific Islander,Asian": 0,
         "Ethnicity_Native Hawaiian or Other Pacific Islander,Asian,White": 0,
         "Ethnicity_Other or Don't Want to Specify": 0,
         "Ethnicity_Other or Dont Want to Specify": 0,
         "Ethnicity_White": 1,
         "Ethnicity_White,Other or Don't Want to Specify": 0,
         "Ethnicity_White,Other or Dont Want to Specify": 0,
         "HispanicLatino_I D": 0,
         "HispanicLatino_No": 1,
         "HispanicLatino_Yes": 0,
         "hierar_4": "much_benefit",
         "_deepnote_index_column": 126
        },
        {
         "MR_accpre": 0.478,
         "WM_Zpre": 0.468091399,
         "IC_Zreverse_pre": 1.289188897,
         "NT_Zpre": 0.047592003,
         "TCA_Zscore": 14,
         "CFQMALscore": 26,
         "Avg_grit_amb": 3.5875,
         "NEOFFIExtraversion": 3.5,
         "NEOFFIAgreeableness": 4.125,
         "NEOFFIConscientiousness": 4,
         "NEOFFIEmotionalstability": 3.625,
         "NEOFFIIntellectorOpenness": 3.625,
         "VGQHoursCategorySumPastYear_Z": 1.746,
         "ParentalEducationSum": 3,
         "SelfReportedSESRatingSum": 14,
         "Physicalhealth": 3,
         "Physicalfitness": 2,
         "Psychohealth": 3,
         "Gamified_Gamified": 1,
         "Gamified_Nongamified": 0,
         "Difficulty_Difficult": 0,
         "Difficulty_Middle": 0,
         "Difficulty_Moderate": 0,
         "Difficulty_hard": 1,
         "Bilingual_Bilingual": 1,
         "Bilingual_Monolingual": 0,
         "Gender_Female": 1,
         "Gender_Male": 0,
         "Gender_Other or Don't Want to Specify": 0,
         "Ethnicity_American Indian/Alaska Native": 0,
         "Ethnicity_American Indian/Alaska Native,Native Hawaiian or Other Pacific Islander": 0,
         "Ethnicity_American Indian/Alaska Native,White": 0,
         "Ethnicity_Asian": 1,
         "Ethnicity_Asian,Black or African American": 0,
         "Ethnicity_Asian,Black or African American,Other or Don't Want to Specify": 0,
         "Ethnicity_Asian,Other or Don't Want to Specify": 0,
         "Ethnicity_Asian,White": 0,
         "Ethnicity_Black or African American": 0,
         "Ethnicity_Black or African American,Other or Dont Want to Specify": 0,
         "Ethnicity_Black or African American,White": 0,
         "Ethnicity_Native Hawaiian or Other Pacific Islander": 0,
         "Ethnicity_Native Hawaiian or Other Pacific Islander,Asian": 0,
         "Ethnicity_Native Hawaiian or Other Pacific Islander,Asian,White": 0,
         "Ethnicity_Other or Don't Want to Specify": 0,
         "Ethnicity_Other or Dont Want to Specify": 0,
         "Ethnicity_White": 0,
         "Ethnicity_White,Other or Don't Want to Specify": 0,
         "Ethnicity_White,Other or Dont Want to Specify": 0,
         "HispanicLatino_I D": 0,
         "HispanicLatino_No": 0,
         "HispanicLatino_Yes": 1,
         "hierar_4": "much_benefit",
         "_deepnote_index_column": 157
        }
       ]
      },
      "text/plain": "        MR_accpre   WM_Zpre  IC_Zreverse_pre   NT_Zpre  TCA_Zscore  \\\nUnique                                                               \n1           0.348  0.210380        -2.517163  0.080728      15.000   \n2           0.652  0.568729         0.542494  0.308363      20.000   \n3           0.565 -1.807106        -0.236908  0.581092      24.000   \n5           0.565 -0.047331         1.309682 -0.522600      17.000   \n7           0.739 -0.047331         0.219768  0.107500      26.000   \n...           ...       ...              ...       ...         ...   \n930         0.786  0.468091        -1.030518  1.693579      -0.665   \n931         0.952  0.053307        -0.085044  0.010611      19.000   \n932         0.500 -0.204404        -0.142153 -1.535980      13.000   \n933         0.643 -0.562753        -1.086500 -2.227808      25.000   \n935         0.643  0.210380         0.928843 -0.917537      20.000   \n\n        CFQMALscore  Avg_grit_amb  NEOFFIExtraversion  NEOFFIAgreeableness  \\\nUnique                                                                       \n1              17.0        4.2750               4.125                4.625   \n2              34.0        3.1750               1.875                3.375   \n3              23.0        4.1375               3.000                4.875   \n5              21.0        3.4125               3.250                3.625   \n7              24.0        3.8500               2.500                4.375   \n...             ...           ...                 ...                  ...   \n930            35.0        3.6125               4.125                4.625   \n931            20.0        3.2375               3.375                4.125   \n932            28.0        2.2500               1.500                3.750   \n933            27.0        2.9125               2.000                3.750   \n935            23.0        4.2000               3.625                3.875   \n\n        NEOFFIConscientiousness  ...  \\\nUnique                           ...   \n1                         4.375  ...   \n2                         3.500  ...   \n3                         4.000  ...   \n5                         4.375  ...   \n7                         3.250  ...   \n...                         ...  ...   \n930                       2.625  ...   \n931                       3.625  ...   \n932                       3.125  ...   \n933                       2.250  ...   \n935                       4.000  ...   \n\n        Ethnicity_Native Hawaiian or Other Pacific Islander,Asian,White  \\\nUnique                                                                    \n1                                                     0.0                 \n2                                                     0.0                 \n3                                                     0.0                 \n5                                                     0.0                 \n7                                                     0.0                 \n...                                                   ...                 \n930                                                   0.0                 \n931                                                   0.0                 \n932                                                   0.0                 \n933                                                   0.0                 \n935                                                   0.0                 \n\n        Ethnicity_Other or Don't Want to Specify  \\\nUnique                                             \n1                                            0.0   \n2                                            0.0   \n3                                            0.0   \n5                                            0.0   \n7                                            0.0   \n...                                          ...   \n930                                          0.0   \n931                                          0.0   \n932                                          0.0   \n933                                          0.0   \n935                                          0.0   \n\n        Ethnicity_Other or Dont Want to Specify  Ethnicity_White  \\\nUnique                                                             \n1                                           0.0              0.0   \n2                                           0.0              0.0   \n3                                           0.0              0.0   \n5                                           0.0              0.0   \n7                                           0.0              1.0   \n...                                         ...              ...   \n930                                         0.0              0.0   \n931                                         0.0              0.0   \n932                                         0.0              0.0   \n933                                         0.0              0.0   \n935                                         0.0              1.0   \n\n        Ethnicity_White,Other or Don't Want to Specify  \\\nUnique                                                   \n1                                                  0.0   \n2                                                  0.0   \n3                                                  0.0   \n5                                                  0.0   \n7                                                  0.0   \n...                                                ...   \n930                                                0.0   \n931                                                0.0   \n932                                                0.0   \n933                                                0.0   \n935                                                0.0   \n\n        Ethnicity_White,Other or Dont Want to Specify  HispanicLatino_I D  \\\nUnique                                                                      \n1                                                 0.0                 0.0   \n2                                                 0.0                 0.0   \n3                                                 0.0                 0.0   \n5                                                 0.0                 0.0   \n7                                                 0.0                 0.0   \n...                                               ...                 ...   \n930                                               0.0                 0.0   \n931                                               0.0                 0.0   \n932                                               0.0                 0.0   \n933                                               0.0                 0.0   \n935                                               0.0                 0.0   \n\n        HispanicLatino_No  HispanicLatino_Yes       hierar_4  \nUnique                                                        \n1                     1.0                 0.0  short_benefit  \n2                     1.0                 0.0   much_benefit  \n3                     1.0                 0.0  short_benefit  \n5                     1.0                 0.0  short_benefit  \n7                     0.0                 1.0  short_benefit  \n...                   ...                 ...            ...  \n930                   1.0                 0.0   long_benefit  \n931                   1.0                 0.0   long_benefit  \n932                   1.0                 0.0   long_benefit  \n933                   1.0                 0.0   long_benefit  \n935                   1.0                 0.0   long_benefit  \n\n[465 rows x 52 columns]",
      "text/html": "<div>\n<style scoped>\n    .dataframe tbody tr th:only-of-type {\n        vertical-align: middle;\n    }\n\n    .dataframe tbody tr th {\n        vertical-align: top;\n    }\n\n    .dataframe thead th {\n        text-align: right;\n    }\n</style>\n<table border=\"1\" class=\"dataframe\">\n  <thead>\n    <tr style=\"text-align: right;\">\n      <th></th>\n      <th>MR_accpre</th>\n      <th>WM_Zpre</th>\n      <th>IC_Zreverse_pre</th>\n      <th>NT_Zpre</th>\n      <th>TCA_Zscore</th>\n      <th>CFQMALscore</th>\n      <th>Avg_grit_amb</th>\n      <th>NEOFFIExtraversion</th>\n      <th>NEOFFIAgreeableness</th>\n      <th>NEOFFIConscientiousness</th>\n      <th>...</th>\n      <th>Ethnicity_Native Hawaiian or Other Pacific Islander,Asian,White</th>\n      <th>Ethnicity_Other or Don't Want to Specify</th>\n      <th>Ethnicity_Other or Dont Want to Specify</th>\n      <th>Ethnicity_White</th>\n      <th>Ethnicity_White,Other or Don't Want to Specify</th>\n      <th>Ethnicity_White,Other or Dont Want to Specify</th>\n      <th>HispanicLatino_I D</th>\n      <th>HispanicLatino_No</th>\n      <th>HispanicLatino_Yes</th>\n      <th>hierar_4</th>\n    </tr>\n    <tr>\n      <th>Unique</th>\n      <th></th>\n      <th></th>\n      <th></th>\n      <th></th>\n      <th></th>\n      <th></th>\n      <th></th>\n      <th></th>\n      <th></th>\n      <th></th>\n      <th></th>\n      <th></th>\n      <th></th>\n      <th></th>\n      <th></th>\n      <th></th>\n      <th></th>\n      <th></th>\n      <th></th>\n      <th></th>\n      <th></th>\n    </tr>\n  </thead>\n  <tbody>\n    <tr>\n      <th>1</th>\n      <td>0.348</td>\n      <td>0.210380</td>\n      <td>-2.517163</td>\n      <td>0.080728</td>\n      <td>15.000</td>\n      <td>17.0</td>\n      <td>4.2750</td>\n      <td>4.125</td>\n      <td>4.625</td>\n      <td>4.375</td>\n      <td>...</td>\n      <td>0.0</td>\n      <td>0.0</td>\n      <td>0.0</td>\n      <td>0.0</td>\n      <td>0.0</td>\n      <td>0.0</td>\n      <td>0.0</td>\n      <td>1.0</td>\n      <td>0.0</td>\n      <td>short_benefit</td>\n    </tr>\n    <tr>\n      <th>2</th>\n      <td>0.652</td>\n      <td>0.568729</td>\n      <td>0.542494</td>\n      <td>0.308363</td>\n      <td>20.000</td>\n      <td>34.0</td>\n      <td>3.1750</td>\n      <td>1.875</td>\n      <td>3.375</td>\n      <td>3.500</td>\n      <td>...</td>\n      <td>0.0</td>\n      <td>0.0</td>\n      <td>0.0</td>\n      <td>0.0</td>\n      <td>0.0</td>\n      <td>0.0</td>\n      <td>0.0</td>\n      <td>1.0</td>\n      <td>0.0</td>\n      <td>much_benefit</td>\n    </tr>\n    <tr>\n      <th>3</th>\n      <td>0.565</td>\n      <td>-1.807106</td>\n      <td>-0.236908</td>\n      <td>0.581092</td>\n      <td>24.000</td>\n      <td>23.0</td>\n      <td>4.1375</td>\n      <td>3.000</td>\n      <td>4.875</td>\n      <td>4.000</td>\n      <td>...</td>\n      <td>0.0</td>\n      <td>0.0</td>\n      <td>0.0</td>\n      <td>0.0</td>\n      <td>0.0</td>\n      <td>0.0</td>\n      <td>0.0</td>\n      <td>1.0</td>\n      <td>0.0</td>\n      <td>short_benefit</td>\n    </tr>\n    <tr>\n      <th>5</th>\n      <td>0.565</td>\n      <td>-0.047331</td>\n      <td>1.309682</td>\n      <td>-0.522600</td>\n      <td>17.000</td>\n      <td>21.0</td>\n      <td>3.4125</td>\n      <td>3.250</td>\n      <td>3.625</td>\n      <td>4.375</td>\n      <td>...</td>\n      <td>0.0</td>\n      <td>0.0</td>\n      <td>0.0</td>\n      <td>0.0</td>\n      <td>0.0</td>\n      <td>0.0</td>\n      <td>0.0</td>\n      <td>1.0</td>\n      <td>0.0</td>\n      <td>short_benefit</td>\n    </tr>\n    <tr>\n      <th>7</th>\n      <td>0.739</td>\n      <td>-0.047331</td>\n      <td>0.219768</td>\n      <td>0.107500</td>\n      <td>26.000</td>\n      <td>24.0</td>\n      <td>3.8500</td>\n      <td>2.500</td>\n      <td>4.375</td>\n      <td>3.250</td>\n      <td>...</td>\n      <td>0.0</td>\n      <td>0.0</td>\n      <td>0.0</td>\n      <td>1.0</td>\n      <td>0.0</td>\n      <td>0.0</td>\n      <td>0.0</td>\n      <td>0.0</td>\n      <td>1.0</td>\n      <td>short_benefit</td>\n    </tr>\n    <tr>\n      <th>...</th>\n      <td>...</td>\n      <td>...</td>\n      <td>...</td>\n      <td>...</td>\n      <td>...</td>\n      <td>...</td>\n      <td>...</td>\n      <td>...</td>\n      <td>...</td>\n      <td>...</td>\n      <td>...</td>\n      <td>...</td>\n      <td>...</td>\n      <td>...</td>\n      <td>...</td>\n      <td>...</td>\n      <td>...</td>\n      <td>...</td>\n      <td>...</td>\n      <td>...</td>\n      <td>...</td>\n    </tr>\n    <tr>\n      <th>930</th>\n      <td>0.786</td>\n      <td>0.468091</td>\n      <td>-1.030518</td>\n      <td>1.693579</td>\n      <td>-0.665</td>\n      <td>35.0</td>\n      <td>3.6125</td>\n      <td>4.125</td>\n      <td>4.625</td>\n      <td>2.625</td>\n      <td>...</td>\n      <td>0.0</td>\n      <td>0.0</td>\n      <td>0.0</td>\n      <td>0.0</td>\n      <td>0.0</td>\n      <td>0.0</td>\n      <td>0.0</td>\n      <td>1.0</td>\n      <td>0.0</td>\n      <td>long_benefit</td>\n    </tr>\n    <tr>\n      <th>931</th>\n      <td>0.952</td>\n      <td>0.053307</td>\n      <td>-0.085044</td>\n      <td>0.010611</td>\n      <td>19.000</td>\n      <td>20.0</td>\n      <td>3.2375</td>\n      <td>3.375</td>\n      <td>4.125</td>\n      <td>3.625</td>\n      <td>...</td>\n      <td>0.0</td>\n      <td>0.0</td>\n      <td>0.0</td>\n      <td>0.0</td>\n      <td>0.0</td>\n      <td>0.0</td>\n      <td>0.0</td>\n      <td>1.0</td>\n      <td>0.0</td>\n      <td>long_benefit</td>\n    </tr>\n    <tr>\n      <th>932</th>\n      <td>0.500</td>\n      <td>-0.204404</td>\n      <td>-0.142153</td>\n      <td>-1.535980</td>\n      <td>13.000</td>\n      <td>28.0</td>\n      <td>2.2500</td>\n      <td>1.500</td>\n      <td>3.750</td>\n      <td>3.125</td>\n      <td>...</td>\n      <td>0.0</td>\n      <td>0.0</td>\n      <td>0.0</td>\n      <td>0.0</td>\n      <td>0.0</td>\n      <td>0.0</td>\n      <td>0.0</td>\n      <td>1.0</td>\n      <td>0.0</td>\n      <td>long_benefit</td>\n    </tr>\n    <tr>\n      <th>933</th>\n      <td>0.643</td>\n      <td>-0.562753</td>\n      <td>-1.086500</td>\n      <td>-2.227808</td>\n      <td>25.000</td>\n      <td>27.0</td>\n      <td>2.9125</td>\n      <td>2.000</td>\n      <td>3.750</td>\n      <td>2.250</td>\n      <td>...</td>\n      <td>0.0</td>\n      <td>0.0</td>\n      <td>0.0</td>\n      <td>0.0</td>\n      <td>0.0</td>\n      <td>0.0</td>\n      <td>0.0</td>\n      <td>1.0</td>\n      <td>0.0</td>\n      <td>long_benefit</td>\n    </tr>\n    <tr>\n      <th>935</th>\n      <td>0.643</td>\n      <td>0.210380</td>\n      <td>0.928843</td>\n      <td>-0.917537</td>\n      <td>20.000</td>\n      <td>23.0</td>\n      <td>4.2000</td>\n      <td>3.625</td>\n      <td>3.875</td>\n      <td>4.000</td>\n      <td>...</td>\n      <td>0.0</td>\n      <td>0.0</td>\n      <td>0.0</td>\n      <td>1.0</td>\n      <td>0.0</td>\n      <td>0.0</td>\n      <td>0.0</td>\n      <td>1.0</td>\n      <td>0.0</td>\n      <td>long_benefit</td>\n    </tr>\n  </tbody>\n</table>\n<p>465 rows × 52 columns</p>\n</div>"
     },
     "metadata": {}
    }
   ],
   "execution_count": 11
  },
  {
   "cell_type": "code",
   "metadata": {
    "tags": [],
    "cell_id": "00005-9f4bccf9-1384-424c-8efa-acc5d1e863d7",
    "deepnote_to_be_reexecuted": false,
    "source_hash": "a59ec9ad",
    "execution_start": 1648340287124,
    "execution_millis": 189228,
    "deepnote_cell_type": "code",
    "deepnote_cell_height": 80.953125
   },
   "source": "#cp_test.data.to_csv(path.join(googledrive_loc, data_folder_loc, 'predictors_label_2022.csv'))",
   "execution_count": 12,
   "outputs": []
  },
  {
   "cell_type": "code",
   "source": "#split training and test sets\nX_train, X_test, y_train, y_test = cp_test.train_test_split()",
   "metadata": {
    "cell_id": "5fd1a2f0e1444027ad879a4c0d5ea786",
    "tags": [],
    "deepnote_to_be_reexecuted": false,
    "source_hash": "77eec6f1",
    "execution_start": 1648340287128,
    "execution_millis": 189226,
    "deepnote_cell_type": "code",
    "deepnote_cell_height": 173.453125
   },
   "outputs": [
    {
     "name": "stdout",
     "text": "The shape of training set before resample: (372, 51) and (372,)\nThe sample weight before resample: Counter({'short_benefit': 193, 'long_benefit': 122, 'much_benefit': 57})\nThe shape of test set: (93, 51) and (93,)\n",
     "output_type": "stream"
    }
   ],
   "execution_count": 13
  },
  {
   "cell_type": "code",
   "metadata": {
    "tags": [],
    "cell_id": "00005-865f3e62-8f3f-44c6-9363-3921bef22edf",
    "deepnote_to_be_reexecuted": false,
    "source_hash": "6effd139",
    "execution_start": 1648340287133,
    "execution_millis": 46,
    "deepnote_cell_type": "code",
    "deepnote_cell_height": 247.125
   },
   "source": "resample_dict = {'short_benefit':193, 'long_benefit':193, 'much_benefit':193}\nx_train_new, y_train_new, orig_len, feature_names = cp_test.resample_standardize(X_train, y_train, resample_dict, oversample=True)\nprint('The input and output shape: {} and {}'.format(x_train_new.shape, y_train_new.shape))\nprint(orig_len)\nprint(feature_names)",
   "execution_count": 14,
   "outputs": [
    {
     "name": "stdout",
     "text": "The sample weight after resample: Counter({'short_benefit': 193, 'much_benefit': 193, 'long_benefit': 193})\nThe input and output shape: (579, 51) and (579,)\n372\n['MR_accpre', 'WM_Zpre', 'IC_Zreverse_pre', 'NT_Zpre', 'TCA_Zscore', 'CFQMALscore', 'Avg_grit_amb', 'NEOFFIExtraversion', 'NEOFFIAgreeableness', 'NEOFFIConscientiousness', 'NEOFFIEmotionalstability', 'NEOFFIIntellectorOpenness', 'VGQHoursCategorySumPastYear_Z', 'ParentalEducationSum', 'SelfReportedSESRatingSum', 'Physicalhealth', 'Physicalfitness', 'Psychohealth', 'Gamified_Gamified', 'Gamified_Nongamified', 'Difficulty_Difficult', 'Difficulty_Middle', 'Difficulty_Moderate', 'Difficulty_hard', 'Bilingual_Bilingual', 'Bilingual_Monolingual', 'Gender_Female', 'Gender_Male', \"Gender_Other or Don't Want to Specify\", 'Ethnicity_American Indian/Alaska Native', 'Ethnicity_American Indian/Alaska Native,Native Hawaiian or Other Pacific Islander', 'Ethnicity_American Indian/Alaska Native,White', 'Ethnicity_Asian', 'Ethnicity_Asian,Black or African American', \"Ethnicity_Asian,Black or African American,Other or Don't Want to Specify\", \"Ethnicity_Asian,Other or Don't Want to Specify\", 'Ethnicity_Asian,White', 'Ethnicity_Black or African American', 'Ethnicity_Black or African American,Other or Dont Want to Specify', 'Ethnicity_Black or African American,White', 'Ethnicity_Native Hawaiian or Other Pacific Islander', 'Ethnicity_Native Hawaiian or Other Pacific Islander,Asian', 'Ethnicity_Native Hawaiian or Other Pacific Islander,Asian,White', \"Ethnicity_Other or Don't Want to Specify\", 'Ethnicity_Other or Dont Want to Specify', 'Ethnicity_White', \"Ethnicity_White,Other or Don't Want to Specify\", 'Ethnicity_White,Other or Dont Want to Specify', 'HispanicLatino_I D', 'HispanicLatino_No', 'HispanicLatino_Yes']\n",
     "output_type": "stream"
    }
   ]
  },
  {
   "cell_type": "code",
   "source": "saved_data_path = path.join(googledrive_loc, data_folder_loc, 'saved data/2022/April/')\ncp_test.save_data(X_train, X_test, y_train, y_test, orig_len, feature_names, saved_data_path)",
   "metadata": {
    "cell_id": "4d94e02a533743ee86ca4b63097e79c5",
    "tags": [],
    "deepnote_to_be_reexecuted": false,
    "source_hash": "943dcdbf",
    "execution_start": 1648340313668,
    "execution_millis": 15762,
    "deepnote_cell_type": "code",
    "deepnote_cell_height": 98.953125
   },
   "outputs": [],
   "execution_count": 17
  },
  {
   "cell_type": "code",
   "metadata": {
    "tags": [],
    "cell_id": "00002-e42a75a4-4945-4747-a871-e5ac002f4a1b",
    "deepnote_to_be_reexecuted": false,
    "source_hash": "ee858a10",
    "execution_start": 1648340287225,
    "execution_millis": 278,
    "is_code_hidden": true,
    "output_cleared": false,
    "deepnote_cell_type": "code",
    "deepnote_cell_height": 483.734375,
    "deepnote_output_heights": [
     392.984375
    ]
   },
   "source": "import matplotlib.pyplot as plt\nimport seaborn as sns\n\nsns.set_theme(style=\"darkgrid\")\n\nx = [2, 3, 4, 5, 6, 7, 8, 9, 10]\ny = [0.526, 0.533, 0.504, 0.424, 0.424, 0.398, 0.382, 0.338, 0.341]\n\n\nfig, ax = plt.subplots(figsize=(9,6))\nax.tick_params(labelsize=15)\nax.plot(x, y, linewidth=2)\nax.set_xlabel('Clusters', fontsize=20)\nax.set_ylabel('Silhouette score', fontsize=20)\nplt.show()",
   "execution_count": 16,
   "outputs": [
    {
     "data": {
      "text/plain": "<Figure size 648x432 with 1 Axes>",
      "image/png": "[encoded data removed]"
     },
     "metadata": {
      "image/png": {
       "width": 595,
       "height": 391
      }
     },
     "output_type": "display_data"
    }
   ]
  },
  {
   "cell_type": "markdown",
   "source": "<a style='text-decoration:none;line-height:16px;display:flex;color:#5B5B62;padding:10px;justify-content:end;' href='https://deepnote.com?utm_source=created-in-deepnote-cell&projectId=5c9e1ba2-0cb9-40ed-a01b-b56de82eb464' target=\"_blank\">\n<img alt='Created in deepnote.com' style='display:inline;max-height:16px;margin:0px;margin-right:7.5px;' src='data:image/svg+xml;base64,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' > </img>\nCreated in <span style='font-weight:600;margin-left:4px;'>Deepnote</span></a>",
   "metadata": {
    "tags": [],
    "created_in_deepnote_cell": true,
    "deepnote_cell_type": "markdown"
   }
  }
 ],
 "nbformat": 4,
 "nbformat_minor": 2,
 "metadata": {
  "orig_nbformat": 2,
  "deepnote_notebook_id": "f10bae57-c069-44ff-8ccc-e9f3ba142891",
  "deepnote": {},
  "deepnote_execution_queue": []
 }
}