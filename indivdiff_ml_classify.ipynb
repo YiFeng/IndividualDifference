{
 "cells": [
  {
   "cell_type": "code",
   "metadata": {
    "tags": [],
    "deepnote_to_be_reexecuted": false,
    "source_hash": "99c2492f",
    "execution_millis": 3300,
    "execution_start": 1621473460398,
    "cell_id": "00000-7342cd0a-f703-4c68-bf74-ed5ab8bd2b76",
    "output_cleared": false,
    "deepnote_cell_type": "code"
   },
   "source": "import os.path as path\nimport raw_data_preprocessing as rdp\nimport warnings\n\nwarnings.filterwarnings('ignore')\n\ngoogledrive_loc = '/datasets/googledrive'\ndata_folder_loc = 'Yi_UCI_research/GSR other works/2020 Summer_predict individual training/data/saved data/max_std/'\ndata_path = path.join(googledrive_loc, data_folder_loc)\n\nimport classification as clf\nX, Y, orig_len, feature_names = clf.read_inputs(data_path,['input_x.array','input_y.array','original_len.int','feature_names.list'])\nprint('The input and output shape: {} and {}'.format(X.shape, Y.shape))",
   "execution_count": null,
   "outputs": [
    {
     "name": "stdout",
     "text": "The input and output shape: (436, 14) and (436,)\n",
     "output_type": "stream"
    }
   ]
  },
  {
   "cell_type": "code",
   "metadata": {
    "tags": [],
    "cell_id": "00003-192dfa68-3896-4a9f-9110-dc34561780ec",
    "deepnote_to_be_reexecuted": false,
    "source_hash": "92e12cb9",
    "execution_start": 1621473463690,
    "execution_millis": 3,
    "output_cleared": true,
    "deepnote_cell_type": "code"
   },
   "source": "# clf.save_data(data_path, shuffle_list, 'shuffle.list')",
   "execution_count": null,
   "outputs": []
  },
  {
   "cell_type": "code",
   "metadata": {
    "tags": [],
    "cell_id": "00002-949e2d34-3002-473a-9bbd-f9a9c1e7bd42",
    "deepnote_to_be_reexecuted": false,
    "source_hash": "4d13b973",
    "execution_start": 1621473463695,
    "execution_millis": 11,
    "deepnote_cell_type": "code"
   },
   "source": "shuffle_list = clf.read_inputs(data_path, ['shuffle.list'])",
   "execution_count": null,
   "outputs": []
  },
  {
   "cell_type": "code",
   "metadata": {
    "tags": [],
    "cell_id": "00003-497c6a42-ac6d-4f57-8815-5baa5c708564",
    "deepnote_to_be_reexecuted": false,
    "source_hash": "f312ce7a",
    "execution_start": 1621473463710,
    "execution_millis": 1913764,
    "deepnote_cell_type": "code"
   },
   "source": "X = X[:orig_len]\nresult = []\nacc = []\nfor i in range(111, 120):\n    Y = shuffle_list[0][i]\n    classify_test = clf.ClassificationProcessor(X,Y, orig_len, feature_names)\n    final_accuracies, final_pred_y, final_prob_y, class0_acc, class1_acc, class2_acc, kappa = classify_test.final_model('Random Forest', [0, 1, 2,3,4,5,6,7,8])\n    result.append(kappa)\n    acc.append([class0_acc, class1_acc, class2_acc])\n    print(i)",
   "execution_count": null,
   "outputs": [
    {
     "name": "stdout",
     "text": "111\n112\n113\n114\n115\n116\n",
     "output_type": "stream"
    },
    {
     "output_type": "error",
     "ename": "KernelInterrupted",
     "evalue": "Execution interrupted by the Jupyter kernel.",
     "traceback": [
      "\u001b[0;31m---------------------------------------------------------------------------\u001b[0m",
      "\u001b[0;31mKernelInterrupted\u001b[0m: Execution interrupted by the Jupyter kernel."
     ]
    }
   ]
  },
  {
   "cell_type": "code",
   "metadata": {
    "tags": [],
    "cell_id": "00004-7a64555c-d528-4881-bb8e-cf3d3b9ecb89",
    "deepnote_to_be_reexecuted": true,
    "source_hash": "3097b789",
    "execution_start": 1621471946275,
    "execution_millis": 4207,
    "deepnote_cell_type": "code"
   },
   "source": "import pandas as pd\npd.DataFrame(result).to_csv(data_path+'result_shuffle.csv')\npd.DataFrame(acc).to_csv(data_path+'acc_shuffle.csv')",
   "execution_count": null,
   "outputs": []
  },
  {
   "cell_type": "code",
   "metadata": {
    "tags": [],
    "deepnote_to_be_reexecuted": true,
    "source_hash": "df2acac0",
    "execution_millis": 0,
    "execution_start": 1621471950488,
    "cell_id": "00005-1beceeb7-48e9-4d8e-a5c1-05d8c981da09",
    "output_cleared": false,
    "deepnote_cell_type": "code"
   },
   "source": "# classify_test = clf.ClassificationProcessor(X,Y, orig_len, feature_names)\n# classify_test.get_stacking()",
   "execution_count": null,
   "outputs": []
  },
  {
   "cell_type": "markdown",
   "source": "model selection and feature selection",
   "metadata": {
    "tags": [],
    "cell_id": "00002-53752bb4-9eb6-4484-9d5f-2aa2135225c7",
    "deepnote_cell_type": "markdown"
   }
  },
  {
   "cell_type": "code",
   "metadata": {
    "tags": [],
    "cell_id": "00002-14c475be-24fa-4ae7-abf6-99dd3e3dfcfc",
    "deepnote_to_be_reexecuted": true,
    "source_hash": "14585bb2",
    "execution_start": 1621471950490,
    "execution_millis": 2,
    "output_cleared": false,
    "deepnote_cell_type": "code"
   },
   "source": "# classify_test.model_selection(14)",
   "execution_count": null,
   "outputs": []
  },
  {
   "cell_type": "code",
   "metadata": {
    "tags": [],
    "cell_id": "00003-36041088-7a29-4341-a23d-9a013c688b4b",
    "deepnote_to_be_reexecuted": true,
    "source_hash": "1e1d27a6",
    "execution_start": 1621471950510,
    "execution_millis": 9116721,
    "deepnote_cell_type": "code"
   },
   "source": "# classify_test.exhausive_feature_selection('Nearest Neighbors')\n# classify_test.exhausive_feature_selection('Random Forest')\n# classify_test.feature_selection('Random Forest')",
   "execution_count": null,
   "outputs": []
  },
  {
   "cell_type": "markdown",
   "source": "final model",
   "metadata": {
    "tags": [],
    "cell_id": "00005-31994091-d72d-44e6-8ea3-10bde529fe4a",
    "deepnote_cell_type": "markdown"
   }
  },
  {
   "cell_type": "code",
   "metadata": {
    "tags": [],
    "cell_id": "00006-52536ee0-956f-423d-a574-81d65e754d4a",
    "deepnote_to_be_reexecuted": true,
    "source_hash": "9a9c870c",
    "execution_start": 1621471950511,
    "execution_millis": 9116706,
    "deepnote_cell_type": "code"
   },
   "source": "# final_accuracies, final_pred_y, final_prob_y = classify_test.final_model('Random Forest', [0, 1, 2,3,4,5,6,7,8])",
   "execution_count": null,
   "outputs": []
  },
  {
   "cell_type": "code",
   "metadata": {
    "tags": [],
    "cell_id": "00004-bec3b7fc-e079-476f-be15-043209bda8f7",
    "deepnote_to_be_reexecuted": true,
    "source_hash": "7ca0de78",
    "execution_start": 1621471950511,
    "execution_millis": 0,
    "output_cleared": false,
    "deepnote_cell_type": "code"
   },
   "source": "# final_accuracies, final_pred_y, final_prob_y = classify_test.final_model('Nearest Neighbors', [0, 1, 4, 6, 7, 9, 10, 12, 13])",
   "execution_count": null,
   "outputs": []
  },
  {
   "cell_type": "markdown",
   "source": "shap",
   "metadata": {
    "tags": [],
    "cell_id": "00007-7e84b5c0-0772-478e-892b-223e2f602e29",
    "deepnote_cell_type": "markdown"
   }
  },
  {
   "cell_type": "code",
   "metadata": {
    "tags": [],
    "cell_id": "00005-bcd80c67-fdd4-4bc6-96ae-f19641513604",
    "deepnote_to_be_reexecuted": true,
    "source_hash": "5188c055",
    "execution_start": 1621471950512,
    "execution_millis": 1,
    "output_cleared": true,
    "deepnote_cell_type": "code"
   },
   "source": "# classify_test.shap('Random Forest',data_path)",
   "execution_count": null,
   "outputs": []
  },
  {
   "cell_type": "code",
   "metadata": {
    "tags": [],
    "cell_id": "00007-dc1f7ce0-7ce1-4fc0-8973-97a05e89e257",
    "deepnote_to_be_reexecuted": true,
    "source_hash": "fda4ee99",
    "execution_start": 1621471950515,
    "execution_millis": 0,
    "deepnote_cell_type": "code"
   },
   "source": "# shap_all, expected_shap = clf.read_inputs(data_path,['shap_values.data','shap_expected.data'])\n# classify_test.shap_visualize(shap_all, expected_shap, final_accuracies, final_pred_y, False)",
   "execution_count": null,
   "outputs": []
  },
  {
   "cell_type": "markdown",
   "source": "<a style='text-decoration:none;line-height:16px;display:flex;color:#5B5B62;padding:10px;justify-content:end;' href='https://deepnote.com?utm_source=created-in-deepnote-cell&projectId=6b8ead81-70bf-4d6b-bd50-8194f8f72b46' target=\"_blank\">\n<img alt='Created in deepnote.com' style='display:inline;max-height:16px;margin:0px;margin-right:7.5px;' src='data:image/svg+xml;base64,PD94bWwgdmVyc2lvbj0iMS4wIiBlbmNvZGluZz0iVVRGLTgiPz4KPHN2ZyB3aWR0aD0iODBweCIgaGVpZ2h0PSI4MHB4IiB2aWV3Qm94PSIwIDAgODAgODAiIHZlcnNpb249IjEuMSIgeG1sbnM9Imh0dHA6Ly93d3cudzMub3JnLzIwMDAvc3ZnIiB4bWxuczp4bGluaz0iaHR0cDovL3d3dy53My5vcmcvMTk5OS94bGluayI+CiAgICA8IS0tIEdlbmVyYXRvcjogU2tldGNoIDU0LjEgKDc2NDkwKSAtIGh0dHBzOi8vc2tldGNoYXBwLmNvbSAtLT4KICAgIDx0aXRsZT5Hcm91cCAzPC90aXRsZT4KICAgIDxkZXNjPkNyZWF0ZWQgd2l0aCBTa2V0Y2guPC9kZXNjPgogICAgPGcgaWQ9IkxhbmRpbmciIHN0cm9rZT0ibm9uZSIgc3Ryb2tlLXdpZHRoPSIxIiBmaWxsPSJub25lIiBmaWxsLXJ1bGU9ImV2ZW5vZGQiPgogICAgICAgIDxnIGlkPSJBcnRib2FyZCIgdHJhbnNmb3JtPSJ0cmFuc2xhdGUoLTEyMzUuMDAwMDAwLCAtNzkuMDAwMDAwKSI+CiAgICAgICAgICAgIDxnIGlkPSJHcm91cC0zIiB0cmFuc2Zvcm09InRyYW5zbGF0ZSgxMjM1LjAwMDAwMCwgNzkuMDAwMDAwKSI+CiAgICAgICAgICAgICAgICA8cG9seWdvbiBpZD0iUGF0aC0yMCIgZmlsbD0iIzAyNjVCNCIgcG9pbnRzPSIyLjM3NjIzNzYyIDgwIDM4LjA0NzY2NjcgODAgNTcuODIxNzgyMiA3My44MDU3NTkyIDU3LjgyMTc4MjIgMzIuNzU5MjczOSAzOS4xNDAyMjc4IDMxLjY4MzE2ODMiPjwvcG9seWdvbj4KICAgICAgICAgICAgICAgIDxwYXRoIGQ9Ik0zNS4wMDc3MTgsODAgQzQyLjkwNjIwMDcsNzYuNDU0OTM1OCA0Ny41NjQ5MTY3LDcxLjU0MjI2NzEgNDguOTgzODY2LDY1LjI2MTk5MzkgQzUxLjExMjI4OTksNTUuODQxNTg0MiA0MS42NzcxNzk1LDQ5LjIxMjIyODQgMjUuNjIzOTg0Niw0OS4yMTIyMjg0IEMyNS40ODQ5Mjg5LDQ5LjEyNjg0NDggMjkuODI2MTI5Niw0My4yODM4MjQ4IDM4LjY0NzU4NjksMzEuNjgzMTY4MyBMNzIuODcxMjg3MSwzMi41NTQ0MjUgTDY1LjI4MDk3Myw2Ny42NzYzNDIxIEw1MS4xMTIyODk5LDc3LjM3NjE0NCBMMzUuMDA3NzE4LDgwIFoiIGlkPSJQYXRoLTIyIiBmaWxsPSIjMDAyODY4Ij48L3BhdGg+CiAgICAgICAgICAgICAgICA8cGF0aCBkPSJNMCwzNy43MzA0NDA1IEwyNy4xMTQ1MzcsMC4yNTcxMTE0MzYgQzYyLjM3MTUxMjMsLTEuOTkwNzE3MDEgODAsMTAuNTAwMzkyNyA4MCwzNy43MzA0NDA1IEM4MCw2NC45NjA0ODgyIDY0Ljc3NjUwMzgsNzkuMDUwMzQxNCAzNC4zMjk1MTEzLDgwIEM0Ny4wNTUzNDg5LDc3LjU2NzA4MDggNTMuNDE4MjY3Nyw3MC4zMTM2MTAzIDUzLjQxODI2NzcsNTguMjM5NTg4NSBDNTMuNDE4MjY3Nyw0MC4xMjg1NTU3IDM2LjMwMzk1NDQsMzcuNzMwNDQwNSAyNS4yMjc0MTcsMzcuNzMwNDQwNSBDMTcuODQzMDU4NiwzNy43MzA0NDA1IDkuNDMzOTE5NjYsMzcuNzMwNDQwNSAwLDM3LjczMDQ0MDUgWiIgaWQ9IlBhdGgtMTkiIGZpbGw9IiMzNzkzRUYiPjwvcGF0aD4KICAgICAgICAgICAgPC9nPgogICAgICAgIDwvZz4KICAgIDwvZz4KPC9zdmc+' > </img>\nCreated in <span style='font-weight:600;margin-left:4px;'>Deepnote</span></a>",
   "metadata": {
    "tags": [],
    "created_in_deepnote_cell": true,
    "deepnote_cell_type": "markdown"
   }
  }
 ],
 "nbformat": 4,
 "nbformat_minor": 2,
 "metadata": {
  "orig_nbformat": 2,
  "deepnote_notebook_id": "69ea1e1d-36b6-419d-a79e-67cb65755394",
  "deepnote": {},
  "deepnote_execution_queue": []
 }
}