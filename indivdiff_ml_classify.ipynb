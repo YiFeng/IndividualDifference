{
 "cells": [
  {
   "cell_type": "code",
   "metadata": {
    "cell_id": "00000-7342cd0a-f703-4c68-bf74-ed5ab8bd2b76",
    "deepnote_app_coordinates": {
     "h": 13,
     "w": 12,
     "x": 0,
     "y": 6
    },
    "deepnote_to_be_reexecuted": false,
    "execution_millis": 19810,
    "execution_start": 1652071464557,
    "output_cleared": false,
    "source_hash": "999b9656",
    "tags": [],
    "owner_user_id": "75e78883-098a-4895-89f2-ffc9d44b7ab1",
    "deepnote_cell_type": "code",
    "deepnote_cell_height": 327.859375
   },
   "source": "import os.path as path\nimport raw_data_preprocessing as rdp\nimport warnings\n\nwarnings.filterwarnings('ignore')\n\ndata_folder_loc = '/dfs6/pub/yif12'\nfile_name = 'saved_data/April/kmeans_binary2/'\ndata_path = path.join(data_folder_loc, file_name)\n\nimport classification as clf\nX, Y, feature_names, x_test, y_test = clf.read_inputs(data_path,['train_x.array','train_y.array','feature_names.list', 'test_x.array', 'test_y.array'])\nprint('The input and output shape: {} and {}'.format(X.shape, Y.shape))",
   "execution_count": 1,
   "outputs": [
    {
     "name": "stdout",
     "text": "The input and output shape: (684, 24) and (684,)\n",
     "output_type": "stream"
    }
   ]
  },
  {
   "cell_type": "code",
   "metadata": {
    "cell_id": "00001-111640e5-0934-4813-9950-590d22ee6eff",
    "deepnote_to_be_reexecuted": false,
    "source_hash": "737a59c5",
    "execution_start": 1652075408494,
    "execution_millis": 2,
    "deepnote_cell_type": "code",
    "deepnote_cell_height": 81
   },
   "source": "orig_len = 342",
   "execution_count": 7,
   "outputs": []
  },
  {
   "cell_type": "code",
   "metadata": {
    "cell_id": "00002-5b457eb6-80df-4ada-9cb1-21e29b7e6de0",
    "deepnote_to_be_reexecuted": false,
    "source_hash": "801dfb91",
    "execution_start": 1652075410415,
    "execution_millis": 0,
    "deepnote_cell_type": "code",
    "deepnote_cell_height": 135
   },
   "source": "# 1) exlude game information\nX = X[:,5:]\nx_test = x_test[:,5:]\nfeature_names = feature_names[5:]",
   "execution_count": 8,
   "outputs": []
  },
  {
   "cell_type": "code",
   "metadata": {
    "cell_id": "00003-83b9db5f-a522-48f0-84e6-2a5c7cb0681f",
    "deepnote_to_be_reexecuted": false,
    "source_hash": "e3100a1b",
    "execution_start": 1652075413192,
    "execution_millis": 1,
    "deepnote_cell_type": "code",
    "deepnote_cell_height": 99
   },
   "source": "classes = ['long','short']\nclassify_test = clf.ClassificationProcessor(X, Y, orig_len, feature_names, classes)",
   "execution_count": 9,
   "outputs": []
  },
  {
   "cell_type": "code",
   "metadata": {
    "cell_id": "00005-1beceeb7-48e9-4d8e-a5c1-05d8c981da09",
    "deepnote_to_be_reexecuted": false,
    "execution_millis": 15,
    "execution_start": 1648601953774,
    "output_cleared": false,
    "source_hash": "2c4acd9",
    "tags": [],
    "deepnote_cell_type": "code",
    "deepnote_cell_height": 81
   },
   "source": "x_selected_train, x_selected_test, selected_feature_names = classify_test.feature_selection(x_test)",
   "execution_count": null,
   "outputs": []
  },
  {
   "cell_type": "code",
   "metadata": {
    "cell_id": "00005-6bff929b-56f8-4b0b-bd21-ab5cdf1fe354",
    "deepnote_cell_type": "code",
    "deepnote_cell_height": 156.59375,
    "deepnote_output_heights": [
     59.59375
    ]
   },
   "source": "selected_feature_names",
   "execution_count": null,
   "outputs": [
    {
     "data": {
      "text/plain": "array(['MR_accpre', 'IC_Zreverse_pre', 'NT_Zpre',\n       'NEOFFIEmotionalstability', 'NEOFFIIntellectorOpenness',\n       'VGQHoursCategorySumPastYear_Z', 'Psychohealth'], dtype=object)"
     },
     "execution_count": 6,
     "metadata": {},
     "output_type": "execute_result"
    }
   ]
  },
  {
   "cell_type": "code",
   "metadata": {
    "cell_id": "00002-14c475be-24fa-4ae7-abf6-99dd3e3dfcfc",
    "deepnote_to_be_reexecuted": false,
    "execution_millis": 22978,
    "execution_start": 1648601956127,
    "output_cleared": true,
    "source_hash": "1d9114bf",
    "tags": [],
    "deepnote_cell_type": "code",
    "deepnote_cell_height": 81,
    "deepnote_output_heights": [
     null,
     444,
     443,
     null,
     444,
     443,
     null,
     444,
     443,
     null,
     444,
     443,
     null,
     444,
     443,
     null,
     444,
     443
    ]
   },
   "source": "selected_clf = clf.ClassificationProcessor(x_selected_train, Y, orig_len, selected_feature_names, classes)",
   "execution_count": null,
   "outputs": []
  },
  {
   "cell_type": "code",
   "metadata": {
    "cell_id": "00007-92dc29b0-90da-4158-8398-1f8f3b4e8cc8",
    "deepnote_cell_type": "code",
    "deepnote_cell_height": 66
   },
   "source": "selected_clf.Y",
   "execution_count": null,
   "outputs": []
  },
  {
   "cell_type": "code",
   "metadata": {
    "cell_id": "00003-36041088-7a29-4341-a23d-9a013c688b4b",
    "deepnote_to_be_reexecuted": false,
    "execution_millis": 1,
    "execution_start": 1648590518027,
    "source_hash": "338a6c97",
    "tags": [],
    "output_cleared": true,
    "deepnote_cell_type": "code",
    "deepnote_cell_height": 81
   },
   "source": "selected_clf.model_selection(7)",
   "execution_count": null,
   "outputs": []
  },
  {
   "cell_type": "markdown",
   "source": "## Final model",
   "metadata": {
    "cell_id": "1097a40e0e9c42b297d6af6043a01027",
    "is_collapsed": false,
    "tags": [],
    "deepnote_cell_type": "text-cell-h2"
   }
  },
  {
   "cell_type": "code",
   "metadata": {
    "cell_id": "f058a0141607494aa831ac0d472333f1",
    "deepnote_to_be_reexecuted": false,
    "execution_millis": 2,
    "execution_start": 1648601997236,
    "source_hash": "fb2d686b",
    "tags": [],
    "deepnote_cell_type": "code",
    "deepnote_cell_height": 369
   },
   "source": "from sklearn.svm import SVC, LinearSVC\n\nc = [0.001, 0.01, 0.1,1]\ntol = [1e-3, 1e-2, 1e-4]\nshrinking = [False, True]\ngamma = [\"scale\", \"auto\"]\nfor i in c:\n    final_model = SVC(\n        kernel=\"rbf\",\n        C=i,\n        tol=0.001,\n        gamma=\"scale\",\n        class_weight='balanced',\n        random_state=0,\n        probability=True,\n    )\n    selected_clf.final_model(final_model, x_selected_test, y_test)",
   "execution_count": null,
   "outputs": []
  },
  {
   "cell_type": "code",
   "metadata": {
    "cell_id": "fd9c894f22284ae4864ef982c7ca43ef",
    "deepnote_to_be_reexecuted": false,
    "execution_millis": 878,
    "execution_start": 1648602000657,
    "source_hash": "e27424e5",
    "tags": [],
    "output_cleared": true,
    "deepnote_cell_type": "code",
    "deepnote_cell_height": 423,
    "deepnote_output_heights": [
     null,
     444,
     444,
     444,
     444,
     444,
     444
    ]
   },
   "source": "from sklearn.ensemble import RandomForestClassifier\n\nn_estimators = [300, 150, 100, 50]\ncriterion = [\"gini\", \"entropy\"]\nmax_depth = [3, 5, 7, None]\nmin_samples_split = [2, 3,4,5, 10]\nmin_samples_leaf = [2, 3,4,5, 10]\nmax_features = [\"sqrt\", \"auto\", \"log2\"]\nfor i in n_estimators:\n    final_model = RandomForestClassifier(\n        n_estimators=100,\n        criterion=\"gini\",\n        max_depth=None,\n        min_samples_split=4,\n        min_samples_leaf=2,\n        max_features=\"auto\",\n        class_weight=\"balanced\",\n        random_state=0,\n    )\n    selected_clf.final_model(final_model, x_selected_test, y_test)",
   "execution_count": null,
   "outputs": []
  },
  {
   "cell_type": "code",
   "metadata": {
    "cell_id": "8c2906c81f9544afb04527abec2543f1",
    "deepnote_to_be_reexecuted": true,
    "source_hash": "32697ea4",
    "tags": [],
    "deepnote_cell_type": "code",
    "deepnote_cell_height": 315
   },
   "source": "from sklearn.svm import SVC, LinearSVC\n\nfinal_model = SVC(\n    kernel=\"rbf\",\n    C=1,\n    tol=0.001,\n    gamma=\"scale\",\n    class_weight=\"balanced\",\n    random_state=0,\n    probability=True,\n)\nfinal_model.fit(x_selected_train, Y)\ny_pred = final_model.predict(x_selected_test)\ny_proba = final_model.predict_proba(x_selected_test)",
   "execution_count": null,
   "outputs": []
  },
  {
   "cell_type": "code",
   "metadata": {
    "cell_id": "00013-098da999-b551-4b9f-8c7f-1dc72655ec5a",
    "output_cleared": true,
    "deepnote_cell_type": "code",
    "deepnote_cell_height": 66
   },
   "source": "selected_clf.shap_tree_cross('Random Forest',data_path)",
   "execution_count": null,
   "outputs": []
  },
  {
   "cell_type": "markdown",
   "source": "shap",
   "metadata": {
    "cell_id": "00007-7e84b5c0-0772-478e-892b-223e2f602e29",
    "tags": [],
    "deepnote_cell_type": "markdown",
    "deepnote_cell_height": 52.390625
   }
  },
  {
   "cell_type": "code",
   "metadata": {
    "cell_id": "00007-dc1f7ce0-7ce1-4fc0-8973-97a05e89e257",
    "deepnote_to_be_reexecuted": false,
    "execution_millis": 1281,
    "execution_start": 1652071489926,
    "source_hash": "1af5ef1a",
    "tags": [],
    "deepnote_cell_type": "code",
    "deepnote_cell_height": 99
   },
   "source": "shap_all, expected_shap = clf.read_inputs(data_path,['shap_values.data','shap_expected.data'])\n# selected_clf.shap_visualize(shap_all, expected_shap, selected_feature_names)",
   "execution_count": 2,
   "outputs": []
  },
  {
   "cell_type": "markdown",
   "source": "<a style='text-decoration:none;line-height:16px;display:flex;color:#5B5B62;padding:10px;justify-content:end;' href='https://deepnote.com?utm_source=created-in-deepnote-cell&projectId=5c9e1ba2-0cb9-40ed-a01b-b56de82eb464' target=\"_blank\">\n<img alt='Created in deepnote.com' style='display:inline;max-height:16px;margin:0px;margin-right:7.5px;' src='data:image/svg+xml;base64,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' > </img>\nCreated in <span style='font-weight:600;margin-left:4px;'>Deepnote</span></a>",
   "metadata": {
    "tags": [],
    "created_in_deepnote_cell": true,
    "deepnote_cell_type": "markdown"
   }
  }
 ],
 "nbformat": 4,
 "nbformat_minor": 4,
 "metadata": {
  "deepnote": {
   "is_reactive": false
  },
  "deepnote_app_layout": "dashboard",
  "deepnote_execution_queue": [],
  "deepnote_notebook_id": "69ea1e1d-36b6-419d-a79e-67cb65755394",
  "kernelspec": {
   "display_name": "Python 3",
   "language": "python",
   "name": "python3"
  },
  "language_info": {
   "codemirror_mode": {
    "name": "ipython",
    "version": 3
   },
   "file_extension": ".py",
   "mimetype": "text/x-python",
   "name": "python",
   "nbconvert_exporter": "python",
   "pygments_lexer": "ipython3",
   "version": "3.8.0"
  }
 }
}