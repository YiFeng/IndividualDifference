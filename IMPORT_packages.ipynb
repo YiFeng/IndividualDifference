{
 "cells": [
  {
   "cell_type": "code",
   "metadata": {
    "tags": [],
    "cell_id": "00000-429500c5-a40a-48c2-9b9a-e1945ff8a06e",
    "deepnote_to_be_reexecuted": false,
    "source_hash": "faf1ee21",
    "execution_start": 1621465994121,
    "execution_millis": 6086,
    "deepnote_cell_type": "code"
   },
   "source": "!pip install pwlf",
   "outputs": [
    {
     "name": "stdout",
     "text": "Collecting pwlf\n  Downloading pwlf-2.0.4.tar.gz (15 kB)\nRequirement already satisfied: numpy>=1.14.0 in /shared-libs/python3.9/py/lib/python3.9/site-packages (from pwlf) (1.20.2)\nRequirement already satisfied: scipy>=1.2.0 in /shared-libs/python3.9/py/lib/python3.9/site-packages (from pwlf) (1.6.3)\nCollecting pyDOE>=0.3.8\n  Downloading pyDOE-0.3.8.zip (22 kB)\nBuilding wheels for collected packages: pwlf, pyDOE\n  Building wheel for pwlf (setup.py) ... \u001b[?25ldone\n\u001b[?25h  Created wheel for pwlf: filename=pwlf-2.0.4-py3-none-any.whl size=16140 sha256=37de6f690d2131363ef46180d4e146296358b1d8e7066bcb9f2276ba942d8bc2\n  Stored in directory: /root/.cache/pip/wheels/b0/72/f9/cefc9f9faa17c0349ef2743fd53e2ac9d447b3bd73acb1454a\n  Building wheel for pyDOE (setup.py) ... \u001b[?25ldone\n\u001b[?25h  Created wheel for pyDOE: filename=pyDOE-0.3.8-py3-none-any.whl size=18177 sha256=297d70b4b3dbc929e0e9c8daa5fcfab3d66b754eaf94b84dedd7de8218c57a95\n  Stored in directory: /root/.cache/pip/wheels/3c/ca/0d/63b767ad585fbcb3ea222541572dcb78859d0383510672b105\nSuccessfully built pwlf pyDOE\nInstalling collected packages: pyDOE, pwlf\nSuccessfully installed pwlf-2.0.4 pyDOE-0.3.8\n",
     "output_type": "stream"
    }
   ],
   "execution_count": null
  },
  {
   "cell_type": "code",
   "metadata": {
    "tags": [],
    "cell_id": "00001-db5152f7-e5e6-40ff-b6de-09a57bd06aee",
    "deepnote_to_be_reexecuted": false,
    "source_hash": "8f793ab2",
    "execution_start": 1621466000213,
    "execution_millis": 2786,
    "deepnote_cell_type": "code"
   },
   "source": "!pip install imblearn==0.0",
   "outputs": [
    {
     "name": "stdout",
     "text": "Collecting imblearn==0.0\n  Downloading imblearn-0.0-py2.py3-none-any.whl (1.9 kB)\nCollecting imbalanced-learn\n  Downloading imbalanced_learn-0.8.0-py3-none-any.whl (206 kB)\n\u001b[K     |████████████████████████████████| 206 kB 15.2 MB/s \n\u001b[?25hRequirement already satisfied: scikit-learn>=0.24 in /shared-libs/python3.9/py/lib/python3.9/site-packages (from imbalanced-learn->imblearn==0.0) (0.24.2)\nRequirement already satisfied: joblib>=0.11 in /shared-libs/python3.9/py/lib/python3.9/site-packages (from imbalanced-learn->imblearn==0.0) (1.0.1)\nRequirement already satisfied: numpy>=1.13.3 in /shared-libs/python3.9/py/lib/python3.9/site-packages (from imbalanced-learn->imblearn==0.0) (1.20.2)\nRequirement already satisfied: scipy>=0.19.1 in /shared-libs/python3.9/py/lib/python3.9/site-packages (from imbalanced-learn->imblearn==0.0) (1.6.3)\nRequirement already satisfied: threadpoolctl>=2.0.0 in /shared-libs/python3.9/py/lib/python3.9/site-packages (from scikit-learn>=0.24->imbalanced-learn->imblearn==0.0) (2.1.0)\nInstalling collected packages: imbalanced-learn, imblearn\nSuccessfully installed imbalanced-learn-0.8.0 imblearn-0.0\n",
     "output_type": "stream"
    }
   ],
   "execution_count": null
  },
  {
   "cell_type": "code",
   "metadata": {
    "tags": [],
    "cell_id": "00002-37b8a6ba-fca8-4f31-8452-3837bc432a13",
    "deepnote_to_be_reexecuted": false,
    "source_hash": "2439ec17",
    "execution_start": 1621466003003,
    "execution_millis": 9410,
    "deepnote_cell_type": "code"
   },
   "source": "!pip install pingouin==0.3.11",
   "outputs": [
    {
     "name": "stdout",
     "text": "Collecting pingouin==0.3.11\n  Downloading pingouin-0.3.11.tar.gz (204 kB)\n\u001b[K     |████████████████████████████████| 204 kB 18.2 MB/s \n\u001b[?25hRequirement already satisfied: numpy>=1.15 in /shared-libs/python3.9/py/lib/python3.9/site-packages (from pingouin==0.3.11) (1.20.2)\nRequirement already satisfied: scipy>=1.3 in /shared-libs/python3.9/py/lib/python3.9/site-packages (from pingouin==0.3.11) (1.6.3)\nRequirement already satisfied: pandas>=0.24 in /shared-libs/python3.9/py/lib/python3.9/site-packages (from pingouin==0.3.11) (1.2.4)\nRequirement already satisfied: matplotlib>=3.0.2 in /shared-libs/python3.9/py/lib/python3.9/site-packages (from pingouin==0.3.11) (3.4.1)\nRequirement already satisfied: seaborn>=0.9.0 in /shared-libs/python3.9/py/lib/python3.9/site-packages (from pingouin==0.3.11) (0.11.1)\nCollecting statsmodels>=0.10.0\n  Downloading statsmodels-0.12.2-cp39-cp39-manylinux1_x86_64.whl (9.4 MB)\n\u001b[K     |████████████████████████████████| 9.4 MB 50.9 MB/s \n\u001b[?25hRequirement already satisfied: scikit-learn in /shared-libs/python3.9/py/lib/python3.9/site-packages (from pingouin==0.3.11) (0.24.2)\nCollecting pandas_flavor>=0.1.2\n  Downloading pandas_flavor-0.2.0-py2.py3-none-any.whl (6.6 kB)\nCollecting outdated\n  Downloading outdated-0.2.1-py3-none-any.whl (7.5 kB)\nRequirement already satisfied: tabulate in /shared-libs/python3.9/py/lib/python3.9/site-packages (from pingouin==0.3.11) (0.8.9)\nRequirement already satisfied: pillow>=6.2.0 in /shared-libs/python3.9/py/lib/python3.9/site-packages (from matplotlib>=3.0.2->pingouin==0.3.11) (8.2.0)\nRequirement already satisfied: cycler>=0.10 in /shared-libs/python3.9/py/lib/python3.9/site-packages (from matplotlib>=3.0.2->pingouin==0.3.11) (0.10.0)\nRequirement already satisfied: kiwisolver>=1.0.1 in /shared-libs/python3.9/py/lib/python3.9/site-packages (from matplotlib>=3.0.2->pingouin==0.3.11) (1.3.1)\nRequirement already satisfied: python-dateutil>=2.7 in /shared-libs/python3.9/py-core/lib/python3.9/site-packages (from matplotlib>=3.0.2->pingouin==0.3.11) (2.8.1)\nRequirement already satisfied: pyparsing>=2.2.1 in /shared-libs/python3.9/py-core/lib/python3.9/site-packages (from matplotlib>=3.0.2->pingouin==0.3.11) (2.4.7)\nRequirement already satisfied: six in /shared-libs/python3.9/py-core/lib/python3.9/site-packages (from cycler>=0.10->matplotlib>=3.0.2->pingouin==0.3.11) (1.16.0)\nRequirement already satisfied: pytz>=2017.3 in /shared-libs/python3.9/py/lib/python3.9/site-packages (from pandas>=0.24->pingouin==0.3.11) (2021.1)\nCollecting xarray\n  Downloading xarray-0.18.2-py3-none-any.whl (807 kB)\n\u001b[K     |████████████████████████████████| 807 kB 33.0 MB/s \n\u001b[?25hCollecting patsy>=0.5\n  Downloading patsy-0.5.1-py2.py3-none-any.whl (231 kB)\n\u001b[K     |████████████████████████████████| 231 kB 65.8 MB/s \n\u001b[?25hCollecting littleutils\n  Downloading littleutils-0.2.2.tar.gz (6.6 kB)\nRequirement already satisfied: requests in /shared-libs/python3.9/py/lib/python3.9/site-packages (from outdated->pingouin==0.3.11) (2.25.1)\nRequirement already satisfied: idna<3,>=2.5 in /shared-libs/python3.9/py/lib/python3.9/site-packages (from requests->outdated->pingouin==0.3.11) (2.10)\nRequirement already satisfied: certifi>=2017.4.17 in /shared-libs/python3.9/py/lib/python3.9/site-packages (from requests->outdated->pingouin==0.3.11) (2020.12.5)\nRequirement already satisfied: urllib3<1.27,>=1.21.1 in /shared-libs/python3.9/py/lib/python3.9/site-packages (from requests->outdated->pingouin==0.3.11) (1.26.4)\nRequirement already satisfied: chardet<5,>=3.0.2 in /shared-libs/python3.9/py/lib/python3.9/site-packages (from requests->outdated->pingouin==0.3.11) (3.0.4)\nRequirement already satisfied: threadpoolctl>=2.0.0 in /shared-libs/python3.9/py/lib/python3.9/site-packages (from scikit-learn->pingouin==0.3.11) (2.1.0)\nRequirement already satisfied: joblib>=0.11 in /shared-libs/python3.9/py/lib/python3.9/site-packages (from scikit-learn->pingouin==0.3.11) (1.0.1)\nRequirement already satisfied: setuptools>=40.4 in /root/venv/lib/python3.9/site-packages (from xarray->pandas_flavor>=0.1.2->pingouin==0.3.11) (56.0.0)\nBuilding wheels for collected packages: pingouin, littleutils\n  Building wheel for pingouin (setup.py) ... \u001b[?25ldone\n\u001b[?25h  Created wheel for pingouin: filename=pingouin-0.3.11-py3-none-any.whl size=203323 sha256=7b9f5b40dc4ed6b169c5a098bc6de9da2f4234431ac2cf8cdc428abb2c13b267\n  Stored in directory: /root/.cache/pip/wheels/31/f4/a5/f65176dd72e071dc6c54a99084cc6135a2da4b7ad0cc8782cd\n  Building wheel for littleutils (setup.py) ... \u001b[?25ldone\n\u001b[?25h  Created wheel for littleutils: filename=littleutils-0.2.2-py3-none-any.whl size=7048 sha256=f4aa648ea6d314fcdd8d852ee9da398c605f3494549939c1198e87c9529c68e4\n  Stored in directory: /root/.cache/pip/wheels/04/bb/0d/2d02ec45f29c48d6192476bfb59c5a0e64b605e7212374dd15\nSuccessfully built pingouin littleutils\nInstalling collected packages: xarray, patsy, littleutils, statsmodels, pandas-flavor, outdated, pingouin\nSuccessfully installed littleutils-0.2.2 outdated-0.2.1 pandas-flavor-0.2.0 patsy-0.5.1 pingouin-0.3.11 statsmodels-0.12.2 xarray-0.18.2\n",
     "output_type": "stream"
    }
   ],
   "execution_count": null
  },
  {
   "cell_type": "code",
   "metadata": {
    "tags": [],
    "cell_id": "00003-fa6305e2-012b-4d42-81e3-06c3165ddaea",
    "deepnote_to_be_reexecuted": false,
    "source_hash": "d5ec55b1",
    "execution_start": 1621466012420,
    "execution_millis": 3212,
    "deepnote_cell_type": "code"
   },
   "source": "!pip install ipywidgets==7.6.3",
   "outputs": [
    {
     "name": "stdout",
     "text": "Collecting ipywidgets==7.6.3\n  Downloading ipywidgets-7.6.3-py2.py3-none-any.whl (121 kB)\n\u001b[K     |████████████████████████████████| 121 kB 20.0 MB/s \n\u001b[?25hRequirement already satisfied: ipython>=4.0.0 in /shared-libs/python3.9/py-core/lib/python3.9/site-packages (from ipywidgets==7.6.3) (7.23.0)\nCollecting jupyterlab-widgets>=1.0.0\n  Downloading jupyterlab_widgets-1.0.0-py3-none-any.whl (243 kB)\n\u001b[K     |████████████████████████████████| 243 kB 49.5 MB/s \n\u001b[?25hRequirement already satisfied: traitlets>=4.3.1 in /shared-libs/python3.9/py-core/lib/python3.9/site-packages (from ipywidgets==7.6.3) (5.0.5)\nRequirement already satisfied: ipykernel>=4.5.1 in /shared-libs/python3.9/py-core/lib/python3.9/site-packages (from ipywidgets==7.6.3) (5.5.3)\nRequirement already satisfied: nbformat>=4.2.0 in /shared-libs/python3.9/py-core/lib/python3.9/site-packages (from ipywidgets==7.6.3) (5.1.3)\nCollecting widgetsnbextension~=3.5.0\n  Downloading widgetsnbextension-3.5.1-py2.py3-none-any.whl (2.2 MB)\n\u001b[K     |████████████████████████████████| 2.2 MB 48.8 MB/s \n\u001b[?25hRequirement already satisfied: tornado>=4.2 in /shared-libs/python3.9/py-core/lib/python3.9/site-packages (from ipykernel>=4.5.1->ipywidgets==7.6.3) (6.1)\nRequirement already satisfied: jupyter-client in /shared-libs/python3.9/py-core/lib/python3.9/site-packages (from ipykernel>=4.5.1->ipywidgets==7.6.3) (6.1.12)\nRequirement already satisfied: pickleshare in /shared-libs/python3.9/py-core/lib/python3.9/site-packages (from ipython>=4.0.0->ipywidgets==7.6.3) (0.7.5)\nRequirement already satisfied: pygments in /shared-libs/python3.9/py-core/lib/python3.9/site-packages (from ipython>=4.0.0->ipywidgets==7.6.3) (2.9.0)\nRequirement already satisfied: prompt-toolkit!=3.0.0,!=3.0.1,<3.1.0,>=2.0.0 in /shared-libs/python3.9/py-core/lib/python3.9/site-packages (from ipython>=4.0.0->ipywidgets==7.6.3) (3.0.18)\nRequirement already satisfied: matplotlib-inline in /shared-libs/python3.9/py-core/lib/python3.9/site-packages (from ipython>=4.0.0->ipywidgets==7.6.3) (0.1.2)\nRequirement already satisfied: pexpect>4.3 in /shared-libs/python3.9/py-core/lib/python3.9/site-packages (from ipython>=4.0.0->ipywidgets==7.6.3) (4.8.0)\nRequirement already satisfied: decorator in /shared-libs/python3.9/py-core/lib/python3.9/site-packages (from ipython>=4.0.0->ipywidgets==7.6.3) (5.0.7)\nRequirement already satisfied: setuptools>=18.5 in /root/venv/lib/python3.9/site-packages (from ipython>=4.0.0->ipywidgets==7.6.3) (56.0.0)\nRequirement already satisfied: backcall in /shared-libs/python3.9/py-core/lib/python3.9/site-packages (from ipython>=4.0.0->ipywidgets==7.6.3) (0.2.0)\nRequirement already satisfied: jedi>=0.16 in /shared-libs/python3.9/py-core/lib/python3.9/site-packages (from ipython>=4.0.0->ipywidgets==7.6.3) (0.17.2)\nRequirement already satisfied: parso<0.8.0,>=0.7.0 in /shared-libs/python3.9/py-core/lib/python3.9/site-packages (from jedi>=0.16->ipython>=4.0.0->ipywidgets==7.6.3) (0.7.1)\nRequirement already satisfied: ipython-genutils in /shared-libs/python3.9/py-core/lib/python3.9/site-packages (from nbformat>=4.2.0->ipywidgets==7.6.3) (0.2.0)\nRequirement already satisfied: jupyter-core in /shared-libs/python3.9/py-core/lib/python3.9/site-packages (from nbformat>=4.2.0->ipywidgets==7.6.3) (4.7.1)\nRequirement already satisfied: jsonschema!=2.5.0,>=2.4 in /shared-libs/python3.9/py-core/lib/python3.9/site-packages (from nbformat>=4.2.0->ipywidgets==7.6.3) (3.2.0)\nRequirement already satisfied: attrs>=17.4.0 in /shared-libs/python3.9/py-core/lib/python3.9/site-packages (from jsonschema!=2.5.0,>=2.4->nbformat>=4.2.0->ipywidgets==7.6.3) (20.3.0)\nRequirement already satisfied: pyrsistent>=0.14.0 in /shared-libs/python3.9/py-core/lib/python3.9/site-packages (from jsonschema!=2.5.0,>=2.4->nbformat>=4.2.0->ipywidgets==7.6.3) (0.17.3)\nRequirement already satisfied: six>=1.11.0 in /shared-libs/python3.9/py-core/lib/python3.9/site-packages (from jsonschema!=2.5.0,>=2.4->nbformat>=4.2.0->ipywidgets==7.6.3) (1.16.0)\nRequirement already satisfied: ptyprocess>=0.5 in /shared-libs/python3.9/py-core/lib/python3.9/site-packages (from pexpect>4.3->ipython>=4.0.0->ipywidgets==7.6.3) (0.7.0)\nRequirement already satisfied: wcwidth in /shared-libs/python3.9/py-core/lib/python3.9/site-packages (from prompt-toolkit!=3.0.0,!=3.0.1,<3.1.0,>=2.0.0->ipython>=4.0.0->ipywidgets==7.6.3) (0.2.5)\nRequirement already satisfied: notebook>=4.4.1 in /shared-libs/python3.9/py-core/lib/python3.9/site-packages (from widgetsnbextension~=3.5.0->ipywidgets==7.6.3) (7.0.0.dev0)\nRequirement already satisfied: jinja2 in /shared-libs/python3.9/py-core/lib/python3.9/site-packages (from notebook>=4.4.1->widgetsnbextension~=3.5.0->ipywidgets==7.6.3) (2.11.3)\nRequirement already satisfied: nbconvert in /shared-libs/python3.9/py-core/lib/python3.9/site-packages (from notebook>=4.4.1->widgetsnbextension~=3.5.0->ipywidgets==7.6.3) (6.0.7)\nRequirement already satisfied: argon2-cffi in /shared-libs/python3.9/py-core/lib/python3.9/site-packages (from notebook>=4.4.1->widgetsnbextension~=3.5.0->ipywidgets==7.6.3) (20.1.0)\nRequirement already satisfied: Send2Trash>=1.5.0 in /shared-libs/python3.9/py-core/lib/python3.9/site-packages (from notebook>=4.4.1->widgetsnbextension~=3.5.0->ipywidgets==7.6.3) (1.5.0)\nRequirement already satisfied: prometheus-client in /shared-libs/python3.9/py-core/lib/python3.9/site-packages (from notebook>=4.4.1->widgetsnbextension~=3.5.0->ipywidgets==7.6.3) (0.10.1)\nRequirement already satisfied: terminado>=0.8.3 in /shared-libs/python3.9/py-core/lib/python3.9/site-packages (from notebook>=4.4.1->widgetsnbextension~=3.5.0->ipywidgets==7.6.3) (0.9.4)\nRequirement already satisfied: pyzmq>=17 in /shared-libs/python3.9/py-core/lib/python3.9/site-packages (from notebook>=4.4.1->widgetsnbextension~=3.5.0->ipywidgets==7.6.3) (22.0.3)\nRequirement already satisfied: python-dateutil>=2.1 in /shared-libs/python3.9/py-core/lib/python3.9/site-packages (from jupyter-client->ipykernel>=4.5.1->ipywidgets==7.6.3) (2.8.1)\nRequirement already satisfied: cffi>=1.0.0 in /shared-libs/python3.9/py-core/lib/python3.9/site-packages (from argon2-cffi->notebook>=4.4.1->widgetsnbextension~=3.5.0->ipywidgets==7.6.3) (1.14.5)\nRequirement already satisfied: pycparser in /shared-libs/python3.9/py-core/lib/python3.9/site-packages (from cffi>=1.0.0->argon2-cffi->notebook>=4.4.1->widgetsnbextension~=3.5.0->ipywidgets==7.6.3) (2.20)\nRequirement already satisfied: MarkupSafe>=0.23 in /shared-libs/python3.9/py-core/lib/python3.9/site-packages (from jinja2->notebook>=4.4.1->widgetsnbextension~=3.5.0->ipywidgets==7.6.3) (1.1.1)\nRequirement already satisfied: entrypoints>=0.2.2 in /shared-libs/python3.9/py-core/lib/python3.9/site-packages (from nbconvert->notebook>=4.4.1->widgetsnbextension~=3.5.0->ipywidgets==7.6.3) (0.3)\nRequirement already satisfied: jupyterlab-pygments in /shared-libs/python3.9/py-core/lib/python3.9/site-packages (from nbconvert->notebook>=4.4.1->widgetsnbextension~=3.5.0->ipywidgets==7.6.3) (0.1.2)\nRequirement already satisfied: defusedxml in /shared-libs/python3.9/py-core/lib/python3.9/site-packages (from nbconvert->notebook>=4.4.1->widgetsnbextension~=3.5.0->ipywidgets==7.6.3) (0.7.1)\nRequirement already satisfied: nbclient<0.6.0,>=0.5.0 in /shared-libs/python3.9/py-core/lib/python3.9/site-packages (from nbconvert->notebook>=4.4.1->widgetsnbextension~=3.5.0->ipywidgets==7.6.3) (0.5.3)\nRequirement already satisfied: bleach in /shared-libs/python3.9/py-core/lib/python3.9/site-packages (from nbconvert->notebook>=4.4.1->widgetsnbextension~=3.5.0->ipywidgets==7.6.3) (3.3.0)\nRequirement already satisfied: mistune<2,>=0.8.1 in /shared-libs/python3.9/py-core/lib/python3.9/site-packages (from nbconvert->notebook>=4.4.1->widgetsnbextension~=3.5.0->ipywidgets==7.6.3) (0.8.4)\nRequirement already satisfied: testpath in /shared-libs/python3.9/py-core/lib/python3.9/site-packages (from nbconvert->notebook>=4.4.1->widgetsnbextension~=3.5.0->ipywidgets==7.6.3) (0.4.4)\nRequirement already satisfied: pandocfilters>=1.4.1 in /shared-libs/python3.9/py-core/lib/python3.9/site-packages (from nbconvert->notebook>=4.4.1->widgetsnbextension~=3.5.0->ipywidgets==7.6.3) (1.4.3)\nRequirement already satisfied: async-generator in /shared-libs/python3.9/py-core/lib/python3.9/site-packages (from nbclient<0.6.0,>=0.5.0->nbconvert->notebook>=4.4.1->widgetsnbextension~=3.5.0->ipywidgets==7.6.3) (1.10)\nRequirement already satisfied: nest-asyncio in /shared-libs/python3.9/py-core/lib/python3.9/site-packages (from nbclient<0.6.0,>=0.5.0->nbconvert->notebook>=4.4.1->widgetsnbextension~=3.5.0->ipywidgets==7.6.3) (1.5.1)\nRequirement already satisfied: packaging in /shared-libs/python3.9/py-core/lib/python3.9/site-packages (from bleach->nbconvert->notebook>=4.4.1->widgetsnbextension~=3.5.0->ipywidgets==7.6.3) (20.9)\nRequirement already satisfied: webencodings in /shared-libs/python3.9/py-core/lib/python3.9/site-packages (from bleach->nbconvert->notebook>=4.4.1->widgetsnbextension~=3.5.0->ipywidgets==7.6.3) (0.5.1)\nRequirement already satisfied: pyparsing>=2.0.2 in /shared-libs/python3.9/py-core/lib/python3.9/site-packages (from packaging->bleach->nbconvert->notebook>=4.4.1->widgetsnbextension~=3.5.0->ipywidgets==7.6.3) (2.4.7)\nInstalling collected packages: widgetsnbextension, jupyterlab-widgets, ipywidgets\nSuccessfully installed ipywidgets-7.6.3 jupyterlab-widgets-1.0.0 widgetsnbextension-3.5.1\n",
     "output_type": "stream"
    }
   ],
   "execution_count": null
  },
  {
   "cell_type": "code",
   "metadata": {
    "tags": [],
    "cell_id": "00004-87af6bd3-3d2a-460c-9107-51aca4ad8fff",
    "deepnote_to_be_reexecuted": false,
    "source_hash": "bfb11dc3",
    "execution_start": 1621466015643,
    "execution_millis": 2783,
    "deepnote_cell_type": "code"
   },
   "source": "!pip install mlxtend==0.18.0",
   "outputs": [
    {
     "name": "stdout",
     "text": "Collecting mlxtend==0.18.0\n  Downloading mlxtend-0.18.0-py2.py3-none-any.whl (1.3 MB)\n\u001b[K     |████████████████████████████████| 1.3 MB 18.4 MB/s \n\u001b[?25hRequirement already satisfied: numpy>=1.16.2 in /shared-libs/python3.9/py/lib/python3.9/site-packages (from mlxtend==0.18.0) (1.20.2)\nRequirement already satisfied: pandas>=0.24.2 in /shared-libs/python3.9/py/lib/python3.9/site-packages (from mlxtend==0.18.0) (1.2.4)\nRequirement already satisfied: scipy>=1.2.1 in /shared-libs/python3.9/py/lib/python3.9/site-packages (from mlxtend==0.18.0) (1.6.3)\nRequirement already satisfied: matplotlib>=3.0.0 in /shared-libs/python3.9/py/lib/python3.9/site-packages (from mlxtend==0.18.0) (3.4.1)\nRequirement already satisfied: scikit-learn>=0.20.3 in /shared-libs/python3.9/py/lib/python3.9/site-packages (from mlxtend==0.18.0) (0.24.2)\nRequirement already satisfied: joblib>=0.13.2 in /shared-libs/python3.9/py/lib/python3.9/site-packages (from mlxtend==0.18.0) (1.0.1)\nRequirement already satisfied: setuptools in /root/venv/lib/python3.9/site-packages (from mlxtend==0.18.0) (56.0.0)\nRequirement already satisfied: kiwisolver>=1.0.1 in /shared-libs/python3.9/py/lib/python3.9/site-packages (from matplotlib>=3.0.0->mlxtend==0.18.0) (1.3.1)\nRequirement already satisfied: pyparsing>=2.2.1 in /shared-libs/python3.9/py-core/lib/python3.9/site-packages (from matplotlib>=3.0.0->mlxtend==0.18.0) (2.4.7)\nRequirement already satisfied: python-dateutil>=2.7 in /shared-libs/python3.9/py-core/lib/python3.9/site-packages (from matplotlib>=3.0.0->mlxtend==0.18.0) (2.8.1)\nRequirement already satisfied: cycler>=0.10 in /shared-libs/python3.9/py/lib/python3.9/site-packages (from matplotlib>=3.0.0->mlxtend==0.18.0) (0.10.0)\nRequirement already satisfied: pillow>=6.2.0 in /shared-libs/python3.9/py/lib/python3.9/site-packages (from matplotlib>=3.0.0->mlxtend==0.18.0) (8.2.0)\nRequirement already satisfied: six in /shared-libs/python3.9/py-core/lib/python3.9/site-packages (from cycler>=0.10->matplotlib>=3.0.0->mlxtend==0.18.0) (1.16.0)\nRequirement already satisfied: pytz>=2017.3 in /shared-libs/python3.9/py/lib/python3.9/site-packages (from pandas>=0.24.2->mlxtend==0.18.0) (2021.1)\nRequirement already satisfied: threadpoolctl>=2.0.0 in /shared-libs/python3.9/py/lib/python3.9/site-packages (from scikit-learn>=0.20.3->mlxtend==0.18.0) (2.1.0)\nInstalling collected packages: mlxtend\nSuccessfully installed mlxtend-0.18.0\n",
     "output_type": "stream"
    }
   ],
   "execution_count": null
  },
  {
   "cell_type": "code",
   "metadata": {
    "tags": [],
    "cell_id": "00005-8bc5daa7-a139-4a95-9458-68fed38fea9f",
    "deepnote_to_be_reexecuted": false,
    "source_hash": "3478bf90",
    "execution_start": 1621466018428,
    "execution_millis": 11566,
    "deepnote_cell_type": "code"
   },
   "source": "!pip install shap==0.39.0",
   "outputs": [
    {
     "name": "stdout",
     "text": "Collecting shap==0.39.0\n  Downloading shap-0.39.0.tar.gz (356 kB)\n\u001b[K     |████████████████████████████████| 356 kB 21.7 MB/s \n\u001b[?25hRequirement already satisfied: numpy in /shared-libs/python3.9/py/lib/python3.9/site-packages (from shap==0.39.0) (1.20.2)\nRequirement already satisfied: scipy in /shared-libs/python3.9/py/lib/python3.9/site-packages (from shap==0.39.0) (1.6.3)\nRequirement already satisfied: scikit-learn in /shared-libs/python3.9/py/lib/python3.9/site-packages (from shap==0.39.0) (0.24.2)\nRequirement already satisfied: pandas in /shared-libs/python3.9/py/lib/python3.9/site-packages (from shap==0.39.0) (1.2.4)\nRequirement already satisfied: tqdm>4.25.0 in /shared-libs/python3.9/py/lib/python3.9/site-packages (from shap==0.39.0) (4.60.0)\nCollecting slicer==0.0.7\n  Downloading slicer-0.0.7-py3-none-any.whl (14 kB)\nCollecting numba\n  Downloading numba-0.53.1-cp39-cp39-manylinux2014_x86_64.whl (3.4 MB)\n\u001b[K     |████████████████████████████████| 3.4 MB 67.0 MB/s \n\u001b[?25hCollecting cloudpickle\n  Downloading cloudpickle-1.6.0-py3-none-any.whl (23 kB)\nCollecting llvmlite<0.37,>=0.36.0rc1\n  Downloading llvmlite-0.36.0-cp39-cp39-manylinux2010_x86_64.whl (25.3 MB)\n\u001b[K     |████████████████████████████████| 25.3 MB 66.2 MB/s \n\u001b[?25hRequirement already satisfied: setuptools in /root/venv/lib/python3.9/site-packages (from numba->shap==0.39.0) (56.0.0)\nRequirement already satisfied: pytz>=2017.3 in /shared-libs/python3.9/py/lib/python3.9/site-packages (from pandas->shap==0.39.0) (2021.1)\nRequirement already satisfied: python-dateutil>=2.7.3 in /shared-libs/python3.9/py-core/lib/python3.9/site-packages (from pandas->shap==0.39.0) (2.8.1)\nRequirement already satisfied: six>=1.5 in /shared-libs/python3.9/py-core/lib/python3.9/site-packages (from python-dateutil>=2.7.3->pandas->shap==0.39.0) (1.16.0)\nRequirement already satisfied: threadpoolctl>=2.0.0 in /shared-libs/python3.9/py/lib/python3.9/site-packages (from scikit-learn->shap==0.39.0) (2.1.0)\nRequirement already satisfied: joblib>=0.11 in /shared-libs/python3.9/py/lib/python3.9/site-packages (from scikit-learn->shap==0.39.0) (1.0.1)\nBuilding wheels for collected packages: shap\n  Building wheel for shap (setup.py) ... \u001b[?25ldone\n\u001b[?25h  Created wheel for shap: filename=shap-0.39.0-cp39-cp39-linux_x86_64.whl size=417843 sha256=dc7618f958f0203c0ddd8d0416bb28ac17b1c82f804cb007df2508b73efaf532\n  Stored in directory: /root/.cache/pip/wheels/bb/91/16/f6a057925f93af7e4281f6afce3495b595b473342766eb451c\nSuccessfully built shap\nInstalling collected packages: llvmlite, slicer, numba, cloudpickle, shap\nSuccessfully installed cloudpickle-1.6.0 llvmlite-0.36.0 numba-0.53.1 shap-0.39.0 slicer-0.0.7\n",
     "output_type": "stream"
    }
   ],
   "execution_count": null
  },
  {
   "cell_type": "markdown",
   "source": "<a style='text-decoration:none;line-height:16px;display:flex;color:#5B5B62;padding:10px;justify-content:end;' href='https://deepnote.com?utm_source=created-in-deepnote-cell&projectId=6b8ead81-70bf-4d6b-bd50-8194f8f72b46' target=\"_blank\">\n<img alt='Created in deepnote.com' style='display:inline;max-height:16px;margin:0px;margin-right:7.5px;' src='data:image/svg+xml;base64,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' > </img>\nCreated in <span style='font-weight:600;margin-left:4px;'>Deepnote</span></a>",
   "metadata": {
    "tags": [],
    "created_in_deepnote_cell": true,
    "deepnote_cell_type": "markdown"
   }
  }
 ],
 "nbformat": 4,
 "nbformat_minor": 2,
 "metadata": {
  "orig_nbformat": 2,
  "deepnote": {
   "is_reactive": false
  },
  "deepnote_notebook_id": "86f22643-e199-46d5-a828-1ea5cbf12d1b",
  "deepnote_execution_queue": []
 }
}