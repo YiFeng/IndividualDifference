{
 "cells": [
  {
   "cell_type": "code",
   "metadata": {
    "cell_id": "58a747b4-e641-4ded-8052-689e56cf6710",
    "tags": [],
    "deepnote_to_be_reexecuted": false,
    "source_hash": "9cbb50b",
    "execution_start": 1648598176608,
    "execution_millis": 8500,
    "deepnote_cell_type": "code",
    "deepnote_cell_height": 410.296875
   },
   "source": "pip install numba==0.53",
   "execution_count": 1,
   "outputs": [
    {
     "name": "stdout",
     "text": "Collecting numba==0.53\n  Downloading numba-0.53.0-cp39-cp39-manylinux2014_x86_64.whl (3.4 MB)\n\u001b[K     |████████████████████████████████| 3.4 MB 19.1 MB/s \n\u001b[?25hCollecting llvmlite<0.37,>=0.36.0rc1\n  Downloading llvmlite-0.36.0-cp39-cp39-manylinux2010_x86_64.whl (25.3 MB)\n\u001b[K     |████████████████████████████████| 25.3 MB 33.1 MB/s \n\u001b[?25hRequirement already satisfied: numpy>=1.15 in /shared-libs/python3.9/py/lib/python3.9/site-packages (from numba==0.53) (1.22.3)\nRequirement already satisfied: setuptools in /root/venv/lib/python3.9/site-packages (from numba==0.53) (57.4.0)\nInstalling collected packages: llvmlite, numba\nSuccessfully installed llvmlite-0.36.0 numba-0.53.0\n\u001b[33mWARNING: Running pip as the 'root' user can result in broken permissions and conflicting behaviour with the system package manager. It is recommended to use a virtual environment instead: https://pip.pypa.io/warnings/venv\u001b[0m\n\u001b[33mWARNING: You are using pip version 21.2.3; however, version 22.0.4 is available.\nYou should consider upgrading via the '/usr/local/bin/python -m pip install --upgrade pip' command.\u001b[0m\nNote: you may need to restart the kernel to use updated packages.\n",
     "output_type": "stream"
    }
   ]
  },
  {
   "cell_type": "code",
   "metadata": {
    "cell_id": "59014af53b9046e98254b3761e95a95d",
    "tags": [],
    "deepnote_to_be_reexecuted": false,
    "source_hash": "a16f8eff",
    "execution_start": 1648598185109,
    "execution_millis": 3932,
    "deepnote_cell_type": "code",
    "deepnote_cell_height": 544.71875
   },
   "source": "!pip install yellowbrick==1.4",
   "execution_count": 2,
   "outputs": [
    {
     "name": "stdout",
     "text": "Collecting yellowbrick==1.4\n  Downloading yellowbrick-1.4-py3-none-any.whl (274 kB)\n\u001b[K     |████████████████████████████████| 274 kB 28.2 MB/s \n\u001b[?25hRequirement already satisfied: scipy>=1.0.0 in /shared-libs/python3.9/py/lib/python3.9/site-packages (from yellowbrick==1.4) (1.8.0)\nRequirement already satisfied: cycler>=0.10.0 in /shared-libs/python3.9/py/lib/python3.9/site-packages (from yellowbrick==1.4) (0.11.0)\nRequirement already satisfied: numpy>=1.16.0 in /shared-libs/python3.9/py/lib/python3.9/site-packages (from yellowbrick==1.4) (1.22.3)\nRequirement already satisfied: scikit-learn>=1.0.0 in /shared-libs/python3.9/py/lib/python3.9/site-packages (from yellowbrick==1.4) (1.0.2)\nRequirement already satisfied: matplotlib!=3.0.0,>=2.0.2 in /shared-libs/python3.9/py/lib/python3.9/site-packages (from yellowbrick==1.4) (3.5.1)\nRequirement already satisfied: fonttools>=4.22.0 in /shared-libs/python3.9/py/lib/python3.9/site-packages (from matplotlib!=3.0.0,>=2.0.2->yellowbrick==1.4) (4.31.2)\nRequirement already satisfied: kiwisolver>=1.0.1 in /shared-libs/python3.9/py/lib/python3.9/site-packages (from matplotlib!=3.0.0,>=2.0.2->yellowbrick==1.4) (1.4.0)\nRequirement already satisfied: packaging>=20.0 in /shared-libs/python3.9/py-core/lib/python3.9/site-packages (from matplotlib!=3.0.0,>=2.0.2->yellowbrick==1.4) (21.3)\nRequirement already satisfied: pillow>=6.2.0 in /shared-libs/python3.9/py/lib/python3.9/site-packages (from matplotlib!=3.0.0,>=2.0.2->yellowbrick==1.4) (9.0.1)\nRequirement already satisfied: pyparsing>=2.2.1 in /shared-libs/python3.9/py-core/lib/python3.9/site-packages (from matplotlib!=3.0.0,>=2.0.2->yellowbrick==1.4) (3.0.7)\nRequirement already satisfied: python-dateutil>=2.7 in /shared-libs/python3.9/py-core/lib/python3.9/site-packages (from matplotlib!=3.0.0,>=2.0.2->yellowbrick==1.4) (2.8.2)\nRequirement already satisfied: six>=1.5 in /shared-libs/python3.9/py-core/lib/python3.9/site-packages (from python-dateutil>=2.7->matplotlib!=3.0.0,>=2.0.2->yellowbrick==1.4) (1.16.0)\nRequirement already satisfied: joblib>=0.11 in /shared-libs/python3.9/py/lib/python3.9/site-packages (from scikit-learn>=1.0.0->yellowbrick==1.4) (1.1.0)\nRequirement already satisfied: threadpoolctl>=2.0.0 in /shared-libs/python3.9/py/lib/python3.9/site-packages (from scikit-learn>=1.0.0->yellowbrick==1.4) (3.1.0)\nInstalling collected packages: yellowbrick\nSuccessfully installed yellowbrick-1.4\n\u001b[33mWARNING: You are using pip version 21.2.3; however, version 22.0.4 is available.\nYou should consider upgrading via the '/root/venv/bin/python -m pip install --upgrade pip' command.\u001b[0m\n",
     "output_type": "stream"
    }
   ]
  },
  {
   "cell_type": "code",
   "metadata": {
    "cell_id": "33b34ee8-ae70-4c6e-9672-85f0e46866a6",
    "tags": [],
    "deepnote_to_be_reexecuted": false,
    "source_hash": "e7b0d6",
    "execution_start": 1648598189046,
    "execution_millis": 10663,
    "deepnote_cell_type": "code",
    "deepnote_cell_height": 309.71875
   },
   "source": "!pip install xgboost==1.5.2",
   "execution_count": 3,
   "outputs": [
    {
     "name": "stdout",
     "text": "Collecting xgboost==1.5.2\n  Downloading xgboost-1.5.2-py3-none-manylinux2014_x86_64.whl (173.6 MB)\n\u001b[K     |████████████████████████████████| 173.6 MB 16 kB/s \n\u001b[?25hRequirement already satisfied: numpy in /shared-libs/python3.9/py/lib/python3.9/site-packages (from xgboost==1.5.2) (1.22.3)\nRequirement already satisfied: scipy in /shared-libs/python3.9/py/lib/python3.9/site-packages (from xgboost==1.5.2) (1.8.0)\nInstalling collected packages: xgboost\nSuccessfully installed xgboost-1.5.2\n\u001b[33mWARNING: You are using pip version 21.2.3; however, version 22.0.4 is available.\nYou should consider upgrading via the '/root/venv/bin/python -m pip install --upgrade pip' command.\u001b[0m\n",
     "output_type": "stream"
    }
   ]
  },
  {
   "cell_type": "code",
   "metadata": {
    "tags": [],
    "cell_id": "00000-429500c5-a40a-48c2-9b9a-e1945ff8a06e",
    "deepnote_to_be_reexecuted": false,
    "source_hash": "faf1ee21",
    "execution_start": 1648598199702,
    "execution_millis": 6512,
    "deepnote_cell_type": "code",
    "deepnote_cell_height": 482.5625
   },
   "source": "!pip install pwlf",
   "execution_count": 4,
   "outputs": [
    {
     "name": "stdout",
     "text": "Collecting pwlf\n  Downloading pwlf-2.0.5.tar.gz (14 kB)\nRequirement already satisfied: numpy>=1.14.0 in /shared-libs/python3.9/py/lib/python3.9/site-packages (from pwlf) (1.22.3)\nRequirement already satisfied: scipy>=1.2.0 in /shared-libs/python3.9/py/lib/python3.9/site-packages (from pwlf) (1.8.0)\nCollecting pyDOE>=0.3.8\n  Downloading pyDOE-0.3.8.zip (22 kB)\nBuilding wheels for collected packages: pwlf, pyDOE\n  Building wheel for pwlf (setup.py) ... \u001b[?25ldone\n\u001b[?25h  Created wheel for pwlf: filename=pwlf-2.0.5-py3-none-any.whl size=16258 sha256=4859f2271126734e84ba97226bca501d2185f03aea68842cc79164b36605e2a4\n  Stored in directory: /root/.cache/pip/wheels/82/43/64/64d39dc88c09b376bc9f0e995d70dce8e1ab3baac4c432c8a3\n  Building wheel for pyDOE (setup.py) ... \u001b[?25ldone\n\u001b[?25h  Created wheel for pyDOE: filename=pyDOE-0.3.8-py3-none-any.whl size=18184 sha256=7899cafa88eb1a5c1e0822825b9208e95f210d27f2948b46b2525a6b6c0273ba\n  Stored in directory: /root/.cache/pip/wheels/3c/ca/0d/63b767ad585fbcb3ea222541572dcb78859d0383510672b105\nSuccessfully built pwlf pyDOE\nInstalling collected packages: pyDOE, pwlf\nSuccessfully installed pwlf-2.0.5 pyDOE-0.3.8\n\u001b[33mWARNING: You are using pip version 21.2.3; however, version 22.0.4 is available.\nYou should consider upgrading via the '/root/venv/bin/python -m pip install --upgrade pip' command.\u001b[0m\n",
     "output_type": "stream"
    }
   ]
  },
  {
   "cell_type": "code",
   "metadata": {
    "tags": [],
    "cell_id": "00001-db5152f7-e5e6-40ff-b6de-09a57bd06aee",
    "deepnote_to_be_reexecuted": false,
    "source_hash": "8f793ab2",
    "execution_start": 1648598206216,
    "execution_millis": 3674,
    "deepnote_cell_type": "code",
    "deepnote_cell_height": 405.75
   },
   "source": "!pip install imblearn==0.0",
   "execution_count": 5,
   "outputs": [
    {
     "name": "stdout",
     "text": "Collecting imblearn==0.0\n  Downloading imblearn-0.0-py2.py3-none-any.whl (1.9 kB)\nCollecting imbalanced-learn\n  Downloading imbalanced_learn-0.9.0-py3-none-any.whl (199 kB)\n\u001b[K     |████████████████████████████████| 199 kB 31.3 MB/s \n\u001b[?25hRequirement already satisfied: numpy>=1.14.6 in /shared-libs/python3.9/py/lib/python3.9/site-packages (from imbalanced-learn->imblearn==0.0) (1.22.3)\nRequirement already satisfied: joblib>=0.11 in /shared-libs/python3.9/py/lib/python3.9/site-packages (from imbalanced-learn->imblearn==0.0) (1.1.0)\nRequirement already satisfied: scipy>=1.1.0 in /shared-libs/python3.9/py/lib/python3.9/site-packages (from imbalanced-learn->imblearn==0.0) (1.8.0)\nRequirement already satisfied: scikit-learn>=1.0.1 in /shared-libs/python3.9/py/lib/python3.9/site-packages (from imbalanced-learn->imblearn==0.0) (1.0.2)\nRequirement already satisfied: threadpoolctl>=2.0.0 in /shared-libs/python3.9/py/lib/python3.9/site-packages (from imbalanced-learn->imblearn==0.0) (3.1.0)\nInstalling collected packages: imbalanced-learn, imblearn\nSuccessfully installed imbalanced-learn-0.9.0 imblearn-0.0\n\u001b[33mWARNING: You are using pip version 21.2.3; however, version 22.0.4 is available.\nYou should consider upgrading via the '/root/venv/bin/python -m pip install --upgrade pip' command.\u001b[0m\n",
     "output_type": "stream"
    }
   ]
  },
  {
   "cell_type": "code",
   "metadata": {
    "tags": [],
    "cell_id": "00002-37b8a6ba-fca8-4f31-8452-3837bc432a13",
    "deepnote_to_be_reexecuted": false,
    "source_hash": "2439ec17",
    "execution_start": 1648598209897,
    "execution_millis": 11759,
    "deepnote_cell_type": "code",
    "deepnote_cell_height": 745.890625
   },
   "source": "!pip install pingouin==0.3.11",
   "execution_count": 6,
   "outputs": [
    {
     "name": "stdout",
     "text": "Collecting pingouin==0.3.11\n  Downloading pingouin-0.3.11.tar.gz (204 kB)\n\u001b[K     |████████████████████████████████| 204 kB 11.7 MB/s \n\u001b[?25hRequirement already satisfied: numpy>=1.15 in /shared-libs/python3.9/py/lib/python3.9/site-packages (from pingouin==0.3.11) (1.22.3)\nRequirement already satisfied: scipy>=1.3 in /shared-libs/python3.9/py/lib/python3.9/site-packages (from pingouin==0.3.11) (1.8.0)\nRequirement already satisfied: pandas>=0.24 in /shared-libs/python3.9/py/lib/python3.9/site-packages (from pingouin==0.3.11) (1.2.5)\nRequirement already satisfied: matplotlib>=3.0.2 in /shared-libs/python3.9/py/lib/python3.9/site-packages (from pingouin==0.3.11) (3.5.1)\nRequirement already satisfied: seaborn>=0.9.0 in /shared-libs/python3.9/py/lib/python3.9/site-packages (from pingouin==0.3.11) (0.11.2)\nCollecting statsmodels>=0.10.0\n  Downloading statsmodels-0.13.2-cp39-cp39-manylinux_2_17_x86_64.manylinux2014_x86_64.whl (9.9 MB)\n\u001b[K     |████████████████████████████████| 9.9 MB 29.4 MB/s \n\u001b[?25hRequirement already satisfied: scikit-learn in /shared-libs/python3.9/py/lib/python3.9/site-packages (from pingouin==0.3.11) (1.0.2)\nCollecting pandas_flavor>=0.1.2\n  Downloading pandas_flavor-0.2.0-py2.py3-none-any.whl (6.6 kB)\nCollecting outdated\n  Downloading outdated-0.2.1-py3-none-any.whl (7.5 kB)\nRequirement already satisfied: tabulate in /shared-libs/python3.9/py/lib/python3.9/site-packages (from pingouin==0.3.11) (0.8.9)\nRequirement already satisfied: python-dateutil>=2.7 in /shared-libs/python3.9/py-core/lib/python3.9/site-packages (from matplotlib>=3.0.2->pingouin==0.3.11) (2.8.2)\nRequirement already satisfied: pillow>=6.2.0 in /shared-libs/python3.9/py/lib/python3.9/site-packages (from matplotlib>=3.0.2->pingouin==0.3.11) (9.0.1)\nRequirement already satisfied: packaging>=20.0 in /shared-libs/python3.9/py-core/lib/python3.9/site-packages (from matplotlib>=3.0.2->pingouin==0.3.11) (21.3)\nRequirement already satisfied: fonttools>=4.22.0 in /shared-libs/python3.9/py/lib/python3.9/site-packages (from matplotlib>=3.0.2->pingouin==0.3.11) (4.31.2)\nRequirement already satisfied: kiwisolver>=1.0.1 in /shared-libs/python3.9/py/lib/python3.9/site-packages (from matplotlib>=3.0.2->pingouin==0.3.11) (1.4.0)\nRequirement already satisfied: pyparsing>=2.2.1 in /shared-libs/python3.9/py-core/lib/python3.9/site-packages (from matplotlib>=3.0.2->pingouin==0.3.11) (3.0.7)\nRequirement already satisfied: cycler>=0.10 in /shared-libs/python3.9/py/lib/python3.9/site-packages (from matplotlib>=3.0.2->pingouin==0.3.11) (0.11.0)\nRequirement already satisfied: pytz>=2017.3 in /shared-libs/python3.9/py/lib/python3.9/site-packages (from pandas>=0.24->pingouin==0.3.11) (2022.1)\nCollecting xarray\n  Downloading xarray-2022.3.0-py3-none-any.whl (870 kB)\n\u001b[K     |████████████████████████████████| 870 kB 81.8 MB/s \n\u001b[?25hRequirement already satisfied: six>=1.5 in /shared-libs/python3.9/py-core/lib/python3.9/site-packages (from python-dateutil>=2.7->matplotlib>=3.0.2->pingouin==0.3.11) (1.16.0)\nCollecting patsy>=0.5.2\n  Downloading patsy-0.5.2-py2.py3-none-any.whl (233 kB)\n\u001b[K     |████████████████████████████████| 233 kB 96.1 MB/s \n\u001b[?25hCollecting littleutils\n  Downloading littleutils-0.2.2.tar.gz (6.6 kB)\nRequirement already satisfied: requests in /shared-libs/python3.9/py/lib/python3.9/site-packages (from outdated->pingouin==0.3.11) (2.27.1)\nRequirement already satisfied: urllib3<1.27,>=1.21.1 in /shared-libs/python3.9/py/lib/python3.9/site-packages (from requests->outdated->pingouin==0.3.11) (1.26.9)\nRequirement already satisfied: certifi>=2017.4.17 in /shared-libs/python3.9/py/lib/python3.9/site-packages (from requests->outdated->pingouin==0.3.11) (2021.10.8)\nRequirement already satisfied: charset-normalizer~=2.0.0 in /shared-libs/python3.9/py-core/lib/python3.9/site-packages (from requests->outdated->pingouin==0.3.11) (2.0.12)\nRequirement already satisfied: idna<4,>=2.5 in /shared-libs/python3.9/py-core/lib/python3.9/site-packages (from requests->outdated->pingouin==0.3.11) (3.3)\nRequirement already satisfied: joblib>=0.11 in /shared-libs/python3.9/py/lib/python3.9/site-packages (from scikit-learn->pingouin==0.3.11) (1.1.0)\nRequirement already satisfied: threadpoolctl>=2.0.0 in /shared-libs/python3.9/py/lib/python3.9/site-packages (from scikit-learn->pingouin==0.3.11) (3.1.0)\nBuilding wheels for collected packages: pingouin, littleutils\n  Building wheel for pingouin (setup.py) ... \u001b[?25ldone\n\u001b[?25h  Created wheel for pingouin: filename=pingouin-0.3.11-py3-none-any.whl size=203793 sha256=2254c34d99dc66e81ad50e6cba25f875a3827436af103395c8cad7c9af3b8818\n  Stored in directory: /root/.cache/pip/wheels/31/f4/a5/f65176dd72e071dc6c54a99084cc6135a2da4b7ad0cc8782cd\n  Building wheel for littleutils (setup.py) ... \u001b[?25ldone\n\u001b[?25h  Created wheel for littleutils: filename=littleutils-0.2.2-py3-none-any.whl size=7048 sha256=09fa6492e92523509e4db24f2f8b043feaa08dba648b384ba5dc79bc6d26de49\n  Stored in directory: /root/.cache/pip/wheels/04/bb/0d/2d02ec45f29c48d6192476bfb59c5a0e64b605e7212374dd15\nSuccessfully built pingouin littleutils\nInstalling collected packages: xarray, patsy, littleutils, statsmodels, pandas-flavor, outdated, pingouin\nSuccessfully installed littleutils-0.2.2 outdated-0.2.1 pandas-flavor-0.2.0 patsy-0.5.2 pingouin-0.3.11 statsmodels-0.13.2 xarray-2022.3.0\n\u001b[33mWARNING: You are using pip version 21.2.3; however, version 22.0.4 is available.\nYou should consider upgrading via the '/root/venv/bin/python -m pip install --upgrade pip' command.\u001b[0m\n",
     "output_type": "stream"
    }
   ]
  },
  {
   "cell_type": "code",
   "metadata": {
    "tags": [],
    "cell_id": "00003-fa6305e2-012b-4d42-81e3-06c3165ddaea",
    "deepnote_to_be_reexecuted": false,
    "source_hash": "d5ec55b1",
    "execution_start": 1648598221649,
    "execution_millis": 4093,
    "deepnote_cell_type": "code",
    "deepnote_cell_height": 745.890625
   },
   "source": "!pip install ipywidgets==7.6.3",
   "execution_count": 7,
   "outputs": [
    {
     "name": "stdout",
     "text": "Collecting ipywidgets==7.6.3\n  Downloading ipywidgets-7.6.3-py2.py3-none-any.whl (121 kB)\n\u001b[K     |████████████████████████████████| 121 kB 15.4 MB/s \n\u001b[?25hRequirement already satisfied: ipython>=4.0.0 in /shared-libs/python3.9/py-core/lib/python3.9/site-packages (from ipywidgets==7.6.3) (7.32.0)\nCollecting jupyterlab-widgets>=1.0.0\n  Downloading jupyterlab_widgets-1.1.0-py3-none-any.whl (245 kB)\n\u001b[K     |████████████████████████████████| 245 kB 45.6 MB/s \n\u001b[?25hCollecting widgetsnbextension~=3.5.0\n  Downloading widgetsnbextension-3.5.2-py2.py3-none-any.whl (1.6 MB)\n\u001b[K     |████████████████████████████████| 1.6 MB 81.3 MB/s \n\u001b[?25hRequirement already satisfied: traitlets>=4.3.1 in /shared-libs/python3.9/py-core/lib/python3.9/site-packages (from ipywidgets==7.6.3) (4.3.3)\nRequirement already satisfied: ipykernel>=4.5.1 in /shared-libs/python3.9/py-core/lib/python3.9/site-packages (from ipywidgets==7.6.3) (5.5.5)\nRequirement already satisfied: nbformat>=4.2.0 in /shared-libs/python3.9/py-core/lib/python3.9/site-packages (from ipywidgets==7.6.3) (5.1.3)\nRequirement already satisfied: tornado>=4.2 in /shared-libs/python3.9/py-core/lib/python3.9/site-packages (from ipykernel>=4.5.1->ipywidgets==7.6.3) (6.1)\nRequirement already satisfied: jupyter-client in /shared-libs/python3.9/py-core/lib/python3.9/site-packages (from ipykernel>=4.5.1->ipywidgets==7.6.3) (6.1.12)\nRequirement already satisfied: pygments in /shared-libs/python3.9/py-core/lib/python3.9/site-packages (from ipython>=4.0.0->ipywidgets==7.6.3) (2.11.2)\nRequirement already satisfied: decorator in /shared-libs/python3.9/py-core/lib/python3.9/site-packages (from ipython>=4.0.0->ipywidgets==7.6.3) (5.1.1)\nRequirement already satisfied: prompt-toolkit!=3.0.0,!=3.0.1,<3.1.0,>=2.0.0 in /shared-libs/python3.9/py-core/lib/python3.9/site-packages (from ipython>=4.0.0->ipywidgets==7.6.3) (3.0.28)\nRequirement already satisfied: backcall in /shared-libs/python3.9/py-core/lib/python3.9/site-packages (from ipython>=4.0.0->ipywidgets==7.6.3) (0.2.0)\nRequirement already satisfied: matplotlib-inline in /shared-libs/python3.9/py-core/lib/python3.9/site-packages (from ipython>=4.0.0->ipywidgets==7.6.3) (0.1.3)\nRequirement already satisfied: pexpect>4.3 in /shared-libs/python3.9/py-core/lib/python3.9/site-packages (from ipython>=4.0.0->ipywidgets==7.6.3) (4.8.0)\nRequirement already satisfied: jedi>=0.16 in /shared-libs/python3.9/py-core/lib/python3.9/site-packages (from ipython>=4.0.0->ipywidgets==7.6.3) (0.17.2)\nRequirement already satisfied: pickleshare in /shared-libs/python3.9/py-core/lib/python3.9/site-packages (from ipython>=4.0.0->ipywidgets==7.6.3) (0.7.5)\nRequirement already satisfied: setuptools>=18.5 in /root/venv/lib/python3.9/site-packages (from ipython>=4.0.0->ipywidgets==7.6.3) (57.4.0)\nRequirement already satisfied: parso<0.8.0,>=0.7.0 in /shared-libs/python3.9/py-core/lib/python3.9/site-packages (from jedi>=0.16->ipython>=4.0.0->ipywidgets==7.6.3) (0.7.1)\nRequirement already satisfied: ipython-genutils in /shared-libs/python3.9/py-core/lib/python3.9/site-packages (from nbformat>=4.2.0->ipywidgets==7.6.3) (0.2.0)\nRequirement already satisfied: jsonschema!=2.5.0,>=2.4 in /shared-libs/python3.9/py-core/lib/python3.9/site-packages (from nbformat>=4.2.0->ipywidgets==7.6.3) (3.2.0)\nRequirement already satisfied: jupyter-core in /shared-libs/python3.9/py-core/lib/python3.9/site-packages (from nbformat>=4.2.0->ipywidgets==7.6.3) (4.7.1)\nRequirement already satisfied: six>=1.11.0 in /shared-libs/python3.9/py-core/lib/python3.9/site-packages (from jsonschema!=2.5.0,>=2.4->nbformat>=4.2.0->ipywidgets==7.6.3) (1.16.0)\nRequirement already satisfied: pyrsistent>=0.14.0 in /shared-libs/python3.9/py-core/lib/python3.9/site-packages (from jsonschema!=2.5.0,>=2.4->nbformat>=4.2.0->ipywidgets==7.6.3) (0.18.1)\nRequirement already satisfied: attrs>=17.4.0 in /shared-libs/python3.9/py-core/lib/python3.9/site-packages (from jsonschema!=2.5.0,>=2.4->nbformat>=4.2.0->ipywidgets==7.6.3) (21.4.0)\nRequirement already satisfied: ptyprocess>=0.5 in /shared-libs/python3.9/py-core/lib/python3.9/site-packages (from pexpect>4.3->ipython>=4.0.0->ipywidgets==7.6.3) (0.7.0)\nRequirement already satisfied: wcwidth in /shared-libs/python3.9/py-core/lib/python3.9/site-packages (from prompt-toolkit!=3.0.0,!=3.0.1,<3.1.0,>=2.0.0->ipython>=4.0.0->ipywidgets==7.6.3) (0.2.5)\nRequirement already satisfied: notebook>=4.4.1 in /shared-libs/python3.9/py-core/lib/python3.9/site-packages (from widgetsnbextension~=3.5.0->ipywidgets==7.6.3) (6.3.0)\nRequirement already satisfied: nbconvert==6.0.7 in /shared-libs/python3.9/py-core/lib/python3.9/site-packages (from notebook>=4.4.1->widgetsnbextension~=3.5.0->ipywidgets==7.6.3) (6.0.7)\nRequirement already satisfied: terminado>=0.8.3 in /shared-libs/python3.9/py-core/lib/python3.9/site-packages (from notebook>=4.4.1->widgetsnbextension~=3.5.0->ipywidgets==7.6.3) (0.13.3)\nRequirement already satisfied: prometheus-client in /shared-libs/python3.9/py-core/lib/python3.9/site-packages (from notebook>=4.4.1->widgetsnbextension~=3.5.0->ipywidgets==7.6.3) (0.13.1)\nRequirement already satisfied: argon2-cffi in /shared-libs/python3.9/py-core/lib/python3.9/site-packages (from notebook>=4.4.1->widgetsnbextension~=3.5.0->ipywidgets==7.6.3) (21.3.0)\nRequirement already satisfied: pyzmq>=17 in /shared-libs/python3.9/py-core/lib/python3.9/site-packages (from notebook>=4.4.1->widgetsnbextension~=3.5.0->ipywidgets==7.6.3) (22.3.0)\nRequirement already satisfied: jinja2 in /shared-libs/python3.9/py-core/lib/python3.9/site-packages (from notebook>=4.4.1->widgetsnbextension~=3.5.0->ipywidgets==7.6.3) (3.0.3)\nRequirement already satisfied: Send2Trash>=1.5.0 in /shared-libs/python3.9/py-core/lib/python3.9/site-packages (from notebook>=4.4.1->widgetsnbextension~=3.5.0->ipywidgets==7.6.3) (1.8.0)\nRequirement already satisfied: python-dateutil>=2.1 in /shared-libs/python3.9/py-core/lib/python3.9/site-packages (from jupyter-client->ipykernel>=4.5.1->ipywidgets==7.6.3) (2.8.2)\nRequirement already satisfied: entrypoints>=0.2.2 in /shared-libs/python3.9/py-core/lib/python3.9/site-packages (from nbconvert==6.0.7->notebook>=4.4.1->widgetsnbextension~=3.5.0->ipywidgets==7.6.3) (0.4)\nRequirement already satisfied: pandocfilters>=1.4.1 in /shared-libs/python3.9/py-core/lib/python3.9/site-packages (from nbconvert==6.0.7->notebook>=4.4.1->widgetsnbextension~=3.5.0->ipywidgets==7.6.3) (1.5.0)\nRequirement already satisfied: mistune<2,>=0.8.1 in /shared-libs/python3.9/py-core/lib/python3.9/site-packages (from nbconvert==6.0.7->notebook>=4.4.1->widgetsnbextension~=3.5.0->ipywidgets==7.6.3) (0.8.4)\nRequirement already satisfied: jupyterlab-pygments in /shared-libs/python3.9/py-core/lib/python3.9/site-packages (from nbconvert==6.0.7->notebook>=4.4.1->widgetsnbextension~=3.5.0->ipywidgets==7.6.3) (0.1.2)\nRequirement already satisfied: defusedxml in /shared-libs/python3.9/py-core/lib/python3.9/site-packages (from nbconvert==6.0.7->notebook>=4.4.1->widgetsnbextension~=3.5.0->ipywidgets==7.6.3) (0.7.1)\nRequirement already satisfied: testpath in /shared-libs/python3.9/py-core/lib/python3.9/site-packages (from nbconvert==6.0.7->notebook>=4.4.1->widgetsnbextension~=3.5.0->ipywidgets==7.6.3) (0.6.0)\nRequirement already satisfied: nbclient<0.6.0,>=0.5.0 in /shared-libs/python3.9/py-core/lib/python3.9/site-packages (from nbconvert==6.0.7->notebook>=4.4.1->widgetsnbextension~=3.5.0->ipywidgets==7.6.3) (0.5.9)\nRequirement already satisfied: bleach in /shared-libs/python3.9/py-core/lib/python3.9/site-packages (from nbconvert==6.0.7->notebook>=4.4.1->widgetsnbextension~=3.5.0->ipywidgets==7.6.3) (4.1.0)\nRequirement already satisfied: MarkupSafe>=2.0 in /shared-libs/python3.9/py-core/lib/python3.9/site-packages (from jinja2->notebook>=4.4.1->widgetsnbextension~=3.5.0->ipywidgets==7.6.3) (2.1.1)\nRequirement already satisfied: nest-asyncio in /shared-libs/python3.9/py-core/lib/python3.9/site-packages (from nbclient<0.6.0,>=0.5.0->nbconvert==6.0.7->notebook>=4.4.1->widgetsnbextension~=3.5.0->ipywidgets==7.6.3) (1.5.4)\nRequirement already satisfied: argon2-cffi-bindings in /shared-libs/python3.9/py-core/lib/python3.9/site-packages (from argon2-cffi->notebook>=4.4.1->widgetsnbextension~=3.5.0->ipywidgets==7.6.3) (21.2.0)\nRequirement already satisfied: cffi>=1.0.1 in /shared-libs/python3.9/py-core/lib/python3.9/site-packages (from argon2-cffi-bindings->argon2-cffi->notebook>=4.4.1->widgetsnbextension~=3.5.0->ipywidgets==7.6.3) (1.15.0)\nRequirement already satisfied: pycparser in /shared-libs/python3.9/py-core/lib/python3.9/site-packages (from cffi>=1.0.1->argon2-cffi-bindings->argon2-cffi->notebook>=4.4.1->widgetsnbextension~=3.5.0->ipywidgets==7.6.3) (2.21)\nRequirement already satisfied: webencodings in /shared-libs/python3.9/py-core/lib/python3.9/site-packages (from bleach->nbconvert==6.0.7->notebook>=4.4.1->widgetsnbextension~=3.5.0->ipywidgets==7.6.3) (0.5.1)\nRequirement already satisfied: packaging in /shared-libs/python3.9/py-core/lib/python3.9/site-packages (from bleach->nbconvert==6.0.7->notebook>=4.4.1->widgetsnbextension~=3.5.0->ipywidgets==7.6.3) (21.3)\nRequirement already satisfied: pyparsing!=3.0.5,>=2.0.2 in /shared-libs/python3.9/py-core/lib/python3.9/site-packages (from packaging->bleach->nbconvert==6.0.7->notebook>=4.4.1->widgetsnbextension~=3.5.0->ipywidgets==7.6.3) (3.0.7)\nInstalling collected packages: widgetsnbextension, jupyterlab-widgets, ipywidgets\nSuccessfully installed ipywidgets-7.6.3 jupyterlab-widgets-1.1.0 widgetsnbextension-3.5.2\n\u001b[33mWARNING: You are using pip version 21.2.3; however, version 22.0.4 is available.\nYou should consider upgrading via the '/root/venv/bin/python -m pip install --upgrade pip' command.\u001b[0m\n",
     "output_type": "stream"
    }
   ]
  },
  {
   "cell_type": "code",
   "metadata": {
    "tags": [],
    "cell_id": "00004-87af6bd3-3d2a-460c-9107-51aca4ad8fff",
    "deepnote_to_be_reexecuted": false,
    "source_hash": "bfb11dc3",
    "execution_start": 1648598225749,
    "execution_millis": 3676,
    "deepnote_cell_type": "code",
    "deepnote_cell_height": 597.796875
   },
   "source": "!pip install mlxtend==0.18.0",
   "execution_count": 8,
   "outputs": [
    {
     "name": "stdout",
     "text": "Collecting mlxtend==0.18.0\n  Downloading mlxtend-0.18.0-py2.py3-none-any.whl (1.3 MB)\n\u001b[K     |████████████████████████████████| 1.3 MB 9.0 MB/s \n\u001b[?25hRequirement already satisfied: setuptools in /root/venv/lib/python3.9/site-packages (from mlxtend==0.18.0) (57.4.0)\nRequirement already satisfied: joblib>=0.13.2 in /shared-libs/python3.9/py/lib/python3.9/site-packages (from mlxtend==0.18.0) (1.1.0)\nRequirement already satisfied: scikit-learn>=0.20.3 in /shared-libs/python3.9/py/lib/python3.9/site-packages (from mlxtend==0.18.0) (1.0.2)\nRequirement already satisfied: scipy>=1.2.1 in /shared-libs/python3.9/py/lib/python3.9/site-packages (from mlxtend==0.18.0) (1.8.0)\nRequirement already satisfied: numpy>=1.16.2 in /shared-libs/python3.9/py/lib/python3.9/site-packages (from mlxtend==0.18.0) (1.22.3)\nRequirement already satisfied: pandas>=0.24.2 in /shared-libs/python3.9/py/lib/python3.9/site-packages (from mlxtend==0.18.0) (1.2.5)\nRequirement already satisfied: matplotlib>=3.0.0 in /shared-libs/python3.9/py/lib/python3.9/site-packages (from mlxtend==0.18.0) (3.5.1)\nRequirement already satisfied: packaging>=20.0 in /shared-libs/python3.9/py-core/lib/python3.9/site-packages (from matplotlib>=3.0.0->mlxtend==0.18.0) (21.3)\nRequirement already satisfied: fonttools>=4.22.0 in /shared-libs/python3.9/py/lib/python3.9/site-packages (from matplotlib>=3.0.0->mlxtend==0.18.0) (4.31.2)\nRequirement already satisfied: cycler>=0.10 in /shared-libs/python3.9/py/lib/python3.9/site-packages (from matplotlib>=3.0.0->mlxtend==0.18.0) (0.11.0)\nRequirement already satisfied: pillow>=6.2.0 in /shared-libs/python3.9/py/lib/python3.9/site-packages (from matplotlib>=3.0.0->mlxtend==0.18.0) (9.0.1)\nRequirement already satisfied: python-dateutil>=2.7 in /shared-libs/python3.9/py-core/lib/python3.9/site-packages (from matplotlib>=3.0.0->mlxtend==0.18.0) (2.8.2)\nRequirement already satisfied: pyparsing>=2.2.1 in /shared-libs/python3.9/py-core/lib/python3.9/site-packages (from matplotlib>=3.0.0->mlxtend==0.18.0) (3.0.7)\nRequirement already satisfied: kiwisolver>=1.0.1 in /shared-libs/python3.9/py/lib/python3.9/site-packages (from matplotlib>=3.0.0->mlxtend==0.18.0) (1.4.0)\nRequirement already satisfied: pytz>=2017.3 in /shared-libs/python3.9/py/lib/python3.9/site-packages (from pandas>=0.24.2->mlxtend==0.18.0) (2022.1)\nRequirement already satisfied: six>=1.5 in /shared-libs/python3.9/py-core/lib/python3.9/site-packages (from python-dateutil>=2.7->matplotlib>=3.0.0->mlxtend==0.18.0) (1.16.0)\nRequirement already satisfied: threadpoolctl>=2.0.0 in /shared-libs/python3.9/py/lib/python3.9/site-packages (from scikit-learn>=0.20.3->mlxtend==0.18.0) (3.1.0)\nInstalling collected packages: mlxtend\nSuccessfully installed mlxtend-0.18.0\n\u001b[33mWARNING: You are using pip version 21.2.3; however, version 22.0.4 is available.\nYou should consider upgrading via the '/root/venv/bin/python -m pip install --upgrade pip' command.\u001b[0m\n",
     "output_type": "stream"
    }
   ]
  },
  {
   "cell_type": "code",
   "metadata": {
    "tags": [],
    "cell_id": "00005-8bc5daa7-a139-4a95-9458-68fed38fea9f",
    "deepnote_to_be_reexecuted": false,
    "source_hash": "3478bf90",
    "execution_start": 1648598229431,
    "execution_millis": 10066,
    "deepnote_cell_type": "code",
    "deepnote_cell_height": 693.8125
   },
   "source": "!pip install shap==0.39.0",
   "execution_count": 9,
   "outputs": [
    {
     "name": "stdout",
     "text": "Collecting shap==0.39.0\n  Downloading shap-0.39.0.tar.gz (356 kB)\n\u001b[K     |████████████████████████████████| 356 kB 34.4 MB/s \n\u001b[?25hRequirement already satisfied: numpy in /shared-libs/python3.9/py/lib/python3.9/site-packages (from shap==0.39.0) (1.22.3)\nRequirement already satisfied: scipy in /shared-libs/python3.9/py/lib/python3.9/site-packages (from shap==0.39.0) (1.8.0)\nRequirement already satisfied: scikit-learn in /shared-libs/python3.9/py/lib/python3.9/site-packages (from shap==0.39.0) (1.0.2)\nRequirement already satisfied: pandas in /shared-libs/python3.9/py/lib/python3.9/site-packages (from shap==0.39.0) (1.2.5)\nRequirement already satisfied: tqdm>4.25.0 in /shared-libs/python3.9/py/lib/python3.9/site-packages (from shap==0.39.0) (4.63.0)\nCollecting slicer==0.0.7\n  Downloading slicer-0.0.7-py3-none-any.whl (14 kB)\nRequirement already satisfied: numba in /usr/local/lib/python3.9/site-packages (from shap==0.39.0) (0.53.0)\nCollecting cloudpickle\n  Downloading cloudpickle-2.0.0-py3-none-any.whl (25 kB)\nRequirement already satisfied: setuptools in /root/venv/lib/python3.9/site-packages (from numba->shap==0.39.0) (57.4.0)\nRequirement already satisfied: llvmlite<0.37,>=0.36.0rc1 in /usr/local/lib/python3.9/site-packages (from numba->shap==0.39.0) (0.36.0)\nRequirement already satisfied: python-dateutil>=2.7.3 in /shared-libs/python3.9/py-core/lib/python3.9/site-packages (from pandas->shap==0.39.0) (2.8.2)\nRequirement already satisfied: pytz>=2017.3 in /shared-libs/python3.9/py/lib/python3.9/site-packages (from pandas->shap==0.39.0) (2022.1)\nRequirement already satisfied: six>=1.5 in /shared-libs/python3.9/py-core/lib/python3.9/site-packages (from python-dateutil>=2.7.3->pandas->shap==0.39.0) (1.16.0)\nRequirement already satisfied: joblib>=0.11 in /shared-libs/python3.9/py/lib/python3.9/site-packages (from scikit-learn->shap==0.39.0) (1.1.0)\nRequirement already satisfied: threadpoolctl>=2.0.0 in /shared-libs/python3.9/py/lib/python3.9/site-packages (from scikit-learn->shap==0.39.0) (3.1.0)\nBuilding wheels for collected packages: shap\n  Building wheel for shap (setup.py) ... \u001b[?25ldone\n\u001b[?25h  Created wheel for shap: filename=shap-0.39.0-cp39-cp39-linux_x86_64.whl size=417841 sha256=445802f6e4cb818b5d5a791d7bdb71b3fc6b993e2d8882b3d3b7512e33558db2\n  Stored in directory: /root/.cache/pip/wheels/bb/91/16/f6a057925f93af7e4281f6afce3495b595b473342766eb451c\nSuccessfully built shap\nInstalling collected packages: slicer, cloudpickle, shap\nSuccessfully installed cloudpickle-2.0.0 shap-0.39.0 slicer-0.0.7\n\u001b[33mWARNING: You are using pip version 21.2.3; however, version 22.0.4 is available.\nYou should consider upgrading via the '/root/venv/bin/python -m pip install --upgrade pip' command.\u001b[0m\n",
     "output_type": "stream"
    }
   ]
  },
  {
   "cell_type": "markdown",
   "source": "<a style='text-decoration:none;line-height:16px;display:flex;color:#5B5B62;padding:10px;justify-content:end;' href='https://deepnote.com?utm_source=created-in-deepnote-cell&projectId=5c9e1ba2-0cb9-40ed-a01b-b56de82eb464' target=\"_blank\">\n<img alt='Created in deepnote.com' style='display:inline;max-height:16px;margin:0px;margin-right:7.5px;' src='data:image/svg+xml;base64,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' > </img>\nCreated in <span style='font-weight:600;margin-left:4px;'>Deepnote</span></a>",
   "metadata": {
    "tags": [],
    "created_in_deepnote_cell": true,
    "deepnote_cell_type": "markdown"
   }
  }
 ],
 "nbformat": 4,
 "nbformat_minor": 2,
 "metadata": {
  "orig_nbformat": 2,
  "deepnote": {
   "is_reactive": false
  },
  "deepnote_notebook_id": "86f22643-e199-46d5-a828-1ea5cbf12d1b",
  "deepnote_execution_queue": []
 }
}